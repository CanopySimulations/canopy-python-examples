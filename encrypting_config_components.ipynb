{
  "nbformat": 4,
  "nbformat_minor": 0,
  "metadata": {
    "colab": {
      "name": "encrypting_config_components.ipynb",
      "provenance": [],
      "collapsed_sections": [],
      "authorship_tag": "ABX9TyO1VO40+7AEyFTImQvtmt1N",
      "include_colab_link": true
    },
    "kernelspec": {
      "name": "python3",
      "display_name": "Python 3"
    }
  },
  "cells": [
    {
      "cell_type": "markdown",
      "metadata": {
        "id": "view-in-github",
        "colab_type": "text"
      },
      "source": [
        "<a href=\"https://colab.research.google.com/github/CanopySimulations/canopy-python-examples/blob/master/encrypting_config_components.ipynb\" target=\"_parent\"><img src=\"https://colab.research.google.com/assets/colab-badge.svg\" alt=\"Open In Colab\"/></a>"
      ]
    },
    {
      "cell_type": "markdown",
      "metadata": {
        "id": "NtIv7oIVvn5i"
      },
      "source": [
        "# Upgrade Runtime\n",
        "This cell ensures the runtime supports `asyncio` async/await, and is needed on Google Colab. If the runtime is upgraded, you will be prompted to restart it, which you should do before continuing execution."
      ]
    },
    {
      "cell_type": "code",
      "metadata": {
        "id": "E-AnefvPvmtR"
      },
      "source": [
        "!pip install \"ipython>=7\""
      ],
      "execution_count": null,
      "outputs": []
    },
    {
      "cell_type": "markdown",
      "metadata": {
        "id": "_61Bg2_KwIR2"
      },
      "source": [
        "# Set Up Environment"
      ]
    },
    {
      "cell_type": "markdown",
      "metadata": {
        "id": "zX-xTWzWG1bt"
      },
      "source": [
        "### Import required libraries"
      ]
    },
    {
      "cell_type": "code",
      "metadata": {
        "id": "gNnEvtkmwL0W"
      },
      "source": [
        "!pip install -q canopy"
      ],
      "execution_count": null,
      "outputs": []
    },
    {
      "cell_type": "code",
      "metadata": {
        "id": "0bBsqDyhwN_8"
      },
      "source": [
        "import canopy\n",
        "import logging\n",
        "import nest_asyncio\n",
        "\n",
        "logging.basicConfig(level=logging.INFO)\n",
        "nest_asyncio.apply()"
      ],
      "execution_count": 2,
      "outputs": []
    },
    {
      "cell_type": "markdown",
      "metadata": {
        "id": "nH5-pXaZw5jg"
      },
      "source": [
        "### Authenticate"
      ]
    },
    {
      "cell_type": "code",
      "metadata": {
        "id": "SAnwvDofwhw1"
      },
      "source": [
        "authentication_data = canopy.prompt_for_authentication()\n",
        "session = canopy.Session(authentication_data)"
      ],
      "execution_count": null,
      "outputs": []
    },
    {
      "cell_type": "markdown",
      "metadata": {
        "id": "tnJeZcc0vHif"
      },
      "source": [
        "# Example: Encrypting config components"
      ]
    },
    {
      "cell_type": "markdown",
      "metadata": {
        "id": "IlioqKgk4YWL"
      },
      "source": [
        "## Encrypting arbitrary data\r\n",
        "\r\n",
        "The API exposes endpoints for encrypting and decrypting any JSON structure.\r\n",
        "\r\n",
        "We can access these endpoints using the OpenAPI generated wrappers in the Canopy Python library.\r\n",
        "\r\n",
        "In the example below we encrypt some arbitrary data:"
      ]
    },
    {
      "cell_type": "code",
      "metadata": {
        "colab": {
          "base_uri": "https://localhost:8080/"
        },
        "id": "CjK61Mj84Iod",
        "outputId": "6924a184-1f76-4bdf-bc56-982684392836"
      },
      "source": [
        "# Created the OpenAPI generated wrapper for the config APIs.\r\n",
        "config_api = canopy.openapi.ConfigApi(session.async_client)\r\n",
        "\r\n",
        "# Create some arbitrary data.\r\n",
        "initial_data = { 'hello': 'world' }\r\n",
        "\r\n",
        "# Encrypt the data using the API.\r\n",
        "encrypted_data = await config_api.config_encrypt(initial_data)\r\n",
        "\r\n",
        "print(f'Encrypted: {encrypted_data}')"
      ],
      "execution_count": 14,
      "outputs": [
        {
          "output_type": "stream",
          "text": [
            "Encrypted: {'name': 'encrypted', 'metadata': 'jLFfe44JHJrf940B6LBjpwj5xI/LD3eCjtx90uGxgJj0zHN8PRNQkpKZhUNvuSdF7nnKqn9YXOb8xpn5c6JqdjrdAegC8i8r0eIEYpr6UtVNvYxwyk6RTabQZCqezR0y8Pxrxg6x72aLaAnXO8G9Zlp1xo9H7vthBo9Hxxl4BbCtt6IA2V3XI98GxxDlY8EWRgeVguiIxV9DE4/EcPJ6dA==', 'data': '4kMsTCxgbZFAPKFKRHWVA4tu0KtCztnnNxfezlrECdBvlfIn0s47sSNi+uC0I0A+'}\n"
          ],
          "name": "stdout"
        }
      ]
    },
    {
      "cell_type": "markdown",
      "metadata": {
        "id": "C_mZkWMU5yj6"
      },
      "source": [
        "We can then decrypt it:"
      ]
    },
    {
      "cell_type": "code",
      "metadata": {
        "colab": {
          "base_uri": "https://localhost:8080/"
        },
        "id": "vsd0RfRM51tv",
        "outputId": "237e3e82-39e8-4950-dfd0-8dab1f18edd6"
      },
      "source": [
        "decrypted_data = await config_api.config_decrypt(encrypted_data)\r\n",
        "\r\n",
        "print(f'Decrypted: {decrypted_data}')"
      ],
      "execution_count": 15,
      "outputs": [
        {
          "output_type": "stream",
          "text": [
            "Decrypted: {'hello': 'world'}\n"
          ],
          "name": "stdout"
        }
      ]
    },
    {
      "cell_type": "markdown",
      "metadata": {
        "id": "COFbcoDL5Rxx"
      },
      "source": [
        "**Encrypted data can only be decrypted by users within the same Canopy tenant (users who enter the same \"company\" name when logging in to the Canopy platform).**\r\n",
        "\r\n",
        "Users in other tenants can use the encrypted data in their configs, but cannot decrypt it themselves.\r\n",
        "\r\n",
        "This makes it a secure way to share car components with other Canopy tenants for simulation, without them being able to see the parameters. We can also hide sensitive output channels when certain areas of the car are encrypted."
      ]
    },
    {
      "cell_type": "markdown",
      "metadata": {
        "id": "QWxXxaQ40w_l"
      },
      "source": [
        "## Encrypting part of a config\r\n",
        "\r\n",
        "Only certain parts of a config can be encrypted, as the encrypted version must still conform to the schema. You can contact Canopy to discuss your encryption requirements.\r\n",
        "\r\n",
        "In this example we will encrypt the electric motors of a car, which is an area that has already been enabled for encryption."
      ]
    },
    {
      "cell_type": "markdown",
      "metadata": {
        "id": "ahEqDbvs7Ent"
      },
      "source": [
        "First we will fetch a default car and output its `electricMotors` section."
      ]
    },
    {
      "cell_type": "code",
      "metadata": {
        "id": "5j5YbZlUzfRx",
        "colab": {
          "base_uri": "https://localhost:8080/"
        },
        "outputId": "0f6143b3-43f7-410c-81aa-f8df0e1aaede"
      },
      "source": [
        "default_car = await canopy.load_default_config(session, 'car', 'Canopy F1 Car 2019')\n",
        "\n",
        "print(default_car.data.powertrain.electric.electricMotors)"
      ],
      "execution_count": 16,
      "outputs": [
        {
          "output_type": "stream",
          "text": [
            "[Munch({'name': 'ERSMotor', 'deployment': Munch({'name': 'eMotor with Constant Power', 'PMotorMax': 120000, 'eMotor': 0.95, 'PHarvestRegulatoryLimit': 120000}), 'torqueApplicationPosition': [Munch({'position': 'Rear crankshaft', 'rApplication': 1})], 'transmissionConnection': 'Primary', 'harvestIndependence': Munch({'name': 'Achieve Target Brake Balance'}), 'motorController': 'Rear axle', 'IMotor': 0, 'PPartThrottleHarvest': 30000, 'rPartThrottleChargeOn': 0.2, 'rPartThrottleChargeOff': 0.65, 'rElectricMotorPowerFactor': 1, 'PElectricMotorPowerOffset': 0, 'PMotorMeasurementPosition': 'Motor output shaft'})]\n"
          ],
          "name": "stdout"
        }
      ]
    },
    {
      "cell_type": "markdown",
      "metadata": {
        "id": "_pEk0Xmq4FM6"
      },
      "source": [
        "Next we will encrypt the `electricMotors` section."
      ]
    },
    {
      "cell_type": "code",
      "metadata": {
        "colab": {
          "base_uri": "https://localhost:8080/"
        },
        "id": "HmD3_A482W04",
        "outputId": "dc51949f-5a49-48ef-85c1-99bd09914cec"
      },
      "source": [
        "encryption_result = await config_api.config_encrypt(default_car.data.powertrain.electric.electricMotors)\r\n",
        "\r\n",
        "print(encryption_result)"
      ],
      "execution_count": 17,
      "outputs": [
        {
          "output_type": "stream",
          "text": [
            "{'name': 'encrypted', 'metadata': 'Eoy8pF9SelRlw5VSeNtKg0IvFzM0knjYfzXmAxnEvh8KezKuv6MV4DsIzET5mxxBtivD+uFJsSBdv8OTYUYpxyjeT4e1tiFE6VzTXjyerDb7yNb4ch7h6Ua/Ri3DOWYULKmoGZjrbhMQ/tgOSEOPjEalnm1cJ7RD8YICAMwxIbAp9hKX6OlhMCOMDtJ14kOxJaXz+BWIwX/Jl77hc/3P4g==', 'data': '4Hp5TNr//M2CsNGbl6dWy4kIJg7T6tCUFlifJCqcH+SIiQ8xJ4pWhyw9EarFzy8R9iyAi9yyNkfP2eIQI5jTQMG7knUhz/SKUChSfg7E/eV2Y5ELvTc6+yT3l3+4DRbG4fD6bq6Qtyg+LRnOG/f3huVqzFhoiW1vqcZt+LfxjYAqsK7aFXZlM0rNNsnwgmKI5/CEnZe+QGLDblHbKROpRnKpKnwrcmG1I880zQuEB0ea178OmdoPRid1JPPPsH84zyUtIUGclSxFSKuDhv5l+khqO1/EtLJ4kNW5Rp7O9T1iSDR7OUKAYlkHdIdIp/eRQFwdPwAWKzmtBHxfM1vd3SQoUasTNQ6rmd7xBPRLxIynYyYMB97S1Pb+QXfMatGhAWRUDixOygM/GNJmB2Us3QebKMyR5VSbISxCP7WRNCaqpfV5cucBzrH9F0zsqoONlBMDiS6IXdqtFCnbIgJy9R5efDjYklX+VJEoO0eRwVOvSYFsyTnVWA6bGeyQz8o/mWq8BUrx4d3XIlGlUMuBCxoQlavY/m/6CeKIKSUx+4rzB+umhp0cli8ck1LIVBk9/AIui37hbcKFpG/cyGw1oymnKIJeS/XJ23GtI5i4jZ6UrIbh7gIu6QvHUTIkQcpma4HZHH7BHimdSND+Kwwrk5walj2B9HtfPeHU0mURdlyqTxXhhVgjznoLM/OjIGo/vSOC/QYzcQIx0suKEDUFcjekzMq3QyYb5JEYGERkRSXAyW5SVLMnXDh0DuRYfEQw'}\n"
          ],
          "name": "stdout"
        }
      ]
    },
    {
      "cell_type": "markdown",
      "metadata": {
        "id": "ebhS_tD17PX4"
      },
      "source": [
        "Next we will replace the `electricMotors` section of the car with the encrypted version and save the car to the platform."
      ]
    },
    {
      "cell_type": "code",
      "metadata": {
        "colab": {
          "base_uri": "https://localhost:8080/"
        },
        "id": "O13sp_yY3I3A",
        "outputId": "c172191d-206d-426b-abae-fd119d360ea6"
      },
      "source": [
        "default_car.data.powertrain.electric.electricMotors = encryption_result\r\n",
        "\r\n",
        "user_car_id = await canopy.create_config(\r\n",
        "    session,\r\n",
        "    'car',\r\n",
        "    'Python Example - Car with encrypted electric motors',\r\n",
        "    default_car.raw_data)\r\n",
        "\r\n",
        "print(user_car_id)"
      ],
      "execution_count": 18,
      "outputs": [
        {
          "output_type": "stream",
          "text": [
            "468842a9200542aaa21223817954a5f2\n"
          ],
          "name": "stdout"
        }
      ]
    },
    {
      "cell_type": "markdown",
      "metadata": {
        "id": "XYE6s24C7Xb-"
      },
      "source": [
        "And finally we will load the car again and output the `electricMotors` section, to show that it has been saved encrypted."
      ]
    },
    {
      "cell_type": "code",
      "metadata": {
        "colab": {
          "base_uri": "https://localhost:8080/"
        },
        "id": "XkGPo4BH3gEz",
        "outputId": "a0284d8f-0085-4327-df54-58c4fdacefe8"
      },
      "source": [
        "user_car = await canopy.load_config(session, user_car_id)\r\n",
        "\r\n",
        "print(user_car.data.powertrain.electric.electricMotors)"
      ],
      "execution_count": 19,
      "outputs": [
        {
          "output_type": "stream",
          "text": [
            "Munch({'name': 'encrypted', 'metadata': 'LQbiZgMTkWCrykz3gM6LVeFasTmxyDuLtOv3O8D9wlHjfsmymOmFOfFzq1O2M2FHp/ynk8tnXg39Ybqx1f75XtcZq9LxbiQ/Eb9opVnHPxV7FAyVAXEvAmaI5bNWC+RfyoBtBu8ElAsgglA4f6dkupM2htILMxzFpQOlWqEf4QL99skZwyzMViF1lbh0mLEkezoSrMHr5Zib3w8Hx/06mw==', 'data': 'H1gCaPiWXBQ79lyMD9bltPkcEJURW5LyjiY627YnahPxzXsoyBYHTMCRA+N+3ErER4lYaXAy2xEu24XZqDrrOOV5lwuLM+Xv3VvDHkci3QhQPWmZ2pfK6Sw2c1BAvhL5CCGgCHGVT7xcfdulD7lOAK8iFt1wdszSL+5/YSvJcGtqRUmdGjVUbu3++Fxn9z5mnqmUBQHKBxYtVKqTSfk5agfJJoDEp0Vbwlbq1GpZpSXrpI7EK0hLs8VCXc45VPKJNCOMcayh/BpAAblZT+oHnj9295SLM0ZuaZg8QYuXcFKRo22hXNa/HJ5bjddHS1H2nNhLrPbZdJkZ4UElLkf93bHH9IZnRnZthC3QrWeAlVR/NH8qu7KpETQrbRof9uUuz+iKoLtjQQaJ5tOxaYFsUl09yS5yPp2v5QnzSzFSW53k6kLKy5GixURvWMnce/Fb0UOEFZGNytfNx8kAG9wioFqrFTnEMinYLC06pak/E/Lcqpx3aFx8lk19UBrXJUzuW8YL6TZvOJfof19qQzlPoBfVo+mV8ueP2FUUen8JgF6Hoy99IFSqy5FzMxOARGRW7zSEsz+y2FVrz/PU/cpNjpeUQqO/v1JhWchOQldmIK7GKIn+VOaLgtUCMRYWOJ2p2E6ZzuH+1kw9ciOfufDiZEuuV0vko0qjsouqGjLy5QcyPG9btXoNo/rGBJUNikfJGY6Ks8dl0dGiMOcL4JSrlzzKYB1ucFwrMz/M45MznXI62GIiPSIpY6V+XGwOqnrl'})\n"
          ],
          "name": "stdout"
        }
      ]
    }
  ]
}