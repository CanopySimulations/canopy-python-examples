{
  "nbformat": 4,
  "nbformat_minor": 0,
  "metadata": {
    "colab": {
      "name": "loading_and_saving_configs.ipynb",
      "provenance": [],
      "authorship_tag": "ABX9TyMWD2ldmiXcodhaQr4eNWXD",
      "include_colab_link": true
    },
    "kernelspec": {
      "name": "python3",
      "display_name": "Python 3"
    }
  },
  "cells": [
    {
      "cell_type": "markdown",
      "metadata": {
        "id": "view-in-github",
        "colab_type": "text"
      },
      "source": [
        "<a href=\"https://colab.research.google.com/github/CanopySimulations/canopy-python-examples/blob/master/loading_and_saving_configs.ipynb\" target=\"_parent\"><img src=\"https://colab.research.google.com/assets/colab-badge.svg\" alt=\"Open In Colab\"/></a>"
      ]
    },
    {
      "cell_type": "markdown",
      "metadata": {
        "id": "NtIv7oIVvn5i",
        "colab_type": "text"
      },
      "source": [
        "# Upgrade Runtime\n",
        "This cell ensures the runtime supports `asyncio` async/await, and is needed on Google Colab. If the runtime is upgraded, you will be prompted to restart it, which you should do before continuing execution."
      ]
    },
    {
      "cell_type": "code",
      "metadata": {
        "id": "E-AnefvPvmtR",
        "colab_type": "code",
        "colab": {}
      },
      "source": [
        "!pip install \"ipython>=7\""
      ],
      "execution_count": 0,
      "outputs": []
    },
    {
      "cell_type": "markdown",
      "metadata": {
        "id": "_61Bg2_KwIR2",
        "colab_type": "text"
      },
      "source": [
        "# Set Up Environment"
      ]
    },
    {
      "cell_type": "markdown",
      "metadata": {
        "id": "zX-xTWzWG1bt",
        "colab_type": "text"
      },
      "source": [
        "### Import required libraries"
      ]
    },
    {
      "cell_type": "code",
      "metadata": {
        "id": "gNnEvtkmwL0W",
        "colab_type": "code",
        "colab": {}
      },
      "source": [
        "!pip install 'canopy==8.7'"
      ],
      "execution_count": 0,
      "outputs": []
    },
    {
      "cell_type": "code",
      "metadata": {
        "id": "0bBsqDyhwN_8",
        "colab_type": "code",
        "colab": {}
      },
      "source": [
        "import canopy\n",
        "import logging\n",
        "\n",
        "logging.basicConfig(level=logging.INFO)"
      ],
      "execution_count": 0,
      "outputs": []
    },
    {
      "cell_type": "markdown",
      "metadata": {
        "id": "nH5-pXaZw5jg",
        "colab_type": "text"
      },
      "source": [
        "### Authenticate"
      ]
    },
    {
      "cell_type": "code",
      "metadata": {
        "id": "SAnwvDofwhw1",
        "colab_type": "code",
        "colab": {}
      },
      "source": [
        "authentication_data = canopy.prompt_for_authentication()\n",
        "\n",
        "def create_session():\n",
        "    return canopy.Session(authentication_data)"
      ],
      "execution_count": 0,
      "outputs": []
    },
    {
      "cell_type": "markdown",
      "metadata": {
        "id": "JlBY8CwBPG2A",
        "colab_type": "text"
      },
      "source": [
        "# Set Up Example"
      ]
    },
    {
      "cell_type": "code",
      "metadata": {
        "id": "KS9NGfrlPKR_",
        "colab_type": "code",
        "colab": {}
      },
      "source": [
        "# Removes sensitive data from configs so we don't publish them in our public repo.\n",
        "def sanitize_config(config: canopy.ConfigResult):\n",
        "    config.document.tenant_id = \\\n",
        "    config.document.user_id = \\\n",
        "    'removed'\n",
        "    \n",
        "    for t in config.user_information.tenants:\n",
        "        t.tenant_id = \\\n",
        "        t.name = \\\n",
        "        t.short_name = \\\n",
        "        'removed'\n",
        "\n",
        "        for u in t.users:\n",
        "            u.user_id = \\\n",
        "            u.username = \\\n",
        "            u.email = \\\n",
        "            'removed'"
      ],
      "execution_count": 0,
      "outputs": []
    },
    {
      "cell_type": "markdown",
      "metadata": {
        "id": "tnJeZcc0vHif",
        "colab_type": "text"
      },
      "source": [
        "# Example: Loading and saving configs"
      ]
    },
    {
      "cell_type": "markdown",
      "metadata": {
        "id": "og809ltWzgjP",
        "colab_type": "text"
      },
      "source": [
        "## User configs and default configs\n",
        "Configs on the platform are split into user configs, which are created by users, and default configs which are supplied by Canopy. When viewing lists of configs in the Canopy Portal (the web UI), the user configs appear first and the default configs are in a separate list below.\n",
        "\n",
        "When using the Canopy Python library, there are separate functions for loading user and default configs."
      ]
    },
    {
      "cell_type": "markdown",
      "metadata": {
        "id": "QWxXxaQ40w_l",
        "colab_type": "text"
      },
      "source": [
        "## Loading a default config"
      ]
    },
    {
      "cell_type": "code",
      "metadata": {
        "id": "5j5YbZlUzfRx",
        "colab_type": "code",
        "colab": {
          "base_uri": "https://localhost:8080/",
          "height": 277
        },
        "outputId": "9ec462d1-a67c-44eb-a0c0-2e73a75db285"
      },
      "source": [
        "async with create_session() as session:\n",
        "    default_weather = await canopy.load_default_config(session, 'weather', '25 deg, dry')\n",
        "    default_car = await canopy.load_default_config(session, 'car', 'Canopy F1 Car 2019')\n",
        "\n",
        "print(default_weather)"
      ],
      "execution_count": 20,
      "outputs": [
        {
          "output_type": "stream",
          "text": [
            "{\n",
            "  \"config_type\": \"weather\",\n",
            "  \"name\": \"25 deg, dry\",\n",
            "  \"properties\": null,\n",
            "  \"notes\": null,\n",
            "  \"user_id\": null,\n",
            "  \"config_id\": null,\n",
            "  \"is_edited\": false,\n",
            "  \"is_data_converted\": false,\n",
            "  \"data\": {\n",
            "    \"TAir\": 25,\n",
            "    \"pAirAtmosphericLocal\": 101300,\n",
            "    \"rHumidityRelative\": 0.1\n",
            "  }\n",
            "}\n"
          ],
          "name": "stdout"
        }
      ]
    },
    {
      "cell_type": "markdown",
      "metadata": {
        "id": "zY26mTm92XHv",
        "colab_type": "text"
      },
      "source": [
        "## Advanced Usage: The `data` vs `raw_data` properties.\n",
        "\n",
        "The `default_weather` object has two properties for accessing the config data: `default_weather.data` and `default_weather.raw_data`.\n",
        "\n",
        "The reason for this is a compromise between usability and performance. By default, Python deserialises the config data into nested dictionaries. These must be accessed with indexers:"
      ]
    },
    {
      "cell_type": "code",
      "metadata": {
        "id": "dmK418pKiTFU",
        "colab_type": "code",
        "colab": {
          "base_uri": "https://localhost:8080/",
          "height": 35
        },
        "outputId": "1ec97d86-75b7-4924-ee58-9c01c2a860d7"
      },
      "source": [
        "default_weather.raw_data['TAir']"
      ],
      "execution_count": 15,
      "outputs": [
        {
          "output_type": "execute_result",
          "data": {
            "text/plain": [
              "25"
            ]
          },
          "metadata": {
            "tags": []
          },
          "execution_count": 15
        }
      ]
    },
    {
      "cell_type": "code",
      "metadata": {
        "id": "yrgvR2jGjn55",
        "colab_type": "code",
        "colab": {
          "base_uri": "https://localhost:8080/",
          "height": 35
        },
        "outputId": "40bd7674-d3c0-4d8b-ca65-06cafcf674c1"
      },
      "source": [
        "default_car.raw_data['suspension']['front']['internal']['damper']['dampingCoefficient']"
      ],
      "execution_count": 17,
      "outputs": [
        {
          "output_type": "execute_result",
          "data": {
            "text/plain": [
              "1200"
            ]
          },
          "metadata": {
            "tags": []
          },
          "execution_count": 17
        }
      ]
    },
    {
      "cell_type": "markdown",
      "metadata": {
        "id": "O0IO1GoFiix8",
        "colab_type": "text"
      },
      "source": [
        "It would be much nicer to be able to traverse the hierarchy as if it were a set of nested properties. This is what the `data` property allows you to do.\n",
        "\n",
        "When you access the `data` property for the first time it converts the `raw_data` from nested dictionaries to a structure supporting property traversal, allowing you to access the data more concisely:"
      ]
    },
    {
      "cell_type": "code",
      "metadata": {
        "id": "Pf1OPSOCibFy",
        "colab_type": "code",
        "colab": {
          "base_uri": "https://localhost:8080/",
          "height": 35
        },
        "outputId": "fe26ff49-0397-4432-f4d3-ca74135e016d"
      },
      "source": [
        "default_weather.data.TAir"
      ],
      "execution_count": 18,
      "outputs": [
        {
          "output_type": "execute_result",
          "data": {
            "text/plain": [
              "25"
            ]
          },
          "metadata": {
            "tags": []
          },
          "execution_count": 18
        }
      ]
    },
    {
      "cell_type": "code",
      "metadata": {
        "id": "fIxkRq7i-Ea6",
        "colab_type": "code",
        "colab": {
          "base_uri": "https://localhost:8080/",
          "height": 35
        },
        "outputId": "7a459251-8cfe-496e-e169-d2bd4c2aae91"
      },
      "source": [
        "default_car.data.suspension.front.internal.damper.dampingCoefficient"
      ],
      "execution_count": 20,
      "outputs": [
        {
          "output_type": "execute_result",
          "data": {
            "text/plain": [
              "1200"
            ]
          },
          "metadata": {
            "tags": []
          },
          "execution_count": 20
        }
      ]
    },
    {
      "cell_type": "markdown",
      "metadata": {
        "id": "-msUrBTI-RWO",
        "colab_type": "text"
      },
      "source": [
        "Once this conversion has happened, the `raw_data` property changes to output the same as the `data` property. This is so that if you make any modifications they appear on both properties."
      ]
    },
    {
      "cell_type": "code",
      "metadata": {
        "id": "ZcamkdSU-mKy",
        "colab_type": "code",
        "colab": {
          "base_uri": "https://localhost:8080/",
          "height": 87
        },
        "outputId": "9fdadbc9-96b0-4767-824b-014c79b48b81"
      },
      "source": [
        "default_car.data.suspension.front.internal.damper.dampingCoefficient = 1300\n",
        "\n",
        "print(default_car.data.suspension.front.internal.damper.dampingCoefficient)\n",
        "print(default_car.raw_data['suspension']['front']['internal']['damper']['dampingCoefficient'])\n",
        "\n",
        "# This next line would result in an error if the data property had not already been accessed:\n",
        "print(default_car.raw_data.suspension.front.internal.damper.dampingCoefficient)\n",
        "\n",
        "print(default_car.is_data_converted)"
      ],
      "execution_count": 13,
      "outputs": [
        {
          "output_type": "stream",
          "text": [
            "1300\n",
            "1300\n",
            "1300\n",
            "True\n"
          ],
          "name": "stdout"
        }
      ]
    },
    {
      "cell_type": "markdown",
      "metadata": {
        "id": "tLS8sGLC-9mu",
        "colab_type": "text"
      },
      "source": [
        "Why not always perform the conversion, and just have one property? If the config is particularly large then the conversion is not cheap. \n",
        "\n",
        "If you have only downloaded a config in order to pass it into a study, performing the conversion would result in unnecessary delay with no benefit. If you are in a performance critical bit of code, you may similarly prefer to use the dictionary notation and avoid the conversion."
      ]
    },
    {
      "cell_type": "markdown",
      "metadata": {
        "id": "1lVYgnEX1LPf",
        "colab_type": "text"
      },
      "source": [
        "## Saving a user config\n",
        "\n",
        "Before we can show how to load user configs, we should create one:"
      ]
    },
    {
      "cell_type": "code",
      "metadata": {
        "id": "HRBG7L7cKAvW",
        "colab_type": "code",
        "colab": {
          "base_uri": "https://localhost:8080/",
          "height": 52
        },
        "outputId": "e1c30007-7f9d-4972-df8d-a41cd6044598"
      },
      "source": [
        "async with create_session() as session:\n",
        "    user_weather_id_july = await canopy.create_config(\n",
        "        session,\n",
        "        'weather',\n",
        "        'Python Example Weather July',\n",
        "        default_weather.raw_data,\n",
        "        properties={ 'country':'uk', 'month':'july' })\n",
        "    \n",
        "    default_weather.data.TAir = 10\n",
        "\n",
        "    user_weather_id_march = await canopy.create_config(\n",
        "        session,\n",
        "        'weather',\n",
        "        'Python Example Weather March',\n",
        "        default_weather.raw_data,\n",
        "        properties={ 'country':'uk', 'month':'march' })\n",
        "    \n",
        "print(f'July ID: {user_weather_id_july}')\n",
        "print(f'March ID: {user_weather_id_march}')"
      ],
      "execution_count": 21,
      "outputs": [
        {
          "output_type": "stream",
          "text": [
            "July ID: 022b7cfe38b34f02b1df135fda275e59\n",
            "March ID: 4d4bf810e37e483d951681ea4ec008a6\n"
          ],
          "name": "stdout"
        }
      ]
    },
    {
      "cell_type": "markdown",
      "metadata": {
        "id": "w9uX3CLqLUAO",
        "colab_type": "text"
      },
      "source": [
        "## Loading a user config by ID"
      ]
    },
    {
      "cell_type": "markdown",
      "metadata": {
        "id": "QI7kHA55LY0k",
        "colab_type": "text"
      },
      "source": [
        "The first way to load a config is by its ID:"
      ]
    },
    {
      "cell_type": "code",
      "metadata": {
        "id": "3glv1wM-LddO",
        "colab_type": "code",
        "colab": {
          "base_uri": "https://localhost:8080/",
          "height": 867
        },
        "outputId": "328ccfb8-7e4a-424c-c8c3-a28792d4b759"
      },
      "source": [
        "async with create_session() as session:\n",
        "    march_weather = await canopy.load_config(session, user_weather_id_march)\n",
        "\n",
        "sanitize_config(march_weather)\n",
        "\n",
        "print(march_weather)"
      ],
      "execution_count": 22,
      "outputs": [
        {
          "output_type": "stream",
          "text": [
            "{\n",
            "  \"config_id\": \"4d4bf810e37e483d951681ea4ec008a6\",\n",
            "  \"document\": {\n",
            "    \"document_id\": \"4d4bf810e37e483d951681ea4ec008a6\",\n",
            "    \"tenant_id\": \"removed\",\n",
            "    \"user_id\": \"removed\",\n",
            "    \"name\": \"Python Example Weather March\",\n",
            "    \"type\": \"config\",\n",
            "    \"sub_type\": \"weather\",\n",
            "    \"sim_version\": \"1.3226\",\n",
            "    \"creation_date\": \"2020-03-10 16:24:52.544580+00:00\",\n",
            "    \"modified_date\": \"2020-03-10 16:24:52.544580+00:00\",\n",
            "    \"properties\": {\n",
            "      \"country\": \"uk\",\n",
            "      \"month\": \"march\"\n",
            "    },\n",
            "    \"data\": {\n",
            "      \"TAir\": 10,\n",
            "      \"pAirAtmosphericLocal\": 101300,\n",
            "      \"rHumidityRelative\": 0.1\n",
            "    },\n",
            "    \"support_session\": null,\n",
            "    \"notes\": null,\n",
            "    \"delete_requested\": null,\n",
            "    \"parent_worksheet_id\": null\n",
            "  },\n",
            "  \"user_information\": {\n",
            "    \"tenants\": [\n",
            "      {\n",
            "        \"tenant_id\": \"removed\",\n",
            "        \"name\": \"removed\",\n",
            "        \"short_name\": \"removed\",\n",
            "        \"users\": [\n",
            "          {\n",
            "            \"user_id\": \"removed\",\n",
            "            \"username\": \"removed\",\n",
            "            \"email\": \"removed\"\n",
            "          }\n",
            "        ]\n",
            "      }\n",
            "    ]\n",
            "  },\n",
            "  \"is_data_converted\": false,\n",
            "  \"data\": {\n",
            "    \"TAir\": 10,\n",
            "    \"pAirAtmosphericLocal\": 101300,\n",
            "    \"rHumidityRelative\": 0.1\n",
            "  }\n",
            "}\n"
          ],
          "name": "stdout"
        }
      ]
    },
    {
      "cell_type": "markdown",
      "metadata": {
        "id": "QWiL2-w4Me_J",
        "colab_type": "text"
      },
      "source": [
        "This gives us a lot more information than when we loaded the default config. For example the `user_information` section contains the resolved tenant and user information for the document owner, or anyone who has contributed to the support session.\n",
        "\n",
        "If you don't need all this information, we can convert it to the same `canopy.LocalConfig` structure which the default config used:"
      ]
    },
    {
      "cell_type": "code",
      "metadata": {
        "id": "Wp523VkLM5HB",
        "colab_type": "code",
        "colab": {
          "base_uri": "https://localhost:8080/",
          "height": 329
        },
        "outputId": "ffbea7d6-3e44-4db8-b7dd-269ae6ff5c30"
      },
      "source": [
        "march_weather_2 = march_weather.to_local_config()\n",
        "\n",
        "print(march_weather_2)"
      ],
      "execution_count": 23,
      "outputs": [
        {
          "output_type": "stream",
          "text": [
            "{\n",
            "  \"config_type\": \"weather\",\n",
            "  \"name\": \"Python Example Weather March\",\n",
            "  \"properties\": {\n",
            "    \"country\": \"uk\",\n",
            "    \"month\": \"march\"\n",
            "  },\n",
            "  \"notes\": null,\n",
            "  \"user_id\": \"removed\",\n",
            "  \"config_id\": \"4d4bf810e37e483d951681ea4ec008a6\",\n",
            "  \"is_edited\": false,\n",
            "  \"is_data_converted\": false,\n",
            "  \"data\": {\n",
            "    \"TAir\": 10,\n",
            "    \"pAirAtmosphericLocal\": 101300,\n",
            "    \"rHumidityRelative\": 0.1\n",
            "  }\n",
            "}\n"
          ],
          "name": "stdout"
        }
      ]
    },
    {
      "cell_type": "markdown",
      "metadata": {
        "id": "CwOLU174NG7H",
        "colab_type": "text"
      },
      "source": [
        "This simpler form can be useful if we want all our functions to use the same config data structure."
      ]
    },
    {
      "cell_type": "markdown",
      "metadata": {
        "id": "URh_wbC_N8cH",
        "colab_type": "text"
      },
      "source": [
        "## Getting a Config ID from the Canopy Portal\n",
        "\n",
        "If you want to load an existing config by ID, you can find its ID by opening it in the Canopy Portal (the web UI to the platform).\n",
        "\n",
        "The URL for a config is of the form `/configs/<configType>/<tenantId>/<configId>/edit`. You can therefore simply copy the Config ID from the URL and paste it into your Python code.\n",
        "\n",
        "Similarly for studies the URL is of the form `/studies/<tenantId>/<studyId>`.\n",
        "\n",
        "Failing that, you can load the config by name or other metadata, which we'll do next.\n"
      ]
    },
    {
      "cell_type": "markdown",
      "metadata": {
        "id": "mGdrq7hWNwHr",
        "colab_type": "text"
      },
      "source": [
        "## Loading a user config by name / metadata"
      ]
    },
    {
      "cell_type": "markdown",
      "metadata": {
        "id": "AvXM5se4N43c",
        "colab_type": "text"
      },
      "source": [
        "Sometimes it is more convenient to load a config by name:"
      ]
    },
    {
      "cell_type": "code",
      "metadata": {
        "id": "43MBs_YaPCVO",
        "colab_type": "code",
        "colab": {
          "base_uri": "https://localhost:8080/",
          "height": 52
        },
        "outputId": "710da6d2-c95c-4744-a0ed-86751a08b3b2"
      },
      "source": [
        "async with create_session() as session:\n",
        "    july_weather_by_name = await canopy.find_config(\n",
        "        session, \n",
        "        'weather', \n",
        "        name='Python Example Weather July')\n",
        "    \n",
        "    march_weather_by_name = await canopy.find_config(\n",
        "        session,\n",
        "        'weather',\n",
        "        name='Python Example Weather March')\n",
        "\n",
        "print(july_weather_by_name.data.TAir)\n",
        "print(march_weather_by_name.data.TAir)"
      ],
      "execution_count": 24,
      "outputs": [
        {
          "output_type": "stream",
          "text": [
            "25\n",
            "10\n"
          ],
          "name": "stdout"
        }
      ]
    },
    {
      "cell_type": "markdown",
      "metadata": {
        "id": "EK1DgQPYQ8Pz",
        "colab_type": "text"
      },
      "source": [
        "We can also search by other metadata, such as custom properties:"
      ]
    },
    {
      "cell_type": "code",
      "metadata": {
        "id": "GmK5VvrvRAJO",
        "colab_type": "code",
        "colab": {
          "base_uri": "https://localhost:8080/",
          "height": 52
        },
        "outputId": "81afd272-9b2f-4836-c58a-7384ba1175a3"
      },
      "source": [
        "async with create_session() as session:\n",
        "    july_weather_by_property = await canopy.find_config(\n",
        "        session,\n",
        "        'weather',\n",
        "        custom_properties={ 'month': 'july' })\n",
        "    \n",
        "    march_weather_by_property = await canopy.find_config(\n",
        "        session,\n",
        "        'weather',\n",
        "        custom_properties={ 'month': 'march', 'country': 'uk' })\n",
        "\n",
        "print(july_weather_by_name.data.TAir)\n",
        "print(march_weather_by_name.data.TAir)"
      ],
      "execution_count": 26,
      "outputs": [
        {
          "output_type": "stream",
          "text": [
            "25\n",
            "10\n"
          ],
          "name": "stdout"
        }
      ]
    },
    {
      "cell_type": "markdown",
      "metadata": {
        "id": "bmzOgS0pRjQt",
        "colab_type": "text"
      },
      "source": [
        "When multiple properties match the criteria, it will return the most recently modified:"
      ]
    },
    {
      "cell_type": "code",
      "metadata": {
        "id": "f_zvfuDvRtvL",
        "colab_type": "code",
        "colab": {
          "base_uri": "https://localhost:8080/",
          "height": 35
        },
        "outputId": "d5c81e87-77f2-45c8-ae93-c0be61055978"
      },
      "source": [
        "async with create_session() as session:\n",
        "    most_recently_modified_uk_weather = await canopy.find_config(\n",
        "        session,\n",
        "        'weather',\n",
        "        custom_properties={ 'country': 'uk' })\n",
        "\n",
        "print(most_recently_modified_uk_weather.data.TAir)"
      ],
      "execution_count": 27,
      "outputs": [
        {
          "output_type": "stream",
          "text": [
            "10\n"
          ],
          "name": "stdout"
        }
      ]
    },
    {
      "cell_type": "markdown",
      "metadata": {
        "id": "QcsZunkhSW5J",
        "colab_type": "text"
      },
      "source": [
        "Finally, if your config was in a worksheet, you can also pass in a `parent_worksheet_id` parameter to find the config within the worksheet."
      ]
    }
  ]
}