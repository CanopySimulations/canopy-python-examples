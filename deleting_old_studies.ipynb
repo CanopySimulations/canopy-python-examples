{
  "nbformat": 4,
  "nbformat_minor": 0,
  "metadata": {
    "colab": {
      "name": "deleting_old_studies.ipynb",
      "provenance": [],
      "include_colab_link": true
    },
    "kernelspec": {
      "name": "python3",
      "display_name": "Python 3"
    }
  },
  "cells": [
    {
      "cell_type": "markdown",
      "metadata": {
        "id": "view-in-github",
        "colab_type": "text"
      },
      "source": [
        "<a href=\"https://colab.research.google.com/github/CanopySimulations/canopy-python-examples/blob/master/deleting_old_studies.ipynb\" target=\"_parent\"><img src=\"https://colab.research.google.com/assets/colab-badge.svg\" alt=\"Open In Colab\"/></a>"
      ]
    },
    {
      "cell_type": "markdown",
      "metadata": {
        "id": "FP-B6RYIDnZG"
      },
      "source": [
        "# Upgrade Runtime\n",
        "This cell ensures the runtime supports `asyncio` async/await, and is needed on Google Colab. If the runtime is upgraded, you will be prompted to restart it, which you should do before continuing execution."
      ]
    },
    {
      "cell_type": "code",
      "metadata": {
        "id": "E-AnefvPvmtR"
      },
      "source": [
        "!pip install \"ipython>=7\""
      ],
      "execution_count": null,
      "outputs": []
    },
    {
      "cell_type": "markdown",
      "metadata": {
        "id": "_61Bg2_KwIR2"
      },
      "source": [
        "# Set Up Environment"
      ]
    },
    {
      "cell_type": "markdown",
      "metadata": {
        "id": "zX-xTWzWG1bt"
      },
      "source": [
        "### Import required libraries"
      ]
    },
    {
      "cell_type": "code",
      "metadata": {
        "id": "gNnEvtkmwL0W"
      },
      "source": [
        "!pip install -q canopy"
      ],
      "execution_count": null,
      "outputs": []
    },
    {
      "cell_type": "code",
      "metadata": {
        "id": "0bBsqDyhwN_8"
      },
      "source": [
        "import canopy\n",
        "import logging\n",
        "from typing import Optional, List\n",
        "import nest_asyncio\n",
        "\n",
        "logging.basicConfig(level=logging.INFO)\n",
        "nest_asyncio.apply()"
      ],
      "execution_count": null,
      "outputs": []
    },
    {
      "cell_type": "markdown",
      "metadata": {
        "id": "nH5-pXaZw5jg"
      },
      "source": [
        "### Authenticate"
      ]
    },
    {
      "cell_type": "code",
      "metadata": {
        "id": "SAnwvDofwhw1"
      },
      "source": [
        "authentication_data = canopy.prompt_for_authentication()\n",
        "session = canopy.Session(authentication_data)"
      ],
      "execution_count": null,
      "outputs": []
    },
    {
      "cell_type": "markdown",
      "metadata": {
        "id": "tnJeZcc0vHif"
      },
      "source": [
        "# Example: Deleting old studies"
      ]
    },
    {
      "cell_type": "markdown",
      "metadata": {
        "id": "DTKRgK5rq8k9"
      },
      "source": [
        "**We advise using extreme caution when running this tool.**\n",
        "\n",
        "The following code will iterate through the studies in the given time range and delete them. It will take ownership of the study before deleting if necessary.\n",
        "\n",
        " - You can do a trial run by setting the `trial_run` parameter to true, in which case no studies will actually be modified.\n",
        "\n",
        " - If the study is older than the 29th of March 2019 then taking ownership will fail, as studies before this date are not able to have their owner changed. \n",
        "\n",
        " - You can optionally specify a username, in which case only studies owned by that user will be fetched for deletion.\n",
        "\n",
        " - You will have a limited time to restore a deleted study on the platform if you delete it accidentally.\n"
      ]
    },
    {
      "cell_type": "code",
      "metadata": {
        "id": "5j5YbZlUzfRx"
      },
      "source": [
        "def create_filter(\n",
        "    from_timestamp: str,\n",
        "    to_timestamp: str,\n",
        "    owner_username: Optional[str]) -> canopy.openapi.ListFilter:\n",
        "\n",
        "    conditions: List[canopy.openapi.ListFilterCondition] = []\n",
        "\n",
        "    conditions.append(canopy.openapi.ListFilterCondition(\n",
        "        source='metadata',\n",
        "        name='creationDate',\n",
        "        operator='greaterThan',\n",
        "        value=from_timestamp))\n",
        "\n",
        "    conditions.append(canopy.openapi.ListFilterCondition(\n",
        "        source='metadata',\n",
        "        name='creationDate',\n",
        "        operator='lessThan',\n",
        "        value=to_timestamp))\n",
        "\n",
        "    if owner_username is not None:\n",
        "        owner = tenant_users.get_by_username(owner_username)\n",
        "        conditions.append(canopy.openapi.ListFilterCondition(\n",
        "            source='metadata',\n",
        "            name='userId',\n",
        "            operator='equals',\n",
        "            value=owner.user_id\n",
        "        ))\n",
        "\n",
        "    query = canopy.openapi.ListFilterGroup(\n",
        "                operator='and',\n",
        "                conditions=conditions)\n",
        "    \n",
        "    study_filter = canopy.openapi.ListFilter(\n",
        "        items_per_page=10,\n",
        "        order_by_property='creationDate',\n",
        "        order_by_descending=False,\n",
        "        query=query,\n",
        "        include_if_has_parent_worksheet=False)\n",
        "        \n",
        "    return study_filter\n",
        "\n",
        "async def delete_studies(\n",
        "    trial_run: bool,\n",
        "    from_timestamp: str,\n",
        "    to_timestamp: str,\n",
        "    owner_username: Optional[str] = None):\n",
        "\n",
        "    if trial_run == False:\n",
        "        print('WARNING: This will potentially delete studies from multiple users. Type \"continue\" to proceed:')\n",
        "        prompt_result = input()\n",
        "        if prompt_result !=  'continue':\n",
        "            print(f'Stopping as user responsed with \"{prompt_result}\".\"')\n",
        "            return\n",
        "\n",
        "    session.authentication.authenticate()\n",
        "    tenant_id = session.authentication.tenant_id\n",
        "    user_id = session.authentication.user_id\n",
        "\n",
        "    tenant_users = session.tenant_users.get(tenant_id)\n",
        "    study_api = canopy.openapi.StudyApi(session.async_client)\n",
        "\n",
        "    study_filter = create_filter(from_timestamp, to_timestamp, owner_username)\n",
        "\n",
        "    has_more_results = True\n",
        "    continuation_token = None\n",
        "    deleted_study_count = 0\n",
        "    failed_study_count = 0\n",
        "\n",
        "    while has_more_results:\n",
        "        print('Loading next studies...')\n",
        "        study_filter.continuation_token = continuation_token\n",
        "        serializable_filter = canopy.SerializableValue(session, study_filter);\n",
        "        studies = await study_api.study_get_studies(tenant_id, filter=serializable_filter.serialize())\n",
        "\n",
        "        for study in studies.query_results.documents:\n",
        "            creation_date = study.creation_date.strftime('%Y-%m-%d %H:%M:%S')\n",
        "            owner = tenant_users.get_by_user_id(study.user_id)\n",
        "\n",
        "            print(f'{owner.username} / {study.name} / {creation_date} / https://portal.canopysimulations.com/studies/{tenant_id}/{study.document_id}')\n",
        "\n",
        "            if trial_run == False:\n",
        "                try:\n",
        "                    if study.user_id != user_id:\n",
        "                        print('Taking ownership...')\n",
        "                        await study_api.study_put_study_owner(\n",
        "                            tenant_id,\n",
        "                            study.document_id,\n",
        "                            canopy.openapi.ConfigOwnerData(user_id=user_id))\n",
        "                    \n",
        "                    print('Deleting...')\n",
        "                    await study_api.study_delete_study(\n",
        "                        tenant_id,\n",
        "                        study.document_id)\n",
        "                    print('Deleted.')\n",
        "                    deleted_study_count += 1\n",
        "                except canopy.openapi.ApiException as error:\n",
        "                    failed_study_count += 1\n",
        "                    logging.error(error.body)\n",
        "\n",
        "        has_more_results = studies.query_results.has_more_results\n",
        "        continuation_token = studies.query_results.continuation_token\n",
        "    \n",
        "    print(f'Successfully deleted {deleted_study_count} studies.')\n",
        "    print(f'Failed to delete {failed_study_count} studies.')\n",
        "\n",
        "await delete_studies(\n",
        "    trial_run=True,\n",
        "    #owner_username='james.thurley',\n",
        "    from_timestamp='2019-03-27T13:00:00Z',\n",
        "    to_timestamp='2019-03-27T16:00:00Z')"
      ],
      "execution_count": null,
      "outputs": []
    }
  ]
}