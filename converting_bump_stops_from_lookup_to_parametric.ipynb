{
  "nbformat": 4,
  "nbformat_minor": 0,
  "metadata": {
    "colab": {
      "name": "convert_bump_stop_from_lookup_to_parametric.ipynb",
      "provenance": [],
      "include_colab_link": true
    },
    "kernelspec": {
      "name": "python3",
      "display_name": "Python 3"
    }
  },
  "cells": [
    {
      "cell_type": "markdown",
      "metadata": {
        "id": "view-in-github",
        "colab_type": "text"
      },
      "source": [
        "<a href=\"https://colab.research.google.com/github/CanopySimulations/canopy-python-examples/blob/master/converting_bump_stops_from_lookup_to_parametric.ipynb\" target=\"_parent\"><img src=\"https://colab.research.google.com/assets/colab-badge.svg\" alt=\"Open In Colab\"/></a>"
      ]
    },
    {
      "cell_type": "markdown",
      "metadata": {
        "id": "NtIv7oIVvn5i"
      },
      "source": [
        "# Upgrade Runtime\n",
        "This cell ensures the runtime supports `asyncio` async/await, and is needed on Google Colab. If the runtime is upgraded, you will be prompted to restart it, which you should do before continuing execution."
      ]
    },
    {
      "cell_type": "code",
      "metadata": {
        "id": "4ExRrXizDmGh"
      },
      "source": [
        "!pip install \"ipython>=7\""
      ],
      "execution_count": null,
      "outputs": []
    },
    {
      "cell_type": "markdown",
      "metadata": {
        "id": "_61Bg2_KwIR2"
      },
      "source": [
        "# Set Up Environment"
      ]
    },
    {
      "cell_type": "markdown",
      "metadata": {
        "id": "zX-xTWzWG1bt"
      },
      "source": [
        "### Import required libraries"
      ]
    },
    {
      "cell_type": "code",
      "metadata": {
        "id": "gNnEvtkmwL0W",
        "colab": {
          "base_uri": "https://localhost:8080/"
        },
        "outputId": "6161d51a-18a3-414d-830f-92ae01d8f592"
      },
      "source": [
        "!pip install -q canopy"
      ],
      "execution_count": 1,
      "outputs": [
        {
          "output_type": "stream",
          "text": [
            "\u001b[K     |████████████████████████████████| 133kB 6.3MB/s \n",
            "\u001b[K     |████████████████████████████████| 1.3MB 24.7MB/s \n",
            "\u001b[K     |████████████████████████████████| 296kB 52.9MB/s \n",
            "\u001b[K     |████████████████████████████████| 143kB 47.0MB/s \n",
            "\u001b[?25h  Building wheel for canopy (setup.py) ... \u001b[?25l\u001b[?25hdone\n",
            "  Building wheel for idna-ssl (setup.py) ... \u001b[?25l\u001b[?25hdone\n"
          ],
          "name": "stdout"
        }
      ]
    },
    {
      "cell_type": "code",
      "metadata": {
        "id": "0bBsqDyhwN_8"
      },
      "source": [
        "import canopy\n",
        "import logging\n",
        "import numpy as np\n",
        "from scipy.optimize import curve_fit\n",
        "import matplotlib.pyplot as plt\n",
        "import nest_asyncio\n",
        "\n",
        "logging.basicConfig(level=logging.INFO)\n",
        "nest_asyncio.apply()"
      ],
      "execution_count": 2,
      "outputs": []
    },
    {
      "cell_type": "markdown",
      "metadata": {
        "id": "nH5-pXaZw5jg"
      },
      "source": [
        "### Authenticate"
      ]
    },
    {
      "cell_type": "code",
      "metadata": {
        "id": "SAnwvDofwhw1"
      },
      "source": [
        "authentication_data = canopy.prompt_for_authentication()\n",
        "session = canopy.Session(authentication_data)"
      ],
      "execution_count": null,
      "outputs": []
    },
    {
      "cell_type": "markdown",
      "metadata": {
        "id": "VSDal4PawY8-"
      },
      "source": [
        "# Set Up Example"
      ]
    },
    {
      "cell_type": "markdown",
      "metadata": {
        "id": "Q7TdJ6GfLbw8"
      },
      "source": [
        "Load an example car and set the front internal bump stop to a lookup. The sample lookup was created by eye-balling the chart in the Canopy [documentation page](https://portal.canopysimulations.com/wiki/Suspension;location=tab-bumpstopparameters).\n",
        "\n",
        "> **Tip: `dict_to_object`**\n",
        "> \n",
        "> We are using the helper function `dict_to_object` to convert the bump stop from a dictionary, which we would access as `bump_stop['xData']`, to an object which we can access as `bump_stop.xData`. This isn't necessary, but is quite convenient.\n",
        "\n",
        "> **Tip: `session.units`**\n",
        ">\n",
        "> The `session.units` object contains useful functions for converting single values, array and Pandas Series between units."
      ]
    },
    {
      "cell_type": "code",
      "metadata": {
        "id": "uzyji8kgF6oV",
        "colab": {
          "base_uri": "https://localhost:8080/"
        },
        "outputId": "a9b86f53-3a4d-4a84-9973-d40aa11ab797"
      },
      "source": [
        "input_car = await canopy.load_default_config(\n",
        "    session,\n",
        "    'car',\n",
        "    'Canopy F1 Car 2019')\n",
        "\n",
        "x_mm = np.array([0, 2, 4, 6, 8, 10, 11])\n",
        "f_N = [0, 10, 30, 100, 800, 3200, 7000]\n",
        "\n",
        "bump_stop = canopy.dict_to_object({\n",
        "    'name': 'Bump-stop LU',\n",
        "    'xData': session.units.convert_array_to_si(x_mm, 'mm'),\n",
        "    'FData': f_N,\n",
        "    'xFreeGap': session.units.convert_value_to_si(5, 'mm'),\n",
        "    'freeGapReferenceCondition': 'Setup'})\n",
        "\n",
        "input_car.data.suspension.front.internal.bumpStop = bump_stop\n",
        "\n",
        "bump_stop"
      ],
      "execution_count": 4,
      "outputs": [
        {
          "output_type": "execute_result",
          "data": {
            "text/plain": [
              "Munch({'name': 'Bump-stop LU', 'xData': array([0.   , 0.002, 0.004, 0.006, 0.008, 0.01 , 0.011]), 'FData': [0, 10, 30, 100, 800, 3200, 7000], 'xFreeGap': 0.005, 'freeGapReferenceCondition': 'Setup'})"
            ]
          },
          "metadata": {
            "tags": []
          },
          "execution_count": 4
        }
      ]
    },
    {
      "cell_type": "markdown",
      "metadata": {
        "id": "YGsGnzds0tUR"
      },
      "source": [
        "# Example: Convert bump-stop from lookup to parametric"
      ]
    },
    {
      "cell_type": "markdown",
      "metadata": {
        "id": "qup985WgND-V"
      },
      "source": [
        "First we use the [curve_fit](https://docs.scipy.org/doc/scipy/reference/generated/scipy.optimize.curve_fit.html) function from the SciPy library to find some appropriate parameters."
      ]
    },
    {
      "cell_type": "code",
      "metadata": {
        "id": "OmZkAE3pFoKJ",
        "colab": {
          "base_uri": "https://localhost:8080/"
        },
        "outputId": "7a903921-c651-4010-f7bd-52a73095aa09"
      },
      "source": [
        "bump_stop = input_car.data.suspension.front.internal.bumpStop\n",
        "\n",
        "x_m = np.array(bump_stop.xData)\n",
        "f_N = np.array(bump_stop.FData).astype(float)\n",
        "\n",
        "def func(x, pLinear, pExponential, pExponentialScaling):\n",
        "    return pLinear * x + pExponentialScaling * np.exp(pExponential * x)\n",
        "\n",
        "popt, pcov = curve_fit(func, x_m, f_N)\n",
        "pLinear, pExponential, pExponentialScaling = popt\n",
        "popt"
      ],
      "execution_count": 5,
      "outputs": [
        {
          "output_type": "execute_result",
          "data": {
            "text/plain": [
              "array([2.76108942e+03, 7.71831455e+02, 1.42961520e+00])"
            ]
          },
          "metadata": {
            "tags": []
          },
          "execution_count": 5
        }
      ]
    },
    {
      "cell_type": "markdown",
      "metadata": {
        "id": "7sKJJURKN3Ud"
      },
      "source": [
        "We can visually check the fit by running the parameters back through our function and plotting the results against the original lookup."
      ]
    },
    {
      "cell_type": "code",
      "metadata": {
        "id": "cUDI6Uf4M0QD",
        "colab": {
          "base_uri": "https://localhost:8080/",
          "height": 265
        },
        "outputId": "23b8ea1e-70e2-4e1d-ae8e-e8ed3d0881ec"
      },
      "source": [
        "x_linspace = np.linspace(min(x_m), max(x_m), 50)\n",
        "f_linspace = func(x_linspace, pLinear, pExponential, pExponentialScaling)\n",
        "\n",
        "plt.figure()\n",
        "plt.plot(x_m, f_N, 'ko', label=\"Original\")\n",
        "plt.plot(x_linspace, f_linspace, 'r-', label=\"Fitted Curve\")\n",
        "plt.legend()\n",
        "plt.show()"
      ],
      "execution_count": 6,
      "outputs": [
        {
          "output_type": "display_data",
          "data": {
            "image/png": "[encoded data removed]",
            "text/plain": [
              "<Figure size 432x288 with 1 Axes>"
            ]
          },
          "metadata": {
            "tags": [],
            "needs_background": "light"
          }
        }
      ]
    },
    {
      "cell_type": "markdown",
      "metadata": {
        "id": "Sb33etZIOvMQ"
      },
      "source": [
        "The fit looks good, so we can create a new bump stop..."
      ]
    },
    {
      "cell_type": "code",
      "metadata": {
        "id": "v02zU10NOXos",
        "colab": {
          "base_uri": "https://localhost:8080/"
        },
        "outputId": "4abc8c33-cc57-4cce-9c2e-cbd753429889"
      },
      "source": [
        "new_bump_stop = {\n",
        "    'name': 'Parametric bump-stop',\n",
        "    'pLinear': pLinear,\n",
        "    'pExponential': pExponential,\n",
        "    'pExponentialScaling': pExponentialScaling,\n",
        "    'freeGapReferenceCondition': bump_stop.freeGapReferenceCondition,\n",
        "    'xFreeGap': bump_stop.xFreeGap,\n",
        "}\n",
        "\n",
        "new_bump_stop"
      ],
      "execution_count": 7,
      "outputs": [
        {
          "output_type": "execute_result",
          "data": {
            "text/plain": [
              "{'name': 'Parametric bump-stop',\n",
              " 'pLinear': 2761.0894198218516,\n",
              " 'pExponential': 771.8314554938751,\n",
              " 'pExponentialScaling': 1.429615203397796,\n",
              " 'freeGapReferenceCondition': 'Setup',\n",
              " 'xFreeGap': 0.005}"
            ]
          },
          "metadata": {
            "tags": []
          },
          "execution_count": 7
        }
      ]
    },
    {
      "cell_type": "markdown",
      "metadata": {
        "id": "qw0oxODE00c9"
      },
      "source": [
        "... then replace the bump stop on the car and save a new car back to the platform."
      ]
    },
    {
      "cell_type": "code",
      "metadata": {
        "id": "gPbZ36gAO9QF"
      },
      "source": [
        "input_car.data.suspension.front.internal.bumpStop = new_bump_stop\n",
        "\n",
        "new_config_id = await canopy.create_config(\n",
        "    session,\n",
        "    'car',\n",
        "    input_car.name + ' Parametric Fit Example',\n",
        "    input_car.data,\n",
        "    input_car.properties,\n",
        "    input_car.notes)\n",
        "    \n",
        "new_config_id"
      ],
      "execution_count": 8,
      "outputs": []
    }
  ]
}