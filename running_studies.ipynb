{
  "nbformat": 4,
  "nbformat_minor": 0,
  "metadata": {
    "colab": {
      "name": "running_studies.ipynb",
      "provenance": [],
      "include_colab_link": true
    },
    "kernelspec": {
      "name": "python3",
      "display_name": "Python 3"
    }
  },
  "cells": [
    {
      "cell_type": "markdown",
      "metadata": {
        "id": "view-in-github",
        "colab_type": "text"
      },
      "source": [
        "<a href=\"https://colab.research.google.com/github/CanopySimulations/canopy-python-examples/blob/master/running_studies.ipynb\" target=\"_parent\"><img src=\"https://colab.research.google.com/assets/colab-badge.svg\" alt=\"Open In Colab\"/></a>"
      ]
    },
    {
      "cell_type": "markdown",
      "metadata": {
        "id": "NtIv7oIVvn5i"
      },
      "source": [
        "# Upgrade Runtime\n",
        "This cell ensures the runtime supports `asyncio` async/await, and is needed on Google Colab. If the runtime is upgraded, you will be prompted to restart it, which you should do before continuing execution."
      ]
    },
    {
      "cell_type": "code",
      "metadata": {
        "id": "E-AnefvPvmtR"
      },
      "source": [
        "!pip install \"ipython>=7\""
      ],
      "execution_count": null,
      "outputs": []
    },
    {
      "cell_type": "markdown",
      "metadata": {
        "id": "_61Bg2_KwIR2"
      },
      "source": [
        "# Set Up Environment"
      ]
    },
    {
      "cell_type": "markdown",
      "metadata": {
        "id": "zX-xTWzWG1bt"
      },
      "source": [
        "### Import required libraries"
      ]
    },
    {
      "cell_type": "code",
      "metadata": {
        "id": "gNnEvtkmwL0W"
      },
      "source": [
        "!pip install -q canopy"
      ],
      "execution_count": null,
      "outputs": []
    },
    {
      "cell_type": "code",
      "metadata": {
        "id": "0bBsqDyhwN_8"
      },
      "source": [
        "import canopy\n",
        "import logging\n",
        "import nest_asyncio\n",
        "\n",
        "logging.basicConfig(level=logging.INFO)\n",
        "nest_asyncio.apply()"
      ],
      "execution_count": null,
      "outputs": []
    },
    {
      "cell_type": "markdown",
      "metadata": {
        "id": "nH5-pXaZw5jg"
      },
      "source": [
        "### Authenticate"
      ]
    },
    {
      "cell_type": "code",
      "metadata": {
        "id": "SAnwvDofwhw1"
      },
      "source": [
        "authentication_data = canopy.prompt_for_authentication()\n",
        "session = canopy.Session(authentication_data)"
      ],
      "execution_count": null,
      "outputs": []
    },
    {
      "cell_type": "markdown",
      "metadata": {
        "id": "VSDal4PawY8-"
      },
      "source": [
        "# Set Up Example"
      ]
    },
    {
      "cell_type": "markdown",
      "metadata": {
        "id": "iGTE-4Eb4tlj"
      },
      "source": [
        "Create the input configs for our study:"
      ]
    },
    {
      "cell_type": "code",
      "metadata": {
        "id": "30WL9uC74xPW"
      },
      "source": [
        "# Load a default car and save it as a user config.\n",
        "default_car = await canopy.load_default_config(\n",
        "    session, 'car', 'Canopy F1 Car 2019')\n",
        "\n",
        "user_car_id = await canopy.create_config(\n",
        "    session,\n",
        "    'car',\n",
        "    'Running Studies Example Car',\n",
        "    default_car.raw_data)\n",
        "\n",
        "# Load a default weather and save it as a user config.\n",
        "default_weather = await canopy.load_default_config(\n",
        "    session, 'weather', '25 deg, dry')\n",
        "\n",
        "user_weather_id = await canopy.create_config(\n",
        "    session,\n",
        "    'weather',\n",
        "    'Running Studies Example Weather',\n",
        "    default_weather.raw_data)\n",
        "\n",
        "# Load the user weather config.    \n",
        "user_weather = await canopy.load_config(session, user_weather_id)\n",
        "\n",
        "# Load a default exploration and reduce its size for this example.\n",
        "default_exploration = await canopy.load_default_config(\n",
        "    session, 'exploration', 'Automated Test Monte Carlo')\n",
        "default_exploration.data.design.numberOfPoints = 3"
      ],
      "execution_count": null,
      "outputs": []
    },
    {
      "cell_type": "markdown",
      "metadata": {
        "id": "M5jC3nIj7xry"
      },
      "source": [
        "> **Tip: `data` vs `raw_data`**\n",
        ">\n",
        "> We could use either the `default_car.raw_data` property or the `default_car.data` property when creating the user config above. \n",
        "> \n",
        "> On first access, the `data` property will convert the nested dictionaries (`car['a']['b']`) into a structure which we can manipulate more easily (`car.a.b`). \n",
        "> \n",
        "> While convenient, this conversion does have some overhead, particularly on large configs such as tracks. As we are not manipulating the data here it is good practice to skip the conversion by using the `raw_data` property instead. \n",
        "> \n",
        "> The `raw_data` property will return either:\n",
        " - The same structure as `data` if the conversion has already been done.\n",
        " - The original nested dictionaries if the conversion hasn't already been done.\n",
        "\n",
        "\n"
      ]
    },
    {
      "cell_type": "markdown",
      "metadata": {
        "id": "FAFirfukWLfF"
      },
      "source": [
        "# Example: Running Studies"
      ]
    },
    {
      "cell_type": "markdown",
      "metadata": {
        "id": "iKrFspDG_g3k"
      },
      "source": [
        "The `create_study` function takes a list of configs to use as inputs to the study. Each config can be either:\n",
        " - A string config ID.\n",
        " - A `ConfigResult` class, as returned by functions such as `load_config`.\n",
        " - A `LocalConfig` class, as returned by functions such as `load_default_config`.\n",
        "\n",
        "The code below demonstrates passing one config of each type:"
      ]
    },
    {
      "cell_type": "code",
      "metadata": {
        "id": "6_KC3h2I7WDc",
        "colab": {
          "base_uri": "https://localhost:8080/",
          "height": 52
        },
        "outputId": "4613ea49-9fdc-4458-d20d-5c916016de86"
      },
      "source": [
        "study_id = await canopy.create_study(\n",
        "    session,\n",
        "    'apexSim',\n",
        "    'Running Studies Example Study',\n",
        "    [\n",
        "        user_car_id, # String\n",
        "        user_weather, # ConfigResult class\n",
        "        default_exploration, # LocalConfig class\n",
        "    ])\n",
        "    \n",
        "study_id"
      ],
      "execution_count": null,
      "outputs": [
        {
          "output_type": "stream",
          "text": [
            "INFO:canopy.create_study:Loaded input config car\n"
          ],
          "name": "stderr"
        },
        {
          "output_type": "execute_result",
          "data": {
            "text/plain": [
              "'39b23f0e8d2c4fd89e4dfc23aaf39ff9'"
            ]
          },
          "metadata": {
            "tags": []
          },
          "execution_count": 5
        }
      ]
    },
    {
      "cell_type": "markdown",
      "metadata": {
        "id": "kCP8sOeq9Csw"
      },
      "source": [
        "> **Tip: Study Types and Sim Types**\n",
        ">\n",
        "> A study contains one or more jobs, and each job contains one or more simulations.\n",
        "For example a Dynamic Lap study will contain a Dynamic Lap, a Straight Sim and Apex Sim simulation in each job.\n",
        "> \n",
        "> When dealing with the Canopy API study types are `camelCase` and sim types are `PascalCase`.\n",
        ">\n",
        "> Therefore a `dynamicLap` study will contain `DynamicLap`, `StraightSim` and `ApexSim` simulations.\n",
        ">\n",
        "> Above we are running an `apexSim` study which will contain `ApexSim` and `StraightSim` simulations.\n",
        ">\n",
        "> The Python library will tend to ignore case in the helper functions we've written and interpret the string based on the context, however when dealing with the generated Swagger client code directly you will need to use the correct case so it is good practice to always try and do this.\n"
      ]
    },
    {
      "cell_type": "markdown",
      "metadata": {
        "id": "lxGrwFEn3Pcl"
      },
      "source": [
        "We can use the `wait_for_study` helper function to wait until the study has finished running, which is particularly useful if we want to access the results in our notebook."
      ]
    },
    {
      "cell_type": "code",
      "metadata": {
        "id": "1YZIIJ0j-bam",
        "colab": {
          "base_uri": "https://localhost:8080/",
          "height": 52
        },
        "outputId": "b375ae90-2986-46b5-98d5-484f1758c26e"
      },
      "source": [
        "wait_result = await canopy.wait_for_study(\n",
        "    session,\n",
        "    study_id,\n",
        "    timeout_seconds=300)\n",
        "    \n",
        "logging.info('Sim Version: {}'.format(wait_result.document.sim_version))    \n",
        "logging.info('Succeded Simulations: {}/{}'.format(\n",
        "    wait_result.succeeded_simulation_count, \n",
        "    wait_result.simulation_count))"
      ],
      "execution_count": null,
      "outputs": [
        {
          "output_type": "stream",
          "text": [
            "INFO:root:Sim Version: 1.3371\n",
            "INFO:root:Succeded Simulations: 3/3\n"
          ],
          "name": "stderr"
        }
      ]
    },
    {
      "cell_type": "markdown",
      "metadata": {
        "id": "fe5lgwzM3In5"
      },
      "source": [
        "### Additional Study Data\n",
        "You can also pass in custom properties and notes when creating the study. Our library will merge the custom properties and notes from all the input configs into the final study, just like the Canopy portal does."
      ]
    },
    {
      "cell_type": "code",
      "metadata": {
        "id": "fNPAGPHi3l5R",
        "colab": {
          "base_uri": "https://localhost:8080/",
          "height": 87
        },
        "outputId": "6d364715-70a1-43df-e1ca-b0ad90df7ecb"
      },
      "source": [
        "user_weather.document.properties = {\n",
        "    'location': 'london'\n",
        "}\n",
        "user_weather.document.notes = 'London was unusually hot.'\n",
        "\n",
        "logging.info('Submitting study...')\n",
        "\n",
        "study_id = await canopy.create_study(\n",
        "    session,\n",
        "    'apexSim',\n",
        "    'Running Studies Example Study',\n",
        "    [\n",
        "        user_car_id,\n",
        "        user_weather,\n",
        "    ],\n",
        "    properties={\n",
        "        'foo': 'bar'\n",
        "    },\n",
        "    notes='Some notes about the study.')\n",
        "\n",
        "logging.info('Waiting for study...')\n",
        "\n",
        "wait_result = await canopy.wait_for_study(\n",
        "    session,\n",
        "    study_id,\n",
        "    timeout_seconds=300)\n",
        "\n",
        "logging.info('Done.')"
      ],
      "execution_count": null,
      "outputs": [
        {
          "output_type": "stream",
          "text": [
            "INFO:root:Submitting study...\n",
            "INFO:canopy.create_study:Loaded input config car\n",
            "INFO:root:Waiting for study...\n",
            "INFO:root:Done.\n"
          ],
          "name": "stderr"
        }
      ]
    },
    {
      "cell_type": "markdown",
      "metadata": {
        "id": "wSSvoV9t-gjd"
      },
      "source": [
        "Looking at the study custom properties we see the weather custom properties have been merged in, in the same way as if you had run the study on the Canopy Portal."
      ]
    },
    {
      "cell_type": "code",
      "metadata": {
        "id": "fTx34Sou4_MN",
        "colab": {
          "base_uri": "https://localhost:8080/",
          "height": 35
        },
        "outputId": "ae53a24b-c157-401b-ebcb-5492afa01567"
      },
      "source": [
        "wait_result.document.properties"
      ],
      "execution_count": null,
      "outputs": [
        {
          "output_type": "execute_result",
          "data": {
            "text/plain": [
              "{'foo': 'bar', 'weather.location': 'london'}"
            ]
          },
          "metadata": {
            "tags": []
          },
          "execution_count": 9
        }
      ]
    },
    {
      "cell_type": "markdown",
      "metadata": {
        "id": "Mfoci2mi-H-e"
      },
      "source": [
        "The same is true of the study notes. However the `wait_result` only contains the study metadata, so we first need to load the full study document to see the notes.\n",
        "\n",
        "Once we do this we see that the weather notes have been merged with the study notes, again using the same convention as if you ran the study though the Canopy Portal."
      ]
    },
    {
      "cell_type": "code",
      "metadata": {
        "id": "EeiI0nzm5A5P",
        "colab": {
          "base_uri": "https://localhost:8080/",
          "height": 87
        },
        "outputId": "e69e2dbf-25c1-4886-c62a-9ab878a5ecdd"
      },
      "source": [
        "study = await canopy.load_study(\n",
        "    session,\n",
        "    study_id,\n",
        "    include_study_full_document=True)\n",
        "\n",
        "print(study.document.notes)"
      ],
      "execution_count": null,
      "outputs": [
        {
          "output_type": "stream",
          "text": [
            "Some notes about the study.\n",
            "\n",
            "weather:\n",
            "London was unusually hot.\n"
          ],
          "name": "stdout"
        }
      ]
    },
    {
      "cell_type": "markdown",
      "metadata": {
        "id": "ogFXXaw9_tlU"
      },
      "source": [
        "Because the Python library has merged the notes and custom properties using this standard convention, if you were now to use the Canopy Portal to stage the weather config from the study page, it will successfully extract the weather notes and custom properties and put them in the staged config."
      ]
    },
    {
      "cell_type": "markdown",
      "metadata": {
        "id": "TdsYwg6FYJ04"
      },
      "source": [
        "## Getting a Study ID from the Canopy Portal\n",
        "\n",
        "If you want to load an existing study by ID, you can find its ID by opening it in the Canopy Portal (the web UI to the platform).\n",
        "\n",
        "The URL for a studies is of the form `/studies/<tenantId>/<studyId>`. You can therefore simply copy the Study ID from the URL and paste it into your Python code.\n",
        "\n",
        "Similarly for studies the URL is of the form `/configs/<configType>/<tenantId>/<configId>/edit`.\n",
        "\n",
        "Failing that, you can load the config by name or other metadata, which we'll do next.\n"
      ]
    },
    {
      "cell_type": "markdown",
      "metadata": {
        "id": "3k0hNWnxX6sT"
      },
      "source": [
        "## Loading a study by name / metadata"
      ]
    },
    {
      "cell_type": "markdown",
      "metadata": {
        "id": "AvXM5se4N43c"
      },
      "source": [
        "Sometimes it is more convenient to load a study by name:"
      ]
    },
    {
      "cell_type": "code",
      "metadata": {
        "id": "43MBs_YaPCVO",
        "colab": {
          "base_uri": "https://localhost:8080/",
          "height": 35
        },
        "outputId": "f06bcd16-5c65-4f9f-acf8-d6ce6ad8bf7c"
      },
      "source": [
        "study_by_name = await canopy.find_study(\n",
        "    session, \n",
        "    name='Running Studies Example Study')\n",
        "\n",
        "print(study_by_name.study_id)"
      ],
      "execution_count": null,
      "outputs": [
        {
          "output_type": "stream",
          "text": [
            "a4aeb9ade1134a3c98a1e7dcb8e4fb77\n"
          ],
          "name": "stdout"
        }
      ]
    },
    {
      "cell_type": "markdown",
      "metadata": {
        "id": "EK1DgQPYQ8Pz"
      },
      "source": [
        "We can also search by other metadata, such as custom properties:"
      ]
    },
    {
      "cell_type": "code",
      "metadata": {
        "id": "GmK5VvrvRAJO",
        "colab": {
          "base_uri": "https://localhost:8080/",
          "height": 35
        },
        "outputId": "6a67cc94-daae-471b-e7e1-883698ecdc37"
      },
      "source": [
        "study_by_property = await canopy.find_study(\n",
        "    session,\n",
        "    custom_properties={ 'weather.location': 'london' })\n",
        "\n",
        "print(study_by_property.study_id)"
      ],
      "execution_count": null,
      "outputs": [
        {
          "output_type": "stream",
          "text": [
            "a4aeb9ade1134a3c98a1e7dcb8e4fb77\n"
          ],
          "name": "stdout"
        }
      ]
    },
    {
      "cell_type": "markdown",
      "metadata": {
        "id": "qr1K6atUY7It"
      },
      "source": [
        "If multiple studies match the search criteria, it will return the study which was most recently run.\n",
        "\n",
        "The object returned from `find_study` is a very minimal set of study metadata. However you can now take the `study_id` property and pass it into `load_study` or `load_study_job` to get the precise data you require."
      ]
    }
  ]
}