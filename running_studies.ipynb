{
  "nbformat": 4,
  "nbformat_minor": 0,
  "metadata": {
    "colab": {
      "name": "running_studies.ipynb",
      "provenance": [],
      "authorship_tag": "ABX9TyPQLY+RdOlecshnsqFZRbq1",
      "include_colab_link": true
    },
    "kernelspec": {
      "name": "python3",
      "display_name": "Python 3"
    }
  },
  "cells": [
    {
      "cell_type": "markdown",
      "metadata": {
        "id": "view-in-github",
        "colab_type": "text"
      },
      "source": [
        "<a href=\"https://colab.research.google.com/github/CanopySimulations/canopy-python-examples/blob/master/running_studies.ipynb\" target=\"_parent\"><img src=\"https://colab.research.google.com/assets/colab-badge.svg\" alt=\"Open In Colab\"/></a>"
      ]
    },
    {
      "cell_type": "markdown",
      "metadata": {
        "id": "NtIv7oIVvn5i",
        "colab_type": "text"
      },
      "source": [
        "# Upgrade Runtime\n",
        "This cell ensures the runtime supports `asyncio` async/await, and is needed on Google Colab. If the runtime is upgraded, you will be prompted to restart it, which you should do before continuing execution."
      ]
    },
    {
      "cell_type": "code",
      "metadata": {
        "id": "E-AnefvPvmtR",
        "colab_type": "code",
        "colab": {}
      },
      "source": [
        "!pip install \"ipython>=7\""
      ],
      "execution_count": 0,
      "outputs": []
    },
    {
      "cell_type": "markdown",
      "metadata": {
        "id": "_61Bg2_KwIR2",
        "colab_type": "text"
      },
      "source": [
        "# Set Up Environment"
      ]
    },
    {
      "cell_type": "markdown",
      "metadata": {
        "id": "zX-xTWzWG1bt",
        "colab_type": "text"
      },
      "source": [
        "### Import required libraries"
      ]
    },
    {
      "cell_type": "code",
      "metadata": {
        "id": "gNnEvtkmwL0W",
        "colab_type": "code",
        "colab": {}
      },
      "source": [
        "!pip install -q 'canopy==6.2'"
      ],
      "execution_count": 0,
      "outputs": []
    },
    {
      "cell_type": "code",
      "metadata": {
        "id": "0bBsqDyhwN_8",
        "colab_type": "code",
        "colab": {}
      },
      "source": [
        "import canopy\n",
        "import logging\n",
        "\n",
        "logging.basicConfig(level=logging.INFO)"
      ],
      "execution_count": 0,
      "outputs": []
    },
    {
      "cell_type": "markdown",
      "metadata": {
        "id": "nH5-pXaZw5jg",
        "colab_type": "text"
      },
      "source": [
        "### Authenticate"
      ]
    },
    {
      "cell_type": "code",
      "metadata": {
        "id": "SAnwvDofwhw1",
        "colab_type": "code",
        "colab": {}
      },
      "source": [
        "authentication_data = canopy.prompt_for_authentication()\n",
        "\n",
        "def create_session():\n",
        "    return canopy.Session(authentication_data)"
      ],
      "execution_count": 0,
      "outputs": []
    },
    {
      "cell_type": "markdown",
      "metadata": {
        "id": "VSDal4PawY8-",
        "colab_type": "text"
      },
      "source": [
        "# Set Up Example"
      ]
    },
    {
      "cell_type": "markdown",
      "metadata": {
        "id": "iGTE-4Eb4tlj",
        "colab_type": "text"
      },
      "source": [
        "Create the input configs for our study:"
      ]
    },
    {
      "cell_type": "code",
      "metadata": {
        "id": "30WL9uC74xPW",
        "colab_type": "code",
        "colab": {}
      },
      "source": [
        "async with create_session() as session:\n",
        "    # Load a default car and save it as a user config.\n",
        "    default_car = await canopy.load_default_config(\n",
        "        session, 'car', 'Canopy F1 Car 2019')\n",
        "    \n",
        "    user_car_id = await canopy.create_config(\n",
        "        session,\n",
        "        'car',\n",
        "        'Running Studies Example Car',\n",
        "        default_car.raw_data)\n",
        "    \n",
        "    # Load a default weather and save it as a user config.\n",
        "    default_weather = await canopy.load_default_config(\n",
        "        session, 'weather', '25 deg, dry')\n",
        "    \n",
        "    user_weather_id = await canopy.create_config(\n",
        "        session,\n",
        "        'weather',\n",
        "        'Running Studies Example Weather',\n",
        "        default_weather.raw_data)\n",
        "\n",
        "    # Load the user weather config.    \n",
        "    user_weather = await canopy.load_config(session, user_weather_id)\n",
        "    \n",
        "    # Load a default exploration and reduce its size for this example.\n",
        "    default_exploration = await canopy.load_default_config(\n",
        "        session, 'exploration', 'Automated Test Monte Carlo')\n",
        "    default_exploration.data.design.numberOfPoints = 3"
      ],
      "execution_count": 0,
      "outputs": []
    },
    {
      "cell_type": "markdown",
      "metadata": {
        "id": "M5jC3nIj7xry",
        "colab_type": "text"
      },
      "source": [
        "> **Tip: `data` vs `raw_data`**\n",
        ">\n",
        "> We could use either the `default_car.raw_data` property or the `default_car.data` property when creating the user config above. \n",
        "> \n",
        "> On first access, the `data` property will convert the nested dictionaries (`car['a']['b']`) into a structure which we can manipulate more easily (`car.a.b`). \n",
        "> \n",
        "> While convenient, this conversion does have some overhead, particularly on large configs such as tracks. As we are not manipulating the data it is good practice to skip the conversion by using the `raw_data` property instead. \n",
        "> \n",
        "> The `raw_data` property will return either:\n",
        " - The same structure as `data` if the conversion has already been done.\n",
        " - The original raw nested dictionaries if the conversion hasn't already been done.\n",
        "\n",
        "\n"
      ]
    },
    {
      "cell_type": "markdown",
      "metadata": {
        "id": "FAFirfukWLfF",
        "colab_type": "text"
      },
      "source": [
        "# Example: Running Studies"
      ]
    },
    {
      "cell_type": "markdown",
      "metadata": {
        "id": "iKrFspDG_g3k",
        "colab_type": "text"
      },
      "source": [
        "The `create_study` function takes a list of configs to use as inputs to the study. Each config can be either:\n",
        " - A string config ID.\n",
        " - A `ConfigResult` class, as returned by functions such as `load_config`.\n",
        " - A `LocalConfig` class, as returned by functions such as `load_default_config`.\n",
        "\n",
        "The code below demonstrates passing one config of each type:"
      ]
    },
    {
      "cell_type": "code",
      "metadata": {
        "id": "6_KC3h2I7WDc",
        "colab_type": "code",
        "colab": {
          "base_uri": "https://localhost:8080/",
          "height": 52
        },
        "outputId": "60098caf-f22a-4e79-ba70-fa5f5cbc2bcc"
      },
      "source": [
        "async with create_session() as session:\n",
        "    study_id = await canopy.create_study(\n",
        "        session,\n",
        "        'apexSim',\n",
        "        'Running Studies Example Study',\n",
        "        [\n",
        "            user_car_id, # String\n",
        "            user_weather, # ConfigResult class\n",
        "            default_exploration, # LocalConfig class\n",
        "        ])\n",
        "    \n",
        "study_id"
      ],
      "execution_count": 6,
      "outputs": [
        {
          "output_type": "stream",
          "text": [
            "INFO:canopy.create_study:Loaded input config car\n"
          ],
          "name": "stderr"
        },
        {
          "output_type": "execute_result",
          "data": {
            "text/plain": [
              "'ba986c5ce1c945c3a1a97ed8a22c6efc'"
            ]
          },
          "metadata": {
            "tags": []
          },
          "execution_count": 6
        }
      ]
    },
    {
      "cell_type": "markdown",
      "metadata": {
        "id": "kCP8sOeq9Csw",
        "colab_type": "text"
      },
      "source": [
        "> **Tip: Study Types and Sim Types**\n",
        ">\n",
        "> A study contains one or more jobs, and each job contains one or more simulations.\n",
        "For example a Dynamic Lap study will contain a Dynamic Lap, a Straight Sim and Apex Sim simulation in each job.\n",
        "> \n",
        "> When dealing with the Canopy API study types are `camelCase` and sim types are `PascalCase`.\n",
        ">\n",
        "> Therefore a `dynamicLap` study will contain `DynamicLap`, `StraightSim` and `ApexSim` simulations.\n",
        ">\n",
        "> Above we are running an `apexSim` study which will contain `ApexSim` and `StraightSim` simulations.\n",
        ">\n",
        "> The Python library will tend to ignore case in the helper functions we've written and interpret the string based on the context, however when dealing with the generated Swagger client code directly you will need to use the correct case so it is good practice to always try and do this.\n"
      ]
    },
    {
      "cell_type": "code",
      "metadata": {
        "id": "1YZIIJ0j-bam",
        "colab_type": "code",
        "colab": {
          "base_uri": "https://localhost:8080/",
          "height": 52
        },
        "outputId": "dbdd8e51-584d-4002-c7a6-8d6230ce5e37"
      },
      "source": [
        "async with create_session() as session:\n",
        "    # If we want to access the study results then we can \n",
        "    # wait for the study to complete.\n",
        "    wait_result = await canopy.wait_for_study(\n",
        "        session,\n",
        "        study_id,\n",
        "        timeout_seconds=300)\n",
        "    \n",
        "logging.info('Sim Version: {}'.format(wait_result.document.sim_version))    \n",
        "logging.info('Succeded Job Count: {}/{}'.format(\n",
        "    wait_result.data.succeeded_job_count, \n",
        "    wait_result.data.job_count))"
      ],
      "execution_count": 9,
      "outputs": [
        {
          "output_type": "stream",
          "text": [
            "INFO:root:Sim Version: 1.3037\n",
            "INFO:root:Succeded Job Count: 4/4\n"
          ],
          "name": "stderr"
        }
      ]
    }
  ]
}