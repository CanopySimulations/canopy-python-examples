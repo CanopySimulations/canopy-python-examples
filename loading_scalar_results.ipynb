{
  "nbformat": 4,
  "nbformat_minor": 0,
  "metadata": {
    "colab": {
      "name": "loading_scalar_results.ipynb",
      "provenance": [],
      "include_colab_link": true
    },
    "kernelspec": {
      "name": "python3",
      "display_name": "Python 3"
    }
  },
  "cells": [
    {
      "cell_type": "markdown",
      "metadata": {
        "id": "view-in-github",
        "colab_type": "text"
      },
      "source": [
        "<a href=\"https://colab.research.google.com/github/CanopySimulations/canopy-python-examples/blob/master/loading_scalar_results.ipynb\" target=\"_parent\"><img src=\"https://colab.research.google.com/assets/colab-badge.svg\" alt=\"Open In Colab\"/></a>"
      ]
    },
    {
      "cell_type": "markdown",
      "metadata": {
        "id": "NtIv7oIVvn5i"
      },
      "source": [
        "# Upgrade Runtime\n",
        "This cell ensures the runtime supports `asyncio` async/await, and is needed on Google Colab. If the runtime is upgraded, you will be prompted to restart it, which you should do before continuing execution."
      ]
    },
    {
      "cell_type": "code",
      "metadata": {
        "id": "E-AnefvPvmtR"
      },
      "source": [
        "!pip install \"ipython>=7\""
      ],
      "execution_count": null,
      "outputs": []
    },
    {
      "cell_type": "markdown",
      "metadata": {
        "id": "_61Bg2_KwIR2"
      },
      "source": [
        "# Set Up Environment"
      ]
    },
    {
      "cell_type": "markdown",
      "metadata": {
        "id": "zX-xTWzWG1bt"
      },
      "source": [
        "### Import required libraries"
      ]
    },
    {
      "cell_type": "code",
      "metadata": {
        "id": "gNnEvtkmwL0W"
      },
      "source": [
        "!pip install -q canopy"
      ],
      "execution_count": null,
      "outputs": []
    },
    {
      "cell_type": "code",
      "metadata": {
        "id": "0bBsqDyhwN_8"
      },
      "source": [
        "import canopy\n",
        "import logging\n",
        "import nest_asyncio\n",
        "\n",
        "logging.basicConfig(level=logging.INFO)\n",
        "nest_asyncio.apply()"
      ],
      "execution_count": 1,
      "outputs": []
    },
    {
      "cell_type": "markdown",
      "metadata": {
        "id": "nH5-pXaZw5jg"
      },
      "source": [
        "### Authenticate"
      ]
    },
    {
      "cell_type": "code",
      "metadata": {
        "id": "SAnwvDofwhw1"
      },
      "source": [
        "authentication_data = canopy.prompt_for_authentication()\n",
        "session = canopy.Session(authentication_data)"
      ],
      "execution_count": null,
      "outputs": []
    },
    {
      "cell_type": "markdown",
      "metadata": {
        "id": "VSDal4PawY8-"
      },
      "source": [
        "# Set Up Example"
      ]
    },
    {
      "cell_type": "markdown",
      "metadata": {
        "id": "cc9N0PwfUKEa"
      },
      "source": [
        "Run a quick ApexSim exploration."
      ]
    },
    {
      "cell_type": "code",
      "metadata": {
        "id": "5r6ZPt3bUQJ9",
        "colab": {
          "base_uri": "https://localhost:8080/"
        },
        "outputId": "c204fc2f-29ee-424b-d8b4-ed48f633a0a0"
      },
      "source": [
        "logging.info('Loading configs...')\n",
        "\n",
        "default_car = await canopy.load_default_config(\n",
        "    session, 'car', 'Canopy F1 Car 2019')\n",
        "\n",
        "default_weather = await canopy.load_default_config(\n",
        "    session, 'weather', '25 deg, dry')\n",
        "\n",
        "default_exploration = await canopy.load_default_config(\n",
        "    session, 'exploration', 'Automated Test Monte Carlo')\n",
        "\n",
        "# We'll run a very small exploration for this example\n",
        "default_exploration.data.design.numberOfPoints = 3\n",
        "\n",
        "logging.info('Creating study...')\n",
        "\n",
        "study_id = await canopy.create_study(\n",
        "    session,\n",
        "    'apexSim',\n",
        "    'Loading Scalar Results Example',\n",
        "    [\n",
        "        default_car,\n",
        "        default_weather,\n",
        "        default_exploration,\n",
        "    ])\n",
        "\n",
        "logging.info('Waiting for study to complete...')\n",
        "\n",
        "wait_result = await canopy.wait_for_study(\n",
        "    session,\n",
        "    study_id,\n",
        "    timeout_seconds=300)\n",
        "    \n",
        "logging.info('Sim Version: {}'.format(wait_result.document.sim_version))    \n",
        "logging.info('Succeded Simulations: {}/{}'.format(\n",
        "    wait_result.succeeded_simulation_count, \n",
        "    wait_result.simulation_count))"
      ],
      "execution_count": 5,
      "outputs": [
        {
          "output_type": "stream",
          "text": [
            "INFO:root:Loading configs...\n",
            "INFO:root:Creating study...\n",
            "INFO:root:Waiting for study to complete...\n",
            "INFO:root:Sim Version: 1.4328\n",
            "INFO:root:Succeded Simulations: 3/3\n"
          ],
          "name": "stderr"
        }
      ]
    },
    {
      "cell_type": "markdown",
      "metadata": {
        "id": "FAFirfukWLfF"
      },
      "source": [
        "# Example: Loading Scalar Results"
      ]
    },
    {
      "cell_type": "markdown",
      "metadata": {
        "id": "BOcIhzzUY32z"
      },
      "source": [
        "## Loading for a single job\n",
        "We can load the scalar results for an individual job using the `load_study_job` helper function with the `include_scalar_results` parameter. Note we are specifically loading the `ApexSim` scalar results here. If we also wanted the `StraightSim` results we can fetch them in a second call."
      ]
    },
    {
      "cell_type": "code",
      "metadata": {
        "id": "vkHGACInWNkr",
        "colab": {
          "base_uri": "https://localhost:8080/"
        },
        "outputId": "7902ab76-33fb-4398-e3ae-9355ac538298"
      },
      "source": [
        "job_0 = await canopy.load_study_job(\n",
        "    session,\n",
        "    study_id,\n",
        "    'ApexSim',\n",
        "    job_index=0,\n",
        "    include_scalar_results=True)\n",
        "    \n",
        "job_0.scalar_data"
      ],
      "execution_count": 6,
      "outputs": [
        {
          "output_type": "stream",
          "text": [
            "INFO:canopy.load_study_job:Loading job index 0\n"
          ],
          "name": "stderr"
        },
        {
          "output_type": "execute_result",
          "data": {
            "text/plain": [
              "{'aPitchBrakingvMax': -0.033005,\n",
              " 'aPitchBrakingvMin': -0.029595999999999997,\n",
              " 'aRockerFLAcceleratingvMin': 0.00562,\n",
              " 'aRockerFLBrakingvMax': -0.051175,\n",
              " 'aRockerRLAcceleratingvMin': -0.027548000000000003,\n",
              " 'aRockerRLBrakingMax': 0.020053,\n",
              " 'aRockerRLBrakingvMax': -0.184327,\n",
              " 'hRideF100': 0.019622,\n",
              " 'hRideF200': 0.007839,\n",
              " 'hRideF300': -0.009325,\n",
              " 'hRideR100': 0.13349,\n",
              " 'hRideR200': 0.11638699999999999,\n",
              " 'hRideR300': 0.092427,\n",
              " 'kRollCar100': 375609.250404,\n",
              " 'kRollCar200': 388761.247836,\n",
              " 'kRollCar300': 394822.044119,\n",
              " 'rAeroBal100': 0.513679,\n",
              " 'rAeroBal200': 0.5107010000000001,\n",
              " 'rAeroBal300': 0.535732,\n",
              " 'rAeroBalvMax': 0.544782,\n",
              " 'rLatBalF100': 0.5937819999999999,\n",
              " 'rLatBalF200': 0.652736,\n",
              " 'rLatBalF300': 0.687365,\n",
              " 'rhoAir': 1.182251,\n",
              " 'zCarBrakingvMax': -0.297297}"
            ]
          },
          "metadata": {
            "tags": []
          },
          "execution_count": 6
        }
      ]
    },
    {
      "cell_type": "markdown",
      "metadata": {
        "id": "M6QjAzHFZhVe"
      },
      "source": [
        "We can request individual scalar results in our desired units using the `scalar_as` function:"
      ]
    },
    {
      "cell_type": "code",
      "metadata": {
        "id": "7yQVhrU3ZmWG",
        "colab": {
          "base_uri": "https://localhost:8080/"
        },
        "outputId": "acf69511-eba2-41bd-930d-7e30d873803c"
      },
      "source": [
        "job_0.scalar_as('hRideF200', 'mm')"
      ],
      "execution_count": 7,
      "outputs": [
        {
          "output_type": "execute_result",
          "data": {
            "text/plain": [
              "7.839"
            ]
          },
          "metadata": {
            "tags": []
          },
          "execution_count": 7
        }
      ]
    },
    {
      "cell_type": "markdown",
      "metadata": {
        "id": "0VPQ8IMuZuZX"
      },
      "source": [
        "You can also use the `scalar_as` function and omit the units, which will then use the units from your preferences saved on the Canopy platform:"
      ]
    },
    {
      "cell_type": "code",
      "metadata": {
        "id": "f3lWWpWtZ0eJ",
        "colab": {
          "base_uri": "https://localhost:8080/"
        },
        "outputId": "2d4879ab-a094-46f1-c4e8-712b6ad78133"
      },
      "source": [
        "job_0.scalar_as('hRideF200')"
      ],
      "execution_count": 8,
      "outputs": [
        {
          "output_type": "execute_result",
          "data": {
            "text/plain": [
              "0.007839"
            ]
          },
          "metadata": {
            "tags": []
          },
          "execution_count": 8
        }
      ]
    },
    {
      "cell_type": "markdown",
      "metadata": {
        "id": "mWWmbVeobKJG"
      },
      "source": [
        "## Loading for an entire study\n",
        "\n",
        "We can load the scalar results for the entire study using the `load_study` helper function with the `include_study_scalar_results` parameter. \n",
        "\n",
        "This loads the aggregated scalar results produced by the post-processing job when the study was run, so it is more efficient than loading the scalar results for each study individually.\n",
        "\n",
        "Note that the aggregated scalar results contain the scalar results for every simulation run in the study (in this case both ApexSim and StraightSim), and so the variable names are of the form `<Name>:<SimType>` to avoid conflicts."
      ]
    },
    {
      "cell_type": "code",
      "metadata": {
        "id": "3MG8an6SbM2U",
        "colab": {
          "base_uri": "https://localhost:8080/"
        },
        "outputId": "78112755-de14-4ebd-8810-4bfa3410cd38"
      },
      "source": [
        "study = await canopy.load_study(\n",
        "    session,\n",
        "    study_id,\n",
        "    include_study_scalar_results=True)"
      ],
      "execution_count": 9,
      "outputs": [
        {
          "output_type": "stream",
          "text": [
            "INFO:numexpr.utils:NumExpr defaulting to 2 threads.\n"
          ],
          "name": "stderr"
        }
      ]
    },
    {
      "cell_type": "code",
      "metadata": {
        "id": "WxZg7YRrcda5",
        "colab": {
          "base_uri": "https://localhost:8080/",
          "height": 446
        },
        "outputId": "2336e5d7-96e2-4c44-ca7e-50b49c9fa423"
      },
      "source": [
        "study.scalar_results.results_metadata"
      ],
      "execution_count": 10,
      "outputs": [
        {
          "output_type": "execute_result",
          "data": {
            "text/html": [
              "<div>\n",
              "<style scoped>\n",
              "    .dataframe tbody tr th:only-of-type {\n",
              "        vertical-align: middle;\n",
              "    }\n",
              "\n",
              "    .dataframe tbody tr th {\n",
              "        vertical-align: top;\n",
              "    }\n",
              "\n",
              "    .dataframe thead th {\n",
              "        text-align: right;\n",
              "    }\n",
              "</style>\n",
              "<table border=\"1\" class=\"dataframe\">\n",
              "  <thead>\n",
              "    <tr style=\"text-align: right;\">\n",
              "      <th></th>\n",
              "      <th>name</th>\n",
              "      <th>units</th>\n",
              "      <th>description</th>\n",
              "      <th>simType</th>\n",
              "    </tr>\n",
              "    <tr>\n",
              "      <th>fullName</th>\n",
              "      <th></th>\n",
              "      <th></th>\n",
              "      <th></th>\n",
              "      <th></th>\n",
              "    </tr>\n",
              "  </thead>\n",
              "  <tbody>\n",
              "    <tr>\n",
              "      <th>aPitchBrakingvMax:ApexSim</th>\n",
              "      <td>aPitchBrakingvMax</td>\n",
              "      <td>rad</td>\n",
              "      <td>aPitch under straight line braking at vMax.</td>\n",
              "      <td>ApexSim</td>\n",
              "    </tr>\n",
              "    <tr>\n",
              "      <th>aPitchBrakingvMin:ApexSim</th>\n",
              "      <td>aPitchBrakingvMin</td>\n",
              "      <td>rad</td>\n",
              "      <td>aPitch under straight line acceleration at vMin.</td>\n",
              "      <td>ApexSim</td>\n",
              "    </tr>\n",
              "    <tr>\n",
              "      <th>aRockerFLAcceleratingvMin:ApexSim</th>\n",
              "      <td>aRockerFLAcceleratingvMin</td>\n",
              "      <td>rad</td>\n",
              "      <td>aRockerFL under straight line acceleration at ...</td>\n",
              "      <td>ApexSim</td>\n",
              "    </tr>\n",
              "    <tr>\n",
              "      <th>aRockerFLBrakingvMax:ApexSim</th>\n",
              "      <td>aRockerFLBrakingvMax</td>\n",
              "      <td>rad</td>\n",
              "      <td>aRockerFL under straight line braking at vMax.</td>\n",
              "      <td>ApexSim</td>\n",
              "    </tr>\n",
              "    <tr>\n",
              "      <th>aRockerRLAcceleratingvMin:ApexSim</th>\n",
              "      <td>aRockerRLAcceleratingvMin</td>\n",
              "      <td>rad</td>\n",
              "      <td>aRockerRL under straight line acceleration at ...</td>\n",
              "      <td>ApexSim</td>\n",
              "    </tr>\n",
              "    <tr>\n",
              "      <th>...</th>\n",
              "      <td>...</td>\n",
              "      <td>...</td>\n",
              "      <td>...</td>\n",
              "      <td>...</td>\n",
              "    </tr>\n",
              "    <tr>\n",
              "      <th>vCarMaxElectricDRS:StraightSim</th>\n",
              "      <td>vCarMaxElectricDRS</td>\n",
              "      <td>m/s</td>\n",
              "      <td>Maximum vCar achievable on a flat track at wid...</td>\n",
              "      <td>StraightSim</td>\n",
              "    </tr>\n",
              "    <tr>\n",
              "      <th>zCarMax:StraightSim</th>\n",
              "      <td>zCarMax</td>\n",
              "      <td>m</td>\n",
              "      <td>Maximum zCar achieved during this simulation.</td>\n",
              "      <td>StraightSim</td>\n",
              "    </tr>\n",
              "    <tr>\n",
              "      <th>zCarMin:StraightSim</th>\n",
              "      <td>zCarMin</td>\n",
              "      <td>m</td>\n",
              "      <td>Minimum zCar achieved during this simulation.</td>\n",
              "      <td>StraightSim</td>\n",
              "    </tr>\n",
              "    <tr>\n",
              "      <th>zHubOffsetF:StraightSim</th>\n",
              "      <td>zHubOffsetF</td>\n",
              "      <td>m</td>\n",
              "      <td>Amount of front hub height offset to achieve s...</td>\n",
              "      <td>StraightSim</td>\n",
              "    </tr>\n",
              "    <tr>\n",
              "      <th>zHubOffsetR:StraightSim</th>\n",
              "      <td>zHubOffsetR</td>\n",
              "      <td>m</td>\n",
              "      <td>Amount of rear hub height offset to achieve se...</td>\n",
              "      <td>StraightSim</td>\n",
              "    </tr>\n",
              "  </tbody>\n",
              "</table>\n",
              "<p>98 rows × 4 columns</p>\n",
              "</div>"
            ],
            "text/plain": [
              "                                                        name  ...      simType\n",
              "fullName                                                      ...             \n",
              "aPitchBrakingvMax:ApexSim                  aPitchBrakingvMax  ...      ApexSim\n",
              "aPitchBrakingvMin:ApexSim                  aPitchBrakingvMin  ...      ApexSim\n",
              "aRockerFLAcceleratingvMin:ApexSim  aRockerFLAcceleratingvMin  ...      ApexSim\n",
              "aRockerFLBrakingvMax:ApexSim            aRockerFLBrakingvMax  ...      ApexSim\n",
              "aRockerRLAcceleratingvMin:ApexSim  aRockerRLAcceleratingvMin  ...      ApexSim\n",
              "...                                                      ...  ...          ...\n",
              "vCarMaxElectricDRS:StraightSim            vCarMaxElectricDRS  ...  StraightSim\n",
              "zCarMax:StraightSim                                  zCarMax  ...  StraightSim\n",
              "zCarMin:StraightSim                                  zCarMin  ...  StraightSim\n",
              "zHubOffsetF:StraightSim                          zHubOffsetF  ...  StraightSim\n",
              "zHubOffsetR:StraightSim                          zHubOffsetR  ...  StraightSim\n",
              "\n",
              "[98 rows x 4 columns]"
            ]
          },
          "metadata": {
            "tags": []
          },
          "execution_count": 10
        }
      ]
    },
    {
      "cell_type": "code",
      "metadata": {
        "id": "pMtWKOwJckKm",
        "colab": {
          "base_uri": "https://localhost:8080/",
          "height": 190
        },
        "outputId": "a1d4e737-f217-4462-d8b0-254a5966b208"
      },
      "source": [
        "study.scalar_results.results"
      ],
      "execution_count": 11,
      "outputs": [
        {
          "output_type": "execute_result",
          "data": {
            "text/html": [
              "<div>\n",
              "<style scoped>\n",
              "    .dataframe tbody tr th:only-of-type {\n",
              "        vertical-align: middle;\n",
              "    }\n",
              "\n",
              "    .dataframe tbody tr th {\n",
              "        vertical-align: top;\n",
              "    }\n",
              "\n",
              "    .dataframe thead th {\n",
              "        text-align: right;\n",
              "    }\n",
              "</style>\n",
              "<table border=\"1\" class=\"dataframe\">\n",
              "  <thead>\n",
              "    <tr style=\"text-align: right;\">\n",
              "      <th></th>\n",
              "      <th>jobIndex</th>\n",
              "      <th>aPitchBrakingvMax:ApexSim</th>\n",
              "      <th>aPitchBrakingvMin:ApexSim</th>\n",
              "      <th>aRockerFLAcceleratingvMin:ApexSim</th>\n",
              "      <th>aRockerFLBrakingvMax:ApexSim</th>\n",
              "      <th>aRockerRLAcceleratingvMin:ApexSim</th>\n",
              "      <th>aRockerRLBrakingMax:ApexSim</th>\n",
              "      <th>aRockerRLBrakingvMax:ApexSim</th>\n",
              "      <th>hRideF100:ApexSim</th>\n",
              "      <th>hRideF200:ApexSim</th>\n",
              "      <th>hRideF300:ApexSim</th>\n",
              "      <th>hRideR100:ApexSim</th>\n",
              "      <th>hRideR200:ApexSim</th>\n",
              "      <th>hRideR300:ApexSim</th>\n",
              "      <th>kRollCar100:ApexSim</th>\n",
              "      <th>kRollCar200:ApexSim</th>\n",
              "      <th>kRollCar300:ApexSim</th>\n",
              "      <th>rAeroBal100:ApexSim</th>\n",
              "      <th>rAeroBal200:ApexSim</th>\n",
              "      <th>rAeroBal300:ApexSim</th>\n",
              "      <th>rAeroBalvMax:ApexSim</th>\n",
              "      <th>rLatBalF100:ApexSim</th>\n",
              "      <th>rLatBalF200:ApexSim</th>\n",
              "      <th>rLatBalF300:ApexSim</th>\n",
              "      <th>rhoAir:ApexSim</th>\n",
              "      <th>zCarBrakingvMax:ApexSim</th>\n",
              "      <th>tApexSim:Debug</th>\n",
              "      <th>tApexSimScalarResults:Debug</th>\n",
              "      <th>tApexSimVectorResults:Debug</th>\n",
              "      <th>tComponentSweepsVectorResults:Debug</th>\n",
              "      <th>tStraightSim:Debug</th>\n",
              "      <th>tStraightSimScalarResults:Debug</th>\n",
              "      <th>tStraightSimVectorResults:Debug</th>\n",
              "      <th>aCamberTyreF100:StraightSim</th>\n",
              "      <th>aCamberTyreF200:StraightSim</th>\n",
              "      <th>aCamberTyreF300:StraightSim</th>\n",
              "      <th>aCamberTyreFvMax:StraightSim</th>\n",
              "      <th>aCamberTyreR100:StraightSim</th>\n",
              "      <th>aCamberTyreR200:StraightSim</th>\n",
              "      <th>aCamberTyreR300:StraightSim</th>\n",
              "      <th>...</th>\n",
              "      <th>hRideUndertrayFrontvMax:StraightSim</th>\n",
              "      <th>hRideUndertrayMid100:StraightSim</th>\n",
              "      <th>hRideUndertrayMid200:StraightSim</th>\n",
              "      <th>hRideUndertrayMid300:StraightSim</th>\n",
              "      <th>hRideUndertrayMidvMax:StraightSim</th>\n",
              "      <th>hRideUndertrayRear100:StraightSim</th>\n",
              "      <th>hRideUndertrayRear200:StraightSim</th>\n",
              "      <th>hRideUndertrayRear300:StraightSim</th>\n",
              "      <th>hRideUndertrayRearvMax:StraightSim</th>\n",
              "      <th>kRollCar100:StraightSim</th>\n",
              "      <th>kRollCar200:StraightSim</th>\n",
              "      <th>kRollCar300:StraightSim</th>\n",
              "      <th>kRollCarvMax:StraightSim</th>\n",
              "      <th>lPushrodShimFL:StraightSim</th>\n",
              "      <th>lPushrodShimFR:StraightSim</th>\n",
              "      <th>lPushrodShimRL:StraightSim</th>\n",
              "      <th>lPushrodShimRR:StraightSim</th>\n",
              "      <th>lSpringShimFL:StraightSim</th>\n",
              "      <th>lSpringShimFR:StraightSim</th>\n",
              "      <th>lSpringShimRL:StraightSim</th>\n",
              "      <th>lSpringShimRR:StraightSim</th>\n",
              "      <th>rAeroBal100:StraightSim</th>\n",
              "      <th>rAeroBal200:StraightSim</th>\n",
              "      <th>rAeroBal300:StraightSim</th>\n",
              "      <th>rAeroBalvMax:StraightSim</th>\n",
              "      <th>rSlipGripMaxF_2kn:StraightSim</th>\n",
              "      <th>rSlipGripMaxR_2kn:StraightSim</th>\n",
              "      <th>rStiffnessBalF100:StraightSim</th>\n",
              "      <th>rStiffnessBalF200:StraightSim</th>\n",
              "      <th>rStiffnessBalF300:StraightSim</th>\n",
              "      <th>rStiffnessBalFvMax:StraightSim</th>\n",
              "      <th>rhoAir:StraightSim</th>\n",
              "      <th>vCarMax:StraightSim</th>\n",
              "      <th>vCarMaxDRS:StraightSim</th>\n",
              "      <th>vCarMaxElectric:StraightSim</th>\n",
              "      <th>vCarMaxElectricDRS:StraightSim</th>\n",
              "      <th>zCarMax:StraightSim</th>\n",
              "      <th>zCarMin:StraightSim</th>\n",
              "      <th>zHubOffsetF:StraightSim</th>\n",
              "      <th>zHubOffsetR:StraightSim</th>\n",
              "    </tr>\n",
              "  </thead>\n",
              "  <tbody>\n",
              "    <tr>\n",
              "      <th>0</th>\n",
              "      <td>0</td>\n",
              "      <td>-0.033005</td>\n",
              "      <td>-0.029596</td>\n",
              "      <td>0.005620</td>\n",
              "      <td>-0.051175</td>\n",
              "      <td>-0.027548</td>\n",
              "      <td>0.020053</td>\n",
              "      <td>-0.184327</td>\n",
              "      <td>0.019622</td>\n",
              "      <td>0.007839</td>\n",
              "      <td>-0.009325</td>\n",
              "      <td>0.133490</td>\n",
              "      <td>0.116387</td>\n",
              "      <td>0.092427</td>\n",
              "      <td>375609.250404</td>\n",
              "      <td>388761.247836</td>\n",
              "      <td>394822.044119</td>\n",
              "      <td>0.513679</td>\n",
              "      <td>0.510701</td>\n",
              "      <td>0.535732</td>\n",
              "      <td>0.544782</td>\n",
              "      <td>0.593782</td>\n",
              "      <td>0.652736</td>\n",
              "      <td>0.687365</td>\n",
              "      <td>1.182251</td>\n",
              "      <td>-0.297297</td>\n",
              "      <td>6.997492</td>\n",
              "      <td>0.009273</td>\n",
              "      <td>0.598691</td>\n",
              "      <td>0.420018</td>\n",
              "      <td>1.263540</td>\n",
              "      <td>0.008348</td>\n",
              "      <td>0.671524</td>\n",
              "      <td>-0.051841</td>\n",
              "      <td>-0.050475</td>\n",
              "      <td>-0.050122</td>\n",
              "      <td>-0.050108</td>\n",
              "      <td>-0.010767</td>\n",
              "      <td>-0.011868</td>\n",
              "      <td>-0.013898</td>\n",
              "      <td>...</td>\n",
              "      <td>0.001216</td>\n",
              "      <td>0.082108</td>\n",
              "      <td>0.066039</td>\n",
              "      <td>0.043920</td>\n",
              "      <td>0.040923</td>\n",
              "      <td>0.131773</td>\n",
              "      <td>0.112257</td>\n",
              "      <td>0.084321</td>\n",
              "      <td>0.081389</td>\n",
              "      <td>379905.847880</td>\n",
              "      <td>386739.543580</td>\n",
              "      <td>395263.388225</td>\n",
              "      <td>395984.972787</td>\n",
              "      <td>-0.001283</td>\n",
              "      <td>-0.001283</td>\n",
              "      <td>-0.003960</td>\n",
              "      <td>-0.003960</td>\n",
              "      <td>0.0</td>\n",
              "      <td>0.0</td>\n",
              "      <td>0.0</td>\n",
              "      <td>0.0</td>\n",
              "      <td>0.507458</td>\n",
              "      <td>0.497814</td>\n",
              "      <td>0.511035</td>\n",
              "      <td>0.521450</td>\n",
              "      <td>0.117722</td>\n",
              "      <td>0.132911</td>\n",
              "      <td>0.683999</td>\n",
              "      <td>0.701128</td>\n",
              "      <td>0.729787</td>\n",
              "      <td>0.732270</td>\n",
              "      <td>1.182251</td>\n",
              "      <td>78.778646</td>\n",
              "      <td>83.664865</td>\n",
              "      <td>83.482073</td>\n",
              "      <td>88.012668</td>\n",
              "      <td>-0.285403</td>\n",
              "      <td>-0.336482</td>\n",
              "      <td>0.246723</td>\n",
              "      <td>0.261331</td>\n",
              "    </tr>\n",
              "    <tr>\n",
              "      <th>1</th>\n",
              "      <td>1</td>\n",
              "      <td>-0.030017</td>\n",
              "      <td>-0.027484</td>\n",
              "      <td>0.005747</td>\n",
              "      <td>-0.051760</td>\n",
              "      <td>-0.027791</td>\n",
              "      <td>0.020279</td>\n",
              "      <td>-0.208418</td>\n",
              "      <td>0.024515</td>\n",
              "      <td>0.013230</td>\n",
              "      <td>-0.002565</td>\n",
              "      <td>0.130533</td>\n",
              "      <td>0.112469</td>\n",
              "      <td>0.084786</td>\n",
              "      <td>373501.856851</td>\n",
              "      <td>385959.208989</td>\n",
              "      <td>390240.050195</td>\n",
              "      <td>0.498040</td>\n",
              "      <td>0.489075</td>\n",
              "      <td>0.498528</td>\n",
              "      <td>0.519915</td>\n",
              "      <td>0.594677</td>\n",
              "      <td>0.653334</td>\n",
              "      <td>0.691065</td>\n",
              "      <td>1.182251</td>\n",
              "      <td>-0.294389</td>\n",
              "      <td>7.440068</td>\n",
              "      <td>0.007405</td>\n",
              "      <td>0.568220</td>\n",
              "      <td>0.351749</td>\n",
              "      <td>1.265054</td>\n",
              "      <td>0.009382</td>\n",
              "      <td>0.555428</td>\n",
              "      <td>-0.051823</td>\n",
              "      <td>-0.050394</td>\n",
              "      <td>-0.049977</td>\n",
              "      <td>-0.049954</td>\n",
              "      <td>-0.010796</td>\n",
              "      <td>-0.012035</td>\n",
              "      <td>-0.014268</td>\n",
              "      <td>...</td>\n",
              "      <td>0.005650</td>\n",
              "      <td>0.082637</td>\n",
              "      <td>0.066301</td>\n",
              "      <td>0.043671</td>\n",
              "      <td>0.040066</td>\n",
              "      <td>0.128839</td>\n",
              "      <td>0.108431</td>\n",
              "      <td>0.078760</td>\n",
              "      <td>0.075140</td>\n",
              "      <td>377989.631202</td>\n",
              "      <td>383447.134608</td>\n",
              "      <td>391856.791868</td>\n",
              "      <td>392931.876895</td>\n",
              "      <td>0.000576</td>\n",
              "      <td>0.000576</td>\n",
              "      <td>-0.003002</td>\n",
              "      <td>-0.003002</td>\n",
              "      <td>0.0</td>\n",
              "      <td>0.0</td>\n",
              "      <td>0.0</td>\n",
              "      <td>0.0</td>\n",
              "      <td>0.493028</td>\n",
              "      <td>0.477742</td>\n",
              "      <td>0.480836</td>\n",
              "      <td>0.491043</td>\n",
              "      <td>0.117722</td>\n",
              "      <td>0.132911</td>\n",
              "      <td>0.684900</td>\n",
              "      <td>0.701805</td>\n",
              "      <td>0.731805</td>\n",
              "      <td>0.734841</td>\n",
              "      <td>1.182251</td>\n",
              "      <td>79.161866</td>\n",
              "      <td>84.296490</td>\n",
              "      <td>83.948340</td>\n",
              "      <td>89.001391</td>\n",
              "      <td>-0.284120</td>\n",
              "      <td>-0.337062</td>\n",
              "      <td>0.251476</td>\n",
              "      <td>0.258608</td>\n",
              "    </tr>\n",
              "    <tr>\n",
              "      <th>2</th>\n",
              "      <td>2</td>\n",
              "      <td>-0.033985</td>\n",
              "      <td>-0.029840</td>\n",
              "      <td>0.005760</td>\n",
              "      <td>-0.052040</td>\n",
              "      <td>-0.027320</td>\n",
              "      <td>0.020355</td>\n",
              "      <td>-0.184668</td>\n",
              "      <td>0.023010</td>\n",
              "      <td>0.011226</td>\n",
              "      <td>-0.005757</td>\n",
              "      <td>0.137946</td>\n",
              "      <td>0.120876</td>\n",
              "      <td>0.095093</td>\n",
              "      <td>376386.686832</td>\n",
              "      <td>389724.761525</td>\n",
              "      <td>395325.313640</td>\n",
              "      <td>0.518056</td>\n",
              "      <td>0.509688</td>\n",
              "      <td>0.523521</td>\n",
              "      <td>0.544595</td>\n",
              "      <td>0.591634</td>\n",
              "      <td>0.649401</td>\n",
              "      <td>0.684158</td>\n",
              "      <td>1.182251</td>\n",
              "      <td>-0.299869</td>\n",
              "      <td>7.528603</td>\n",
              "      <td>0.009028</td>\n",
              "      <td>0.629537</td>\n",
              "      <td>0.427305</td>\n",
              "      <td>1.258612</td>\n",
              "      <td>0.008418</td>\n",
              "      <td>0.610195</td>\n",
              "      <td>-0.051818</td>\n",
              "      <td>-0.050393</td>\n",
              "      <td>-0.050018</td>\n",
              "      <td>-0.050001</td>\n",
              "      <td>-0.010722</td>\n",
              "      <td>-0.011695</td>\n",
              "      <td>-0.013600</td>\n",
              "      <td>...</td>\n",
              "      <td>0.004640</td>\n",
              "      <td>0.086080</td>\n",
              "      <td>0.070033</td>\n",
              "      <td>0.047280</td>\n",
              "      <td>0.044148</td>\n",
              "      <td>0.136217</td>\n",
              "      <td>0.116731</td>\n",
              "      <td>0.087551</td>\n",
              "      <td>0.084411</td>\n",
              "      <td>380732.525557</td>\n",
              "      <td>387723.438178</td>\n",
              "      <td>396071.080462</td>\n",
              "      <td>396809.381135</td>\n",
              "      <td>0.000053</td>\n",
              "      <td>0.000053</td>\n",
              "      <td>-0.005493</td>\n",
              "      <td>-0.005493</td>\n",
              "      <td>0.0</td>\n",
              "      <td>0.0</td>\n",
              "      <td>0.0</td>\n",
              "      <td>0.0</td>\n",
              "      <td>0.511415</td>\n",
              "      <td>0.496490</td>\n",
              "      <td>0.500518</td>\n",
              "      <td>0.509475</td>\n",
              "      <td>0.117722</td>\n",
              "      <td>0.132911</td>\n",
              "      <td>0.680748</td>\n",
              "      <td>0.697734</td>\n",
              "      <td>0.726761</td>\n",
              "      <td>0.729307</td>\n",
              "      <td>1.182251</td>\n",
              "      <td>78.725511</td>\n",
              "      <td>83.624392</td>\n",
              "      <td>83.421823</td>\n",
              "      <td>88.020958</td>\n",
              "      <td>-0.287833</td>\n",
              "      <td>-0.340333</td>\n",
              "      <td>0.250137</td>\n",
              "      <td>0.265659</td>\n",
              "    </tr>\n",
              "  </tbody>\n",
              "</table>\n",
              "<p>3 rows × 99 columns</p>\n",
              "</div>"
            ],
            "text/plain": [
              "   jobIndex  ...  zHubOffsetR:StraightSim\n",
              "0         0  ...                 0.261331\n",
              "1         1  ...                 0.258608\n",
              "2         2  ...                 0.265659\n",
              "\n",
              "[3 rows x 99 columns]"
            ]
          },
          "metadata": {
            "tags": []
          },
          "execution_count": 11
        }
      ]
    },
    {
      "cell_type": "markdown",
      "metadata": {
        "id": "oShyBm8ncyC5"
      },
      "source": [
        "You also have access to the study input data as defined by the exploration:"
      ]
    },
    {
      "cell_type": "code",
      "metadata": {
        "id": "BKM16-cScowz",
        "colab": {
          "base_uri": "https://localhost:8080/",
          "height": 202
        },
        "outputId": "151174b9-e414-49f8-e7eb-b335b5440455"
      },
      "source": [
        "study.scalar_results.inputs_metadata"
      ],
      "execution_count": 12,
      "outputs": [
        {
          "output_type": "execute_result",
          "data": {
            "text/html": [
              "<div>\n",
              "<style scoped>\n",
              "    .dataframe tbody tr th:only-of-type {\n",
              "        vertical-align: middle;\n",
              "    }\n",
              "\n",
              "    .dataframe tbody tr th {\n",
              "        vertical-align: top;\n",
              "    }\n",
              "\n",
              "    .dataframe thead th {\n",
              "        text-align: right;\n",
              "    }\n",
              "</style>\n",
              "<table border=\"1\" class=\"dataframe\">\n",
              "  <thead>\n",
              "    <tr style=\"text-align: right;\">\n",
              "      <th></th>\n",
              "      <th>units</th>\n",
              "      <th>description</th>\n",
              "      <th>fullName</th>\n",
              "      <th>shortName</th>\n",
              "      <th>modifier</th>\n",
              "    </tr>\n",
              "    <tr>\n",
              "      <th>inputName</th>\n",
              "      <th></th>\n",
              "      <th></th>\n",
              "      <th></th>\n",
              "      <th></th>\n",
              "      <th></th>\n",
              "    </tr>\n",
              "  </thead>\n",
              "  <tbody>\n",
              "    <tr>\n",
              "      <th>car.chassis.carRunningMass.mCar+</th>\n",
              "      <td>kg</td>\n",
              "      <td></td>\n",
              "      <td>car.chassis.carRunningMass.mCar</td>\n",
              "      <td>mCar</td>\n",
              "      <td>+</td>\n",
              "    </tr>\n",
              "    <tr>\n",
              "      <th>car.chassis.ICar+</th>\n",
              "      <td>kgm2</td>\n",
              "      <td></td>\n",
              "      <td>car.chassis.ICar</td>\n",
              "      <td>ICar</td>\n",
              "      <td>+</td>\n",
              "    </tr>\n",
              "    <tr>\n",
              "      <th>car.chassis.hRideFSetup+</th>\n",
              "      <td>m</td>\n",
              "      <td></td>\n",
              "      <td>car.chassis.hRideFSetup</td>\n",
              "      <td>hRideFSetup</td>\n",
              "      <td>+</td>\n",
              "    </tr>\n",
              "    <tr>\n",
              "      <th>car.chassis.hRideRSetup+</th>\n",
              "      <td>m</td>\n",
              "      <td></td>\n",
              "      <td>car.chassis.hRideRSetup</td>\n",
              "      <td>hRideRSetup</td>\n",
              "      <td>+</td>\n",
              "    </tr>\n",
              "  </tbody>\n",
              "</table>\n",
              "</div>"
            ],
            "text/plain": [
              "                                 units description  ...    shortName modifier\n",
              "inputName                                           ...                      \n",
              "car.chassis.carRunningMass.mCar+    kg              ...         mCar        +\n",
              "car.chassis.ICar+                 kgm2              ...         ICar        +\n",
              "car.chassis.hRideFSetup+             m              ...  hRideFSetup        +\n",
              "car.chassis.hRideRSetup+             m              ...  hRideRSetup        +\n",
              "\n",
              "[4 rows x 5 columns]"
            ]
          },
          "metadata": {
            "tags": []
          },
          "execution_count": 12
        }
      ]
    },
    {
      "cell_type": "code",
      "metadata": {
        "id": "wtjPT9FgctSk",
        "colab": {
          "base_uri": "https://localhost:8080/",
          "height": 141
        },
        "outputId": "f38e8941-47f9-433e-d13c-7902cf2be8da"
      },
      "source": [
        "study.scalar_results.inputs"
      ],
      "execution_count": 13,
      "outputs": [
        {
          "output_type": "execute_result",
          "data": {
            "text/html": [
              "<div>\n",
              "<style scoped>\n",
              "    .dataframe tbody tr th:only-of-type {\n",
              "        vertical-align: middle;\n",
              "    }\n",
              "\n",
              "    .dataframe tbody tr th {\n",
              "        vertical-align: top;\n",
              "    }\n",
              "\n",
              "    .dataframe thead th {\n",
              "        text-align: right;\n",
              "    }\n",
              "</style>\n",
              "<table border=\"1\" class=\"dataframe\">\n",
              "  <thead>\n",
              "    <tr style=\"text-align: right;\">\n",
              "      <th></th>\n",
              "      <th>car.chassis.carRunningMass.mCar+</th>\n",
              "      <th>car.chassis.ICar+</th>\n",
              "      <th>car.chassis.hRideFSetup+</th>\n",
              "      <th>car.chassis.hRideRSetup+</th>\n",
              "    </tr>\n",
              "  </thead>\n",
              "  <tbody>\n",
              "    <tr>\n",
              "      <th>0</th>\n",
              "      <td>-6.903346</td>\n",
              "      <td>[-15.35501852882,0.0,0.0,0.0,-30.71003705764,0...</td>\n",
              "      <td>0.001263</td>\n",
              "      <td>0.012829</td>\n",
              "    </tr>\n",
              "    <tr>\n",
              "      <th>1</th>\n",
              "      <td>-0.900143</td>\n",
              "      <td>[-6.35021522471,0.0,0.0,0.0,-12.70043044942,0....</td>\n",
              "      <td>0.005945</td>\n",
              "      <td>0.010027</td>\n",
              "    </tr>\n",
              "    <tr>\n",
              "      <th>2</th>\n",
              "      <td>-1.428279</td>\n",
              "      <td>[-7.14241835621,0.0,0.0,0.0,-14.28483671242,0....</td>\n",
              "      <td>0.004631</td>\n",
              "      <td>0.017089</td>\n",
              "    </tr>\n",
              "  </tbody>\n",
              "</table>\n",
              "</div>"
            ],
            "text/plain": [
              "   car.chassis.carRunningMass.mCar+  ... car.chassis.hRideRSetup+\n",
              "0                         -6.903346  ...                 0.012829\n",
              "1                         -0.900143  ...                 0.010027\n",
              "2                         -1.428279  ...                 0.017089\n",
              "\n",
              "[3 rows x 4 columns]"
            ]
          },
          "metadata": {
            "tags": []
          },
          "execution_count": 13
        }
      ]
    },
    {
      "cell_type": "markdown",
      "metadata": {
        "id": "UkFryFZZdFIl"
      },
      "source": [
        "We can convert this data to our desired units using the `study.scalar_as` helper function. The `scalar_as` function will work for both scalar inputs and results, and if the units are omitted it will use the units from your preferences saved on the Canopy platform."
      ]
    },
    {
      "cell_type": "code",
      "metadata": {
        "id": "Btn4nQqfdJgL",
        "colab": {
          "base_uri": "https://localhost:8080/"
        },
        "outputId": "c8dee46c-ae7c-44b9-b6d3-5f542c23cc52"
      },
      "source": [
        "hRideF200_mm = study.scalar_as('hRideF200:ApexSim', 'mm')\n",
        "hRideF200_mm"
      ],
      "execution_count": 14,
      "outputs": [
        {
          "output_type": "execute_result",
          "data": {
            "text/plain": [
              "0     7.839\n",
              "1    13.230\n",
              "2    11.226\n",
              "Name: hRideF200:ApexSim, dtype: float64"
            ]
          },
          "metadata": {
            "tags": []
          },
          "execution_count": 14
        }
      ]
    },
    {
      "cell_type": "code",
      "metadata": {
        "id": "2KqW0j5Crlgi",
        "colab": {
          "base_uri": "https://localhost:8080/"
        },
        "outputId": "05f9f19c-6cc7-4696-9da3-3cf82c78b201"
      },
      "source": [
        "hRideFSetup_mm = study.scalar_as('car.chassis.hRideFSetup+', 'mm')\n",
        "hRideFSetup_mm"
      ],
      "execution_count": 15,
      "outputs": [
        {
          "output_type": "execute_result",
          "data": {
            "text/plain": [
              "0    1.262710\n",
              "1    5.945044\n",
              "2    4.630576\n",
              "Name: car.chassis.hRideFSetup+, dtype: float64"
            ]
          },
          "metadata": {
            "tags": []
          },
          "execution_count": 15
        }
      ]
    },
    {
      "cell_type": "markdown",
      "metadata": {
        "id": "I6_nsF4ai4vT"
      },
      "source": [
        "## Parallel Coordinates Plot\n",
        "\n",
        "The `study.scalar_results.merged` property returns a dataframe consisting of both the inputs and the scalar results we looked at above.\n",
        "\n",
        "This is particularly useful for quickly constructing an interactive parallel coordinates plot using Plotly Express. You will need to view this in a Notebook viewer which supports interactive visualisations, as it won't render on GitHub.\n",
        "\n",
        "Obviously the resulting parallel coordinates plot would look more interesting if we had done a larger exploration!"
      ]
    },
    {
      "cell_type": "code",
      "metadata": {
        "id": "I6sLLFY7iS2F",
        "colab": {
          "base_uri": "https://localhost:8080/",
          "height": 542
        },
        "outputId": "61752251-7e11-49d1-8fc6-bf3c82636469"
      },
      "source": [
        "import plotly.express as px\n",
        "\n",
        "fig = px.parallel_coordinates(\n",
        "    study.scalar_results.merged, \n",
        "    color=\"vCarMax:StraightSim\",\n",
        "    dimensions=[\n",
        "        *study.scalar_results.inputs.columns,\n",
        "        'vCarMax:StraightSim',\n",
        "        'hRideF100:ApexSim',\n",
        "        'hRideF300:ApexSim'],\n",
        "    color_continuous_scale=px.colors.diverging.Tealrose)\n",
        "fig.show()"
      ],
      "execution_count": 16,
      "outputs": [
        {
          "output_type": "display_data",
          "data": {
            "text/html": [
              "<html>\n",
              "<head><meta charset=\"utf-8\" /></head>\n",
              "<body>\n",
              "    <div>\n",
              "            <script src=\"https://cdnjs.cloudflare.com/ajax/libs/mathjax/2.7.5/MathJax.js?config=TeX-AMS-MML_SVG\"></script><script type=\"text/javascript\">if (window.MathJax) {MathJax.Hub.Config({SVG: {font: \"STIX-Web\"}});}</script>\n",
              "                <script type=\"text/javascript\">window.PlotlyConfig = {MathJaxConfig: 'local'};</script>\n",
              "        <script src=\"https://cdn.plot.ly/plotly-latest.min.js\"></script>    \n",
              "            <div id=\"73ae32b9-8e66-4893-99c5-993f277d789d\" class=\"plotly-graph-div\" style=\"height:525px; width:100%;\"></div>\n",
              "            <script type=\"text/javascript\">\n",
              "                \n",
              "                    window.PLOTLYENV=window.PLOTLYENV || {};\n",
              "                    \n",
              "                if (document.getElementById(\"73ae32b9-8e66-4893-99c5-993f277d789d\")) {\n",
              "                    Plotly.newPlot(\n",
              "                        '73ae32b9-8e66-4893-99c5-993f277d789d',\n",
              "                        [{\"dimensions\": [{\"label\": \"car.chassis.carRunningMass.mCar+\", \"values\": [-6.903345685880001, -0.9001434831399999, -1.4282789041400001]}, {\"label\": \"car.chassis.hRideFSetup+\", \"values\": [0.001262709937, 0.0059450442, 0.0046305763]}, {\"label\": \"car.chassis.hRideRSetup+\", \"values\": [0.012829124552, 0.010026658722, 0.017089472975000002]}, {\"label\": \"vCarMax:StraightSim\", \"values\": [78.778646, 79.161866, 78.725511]}, {\"label\": \"hRideF100:ApexSim\", \"values\": [0.019622, 0.024515000000000002, 0.02301]}, {\"label\": \"hRideF300:ApexSim\", \"values\": [-0.009325, -0.002565, -0.005757]}], \"domain\": {\"x\": [0.0, 1.0], \"y\": [0.0, 1.0]}, \"line\": {\"color\": [78.778646, 79.161866, 78.725511], \"coloraxis\": \"coloraxis\"}, \"name\": \"\", \"type\": \"parcoords\"}],\n",
              "                        {\"coloraxis\": {\"colorbar\": {\"title\": {\"text\": \"vCarMax:StraightSim\"}}, \"colorscale\": [[0.0, \"rgb(0, 147, 146)\"], [0.16666666666666666, \"rgb(114, 170, 161)\"], [0.3333333333333333, \"rgb(177, 199, 179)\"], [0.5, \"rgb(241, 234, 200)\"], [0.6666666666666666, \"rgb(229, 185, 173)\"], [0.8333333333333334, \"rgb(217, 137, 148)\"], [1.0, \"rgb(208, 88, 126)\"]]}, \"legend\": {\"tracegroupgap\": 0}, \"margin\": {\"t\": 60}, \"template\": {\"data\": {\"bar\": [{\"error_x\": {\"color\": \"#2a3f5f\"}, \"error_y\": {\"color\": \"#2a3f5f\"}, \"marker\": {\"line\": {\"color\": \"#E5ECF6\", \"width\": 0.5}}, \"type\": \"bar\"}], \"barpolar\": [{\"marker\": {\"line\": {\"color\": \"#E5ECF6\", \"width\": 0.5}}, \"type\": \"barpolar\"}], \"carpet\": [{\"aaxis\": {\"endlinecolor\": \"#2a3f5f\", \"gridcolor\": \"white\", \"linecolor\": \"white\", \"minorgridcolor\": \"white\", \"startlinecolor\": \"#2a3f5f\"}, \"baxis\": {\"endlinecolor\": \"#2a3f5f\", \"gridcolor\": \"white\", \"linecolor\": \"white\", \"minorgridcolor\": \"white\", \"startlinecolor\": \"#2a3f5f\"}, \"type\": \"carpet\"}], \"choropleth\": [{\"colorbar\": {\"outlinewidth\": 0, \"ticks\": \"\"}, \"type\": \"choropleth\"}], \"contour\": [{\"colorbar\": {\"outlinewidth\": 0, \"ticks\": \"\"}, \"colorscale\": [[0.0, \"#0d0887\"], [0.1111111111111111, \"#46039f\"], [0.2222222222222222, \"#7201a8\"], [0.3333333333333333, \"#9c179e\"], [0.4444444444444444, \"#bd3786\"], [0.5555555555555556, \"#d8576b\"], [0.6666666666666666, \"#ed7953\"], [0.7777777777777778, \"#fb9f3a\"], [0.8888888888888888, \"#fdca26\"], [1.0, \"#f0f921\"]], \"type\": \"contour\"}], \"contourcarpet\": [{\"colorbar\": {\"outlinewidth\": 0, \"ticks\": \"\"}, \"type\": \"contourcarpet\"}], \"heatmap\": [{\"colorbar\": {\"outlinewidth\": 0, \"ticks\": \"\"}, \"colorscale\": [[0.0, \"#0d0887\"], [0.1111111111111111, \"#46039f\"], [0.2222222222222222, \"#7201a8\"], [0.3333333333333333, \"#9c179e\"], [0.4444444444444444, \"#bd3786\"], [0.5555555555555556, \"#d8576b\"], [0.6666666666666666, \"#ed7953\"], [0.7777777777777778, \"#fb9f3a\"], [0.8888888888888888, \"#fdca26\"], [1.0, \"#f0f921\"]], \"type\": \"heatmap\"}], \"heatmapgl\": [{\"colorbar\": {\"outlinewidth\": 0, \"ticks\": \"\"}, \"colorscale\": [[0.0, \"#0d0887\"], [0.1111111111111111, \"#46039f\"], [0.2222222222222222, \"#7201a8\"], [0.3333333333333333, \"#9c179e\"], [0.4444444444444444, \"#bd3786\"], [0.5555555555555556, \"#d8576b\"], [0.6666666666666666, \"#ed7953\"], [0.7777777777777778, \"#fb9f3a\"], [0.8888888888888888, \"#fdca26\"], [1.0, \"#f0f921\"]], \"type\": \"heatmapgl\"}], \"histogram\": [{\"marker\": {\"colorbar\": {\"outlinewidth\": 0, \"ticks\": \"\"}}, \"type\": \"histogram\"}], \"histogram2d\": [{\"colorbar\": {\"outlinewidth\": 0, \"ticks\": \"\"}, \"colorscale\": [[0.0, \"#0d0887\"], [0.1111111111111111, \"#46039f\"], [0.2222222222222222, \"#7201a8\"], [0.3333333333333333, \"#9c179e\"], [0.4444444444444444, \"#bd3786\"], [0.5555555555555556, \"#d8576b\"], [0.6666666666666666, \"#ed7953\"], [0.7777777777777778, \"#fb9f3a\"], [0.8888888888888888, \"#fdca26\"], [1.0, \"#f0f921\"]], \"type\": \"histogram2d\"}], \"histogram2dcontour\": [{\"colorbar\": {\"outlinewidth\": 0, \"ticks\": \"\"}, \"colorscale\": [[0.0, \"#0d0887\"], [0.1111111111111111, \"#46039f\"], [0.2222222222222222, \"#7201a8\"], [0.3333333333333333, \"#9c179e\"], [0.4444444444444444, \"#bd3786\"], [0.5555555555555556, \"#d8576b\"], [0.6666666666666666, \"#ed7953\"], [0.7777777777777778, \"#fb9f3a\"], [0.8888888888888888, \"#fdca26\"], [1.0, \"#f0f921\"]], \"type\": \"histogram2dcontour\"}], \"mesh3d\": [{\"colorbar\": {\"outlinewidth\": 0, \"ticks\": \"\"}, \"type\": \"mesh3d\"}], \"parcoords\": [{\"line\": {\"colorbar\": {\"outlinewidth\": 0, \"ticks\": \"\"}}, \"type\": \"parcoords\"}], \"pie\": [{\"automargin\": true, \"type\": \"pie\"}], \"scatter\": [{\"marker\": {\"colorbar\": {\"outlinewidth\": 0, \"ticks\": \"\"}}, \"type\": \"scatter\"}], \"scatter3d\": [{\"line\": {\"colorbar\": {\"outlinewidth\": 0, \"ticks\": \"\"}}, \"marker\": {\"colorbar\": {\"outlinewidth\": 0, \"ticks\": \"\"}}, \"type\": \"scatter3d\"}], \"scattercarpet\": [{\"marker\": {\"colorbar\": {\"outlinewidth\": 0, \"ticks\": \"\"}}, \"type\": \"scattercarpet\"}], \"scattergeo\": [{\"marker\": {\"colorbar\": {\"outlinewidth\": 0, \"ticks\": \"\"}}, \"type\": \"scattergeo\"}], \"scattergl\": [{\"marker\": {\"colorbar\": {\"outlinewidth\": 0, \"ticks\": \"\"}}, \"type\": \"scattergl\"}], \"scattermapbox\": [{\"marker\": {\"colorbar\": {\"outlinewidth\": 0, \"ticks\": \"\"}}, \"type\": \"scattermapbox\"}], \"scatterpolar\": [{\"marker\": {\"colorbar\": {\"outlinewidth\": 0, \"ticks\": \"\"}}, \"type\": \"scatterpolar\"}], \"scatterpolargl\": [{\"marker\": {\"colorbar\": {\"outlinewidth\": 0, \"ticks\": \"\"}}, \"type\": \"scatterpolargl\"}], \"scatterternary\": [{\"marker\": {\"colorbar\": {\"outlinewidth\": 0, \"ticks\": \"\"}}, \"type\": \"scatterternary\"}], \"surface\": [{\"colorbar\": {\"outlinewidth\": 0, \"ticks\": \"\"}, \"colorscale\": [[0.0, \"#0d0887\"], [0.1111111111111111, \"#46039f\"], [0.2222222222222222, \"#7201a8\"], [0.3333333333333333, \"#9c179e\"], [0.4444444444444444, \"#bd3786\"], [0.5555555555555556, \"#d8576b\"], [0.6666666666666666, \"#ed7953\"], [0.7777777777777778, \"#fb9f3a\"], [0.8888888888888888, \"#fdca26\"], [1.0, \"#f0f921\"]], \"type\": \"surface\"}], \"table\": [{\"cells\": {\"fill\": {\"color\": \"#EBF0F8\"}, \"line\": {\"color\": \"white\"}}, \"header\": {\"fill\": {\"color\": \"#C8D4E3\"}, \"line\": {\"color\": \"white\"}}, \"type\": \"table\"}]}, \"layout\": {\"annotationdefaults\": {\"arrowcolor\": \"#2a3f5f\", \"arrowhead\": 0, \"arrowwidth\": 1}, \"coloraxis\": {\"colorbar\": {\"outlinewidth\": 0, \"ticks\": \"\"}}, \"colorscale\": {\"diverging\": [[0, \"#8e0152\"], [0.1, \"#c51b7d\"], [0.2, \"#de77ae\"], [0.3, \"#f1b6da\"], [0.4, \"#fde0ef\"], [0.5, \"#f7f7f7\"], [0.6, \"#e6f5d0\"], [0.7, \"#b8e186\"], [0.8, \"#7fbc41\"], [0.9, \"#4d9221\"], [1, \"#276419\"]], \"sequential\": [[0.0, \"#0d0887\"], [0.1111111111111111, \"#46039f\"], [0.2222222222222222, \"#7201a8\"], [0.3333333333333333, \"#9c179e\"], [0.4444444444444444, \"#bd3786\"], [0.5555555555555556, \"#d8576b\"], [0.6666666666666666, \"#ed7953\"], [0.7777777777777778, \"#fb9f3a\"], [0.8888888888888888, \"#fdca26\"], [1.0, \"#f0f921\"]], \"sequentialminus\": [[0.0, \"#0d0887\"], [0.1111111111111111, \"#46039f\"], [0.2222222222222222, \"#7201a8\"], [0.3333333333333333, \"#9c179e\"], [0.4444444444444444, \"#bd3786\"], [0.5555555555555556, \"#d8576b\"], [0.6666666666666666, \"#ed7953\"], [0.7777777777777778, \"#fb9f3a\"], [0.8888888888888888, \"#fdca26\"], [1.0, \"#f0f921\"]]}, \"colorway\": [\"#636efa\", \"#EF553B\", \"#00cc96\", \"#ab63fa\", \"#FFA15A\", \"#19d3f3\", \"#FF6692\", \"#B6E880\", \"#FF97FF\", \"#FECB52\"], \"font\": {\"color\": \"#2a3f5f\"}, \"geo\": {\"bgcolor\": \"white\", \"lakecolor\": \"white\", \"landcolor\": \"#E5ECF6\", \"showlakes\": true, \"showland\": true, \"subunitcolor\": \"white\"}, \"hoverlabel\": {\"align\": \"left\"}, \"hovermode\": \"closest\", \"mapbox\": {\"style\": \"light\"}, \"paper_bgcolor\": \"white\", \"plot_bgcolor\": \"#E5ECF6\", \"polar\": {\"angularaxis\": {\"gridcolor\": \"white\", \"linecolor\": \"white\", \"ticks\": \"\"}, \"bgcolor\": \"#E5ECF6\", \"radialaxis\": {\"gridcolor\": \"white\", \"linecolor\": \"white\", \"ticks\": \"\"}}, \"scene\": {\"xaxis\": {\"backgroundcolor\": \"#E5ECF6\", \"gridcolor\": \"white\", \"gridwidth\": 2, \"linecolor\": \"white\", \"showbackground\": true, \"ticks\": \"\", \"zerolinecolor\": \"white\"}, \"yaxis\": {\"backgroundcolor\": \"#E5ECF6\", \"gridcolor\": \"white\", \"gridwidth\": 2, \"linecolor\": \"white\", \"showbackground\": true, \"ticks\": \"\", \"zerolinecolor\": \"white\"}, \"zaxis\": {\"backgroundcolor\": \"#E5ECF6\", \"gridcolor\": \"white\", \"gridwidth\": 2, \"linecolor\": \"white\", \"showbackground\": true, \"ticks\": \"\", \"zerolinecolor\": \"white\"}}, \"shapedefaults\": {\"line\": {\"color\": \"#2a3f5f\"}}, \"ternary\": {\"aaxis\": {\"gridcolor\": \"white\", \"linecolor\": \"white\", \"ticks\": \"\"}, \"baxis\": {\"gridcolor\": \"white\", \"linecolor\": \"white\", \"ticks\": \"\"}, \"bgcolor\": \"#E5ECF6\", \"caxis\": {\"gridcolor\": \"white\", \"linecolor\": \"white\", \"ticks\": \"\"}}, \"title\": {\"x\": 0.05}, \"xaxis\": {\"automargin\": true, \"gridcolor\": \"white\", \"linecolor\": \"white\", \"ticks\": \"\", \"title\": {\"standoff\": 15}, \"zerolinecolor\": \"white\", \"zerolinewidth\": 2}, \"yaxis\": {\"automargin\": true, \"gridcolor\": \"white\", \"linecolor\": \"white\", \"ticks\": \"\", \"title\": {\"standoff\": 15}, \"zerolinecolor\": \"white\", \"zerolinewidth\": 2}}}},\n",
              "                        {\"responsive\": true}\n",
              "                    ).then(function(){\n",
              "                            \n",
              "var gd = document.getElementById('73ae32b9-8e66-4893-99c5-993f277d789d');\n",
              "var x = new MutationObserver(function (mutations, observer) {{\n",
              "        var display = window.getComputedStyle(gd).display;\n",
              "        if (!display || display === 'none') {{\n",
              "            console.log([gd, 'removed!']);\n",
              "            Plotly.purge(gd);\n",
              "            observer.disconnect();\n",
              "        }}\n",
              "}});\n",
              "\n",
              "// Listen for the removal of the full notebook cells\n",
              "var notebookContainer = gd.closest('#notebook-container');\n",
              "if (notebookContainer) {{\n",
              "    x.observe(notebookContainer, {childList: true});\n",
              "}}\n",
              "\n",
              "// Listen for the clearing of the current output cell\n",
              "var outputEl = gd.closest('.output');\n",
              "if (outputEl) {{\n",
              "    x.observe(outputEl, {childList: true});\n",
              "}}\n",
              "\n",
              "                        })\n",
              "                };\n",
              "                \n",
              "            </script>\n",
              "        </div>\n",
              "</body>\n",
              "</html>"
            ]
          },
          "metadata": {
            "tags": []
          }
        }
      ]
    },
    {
      "cell_type": "code",
      "metadata": {
        "id": "jKA-GeR5Sy63"
      },
      "source": [
        ""
      ],
      "execution_count": null,
      "outputs": []
    }
  ]
}