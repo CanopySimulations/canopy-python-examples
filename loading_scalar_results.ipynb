{
  "nbformat": 4,
  "nbformat_minor": 0,
  "metadata": {
    "colab": {
      "name": "loading_scalar_results.ipynb",
      "provenance": [],
      "authorship_tag": "ABX9TyNJaHkehZrekiXmdxolkO2g",
      "include_colab_link": true
    },
    "kernelspec": {
      "name": "python3",
      "display_name": "Python 3"
    }
  },
  "cells": [
    {
      "cell_type": "markdown",
      "metadata": {
        "id": "view-in-github",
        "colab_type": "text"
      },
      "source": [
        "<a href=\"https://colab.research.google.com/github/CanopySimulations/canopy-python-examples/blob/master/loading_scalar_results.ipynb\" target=\"_parent\"><img src=\"https://colab.research.google.com/assets/colab-badge.svg\" alt=\"Open In Colab\"/></a>"
      ]
    },
    {
      "cell_type": "markdown",
      "metadata": {
        "id": "NtIv7oIVvn5i",
        "colab_type": "text"
      },
      "source": [
        "# Upgrade Runtime\n",
        "This cell ensures the runtime supports `asyncio` async/await, and is needed on Google Colab. If the runtime is upgraded, you will be prompted to restart it, which you should do before continuing execution."
      ]
    },
    {
      "cell_type": "code",
      "metadata": {
        "id": "E-AnefvPvmtR",
        "colab_type": "code",
        "colab": {}
      },
      "source": [
        "!pip install \"ipython>=7\""
      ],
      "execution_count": 0,
      "outputs": []
    },
    {
      "cell_type": "markdown",
      "metadata": {
        "id": "_61Bg2_KwIR2",
        "colab_type": "text"
      },
      "source": [
        "# Set Up Environment"
      ]
    },
    {
      "cell_type": "markdown",
      "metadata": {
        "id": "zX-xTWzWG1bt",
        "colab_type": "text"
      },
      "source": [
        "### Import required libraries"
      ]
    },
    {
      "cell_type": "code",
      "metadata": {
        "id": "gNnEvtkmwL0W",
        "colab_type": "code",
        "colab": {}
      },
      "source": [
        "!pip install -q 'canopy==6.1'"
      ],
      "execution_count": 0,
      "outputs": []
    },
    {
      "cell_type": "code",
      "metadata": {
        "id": "0bBsqDyhwN_8",
        "colab_type": "code",
        "colab": {}
      },
      "source": [
        "import canopy\n",
        "import logging\n",
        "import pprint\n",
        "\n",
        "logging.basicConfig(level=logging.INFO)\n",
        "pp = pprint.PrettyPrinter()"
      ],
      "execution_count": 0,
      "outputs": []
    },
    {
      "cell_type": "markdown",
      "metadata": {
        "id": "nH5-pXaZw5jg",
        "colab_type": "text"
      },
      "source": [
        "### Authenticate"
      ]
    },
    {
      "cell_type": "code",
      "metadata": {
        "id": "SAnwvDofwhw1",
        "colab_type": "code",
        "colab": {}
      },
      "source": [
        "authentication_data = canopy.prompt_for_authentication()\n",
        "\n",
        "def create_session():\n",
        "    return canopy.Session(authentication_data)"
      ],
      "execution_count": 0,
      "outputs": []
    },
    {
      "cell_type": "markdown",
      "metadata": {
        "id": "VSDal4PawY8-",
        "colab_type": "text"
      },
      "source": [
        "# Set Up Example"
      ]
    },
    {
      "cell_type": "markdown",
      "metadata": {
        "id": "cc9N0PwfUKEa",
        "colab_type": "text"
      },
      "source": [
        "Run a quick ApexSim exploration."
      ]
    },
    {
      "cell_type": "code",
      "metadata": {
        "id": "5r6ZPt3bUQJ9",
        "colab_type": "code",
        "colab": {
          "base_uri": "https://localhost:8080/",
          "height": 104
        },
        "outputId": "85808a3f-7fca-41f7-ce52-d58f3de90d6b"
      },
      "source": [
        "async with create_session() as session:\n",
        "    logging.info('Loading configs...')\n",
        "\n",
        "    default_car = await canopy.load_default_config(\n",
        "        session, 'car', 'Canopy F1 Car 2019')\n",
        "    \n",
        "    default_weather = await canopy.load_default_config(\n",
        "        session, 'weather', '25 deg, dry')\n",
        "    \n",
        "    default_exploration = await canopy.load_default_config(\n",
        "        session, 'exploration', 'Automated Test Monte Carlo')\n",
        "\n",
        "    # We'll run a very small exploration for this example\n",
        "    default_exploration.data.design.numberOfPoints = 3\n",
        "\n",
        "    logging.info('Creating study...')\n",
        "\n",
        "    study_id = await canopy.create_study(\n",
        "        session,\n",
        "        'apexSim',\n",
        "        'Loading Scalar Results Example',\n",
        "        [\n",
        "            default_car,\n",
        "            default_weather,\n",
        "            default_exploration,\n",
        "        ])\n",
        "    \n",
        "    logging.info('Waiting for study to complete...')\n",
        "\n",
        "    wait_result = await canopy.wait_for_study(\n",
        "        session,\n",
        "        study_id,\n",
        "        timeout_seconds=300)\n",
        "    \n",
        "logging.info('Sim Version: {}'.format(wait_result.document.sim_version))    \n",
        "logging.info('Succeded Job Count: {}/{}'.format(\n",
        "    wait_result.data.succeeded_job_count, \n",
        "    wait_result.data.job_count))"
      ],
      "execution_count": 3,
      "outputs": [
        {
          "output_type": "stream",
          "text": [
            "INFO:root:Loading configs...\n",
            "INFO:root:Creating study...\n",
            "INFO:root:Waiting for study to complete...\n",
            "INFO:root:Sim Version: 1.3037\n",
            "INFO:root:Succeded Job Count: 4/4\n"
          ],
          "name": "stderr"
        }
      ]
    },
    {
      "cell_type": "markdown",
      "metadata": {
        "id": "FAFirfukWLfF",
        "colab_type": "text"
      },
      "source": [
        "# Example: Loading Scalar Results"
      ]
    },
    {
      "cell_type": "markdown",
      "metadata": {
        "id": "BOcIhzzUY32z",
        "colab_type": "text"
      },
      "source": [
        "## Loading for a single job\n",
        "We can load the scalar results for an individual job using the `include_scalar_results` parameter. Note we are specifically loading the `ApexSim` scalar results here. If we also wanted the `StraightSim` results we can fetch them in a second call."
      ]
    },
    {
      "cell_type": "code",
      "metadata": {
        "id": "vkHGACInWNkr",
        "colab_type": "code",
        "colab": {
          "base_uri": "https://localhost:8080/",
          "height": 468
        },
        "outputId": "555cfab6-9266-49da-9d69-aa80a8de0dc3"
      },
      "source": [
        "async with create_session() as session:\n",
        "    job_0 = await canopy.load_study_job(\n",
        "        session,\n",
        "        study_id,\n",
        "        'ApexSim',\n",
        "        job_index=0,\n",
        "        include_scalar_results=True)\n",
        "    \n",
        "job_0.scalar_data"
      ],
      "execution_count": 5,
      "outputs": [
        {
          "output_type": "stream",
          "text": [
            "INFO:canopy.load_study_job:Loading job index 0\n"
          ],
          "name": "stderr"
        },
        {
          "output_type": "execute_result",
          "data": {
            "text/plain": [
              "{'rLatBalF100': 0.5931529999999999,\n",
              " 'rLatBalF200': 0.651191,\n",
              " 'rLatBalF300': 0.689567,\n",
              " 'kRollCar100': 374300.293621,\n",
              " 'kRollCar200': 386790.823119,\n",
              " 'kRollCar300': 389037.518536,\n",
              " 'rAeroBal100': 0.5019060000000001,\n",
              " 'rAeroBal200': 0.489875,\n",
              " 'rAeroBal300': 0.49314399999999997,\n",
              " 'rAeroBalvMax': 0.512822,\n",
              " 'rhoAir': 1.182251,\n",
              " 'hRideF100': 0.026491000000000004,\n",
              " 'hRideF200': 0.015169,\n",
              " 'hRideF300': -0.000541,\n",
              " 'hRideR100': 0.133535,\n",
              " 'hRideR200': 0.115568,\n",
              " 'hRideR300': 0.08682899999999999,\n",
              " 'zCarBrakingvMax': -0.296115,\n",
              " 'aPitchBrakingvMax': -0.030741,\n",
              " 'aPitchBrakingvMin': -0.027722000000000004,\n",
              " 'aRockerFLBrakingvMax': -0.052287,\n",
              " 'aRockerFLAcceleratingvMin': 0.005882,\n",
              " 'aRockerRLBrakingvMax': -0.208146,\n",
              " 'aRockerRLBrakingMax': 0.02084,\n",
              " 'aRockerRLAcceleratingvMin': -0.027770999999999997}"
            ]
          },
          "metadata": {
            "tags": []
          },
          "execution_count": 5
        }
      ]
    },
    {
      "cell_type": "markdown",
      "metadata": {
        "id": "M6QjAzHFZhVe",
        "colab_type": "text"
      },
      "source": [
        "We can request individual scalar results in our desired units:"
      ]
    },
    {
      "cell_type": "code",
      "metadata": {
        "id": "7yQVhrU3ZmWG",
        "colab_type": "code",
        "colab": {
          "base_uri": "https://localhost:8080/",
          "height": 35
        },
        "outputId": "374796cf-e112-49d6-95b6-da8057cfb953"
      },
      "source": [
        "job_0.scalar_as('hRideF200', 'mm')"
      ],
      "execution_count": 6,
      "outputs": [
        {
          "output_type": "execute_result",
          "data": {
            "text/plain": [
              "15.169"
            ]
          },
          "metadata": {
            "tags": []
          },
          "execution_count": 6
        }
      ]
    },
    {
      "cell_type": "markdown",
      "metadata": {
        "id": "0VPQ8IMuZuZX",
        "colab_type": "text"
      },
      "source": [
        "You can also use the `scalar_as` function and omit the units, which will then use the preferred units saved in your Canopy account:"
      ]
    },
    {
      "cell_type": "code",
      "metadata": {
        "id": "f3lWWpWtZ0eJ",
        "colab_type": "code",
        "colab": {
          "base_uri": "https://localhost:8080/",
          "height": 35
        },
        "outputId": "b7d3b070-f795-468e-ab5a-18338b279b48"
      },
      "source": [
        "job_0.scalar_as('hRideF200')"
      ],
      "execution_count": 7,
      "outputs": [
        {
          "output_type": "execute_result",
          "data": {
            "text/plain": [
              "0.015169"
            ]
          },
          "metadata": {
            "tags": []
          },
          "execution_count": 7
        }
      ]
    },
    {
      "cell_type": "markdown",
      "metadata": {
        "id": "mWWmbVeobKJG",
        "colab_type": "text"
      },
      "source": [
        "## Loading for an entire study\n",
        "\n",
        "We can load the scalar results for the entire study using the `include_study_scalar_results` parameter. \n",
        "\n",
        "This loads the aggregated scalar results produced by the post-processing job when the study was run, so it is more efficient than loading the scalar results for each study individually.\n",
        "\n",
        "If you did want to still load them individually, you could use the `include_job_scalar_results` parameter instead.\n",
        "\n",
        "Note the aggregated scalar results contains the scalar results for every simulation run in the study (in this case both ApexSim and StraightSim)."
      ]
    },
    {
      "cell_type": "code",
      "metadata": {
        "id": "3MG8an6SbM2U",
        "colab_type": "code",
        "colab": {}
      },
      "source": [
        "async with create_session() as session:\n",
        "    study = await canopy.load_study(\n",
        "        session,\n",
        "        study_id,\n",
        "        include_study_scalar_results=True)"
      ],
      "execution_count": 0,
      "outputs": []
    },
    {
      "cell_type": "code",
      "metadata": {
        "id": "WxZg7YRrcda5",
        "colab_type": "code",
        "colab": {
          "base_uri": "https://localhost:8080/",
          "height": 446
        },
        "outputId": "92149921-b2b9-489e-83c5-860ecd58e3c3"
      },
      "source": [
        "study.scalar_results.results_metadata"
      ],
      "execution_count": 16,
      "outputs": [
        {
          "output_type": "execute_result",
          "data": {
            "text/html": [
              "<div>\n",
              "<style scoped>\n",
              "    .dataframe tbody tr th:only-of-type {\n",
              "        vertical-align: middle;\n",
              "    }\n",
              "\n",
              "    .dataframe tbody tr th {\n",
              "        vertical-align: top;\n",
              "    }\n",
              "\n",
              "    .dataframe thead th {\n",
              "        text-align: right;\n",
              "    }\n",
              "</style>\n",
              "<table border=\"1\" class=\"dataframe\">\n",
              "  <thead>\n",
              "    <tr style=\"text-align: right;\">\n",
              "      <th></th>\n",
              "      <th>name</th>\n",
              "      <th>units</th>\n",
              "      <th>description</th>\n",
              "      <th>simType</th>\n",
              "    </tr>\n",
              "    <tr>\n",
              "      <th>fullName</th>\n",
              "      <th></th>\n",
              "      <th></th>\n",
              "      <th></th>\n",
              "      <th></th>\n",
              "    </tr>\n",
              "  </thead>\n",
              "  <tbody>\n",
              "    <tr>\n",
              "      <th>aPitchBrakingvMax:ApexSim</th>\n",
              "      <td>aPitchBrakingvMax</td>\n",
              "      <td>rad</td>\n",
              "      <td>aPitch under straight line braking at vMax.</td>\n",
              "      <td>ApexSim</td>\n",
              "    </tr>\n",
              "    <tr>\n",
              "      <th>aPitchBrakingvMin:ApexSim</th>\n",
              "      <td>aPitchBrakingvMin</td>\n",
              "      <td>rad</td>\n",
              "      <td>aPitch under straight line acceleration at vMin.</td>\n",
              "      <td>ApexSim</td>\n",
              "    </tr>\n",
              "    <tr>\n",
              "      <th>aRockerFLAcceleratingvMin:ApexSim</th>\n",
              "      <td>aRockerFLAcceleratingvMin</td>\n",
              "      <td>rad</td>\n",
              "      <td>aRockerFL under straight line acceleration at ...</td>\n",
              "      <td>ApexSim</td>\n",
              "    </tr>\n",
              "    <tr>\n",
              "      <th>aRockerFLBrakingvMax:ApexSim</th>\n",
              "      <td>aRockerFLBrakingvMax</td>\n",
              "      <td>rad</td>\n",
              "      <td>aRockerFL under straight line braking at vMax.</td>\n",
              "      <td>ApexSim</td>\n",
              "    </tr>\n",
              "    <tr>\n",
              "      <th>aRockerRLAcceleratingvMin:ApexSim</th>\n",
              "      <td>aRockerRLAcceleratingvMin</td>\n",
              "      <td>rad</td>\n",
              "      <td>aRockerRL under straight line acceleration at ...</td>\n",
              "      <td>ApexSim</td>\n",
              "    </tr>\n",
              "    <tr>\n",
              "      <th>...</th>\n",
              "      <td>...</td>\n",
              "      <td>...</td>\n",
              "      <td>...</td>\n",
              "      <td>...</td>\n",
              "    </tr>\n",
              "    <tr>\n",
              "      <th>vCarMaxElectricDRS:StraightSim</th>\n",
              "      <td>vCarMaxElectricDRS</td>\n",
              "      <td>m/s</td>\n",
              "      <td>Maximum vCar achievable on a flat track at wid...</td>\n",
              "      <td>StraightSim</td>\n",
              "    </tr>\n",
              "    <tr>\n",
              "      <th>zCarMax:StraightSim</th>\n",
              "      <td>zCarMax</td>\n",
              "      <td>m</td>\n",
              "      <td>Maximum zCar achieved during this simulation.</td>\n",
              "      <td>StraightSim</td>\n",
              "    </tr>\n",
              "    <tr>\n",
              "      <th>zCarMin:StraightSim</th>\n",
              "      <td>zCarMin</td>\n",
              "      <td>m</td>\n",
              "      <td>Minimum zCar achieved during this simulation.</td>\n",
              "      <td>StraightSim</td>\n",
              "    </tr>\n",
              "    <tr>\n",
              "      <th>zHubOffsetF:StraightSim</th>\n",
              "      <td>zHubOffsetF</td>\n",
              "      <td>m</td>\n",
              "      <td>Amount of front hub height offset to achieve s...</td>\n",
              "      <td>StraightSim</td>\n",
              "    </tr>\n",
              "    <tr>\n",
              "      <th>zHubOffsetR:StraightSim</th>\n",
              "      <td>zHubOffsetR</td>\n",
              "      <td>m</td>\n",
              "      <td>Amount of rear hub height offset to achieve se...</td>\n",
              "      <td>StraightSim</td>\n",
              "    </tr>\n",
              "  </tbody>\n",
              "</table>\n",
              "<p>97 rows × 4 columns</p>\n",
              "</div>"
            ],
            "text/plain": [
              "                                                        name  ...      simType\n",
              "fullName                                                      ...             \n",
              "aPitchBrakingvMax:ApexSim                  aPitchBrakingvMax  ...      ApexSim\n",
              "aPitchBrakingvMin:ApexSim                  aPitchBrakingvMin  ...      ApexSim\n",
              "aRockerFLAcceleratingvMin:ApexSim  aRockerFLAcceleratingvMin  ...      ApexSim\n",
              "aRockerFLBrakingvMax:ApexSim            aRockerFLBrakingvMax  ...      ApexSim\n",
              "aRockerRLAcceleratingvMin:ApexSim  aRockerRLAcceleratingvMin  ...      ApexSim\n",
              "...                                                      ...  ...          ...\n",
              "vCarMaxElectricDRS:StraightSim            vCarMaxElectricDRS  ...  StraightSim\n",
              "zCarMax:StraightSim                                  zCarMax  ...  StraightSim\n",
              "zCarMin:StraightSim                                  zCarMin  ...  StraightSim\n",
              "zHubOffsetF:StraightSim                          zHubOffsetF  ...  StraightSim\n",
              "zHubOffsetR:StraightSim                          zHubOffsetR  ...  StraightSim\n",
              "\n",
              "[97 rows x 4 columns]"
            ]
          },
          "metadata": {
            "tags": []
          },
          "execution_count": 16
        }
      ]
    },
    {
      "cell_type": "code",
      "metadata": {
        "id": "pMtWKOwJckKm",
        "colab_type": "code",
        "colab": {
          "base_uri": "https://localhost:8080/",
          "height": 190
        },
        "outputId": "ce2a43bc-035f-4a26-e388-e2130dbbd6a7"
      },
      "source": [
        "study.scalar_results.results"
      ],
      "execution_count": 17,
      "outputs": [
        {
          "output_type": "execute_result",
          "data": {
            "text/html": [
              "<div>\n",
              "<style scoped>\n",
              "    .dataframe tbody tr th:only-of-type {\n",
              "        vertical-align: middle;\n",
              "    }\n",
              "\n",
              "    .dataframe tbody tr th {\n",
              "        vertical-align: top;\n",
              "    }\n",
              "\n",
              "    .dataframe thead th {\n",
              "        text-align: right;\n",
              "    }\n",
              "</style>\n",
              "<table border=\"1\" class=\"dataframe\">\n",
              "  <thead>\n",
              "    <tr style=\"text-align: right;\">\n",
              "      <th></th>\n",
              "      <th>jobIndex</th>\n",
              "      <th>aPitchBrakingvMax:ApexSim</th>\n",
              "      <th>aPitchBrakingvMin:ApexSim</th>\n",
              "      <th>aRockerFLAcceleratingvMin:ApexSim</th>\n",
              "      <th>aRockerFLBrakingvMax:ApexSim</th>\n",
              "      <th>aRockerRLAcceleratingvMin:ApexSim</th>\n",
              "      <th>aRockerRLBrakingMax:ApexSim</th>\n",
              "      <th>aRockerRLBrakingvMax:ApexSim</th>\n",
              "      <th>hRideF100:ApexSim</th>\n",
              "      <th>hRideF200:ApexSim</th>\n",
              "      <th>hRideF300:ApexSim</th>\n",
              "      <th>hRideR100:ApexSim</th>\n",
              "      <th>hRideR200:ApexSim</th>\n",
              "      <th>hRideR300:ApexSim</th>\n",
              "      <th>kRollCar100:ApexSim</th>\n",
              "      <th>kRollCar200:ApexSim</th>\n",
              "      <th>kRollCar300:ApexSim</th>\n",
              "      <th>rAeroBal100:ApexSim</th>\n",
              "      <th>rAeroBal200:ApexSim</th>\n",
              "      <th>rAeroBal300:ApexSim</th>\n",
              "      <th>rAeroBalvMax:ApexSim</th>\n",
              "      <th>rLatBalF100:ApexSim</th>\n",
              "      <th>rLatBalF200:ApexSim</th>\n",
              "      <th>rLatBalF300:ApexSim</th>\n",
              "      <th>rhoAir:ApexSim</th>\n",
              "      <th>zCarBrakingvMax:ApexSim</th>\n",
              "      <th>tApexSim:Debug</th>\n",
              "      <th>tApexSimScalarResults:Debug</th>\n",
              "      <th>tApexSimVectorResults:Debug</th>\n",
              "      <th>tComponentSweepsVectorResults:Debug</th>\n",
              "      <th>tStraightSim:Debug</th>\n",
              "      <th>tStraightSimScalarResults:Debug</th>\n",
              "      <th>tStraightSimVectorResults:Debug</th>\n",
              "      <th>aCamberTyreF100:StraightSim</th>\n",
              "      <th>aCamberTyreF200:StraightSim</th>\n",
              "      <th>aCamberTyreF300:StraightSim</th>\n",
              "      <th>aCamberTyreFvMax:StraightSim</th>\n",
              "      <th>aCamberTyreR100:StraightSim</th>\n",
              "      <th>aCamberTyreR200:StraightSim</th>\n",
              "      <th>aCamberTyreR300:StraightSim</th>\n",
              "      <th>...</th>\n",
              "      <th>hRideUndertrayFrontvMax:StraightSim</th>\n",
              "      <th>hRideUndertrayMid100:StraightSim</th>\n",
              "      <th>hRideUndertrayMid200:StraightSim</th>\n",
              "      <th>hRideUndertrayMid300:StraightSim</th>\n",
              "      <th>hRideUndertrayMidvMax:StraightSim</th>\n",
              "      <th>hRideUndertrayRear100:StraightSim</th>\n",
              "      <th>hRideUndertrayRear200:StraightSim</th>\n",
              "      <th>hRideUndertrayRear300:StraightSim</th>\n",
              "      <th>hRideUndertrayRearvMax:StraightSim</th>\n",
              "      <th>kRollCar100:StraightSim</th>\n",
              "      <th>kRollCar200:StraightSim</th>\n",
              "      <th>kRollCar300:StraightSim</th>\n",
              "      <th>kRollCarvMax:StraightSim</th>\n",
              "      <th>lPushrodShimFL:StraightSim</th>\n",
              "      <th>lPushrodShimFR:StraightSim</th>\n",
              "      <th>lPushrodShimRL:StraightSim</th>\n",
              "      <th>lPushrodShimRR:StraightSim</th>\n",
              "      <th>lSpringShimFL:StraightSim</th>\n",
              "      <th>lSpringShimFR:StraightSim</th>\n",
              "      <th>lSpringShimRL:StraightSim</th>\n",
              "      <th>lSpringShimRR:StraightSim</th>\n",
              "      <th>rAeroBal100:StraightSim</th>\n",
              "      <th>rAeroBal200:StraightSim</th>\n",
              "      <th>rAeroBal300:StraightSim</th>\n",
              "      <th>rAeroBalvMax:StraightSim</th>\n",
              "      <th>rSlipGripMaxF_2kn:StraightSim</th>\n",
              "      <th>rSlipGripMaxR_2kn:StraightSim</th>\n",
              "      <th>rStiffnessBalF100:StraightSim</th>\n",
              "      <th>rStiffnessBalF200:StraightSim</th>\n",
              "      <th>rStiffnessBalF300:StraightSim</th>\n",
              "      <th>rStiffnessBalFvMax:StraightSim</th>\n",
              "      <th>rhoAir:StraightSim</th>\n",
              "      <th>vCarMax:StraightSim</th>\n",
              "      <th>vCarMaxDRS:StraightSim</th>\n",
              "      <th>vCarMaxElectric:StraightSim</th>\n",
              "      <th>vCarMaxElectricDRS:StraightSim</th>\n",
              "      <th>zCarMax:StraightSim</th>\n",
              "      <th>zCarMin:StraightSim</th>\n",
              "      <th>zHubOffsetF:StraightSim</th>\n",
              "      <th>zHubOffsetR:StraightSim</th>\n",
              "    </tr>\n",
              "  </thead>\n",
              "  <tbody>\n",
              "    <tr>\n",
              "      <th>0</th>\n",
              "      <td>0</td>\n",
              "      <td>-0.030741</td>\n",
              "      <td>-0.027722</td>\n",
              "      <td>0.005882</td>\n",
              "      <td>-0.052287</td>\n",
              "      <td>-0.027771</td>\n",
              "      <td>0.020840</td>\n",
              "      <td>-0.208146</td>\n",
              "      <td>0.026491</td>\n",
              "      <td>0.015169</td>\n",
              "      <td>-0.000541</td>\n",
              "      <td>0.133535</td>\n",
              "      <td>0.115568</td>\n",
              "      <td>0.086829</td>\n",
              "      <td>374300.293621</td>\n",
              "      <td>386790.823119</td>\n",
              "      <td>389037.518536</td>\n",
              "      <td>0.501906</td>\n",
              "      <td>0.489875</td>\n",
              "      <td>0.493144</td>\n",
              "      <td>0.512822</td>\n",
              "      <td>0.593153</td>\n",
              "      <td>0.651191</td>\n",
              "      <td>0.689567</td>\n",
              "      <td>1.182251</td>\n",
              "      <td>-0.296115</td>\n",
              "      <td>6.536414</td>\n",
              "      <td>0.009102</td>\n",
              "      <td>0.517728</td>\n",
              "      <td>0.301744</td>\n",
              "      <td>1.152932</td>\n",
              "      <td>0.009713</td>\n",
              "      <td>0.534033</td>\n",
              "      <td>-0.051809</td>\n",
              "      <td>-0.050343</td>\n",
              "      <td>-0.049914</td>\n",
              "      <td>-0.049889</td>\n",
              "      <td>-0.010763</td>\n",
              "      <td>-0.011905</td>\n",
              "      <td>-0.014037</td>\n",
              "      <td>...</td>\n",
              "      <td>0.007730</td>\n",
              "      <td>0.085177</td>\n",
              "      <td>0.068894</td>\n",
              "      <td>0.045929</td>\n",
              "      <td>0.042301</td>\n",
              "      <td>0.131842</td>\n",
              "      <td>0.111540</td>\n",
              "      <td>0.081242</td>\n",
              "      <td>0.077532</td>\n",
              "      <td>378685.968330</td>\n",
              "      <td>384134.515592</td>\n",
              "      <td>391898.839422</td>\n",
              "      <td>392655.528223</td>\n",
              "      <td>0.001370</td>\n",
              "      <td>0.001370</td>\n",
              "      <td>-0.004044</td>\n",
              "      <td>-0.004044</td>\n",
              "      <td>0.0</td>\n",
              "      <td>0.0</td>\n",
              "      <td>0.0</td>\n",
              "      <td>0.0</td>\n",
              "      <td>0.496588</td>\n",
              "      <td>0.478288</td>\n",
              "      <td>0.476375</td>\n",
              "      <td>0.485354</td>\n",
              "      <td>0.118367</td>\n",
              "      <td>0.126531</td>\n",
              "      <td>0.682568</td>\n",
              "      <td>0.699690</td>\n",
              "      <td>0.730861</td>\n",
              "      <td>0.734433</td>\n",
              "      <td>1.182251</td>\n",
              "      <td>79.092254</td>\n",
              "      <td>84.233058</td>\n",
              "      <td>83.881193</td>\n",
              "      <td>88.927500</td>\n",
              "      <td>-0.285855</td>\n",
              "      <td>-0.339510</td>\n",
              "      <td>0.253510</td>\n",
              "      <td>0.261569</td>\n",
              "    </tr>\n",
              "    <tr>\n",
              "      <th>1</th>\n",
              "      <td>1</td>\n",
              "      <td>-0.034024</td>\n",
              "      <td>-0.030090</td>\n",
              "      <td>0.005631</td>\n",
              "      <td>-0.051499</td>\n",
              "      <td>-0.027292</td>\n",
              "      <td>0.020217</td>\n",
              "      <td>-0.180005</td>\n",
              "      <td>0.020449</td>\n",
              "      <td>0.008567</td>\n",
              "      <td>-0.008722</td>\n",
              "      <td>0.136174</td>\n",
              "      <td>0.119246</td>\n",
              "      <td>0.094933</td>\n",
              "      <td>376497.261477</td>\n",
              "      <td>389768.056360</td>\n",
              "      <td>394700.959955</td>\n",
              "      <td>0.518373</td>\n",
              "      <td>0.513907</td>\n",
              "      <td>0.536119</td>\n",
              "      <td>0.548199</td>\n",
              "      <td>0.592091</td>\n",
              "      <td>0.650931</td>\n",
              "      <td>0.685575</td>\n",
              "      <td>1.182251</td>\n",
              "      <td>-0.299097</td>\n",
              "      <td>6.325673</td>\n",
              "      <td>0.009827</td>\n",
              "      <td>0.617662</td>\n",
              "      <td>0.377539</td>\n",
              "      <td>1.150443</td>\n",
              "      <td>0.011710</td>\n",
              "      <td>0.628323</td>\n",
              "      <td>-0.051833</td>\n",
              "      <td>-0.050450</td>\n",
              "      <td>-0.050097</td>\n",
              "      <td>-0.050083</td>\n",
              "      <td>-0.010740</td>\n",
              "      <td>-0.011757</td>\n",
              "      <td>-0.013692</td>\n",
              "      <td>...</td>\n",
              "      <td>0.001998</td>\n",
              "      <td>0.083963</td>\n",
              "      <td>0.067951</td>\n",
              "      <td>0.045625</td>\n",
              "      <td>0.042570</td>\n",
              "      <td>0.134460</td>\n",
              "      <td>0.115111</td>\n",
              "      <td>0.086899</td>\n",
              "      <td>0.083917</td>\n",
              "      <td>380711.652420</td>\n",
              "      <td>387687.062007</td>\n",
              "      <td>395836.447571</td>\n",
              "      <td>396285.824002</td>\n",
              "      <td>-0.000963</td>\n",
              "      <td>-0.000963</td>\n",
              "      <td>-0.004864</td>\n",
              "      <td>-0.004864</td>\n",
              "      <td>0.0</td>\n",
              "      <td>0.0</td>\n",
              "      <td>0.0</td>\n",
              "      <td>0.0</td>\n",
              "      <td>0.511818</td>\n",
              "      <td>0.500620</td>\n",
              "      <td>0.511235</td>\n",
              "      <td>0.521479</td>\n",
              "      <td>0.118367</td>\n",
              "      <td>0.126531</td>\n",
              "      <td>0.682140</td>\n",
              "      <td>0.699541</td>\n",
              "      <td>0.728708</td>\n",
              "      <td>0.731689</td>\n",
              "      <td>1.182251</td>\n",
              "      <td>78.678201</td>\n",
              "      <td>83.537308</td>\n",
              "      <td>83.372004</td>\n",
              "      <td>88.014501</td>\n",
              "      <td>-0.286828</td>\n",
              "      <td>-0.338272</td>\n",
              "      <td>0.247539</td>\n",
              "      <td>0.263887</td>\n",
              "    </tr>\n",
              "    <tr>\n",
              "      <th>2</th>\n",
              "      <td>2</td>\n",
              "      <td>-0.031668</td>\n",
              "      <td>-0.028192</td>\n",
              "      <td>0.005864</td>\n",
              "      <td>-0.052621</td>\n",
              "      <td>-0.027413</td>\n",
              "      <td>0.020714</td>\n",
              "      <td>-0.204971</td>\n",
              "      <td>0.027424</td>\n",
              "      <td>0.016019</td>\n",
              "      <td>0.000185</td>\n",
              "      <td>0.136235</td>\n",
              "      <td>0.118482</td>\n",
              "      <td>0.089468</td>\n",
              "      <td>374954.448010</td>\n",
              "      <td>387696.539283</td>\n",
              "      <td>390066.318899</td>\n",
              "      <td>0.507077</td>\n",
              "      <td>0.493312</td>\n",
              "      <td>0.493568</td>\n",
              "      <td>0.512347</td>\n",
              "      <td>0.591632</td>\n",
              "      <td>0.649321</td>\n",
              "      <td>0.687264</td>\n",
              "      <td>1.182251</td>\n",
              "      <td>-0.297823</td>\n",
              "      <td>6.455958</td>\n",
              "      <td>0.009809</td>\n",
              "      <td>0.547089</td>\n",
              "      <td>0.296113</td>\n",
              "      <td>1.121402</td>\n",
              "      <td>0.009141</td>\n",
              "      <td>0.557586</td>\n",
              "      <td>-0.051800</td>\n",
              "      <td>-0.050315</td>\n",
              "      <td>-0.049884</td>\n",
              "      <td>-0.049860</td>\n",
              "      <td>-0.010736</td>\n",
              "      <td>-0.011790</td>\n",
              "      <td>-0.013826</td>\n",
              "      <td>...</td>\n",
              "      <td>0.008770</td>\n",
              "      <td>0.087088</td>\n",
              "      <td>0.070879</td>\n",
              "      <td>0.047697</td>\n",
              "      <td>0.044099</td>\n",
              "      <td>0.134536</td>\n",
              "      <td>0.114430</td>\n",
              "      <td>0.083818</td>\n",
              "      <td>0.080104</td>\n",
              "      <td>379377.600056</td>\n",
              "      <td>385138.079373</td>\n",
              "      <td>392852.807747</td>\n",
              "      <td>393552.897915</td>\n",
              "      <td>0.001721</td>\n",
              "      <td>0.001721</td>\n",
              "      <td>-0.004934</td>\n",
              "      <td>-0.004934</td>\n",
              "      <td>0.0</td>\n",
              "      <td>0.0</td>\n",
              "      <td>0.0</td>\n",
              "      <td>0.0</td>\n",
              "      <td>0.501318</td>\n",
              "      <td>0.481290</td>\n",
              "      <td>0.476517</td>\n",
              "      <td>0.484731</td>\n",
              "      <td>0.118367</td>\n",
              "      <td>0.126531</td>\n",
              "      <td>0.680840</td>\n",
              "      <td>0.697882</td>\n",
              "      <td>0.728997</td>\n",
              "      <td>0.732506</td>\n",
              "      <td>1.182251</td>\n",
              "      <td>79.004034</td>\n",
              "      <td>84.107843</td>\n",
              "      <td>83.775182</td>\n",
              "      <td>88.783905</td>\n",
              "      <td>-0.287419</td>\n",
              "      <td>-0.341350</td>\n",
              "      <td>0.254411</td>\n",
              "      <td>0.264084</td>\n",
              "    </tr>\n",
              "  </tbody>\n",
              "</table>\n",
              "<p>3 rows × 98 columns</p>\n",
              "</div>"
            ],
            "text/plain": [
              "   jobIndex  ...  zHubOffsetR:StraightSim\n",
              "0         0  ...                 0.261569\n",
              "1         1  ...                 0.263887\n",
              "2         2  ...                 0.264084\n",
              "\n",
              "[3 rows x 98 columns]"
            ]
          },
          "metadata": {
            "tags": []
          },
          "execution_count": 17
        }
      ]
    },
    {
      "cell_type": "markdown",
      "metadata": {
        "id": "oShyBm8ncyC5",
        "colab_type": "text"
      },
      "source": [
        "You also have access to the study input data as defined by the exploration:"
      ]
    },
    {
      "cell_type": "code",
      "metadata": {
        "id": "BKM16-cScowz",
        "colab_type": "code",
        "colab": {
          "base_uri": "https://localhost:8080/",
          "height": 202
        },
        "outputId": "4f8acc54-9f93-4568-865d-f74370319f74"
      },
      "source": [
        "study.scalar_results.inputs_metadata"
      ],
      "execution_count": 18,
      "outputs": [
        {
          "output_type": "execute_result",
          "data": {
            "text/html": [
              "<div>\n",
              "<style scoped>\n",
              "    .dataframe tbody tr th:only-of-type {\n",
              "        vertical-align: middle;\n",
              "    }\n",
              "\n",
              "    .dataframe tbody tr th {\n",
              "        vertical-align: top;\n",
              "    }\n",
              "\n",
              "    .dataframe thead th {\n",
              "        text-align: right;\n",
              "    }\n",
              "</style>\n",
              "<table border=\"1\" class=\"dataframe\">\n",
              "  <thead>\n",
              "    <tr style=\"text-align: right;\">\n",
              "      <th></th>\n",
              "      <th>units</th>\n",
              "      <th>description</th>\n",
              "      <th>fullName</th>\n",
              "      <th>shortName</th>\n",
              "      <th>modifier</th>\n",
              "    </tr>\n",
              "    <tr>\n",
              "      <th>inputName</th>\n",
              "      <th></th>\n",
              "      <th></th>\n",
              "      <th></th>\n",
              "      <th></th>\n",
              "      <th></th>\n",
              "    </tr>\n",
              "  </thead>\n",
              "  <tbody>\n",
              "    <tr>\n",
              "      <th>car.chassis.carRunningMass.mCar+</th>\n",
              "      <td>kg</td>\n",
              "      <td></td>\n",
              "      <td>car.chassis.carRunningMass.mCar</td>\n",
              "      <td>mCar</td>\n",
              "      <td>+</td>\n",
              "    </tr>\n",
              "    <tr>\n",
              "      <th>car.chassis.ICar+</th>\n",
              "      <td>kgm2</td>\n",
              "      <td></td>\n",
              "      <td>car.chassis.ICar</td>\n",
              "      <td>ICar</td>\n",
              "      <td>+</td>\n",
              "    </tr>\n",
              "    <tr>\n",
              "      <th>car.chassis.hRideFSetup+</th>\n",
              "      <td>m</td>\n",
              "      <td></td>\n",
              "      <td>car.chassis.hRideFSetup</td>\n",
              "      <td>hRideFSetup</td>\n",
              "      <td>+</td>\n",
              "    </tr>\n",
              "    <tr>\n",
              "      <th>car.chassis.hRideRSetup+</th>\n",
              "      <td>m</td>\n",
              "      <td></td>\n",
              "      <td>car.chassis.hRideRSetup</td>\n",
              "      <td>hRideRSetup</td>\n",
              "      <td>+</td>\n",
              "    </tr>\n",
              "  </tbody>\n",
              "</table>\n",
              "</div>"
            ],
            "text/plain": [
              "                                 units description  ...    shortName modifier\n",
              "inputName                                           ...                      \n",
              "car.chassis.carRunningMass.mCar+    kg              ...         mCar        +\n",
              "car.chassis.ICar+                 kgm2              ...         ICar        +\n",
              "car.chassis.hRideFSetup+             m              ...  hRideFSetup        +\n",
              "car.chassis.hRideRSetup+             m              ...  hRideRSetup        +\n",
              "\n",
              "[4 rows x 5 columns]"
            ]
          },
          "metadata": {
            "tags": []
          },
          "execution_count": 18
        }
      ]
    },
    {
      "cell_type": "code",
      "metadata": {
        "id": "wtjPT9FgctSk",
        "colab_type": "code",
        "colab": {
          "base_uri": "https://localhost:8080/",
          "height": 141
        },
        "outputId": "8f946f69-14a7-471d-b963-15de565132af"
      },
      "source": [
        "study.scalar_results.inputs"
      ],
      "execution_count": 19,
      "outputs": [
        {
          "output_type": "execute_result",
          "data": {
            "text/html": [
              "<div>\n",
              "<style scoped>\n",
              "    .dataframe tbody tr th:only-of-type {\n",
              "        vertical-align: middle;\n",
              "    }\n",
              "\n",
              "    .dataframe tbody tr th {\n",
              "        vertical-align: top;\n",
              "    }\n",
              "\n",
              "    .dataframe thead th {\n",
              "        text-align: right;\n",
              "    }\n",
              "</style>\n",
              "<table border=\"1\" class=\"dataframe\">\n",
              "  <thead>\n",
              "    <tr style=\"text-align: right;\">\n",
              "      <th></th>\n",
              "      <th>car.chassis.carRunningMass.mCar+</th>\n",
              "      <th>car.chassis.ICar+</th>\n",
              "      <th>car.chassis.hRideFSetup+</th>\n",
              "      <th>car.chassis.hRideRSetup+</th>\n",
              "    </tr>\n",
              "  </thead>\n",
              "  <tbody>\n",
              "    <tr>\n",
              "      <th>0</th>\n",
              "      <td>7.148160</td>\n",
              "      <td>[5.72223973726,0.0,0.0,0.0,11.44447947452,0.0,...</td>\n",
              "      <td>0.007905</td>\n",
              "      <td>0.012891</td>\n",
              "    </tr>\n",
              "    <tr>\n",
              "      <th>1</th>\n",
              "      <td>-8.617120</td>\n",
              "      <td>[-17.92568042312,0.0,0.0,0.0,-35.85136084624,0...</td>\n",
              "      <td>0.002101</td>\n",
              "      <td>0.015405</td>\n",
              "    </tr>\n",
              "    <tr>\n",
              "      <th>2</th>\n",
              "      <td>2.523353</td>\n",
              "      <td>[-1.21497055106,0.0,0.0,0.0,-2.42994110212,0.0...</td>\n",
              "      <td>0.008856</td>\n",
              "      <td>0.015461</td>\n",
              "    </tr>\n",
              "  </tbody>\n",
              "</table>\n",
              "</div>"
            ],
            "text/plain": [
              "   car.chassis.carRunningMass.mCar+  ... car.chassis.hRideRSetup+\n",
              "0                          7.148160  ...                 0.012891\n",
              "1                         -8.617120  ...                 0.015405\n",
              "2                          2.523353  ...                 0.015461\n",
              "\n",
              "[3 rows x 4 columns]"
            ]
          },
          "metadata": {
            "tags": []
          },
          "execution_count": 19
        }
      ]
    },
    {
      "cell_type": "markdown",
      "metadata": {
        "id": "UkFryFZZdFIl",
        "colab_type": "text"
      },
      "source": [
        "We can convert this data to our desired units using the `session.units` helper:"
      ]
    },
    {
      "cell_type": "code",
      "metadata": {
        "id": "Btn4nQqfdJgL",
        "colab_type": "code",
        "colab": {
          "base_uri": "https://localhost:8080/",
          "height": 87
        },
        "outputId": "d5b6b9db-b249-456d-918f-8130184bbc0c"
      },
      "source": [
        "async with create_session() as session:\n",
        "    hRideF200_m = study.scalar_results.results['hRideF200:ApexSim']\n",
        "    hRideF200_mm = session.units.convert_series_from_si(hRideF200_m, 'mm')\n",
        "\n",
        "hRideF200_mm"
      ],
      "execution_count": 21,
      "outputs": [
        {
          "output_type": "execute_result",
          "data": {
            "text/plain": [
              "0    15.169\n",
              "1     8.567\n",
              "2    16.019\n",
              "Name: hRideF200:ApexSim, dtype: float64"
            ]
          },
          "metadata": {
            "tags": []
          },
          "execution_count": 21
        }
      ]
    }
  ]
}