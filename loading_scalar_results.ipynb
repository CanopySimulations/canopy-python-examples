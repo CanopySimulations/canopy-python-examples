{
  "nbformat": 4,
  "nbformat_minor": 0,
  "metadata": {
    "colab": {
      "name": "loading_scalar_results.ipynb",
      "provenance": [],
      "authorship_tag": "ABX9TyOguI93lB+2Azn9Aa7RDial",
      "include_colab_link": true
    },
    "kernelspec": {
      "name": "python3",
      "display_name": "Python 3"
    }
  },
  "cells": [
    {
      "cell_type": "markdown",
      "metadata": {
        "id": "view-in-github",
        "colab_type": "text"
      },
      "source": [
        "<a href=\"https://colab.research.google.com/github/CanopySimulations/canopy-python-examples/blob/master/loading_scalar_results.ipynb\" target=\"_parent\"><img src=\"https://colab.research.google.com/assets/colab-badge.svg\" alt=\"Open In Colab\"/></a>"
      ]
    },
    {
      "cell_type": "markdown",
      "metadata": {
        "id": "NtIv7oIVvn5i",
        "colab_type": "text"
      },
      "source": [
        "# Upgrade Runtime\n",
        "This cell ensures the runtime supports `asyncio` async/await, and is needed on Google Colab. If the runtime is upgraded, you will be prompted to restart it, which you should do before continuing execution."
      ]
    },
    {
      "cell_type": "code",
      "metadata": {
        "id": "E-AnefvPvmtR",
        "colab_type": "code",
        "colab": {}
      },
      "source": [
        "!pip install \"ipython>=7\""
      ],
      "execution_count": 0,
      "outputs": []
    },
    {
      "cell_type": "markdown",
      "metadata": {
        "id": "_61Bg2_KwIR2",
        "colab_type": "text"
      },
      "source": [
        "# Set Up Environment"
      ]
    },
    {
      "cell_type": "markdown",
      "metadata": {
        "id": "zX-xTWzWG1bt",
        "colab_type": "text"
      },
      "source": [
        "### Import required libraries"
      ]
    },
    {
      "cell_type": "code",
      "metadata": {
        "id": "gNnEvtkmwL0W",
        "colab_type": "code",
        "colab": {}
      },
      "source": [
        "!pip install -q 'canopy==7.2'"
      ],
      "execution_count": 0,
      "outputs": []
    },
    {
      "cell_type": "code",
      "metadata": {
        "id": "0bBsqDyhwN_8",
        "colab_type": "code",
        "colab": {}
      },
      "source": [
        "import canopy\n",
        "import logging\n",
        "\n",
        "logging.basicConfig(level=logging.INFO)"
      ],
      "execution_count": 0,
      "outputs": []
    },
    {
      "cell_type": "markdown",
      "metadata": {
        "id": "nH5-pXaZw5jg",
        "colab_type": "text"
      },
      "source": [
        "### Authenticate"
      ]
    },
    {
      "cell_type": "code",
      "metadata": {
        "id": "SAnwvDofwhw1",
        "colab_type": "code",
        "colab": {}
      },
      "source": [
        "authentication_data = canopy.prompt_for_authentication()\n",
        "\n",
        "def create_session():\n",
        "    return canopy.Session(authentication_data)"
      ],
      "execution_count": 0,
      "outputs": []
    },
    {
      "cell_type": "markdown",
      "metadata": {
        "id": "VSDal4PawY8-",
        "colab_type": "text"
      },
      "source": [
        "# Set Up Example"
      ]
    },
    {
      "cell_type": "markdown",
      "metadata": {
        "id": "cc9N0PwfUKEa",
        "colab_type": "text"
      },
      "source": [
        "Run a quick ApexSim exploration."
      ]
    },
    {
      "cell_type": "code",
      "metadata": {
        "id": "5r6ZPt3bUQJ9",
        "colab_type": "code",
        "outputId": "5aef1937-7093-49a8-a385-2d048b967147",
        "colab": {
          "base_uri": "https://localhost:8080/",
          "height": 104
        }
      },
      "source": [
        "async with create_session() as session:\n",
        "    logging.info('Loading configs...')\n",
        "\n",
        "    default_car = await canopy.load_default_config(\n",
        "        session, 'car', 'Canopy F1 Car 2019')\n",
        "    \n",
        "    default_weather = await canopy.load_default_config(\n",
        "        session, 'weather', '25 deg, dry')\n",
        "    \n",
        "    default_exploration = await canopy.load_default_config(\n",
        "        session, 'exploration', 'Automated Test Monte Carlo')\n",
        "\n",
        "    # We'll run a very small exploration for this example\n",
        "    default_exploration.data.design.numberOfPoints = 3\n",
        "\n",
        "    logging.info('Creating study...')\n",
        "\n",
        "    study_id = await canopy.create_study(\n",
        "        session,\n",
        "        'apexSim',\n",
        "        'Loading Scalar Results Example',\n",
        "        [\n",
        "            default_car,\n",
        "            default_weather,\n",
        "            default_exploration,\n",
        "        ])\n",
        "    \n",
        "    logging.info('Waiting for study to complete...')\n",
        "\n",
        "    wait_result = await canopy.wait_for_study(\n",
        "        session,\n",
        "        study_id,\n",
        "        timeout_seconds=300)\n",
        "    \n",
        "logging.info('Sim Version: {}'.format(wait_result.document.sim_version))    \n",
        "logging.info('Succeded Simulations: {}/{}'.format(\n",
        "    wait_result.succeeded_simulation_count, \n",
        "    wait_result.simulation_count))"
      ],
      "execution_count": 4,
      "outputs": [
        {
          "output_type": "stream",
          "text": [
            "INFO:root:Loading configs...\n",
            "INFO:root:Creating study...\n",
            "INFO:root:Waiting for study to complete...\n",
            "INFO:root:Sim Version: 1.3043\n",
            "INFO:root:Succeded Simulations: 3/3\n"
          ],
          "name": "stderr"
        }
      ]
    },
    {
      "cell_type": "markdown",
      "metadata": {
        "id": "FAFirfukWLfF",
        "colab_type": "text"
      },
      "source": [
        "# Example: Loading Scalar Results"
      ]
    },
    {
      "cell_type": "markdown",
      "metadata": {
        "id": "BOcIhzzUY32z",
        "colab_type": "text"
      },
      "source": [
        "## Loading for a single job\n",
        "We can load the scalar results for an individual job using the `load_study_job` helper function with the `include_scalar_results` parameter. Note we are specifically loading the `ApexSim` scalar results here. If we also wanted the `StraightSim` results we can fetch them in a second call."
      ]
    },
    {
      "cell_type": "code",
      "metadata": {
        "id": "vkHGACInWNkr",
        "colab_type": "code",
        "outputId": "c7af9b4e-e6c2-4c82-bf0d-ce9cbc24f2b7",
        "colab": {
          "base_uri": "https://localhost:8080/",
          "height": 468
        }
      },
      "source": [
        "async with create_session() as session:\n",
        "    job_0 = await canopy.load_study_job(\n",
        "        session,\n",
        "        study_id,\n",
        "        'ApexSim',\n",
        "        job_index=0,\n",
        "        include_scalar_results=True)\n",
        "    \n",
        "job_0.scalar_data"
      ],
      "execution_count": 5,
      "outputs": [
        {
          "output_type": "stream",
          "text": [
            "INFO:canopy.load_study_job:Loading job index 0\n"
          ],
          "name": "stderr"
        },
        {
          "output_type": "execute_result",
          "data": {
            "text/plain": [
              "{'rLatBalF100': 0.591313,\n",
              " 'rLatBalF200': 0.6492760000000001,\n",
              " 'rLatBalF300': 0.6833130000000001,\n",
              " 'kRollCar100': 377345.834901,\n",
              " 'kRollCar200': 390780.864954,\n",
              " 'kRollCar300': 395791.790421,\n",
              " 'rAeroBal100': 0.5235380000000001,\n",
              " 'rAeroBal200': 0.5174449999999999,\n",
              " 'rAeroBal300': 0.537024,\n",
              " 'rAeroBalvMax': 0.552127,\n",
              " 'rhoAir': 1.182251,\n",
              " 'hRideF100': 0.021309,\n",
              " 'hRideF200': 0.009343,\n",
              " 'hRideF300': -0.008104,\n",
              " 'hRideR100': 0.138955,\n",
              " 'hRideR200': 0.12222899999999999,\n",
              " 'hRideR300': 0.097728,\n",
              " 'zCarBrakingvMax': -0.302118,\n",
              " 'aPitchBrakingvMax': -0.035464999999999997,\n",
              " 'aPitchBrakingvMin': -0.030558999999999996,\n",
              " 'aRockerFLBrakingvMax': -0.051687000000000004,\n",
              " 'aRockerFLAcceleratingvMin': 0.0057740000000000005,\n",
              " 'aRockerRLBrakingvMax': -0.166323,\n",
              " 'aRockerRLBrakingMax': 0.020674,\n",
              " 'aRockerRLAcceleratingvMin': -0.027404}"
            ]
          },
          "metadata": {
            "tags": []
          },
          "execution_count": 5
        }
      ]
    },
    {
      "cell_type": "markdown",
      "metadata": {
        "id": "M6QjAzHFZhVe",
        "colab_type": "text"
      },
      "source": [
        "We can request individual scalar results in our desired units using the `scalar_as` function:"
      ]
    },
    {
      "cell_type": "code",
      "metadata": {
        "id": "7yQVhrU3ZmWG",
        "colab_type": "code",
        "outputId": "44fc4934-b32c-4811-ff59-945735215bc4",
        "colab": {
          "base_uri": "https://localhost:8080/",
          "height": 35
        }
      },
      "source": [
        "job_0.scalar_as('hRideF200', 'mm')"
      ],
      "execution_count": 6,
      "outputs": [
        {
          "output_type": "execute_result",
          "data": {
            "text/plain": [
              "9.343"
            ]
          },
          "metadata": {
            "tags": []
          },
          "execution_count": 6
        }
      ]
    },
    {
      "cell_type": "markdown",
      "metadata": {
        "id": "0VPQ8IMuZuZX",
        "colab_type": "text"
      },
      "source": [
        "You can also use the `scalar_as` function and omit the units, which will then use the units from your preferences saved on the Canopy platform:"
      ]
    },
    {
      "cell_type": "code",
      "metadata": {
        "id": "f3lWWpWtZ0eJ",
        "colab_type": "code",
        "outputId": "7d4fd78f-ca1b-4386-d68a-6b01cb34064a",
        "colab": {
          "base_uri": "https://localhost:8080/",
          "height": 35
        }
      },
      "source": [
        "job_0.scalar_as('hRideF200')"
      ],
      "execution_count": 7,
      "outputs": [
        {
          "output_type": "execute_result",
          "data": {
            "text/plain": [
              "0.009343"
            ]
          },
          "metadata": {
            "tags": []
          },
          "execution_count": 7
        }
      ]
    },
    {
      "cell_type": "markdown",
      "metadata": {
        "id": "mWWmbVeobKJG",
        "colab_type": "text"
      },
      "source": [
        "## Loading for an entire study\n",
        "\n",
        "We can load the scalar results for the entire study using the `load_study` helper function with the `include_study_scalar_results` parameter. \n",
        "\n",
        "This loads the aggregated scalar results produced by the post-processing job when the study was run, so it is more efficient than loading the scalar results for each study individually.\n",
        "\n",
        "Note that the aggregated scalar results contain the scalar results for every simulation run in the study (in this case both ApexSim and StraightSim), and so the variable names are of the form `<Name>:<SimType>` to avoid conflicts."
      ]
    },
    {
      "cell_type": "code",
      "metadata": {
        "id": "3MG8an6SbM2U",
        "colab_type": "code",
        "colab": {
          "base_uri": "https://localhost:8080/",
          "height": 35
        },
        "outputId": "30475e21-ab30-40d9-87ef-ec4e49e41558"
      },
      "source": [
        "async with create_session() as session:\n",
        "    study = await canopy.load_study(\n",
        "        session,\n",
        "        study_id,\n",
        "        include_study_scalar_results=True)"
      ],
      "execution_count": 8,
      "outputs": [
        {
          "output_type": "stream",
          "text": [
            "INFO:numexpr.utils:NumExpr defaulting to 2 threads.\n"
          ],
          "name": "stderr"
        }
      ]
    },
    {
      "cell_type": "code",
      "metadata": {
        "id": "WxZg7YRrcda5",
        "colab_type": "code",
        "outputId": "b66e5cc8-400b-49f1-ad0f-589d25409352",
        "colab": {
          "base_uri": "https://localhost:8080/",
          "height": 446
        }
      },
      "source": [
        "study.scalar_results.results_metadata"
      ],
      "execution_count": 9,
      "outputs": [
        {
          "output_type": "execute_result",
          "data": {
            "text/html": [
              "<div>\n",
              "<style scoped>\n",
              "    .dataframe tbody tr th:only-of-type {\n",
              "        vertical-align: middle;\n",
              "    }\n",
              "\n",
              "    .dataframe tbody tr th {\n",
              "        vertical-align: top;\n",
              "    }\n",
              "\n",
              "    .dataframe thead th {\n",
              "        text-align: right;\n",
              "    }\n",
              "</style>\n",
              "<table border=\"1\" class=\"dataframe\">\n",
              "  <thead>\n",
              "    <tr style=\"text-align: right;\">\n",
              "      <th></th>\n",
              "      <th>name</th>\n",
              "      <th>units</th>\n",
              "      <th>description</th>\n",
              "      <th>simType</th>\n",
              "    </tr>\n",
              "    <tr>\n",
              "      <th>fullName</th>\n",
              "      <th></th>\n",
              "      <th></th>\n",
              "      <th></th>\n",
              "      <th></th>\n",
              "    </tr>\n",
              "  </thead>\n",
              "  <tbody>\n",
              "    <tr>\n",
              "      <th>aPitchBrakingvMax:ApexSim</th>\n",
              "      <td>aPitchBrakingvMax</td>\n",
              "      <td>rad</td>\n",
              "      <td>aPitch under straight line braking at vMax.</td>\n",
              "      <td>ApexSim</td>\n",
              "    </tr>\n",
              "    <tr>\n",
              "      <th>aPitchBrakingvMin:ApexSim</th>\n",
              "      <td>aPitchBrakingvMin</td>\n",
              "      <td>rad</td>\n",
              "      <td>aPitch under straight line acceleration at vMin.</td>\n",
              "      <td>ApexSim</td>\n",
              "    </tr>\n",
              "    <tr>\n",
              "      <th>aRockerFLAcceleratingvMin:ApexSim</th>\n",
              "      <td>aRockerFLAcceleratingvMin</td>\n",
              "      <td>rad</td>\n",
              "      <td>aRockerFL under straight line acceleration at ...</td>\n",
              "      <td>ApexSim</td>\n",
              "    </tr>\n",
              "    <tr>\n",
              "      <th>aRockerFLBrakingvMax:ApexSim</th>\n",
              "      <td>aRockerFLBrakingvMax</td>\n",
              "      <td>rad</td>\n",
              "      <td>aRockerFL under straight line braking at vMax.</td>\n",
              "      <td>ApexSim</td>\n",
              "    </tr>\n",
              "    <tr>\n",
              "      <th>aRockerRLAcceleratingvMin:ApexSim</th>\n",
              "      <td>aRockerRLAcceleratingvMin</td>\n",
              "      <td>rad</td>\n",
              "      <td>aRockerRL under straight line acceleration at ...</td>\n",
              "      <td>ApexSim</td>\n",
              "    </tr>\n",
              "    <tr>\n",
              "      <th>...</th>\n",
              "      <td>...</td>\n",
              "      <td>...</td>\n",
              "      <td>...</td>\n",
              "      <td>...</td>\n",
              "    </tr>\n",
              "    <tr>\n",
              "      <th>vCarMaxElectricDRS:StraightSim</th>\n",
              "      <td>vCarMaxElectricDRS</td>\n",
              "      <td>m/s</td>\n",
              "      <td>Maximum vCar achievable on a flat track at wid...</td>\n",
              "      <td>StraightSim</td>\n",
              "    </tr>\n",
              "    <tr>\n",
              "      <th>zCarMax:StraightSim</th>\n",
              "      <td>zCarMax</td>\n",
              "      <td>m</td>\n",
              "      <td>Maximum zCar achieved during this simulation.</td>\n",
              "      <td>StraightSim</td>\n",
              "    </tr>\n",
              "    <tr>\n",
              "      <th>zCarMin:StraightSim</th>\n",
              "      <td>zCarMin</td>\n",
              "      <td>m</td>\n",
              "      <td>Minimum zCar achieved during this simulation.</td>\n",
              "      <td>StraightSim</td>\n",
              "    </tr>\n",
              "    <tr>\n",
              "      <th>zHubOffsetF:StraightSim</th>\n",
              "      <td>zHubOffsetF</td>\n",
              "      <td>m</td>\n",
              "      <td>Amount of front hub height offset to achieve s...</td>\n",
              "      <td>StraightSim</td>\n",
              "    </tr>\n",
              "    <tr>\n",
              "      <th>zHubOffsetR:StraightSim</th>\n",
              "      <td>zHubOffsetR</td>\n",
              "      <td>m</td>\n",
              "      <td>Amount of rear hub height offset to achieve se...</td>\n",
              "      <td>StraightSim</td>\n",
              "    </tr>\n",
              "  </tbody>\n",
              "</table>\n",
              "<p>97 rows × 4 columns</p>\n",
              "</div>"
            ],
            "text/plain": [
              "                                                        name  ...      simType\n",
              "fullName                                                      ...             \n",
              "aPitchBrakingvMax:ApexSim                  aPitchBrakingvMax  ...      ApexSim\n",
              "aPitchBrakingvMin:ApexSim                  aPitchBrakingvMin  ...      ApexSim\n",
              "aRockerFLAcceleratingvMin:ApexSim  aRockerFLAcceleratingvMin  ...      ApexSim\n",
              "aRockerFLBrakingvMax:ApexSim            aRockerFLBrakingvMax  ...      ApexSim\n",
              "aRockerRLAcceleratingvMin:ApexSim  aRockerRLAcceleratingvMin  ...      ApexSim\n",
              "...                                                      ...  ...          ...\n",
              "vCarMaxElectricDRS:StraightSim            vCarMaxElectricDRS  ...  StraightSim\n",
              "zCarMax:StraightSim                                  zCarMax  ...  StraightSim\n",
              "zCarMin:StraightSim                                  zCarMin  ...  StraightSim\n",
              "zHubOffsetF:StraightSim                          zHubOffsetF  ...  StraightSim\n",
              "zHubOffsetR:StraightSim                          zHubOffsetR  ...  StraightSim\n",
              "\n",
              "[97 rows x 4 columns]"
            ]
          },
          "metadata": {
            "tags": []
          },
          "execution_count": 9
        }
      ]
    },
    {
      "cell_type": "code",
      "metadata": {
        "id": "pMtWKOwJckKm",
        "colab_type": "code",
        "outputId": "670ded15-d725-4a8a-fb47-da8d3cfaa560",
        "colab": {
          "base_uri": "https://localhost:8080/",
          "height": 190
        }
      },
      "source": [
        "study.scalar_results.results"
      ],
      "execution_count": 10,
      "outputs": [
        {
          "output_type": "execute_result",
          "data": {
            "text/html": [
              "<div>\n",
              "<style scoped>\n",
              "    .dataframe tbody tr th:only-of-type {\n",
              "        vertical-align: middle;\n",
              "    }\n",
              "\n",
              "    .dataframe tbody tr th {\n",
              "        vertical-align: top;\n",
              "    }\n",
              "\n",
              "    .dataframe thead th {\n",
              "        text-align: right;\n",
              "    }\n",
              "</style>\n",
              "<table border=\"1\" class=\"dataframe\">\n",
              "  <thead>\n",
              "    <tr style=\"text-align: right;\">\n",
              "      <th></th>\n",
              "      <th>jobIndex</th>\n",
              "      <th>aPitchBrakingvMax:ApexSim</th>\n",
              "      <th>aPitchBrakingvMin:ApexSim</th>\n",
              "      <th>aRockerFLAcceleratingvMin:ApexSim</th>\n",
              "      <th>aRockerFLBrakingvMax:ApexSim</th>\n",
              "      <th>aRockerRLAcceleratingvMin:ApexSim</th>\n",
              "      <th>aRockerRLBrakingMax:ApexSim</th>\n",
              "      <th>aRockerRLBrakingvMax:ApexSim</th>\n",
              "      <th>hRideF100:ApexSim</th>\n",
              "      <th>hRideF200:ApexSim</th>\n",
              "      <th>hRideF300:ApexSim</th>\n",
              "      <th>hRideR100:ApexSim</th>\n",
              "      <th>hRideR200:ApexSim</th>\n",
              "      <th>hRideR300:ApexSim</th>\n",
              "      <th>kRollCar100:ApexSim</th>\n",
              "      <th>kRollCar200:ApexSim</th>\n",
              "      <th>kRollCar300:ApexSim</th>\n",
              "      <th>rAeroBal100:ApexSim</th>\n",
              "      <th>rAeroBal200:ApexSim</th>\n",
              "      <th>rAeroBal300:ApexSim</th>\n",
              "      <th>rAeroBalvMax:ApexSim</th>\n",
              "      <th>rLatBalF100:ApexSim</th>\n",
              "      <th>rLatBalF200:ApexSim</th>\n",
              "      <th>rLatBalF300:ApexSim</th>\n",
              "      <th>rhoAir:ApexSim</th>\n",
              "      <th>zCarBrakingvMax:ApexSim</th>\n",
              "      <th>tApexSim:Debug</th>\n",
              "      <th>tApexSimScalarResults:Debug</th>\n",
              "      <th>tApexSimVectorResults:Debug</th>\n",
              "      <th>tComponentSweepsVectorResults:Debug</th>\n",
              "      <th>tStraightSim:Debug</th>\n",
              "      <th>tStraightSimScalarResults:Debug</th>\n",
              "      <th>tStraightSimVectorResults:Debug</th>\n",
              "      <th>aCamberTyreF100:StraightSim</th>\n",
              "      <th>aCamberTyreF200:StraightSim</th>\n",
              "      <th>aCamberTyreF300:StraightSim</th>\n",
              "      <th>aCamberTyreFvMax:StraightSim</th>\n",
              "      <th>aCamberTyreR100:StraightSim</th>\n",
              "      <th>aCamberTyreR200:StraightSim</th>\n",
              "      <th>aCamberTyreR300:StraightSim</th>\n",
              "      <th>...</th>\n",
              "      <th>hRideUndertrayFrontvMax:StraightSim</th>\n",
              "      <th>hRideUndertrayMid100:StraightSim</th>\n",
              "      <th>hRideUndertrayMid200:StraightSim</th>\n",
              "      <th>hRideUndertrayMid300:StraightSim</th>\n",
              "      <th>hRideUndertrayMidvMax:StraightSim</th>\n",
              "      <th>hRideUndertrayRear100:StraightSim</th>\n",
              "      <th>hRideUndertrayRear200:StraightSim</th>\n",
              "      <th>hRideUndertrayRear300:StraightSim</th>\n",
              "      <th>hRideUndertrayRearvMax:StraightSim</th>\n",
              "      <th>kRollCar100:StraightSim</th>\n",
              "      <th>kRollCar200:StraightSim</th>\n",
              "      <th>kRollCar300:StraightSim</th>\n",
              "      <th>kRollCarvMax:StraightSim</th>\n",
              "      <th>lPushrodShimFL:StraightSim</th>\n",
              "      <th>lPushrodShimFR:StraightSim</th>\n",
              "      <th>lPushrodShimRL:StraightSim</th>\n",
              "      <th>lPushrodShimRR:StraightSim</th>\n",
              "      <th>lSpringShimFL:StraightSim</th>\n",
              "      <th>lSpringShimFR:StraightSim</th>\n",
              "      <th>lSpringShimRL:StraightSim</th>\n",
              "      <th>lSpringShimRR:StraightSim</th>\n",
              "      <th>rAeroBal100:StraightSim</th>\n",
              "      <th>rAeroBal200:StraightSim</th>\n",
              "      <th>rAeroBal300:StraightSim</th>\n",
              "      <th>rAeroBalvMax:StraightSim</th>\n",
              "      <th>rSlipGripMaxF_2kn:StraightSim</th>\n",
              "      <th>rSlipGripMaxR_2kn:StraightSim</th>\n",
              "      <th>rStiffnessBalF100:StraightSim</th>\n",
              "      <th>rStiffnessBalF200:StraightSim</th>\n",
              "      <th>rStiffnessBalF300:StraightSim</th>\n",
              "      <th>rStiffnessBalFvMax:StraightSim</th>\n",
              "      <th>rhoAir:StraightSim</th>\n",
              "      <th>vCarMax:StraightSim</th>\n",
              "      <th>vCarMaxDRS:StraightSim</th>\n",
              "      <th>vCarMaxElectric:StraightSim</th>\n",
              "      <th>vCarMaxElectricDRS:StraightSim</th>\n",
              "      <th>zCarMax:StraightSim</th>\n",
              "      <th>zCarMin:StraightSim</th>\n",
              "      <th>zHubOffsetF:StraightSim</th>\n",
              "      <th>zHubOffsetR:StraightSim</th>\n",
              "    </tr>\n",
              "  </thead>\n",
              "  <tbody>\n",
              "    <tr>\n",
              "      <th>0</th>\n",
              "      <td>0</td>\n",
              "      <td>-0.035465</td>\n",
              "      <td>-0.030559</td>\n",
              "      <td>0.005774</td>\n",
              "      <td>-0.051687</td>\n",
              "      <td>-0.027404</td>\n",
              "      <td>0.020674</td>\n",
              "      <td>-0.166323</td>\n",
              "      <td>0.021309</td>\n",
              "      <td>0.009343</td>\n",
              "      <td>-0.008104</td>\n",
              "      <td>0.138955</td>\n",
              "      <td>0.122229</td>\n",
              "      <td>0.097728</td>\n",
              "      <td>377345.834901</td>\n",
              "      <td>390780.864954</td>\n",
              "      <td>395791.790421</td>\n",
              "      <td>0.523538</td>\n",
              "      <td>0.517445</td>\n",
              "      <td>0.537024</td>\n",
              "      <td>0.552127</td>\n",
              "      <td>0.591313</td>\n",
              "      <td>0.649276</td>\n",
              "      <td>0.683313</td>\n",
              "      <td>1.182251</td>\n",
              "      <td>-0.302118</td>\n",
              "      <td>6.002493</td>\n",
              "      <td>0.015924</td>\n",
              "      <td>0.877577</td>\n",
              "      <td>0.632749</td>\n",
              "      <td>1.113279</td>\n",
              "      <td>0.012650</td>\n",
              "      <td>0.852302</td>\n",
              "      <td>-0.051825</td>\n",
              "      <td>-0.050423</td>\n",
              "      <td>-0.050068</td>\n",
              "      <td>-0.050053</td>\n",
              "      <td>-0.010713</td>\n",
              "      <td>-0.011639</td>\n",
              "      <td>-0.013469</td>\n",
              "      <td>...</td>\n",
              "      <td>0.002963</td>\n",
              "      <td>0.085886</td>\n",
              "      <td>0.069945</td>\n",
              "      <td>0.047412</td>\n",
              "      <td>0.044393</td>\n",
              "      <td>0.137227</td>\n",
              "      <td>0.118071</td>\n",
              "      <td>0.089580</td>\n",
              "      <td>0.086614</td>\n",
              "      <td>381487.877007</td>\n",
              "      <td>388784.699250</td>\n",
              "      <td>396858.760039</td>\n",
              "      <td>397251.281024</td>\n",
              "      <td>-0.000575</td>\n",
              "      <td>-0.000575</td>\n",
              "      <td>-0.005849</td>\n",
              "      <td>-0.005849</td>\n",
              "      <td>0.0</td>\n",
              "      <td>0.0</td>\n",
              "      <td>0.0</td>\n",
              "      <td>0.0</td>\n",
              "      <td>0.516525</td>\n",
              "      <td>0.503698</td>\n",
              "      <td>0.511529</td>\n",
              "      <td>0.521079</td>\n",
              "      <td>0.118367</td>\n",
              "      <td>0.126531</td>\n",
              "      <td>0.680272</td>\n",
              "      <td>0.697639</td>\n",
              "      <td>0.726737</td>\n",
              "      <td>0.729646</td>\n",
              "      <td>1.182251</td>\n",
              "      <td>78.578958</td>\n",
              "      <td>83.402597</td>\n",
              "      <td>83.255950</td>\n",
              "      <td>87.867760</td>\n",
              "      <td>-0.288308</td>\n",
              "      <td>-0.340116</td>\n",
              "      <td>0.248530</td>\n",
              "      <td>0.266658</td>\n",
              "    </tr>\n",
              "    <tr>\n",
              "      <th>1</th>\n",
              "      <td>1</td>\n",
              "      <td>-0.032430</td>\n",
              "      <td>-0.028585</td>\n",
              "      <td>0.005929</td>\n",
              "      <td>-0.052779</td>\n",
              "      <td>-0.027430</td>\n",
              "      <td>0.020926</td>\n",
              "      <td>-0.201112</td>\n",
              "      <td>0.027618</td>\n",
              "      <td>0.016134</td>\n",
              "      <td>0.000134</td>\n",
              "      <td>0.137986</td>\n",
              "      <td>0.120414</td>\n",
              "      <td>0.091469</td>\n",
              "      <td>375547.882567</td>\n",
              "      <td>388440.657633</td>\n",
              "      <td>391054.580420</td>\n",
              "      <td>0.511130</td>\n",
              "      <td>0.496745</td>\n",
              "      <td>0.496180</td>\n",
              "      <td>0.514813</td>\n",
              "      <td>0.591098</td>\n",
              "      <td>0.648351</td>\n",
              "      <td>0.685723</td>\n",
              "      <td>1.182251</td>\n",
              "      <td>-0.299029</td>\n",
              "      <td>6.331092</td>\n",
              "      <td>0.008953</td>\n",
              "      <td>0.525486</td>\n",
              "      <td>0.473990</td>\n",
              "      <td>1.127291</td>\n",
              "      <td>0.008768</td>\n",
              "      <td>0.554414</td>\n",
              "      <td>-0.051796</td>\n",
              "      <td>-0.050303</td>\n",
              "      <td>-0.049875</td>\n",
              "      <td>-0.049852</td>\n",
              "      <td>-0.010719</td>\n",
              "      <td>-0.011711</td>\n",
              "      <td>-0.013676</td>\n",
              "      <td>...</td>\n",
              "      <td>0.009043</td>\n",
              "      <td>0.088145</td>\n",
              "      <td>0.071997</td>\n",
              "      <td>0.048715</td>\n",
              "      <td>0.045164</td>\n",
              "      <td>0.136278</td>\n",
              "      <td>0.116344</td>\n",
              "      <td>0.085654</td>\n",
              "      <td>0.081976</td>\n",
              "      <td>379926.544357</td>\n",
              "      <td>385959.059782</td>\n",
              "      <td>393651.856015</td>\n",
              "      <td>394298.619337</td>\n",
              "      <td>0.001825</td>\n",
              "      <td>0.001825</td>\n",
              "      <td>-0.005544</td>\n",
              "      <td>-0.005544</td>\n",
              "      <td>0.0</td>\n",
              "      <td>0.0</td>\n",
              "      <td>0.0</td>\n",
              "      <td>0.0</td>\n",
              "      <td>0.505032</td>\n",
              "      <td>0.484369</td>\n",
              "      <td>0.478529</td>\n",
              "      <td>0.486394</td>\n",
              "      <td>0.118367</td>\n",
              "      <td>0.126531</td>\n",
              "      <td>0.679733</td>\n",
              "      <td>0.696760</td>\n",
              "      <td>0.727744</td>\n",
              "      <td>0.731190</td>\n",
              "      <td>1.182251</td>\n",
              "      <td>78.927410</td>\n",
              "      <td>83.991803</td>\n",
              "      <td>83.681850</td>\n",
              "      <td>88.651449</td>\n",
              "      <td>-0.288339</td>\n",
              "      <td>-0.342358</td>\n",
              "      <td>0.254677</td>\n",
              "      <td>0.265802</td>\n",
              "    </tr>\n",
              "    <tr>\n",
              "      <th>2</th>\n",
              "      <td>2</td>\n",
              "      <td>-0.031346</td>\n",
              "      <td>-0.027938</td>\n",
              "      <td>0.005854</td>\n",
              "      <td>-0.052782</td>\n",
              "      <td>-0.027294</td>\n",
              "      <td>0.020632</td>\n",
              "      <td>-0.208439</td>\n",
              "      <td>0.028441</td>\n",
              "      <td>0.017102</td>\n",
              "      <td>0.001446</td>\n",
              "      <td>0.136296</td>\n",
              "      <td>0.118465</td>\n",
              "      <td>0.088990</td>\n",
              "      <td>374704.111068</td>\n",
              "      <td>387401.933334</td>\n",
              "      <td>389375.784709</td>\n",
              "      <td>0.505886</td>\n",
              "      <td>0.490859</td>\n",
              "      <td>0.488502</td>\n",
              "      <td>0.506079</td>\n",
              "      <td>0.591358</td>\n",
              "      <td>0.648987</td>\n",
              "      <td>0.687308</td>\n",
              "      <td>1.182251</td>\n",
              "      <td>-0.297686</td>\n",
              "      <td>6.590216</td>\n",
              "      <td>0.013976</td>\n",
              "      <td>1.198422</td>\n",
              "      <td>0.485239</td>\n",
              "      <td>1.205162</td>\n",
              "      <td>0.016126</td>\n",
              "      <td>1.141656</td>\n",
              "      <td>-0.051795</td>\n",
              "      <td>-0.050295</td>\n",
              "      <td>-0.049852</td>\n",
              "      <td>-0.049827</td>\n",
              "      <td>-0.010735</td>\n",
              "      <td>-0.011792</td>\n",
              "      <td>-0.013838</td>\n",
              "      <td>...</td>\n",
              "      <td>0.009788</td>\n",
              "      <td>0.087573</td>\n",
              "      <td>0.071356</td>\n",
              "      <td>0.048081</td>\n",
              "      <td>0.044424</td>\n",
              "      <td>0.134600</td>\n",
              "      <td>0.114423</td>\n",
              "      <td>0.083531</td>\n",
              "      <td>0.079722</td>\n",
              "      <td>379184.663449</td>\n",
              "      <td>384783.949492</td>\n",
              "      <td>392461.858132</td>\n",
              "      <td>393196.068943</td>\n",
              "      <td>0.002095</td>\n",
              "      <td>0.002095</td>\n",
              "      <td>-0.004942</td>\n",
              "      <td>-0.004942</td>\n",
              "      <td>0.0</td>\n",
              "      <td>0.0</td>\n",
              "      <td>0.0</td>\n",
              "      <td>0.0</td>\n",
              "      <td>0.500201</td>\n",
              "      <td>0.478965</td>\n",
              "      <td>0.472194</td>\n",
              "      <td>0.480016</td>\n",
              "      <td>0.118367</td>\n",
              "      <td>0.126531</td>\n",
              "      <td>0.680648</td>\n",
              "      <td>0.697612</td>\n",
              "      <td>0.728948</td>\n",
              "      <td>0.732515</td>\n",
              "      <td>1.182251</td>\n",
              "      <td>79.046130</td>\n",
              "      <td>84.183186</td>\n",
              "      <td>83.827671</td>\n",
              "      <td>88.867766</td>\n",
              "      <td>-0.287727</td>\n",
              "      <td>-0.341824</td>\n",
              "      <td>0.255370</td>\n",
              "      <td>0.264107</td>\n",
              "    </tr>\n",
              "  </tbody>\n",
              "</table>\n",
              "<p>3 rows × 98 columns</p>\n",
              "</div>"
            ],
            "text/plain": [
              "   jobIndex  ...  zHubOffsetR:StraightSim\n",
              "0         0  ...                 0.266658\n",
              "1         1  ...                 0.265802\n",
              "2         2  ...                 0.264107\n",
              "\n",
              "[3 rows x 98 columns]"
            ]
          },
          "metadata": {
            "tags": []
          },
          "execution_count": 10
        }
      ]
    },
    {
      "cell_type": "markdown",
      "metadata": {
        "id": "oShyBm8ncyC5",
        "colab_type": "text"
      },
      "source": [
        "You also have access to the study input data as defined by the exploration:"
      ]
    },
    {
      "cell_type": "code",
      "metadata": {
        "id": "BKM16-cScowz",
        "colab_type": "code",
        "outputId": "1456de5f-1502-4b5e-f0d8-0d93721a3995",
        "colab": {
          "base_uri": "https://localhost:8080/",
          "height": 202
        }
      },
      "source": [
        "study.scalar_results.inputs_metadata"
      ],
      "execution_count": 11,
      "outputs": [
        {
          "output_type": "execute_result",
          "data": {
            "text/html": [
              "<div>\n",
              "<style scoped>\n",
              "    .dataframe tbody tr th:only-of-type {\n",
              "        vertical-align: middle;\n",
              "    }\n",
              "\n",
              "    .dataframe tbody tr th {\n",
              "        vertical-align: top;\n",
              "    }\n",
              "\n",
              "    .dataframe thead th {\n",
              "        text-align: right;\n",
              "    }\n",
              "</style>\n",
              "<table border=\"1\" class=\"dataframe\">\n",
              "  <thead>\n",
              "    <tr style=\"text-align: right;\">\n",
              "      <th></th>\n",
              "      <th>units</th>\n",
              "      <th>description</th>\n",
              "      <th>fullName</th>\n",
              "      <th>shortName</th>\n",
              "      <th>modifier</th>\n",
              "    </tr>\n",
              "    <tr>\n",
              "      <th>inputName</th>\n",
              "      <th></th>\n",
              "      <th></th>\n",
              "      <th></th>\n",
              "      <th></th>\n",
              "      <th></th>\n",
              "    </tr>\n",
              "  </thead>\n",
              "  <tbody>\n",
              "    <tr>\n",
              "      <th>car.chassis.carRunningMass.mCar+</th>\n",
              "      <td>kg</td>\n",
              "      <td></td>\n",
              "      <td>car.chassis.carRunningMass.mCar</td>\n",
              "      <td>mCar</td>\n",
              "      <td>+</td>\n",
              "    </tr>\n",
              "    <tr>\n",
              "      <th>car.chassis.ICar+</th>\n",
              "      <td>kgm2</td>\n",
              "      <td></td>\n",
              "      <td>car.chassis.ICar</td>\n",
              "      <td>ICar</td>\n",
              "      <td>+</td>\n",
              "    </tr>\n",
              "    <tr>\n",
              "      <th>car.chassis.hRideFSetup+</th>\n",
              "      <td>m</td>\n",
              "      <td></td>\n",
              "      <td>car.chassis.hRideFSetup</td>\n",
              "      <td>hRideFSetup</td>\n",
              "      <td>+</td>\n",
              "    </tr>\n",
              "    <tr>\n",
              "      <th>car.chassis.hRideRSetup+</th>\n",
              "      <td>m</td>\n",
              "      <td></td>\n",
              "      <td>car.chassis.hRideRSetup</td>\n",
              "      <td>hRideRSetup</td>\n",
              "      <td>+</td>\n",
              "    </tr>\n",
              "  </tbody>\n",
              "</table>\n",
              "</div>"
            ],
            "text/plain": [
              "                                 units description  ...    shortName modifier\n",
              "inputName                                           ...                      \n",
              "car.chassis.carRunningMass.mCar+    kg              ...         mCar        +\n",
              "car.chassis.ICar+                 kgm2              ...         ICar        +\n",
              "car.chassis.hRideFSetup+             m              ...  hRideFSetup        +\n",
              "car.chassis.hRideRSetup+             m              ...  hRideRSetup        +\n",
              "\n",
              "[4 rows x 5 columns]"
            ]
          },
          "metadata": {
            "tags": []
          },
          "execution_count": 11
        }
      ]
    },
    {
      "cell_type": "code",
      "metadata": {
        "id": "wtjPT9FgctSk",
        "colab_type": "code",
        "outputId": "8de76dbf-3e2a-45d4-c345-4329b16428f0",
        "colab": {
          "base_uri": "https://localhost:8080/",
          "height": 141
        }
      },
      "source": [
        "study.scalar_results.inputs"
      ],
      "execution_count": 12,
      "outputs": [
        {
          "output_type": "execute_result",
          "data": {
            "text/html": [
              "<div>\n",
              "<style scoped>\n",
              "    .dataframe tbody tr th:only-of-type {\n",
              "        vertical-align: middle;\n",
              "    }\n",
              "\n",
              "    .dataframe tbody tr th {\n",
              "        vertical-align: top;\n",
              "    }\n",
              "\n",
              "    .dataframe thead th {\n",
              "        text-align: right;\n",
              "    }\n",
              "</style>\n",
              "<table border=\"1\" class=\"dataframe\">\n",
              "  <thead>\n",
              "    <tr style=\"text-align: right;\">\n",
              "      <th></th>\n",
              "      <th>car.chassis.carRunningMass.mCar+</th>\n",
              "      <th>car.chassis.ICar+</th>\n",
              "      <th>car.chassis.hRideFSetup+</th>\n",
              "      <th>car.chassis.hRideRSetup+</th>\n",
              "    </tr>\n",
              "  </thead>\n",
              "  <tbody>\n",
              "    <tr>\n",
              "      <th>0</th>\n",
              "      <td>2.063011</td>\n",
              "      <td>[-1.90548291053,0.0,0.0,0.0,-3.81096582106,0.0...</td>\n",
              "      <td>0.002994</td>\n",
              "      <td>0.018050</td>\n",
              "    </tr>\n",
              "    <tr>\n",
              "      <th>1</th>\n",
              "      <td>7.295651</td>\n",
              "      <td>[5.94347604826,0.0,0.0,0.0,11.88695209652,0.0,...</td>\n",
              "      <td>0.009080</td>\n",
              "      <td>0.017123</td>\n",
              "    </tr>\n",
              "    <tr>\n",
              "      <th>2</th>\n",
              "      <td>-0.019823</td>\n",
              "      <td>[-5.02973521364,0.0,0.0,0.0,-10.05947042728,0....</td>\n",
              "      <td>0.009839</td>\n",
              "      <td>0.015512</td>\n",
              "    </tr>\n",
              "  </tbody>\n",
              "</table>\n",
              "</div>"
            ],
            "text/plain": [
              "   car.chassis.carRunningMass.mCar+  ... car.chassis.hRideRSetup+\n",
              "0                          2.063011  ...                 0.018050\n",
              "1                          7.295651  ...                 0.017123\n",
              "2                         -0.019823  ...                 0.015512\n",
              "\n",
              "[3 rows x 4 columns]"
            ]
          },
          "metadata": {
            "tags": []
          },
          "execution_count": 12
        }
      ]
    },
    {
      "cell_type": "markdown",
      "metadata": {
        "id": "UkFryFZZdFIl",
        "colab_type": "text"
      },
      "source": [
        "We can convert this data to our desired units using the `study.scalar_as` helper function. The `scalar_as` function will work for both scalar inputs and results, and if the units are omitted it will use the units from your preferences saved on the Canopy platform."
      ]
    },
    {
      "cell_type": "code",
      "metadata": {
        "id": "Btn4nQqfdJgL",
        "colab_type": "code",
        "outputId": "d0ba94b1-cbfb-4420-a410-6d238758a9b0",
        "colab": {
          "base_uri": "https://localhost:8080/",
          "height": 87
        }
      },
      "source": [
        "hRideF200_mm = study.scalar_as('hRideF200:ApexSim', 'mm')\n",
        "hRideF200_mm"
      ],
      "execution_count": 13,
      "outputs": [
        {
          "output_type": "execute_result",
          "data": {
            "text/plain": [
              "0     9.343\n",
              "1    16.134\n",
              "2    17.102\n",
              "Name: hRideF200:ApexSim, dtype: float64"
            ]
          },
          "metadata": {
            "tags": []
          },
          "execution_count": 13
        }
      ]
    },
    {
      "cell_type": "code",
      "metadata": {
        "id": "2KqW0j5Crlgi",
        "colab_type": "code",
        "colab": {
          "base_uri": "https://localhost:8080/",
          "height": 87
        },
        "outputId": "c8582c6e-0051-47c2-a1f7-8c7ff3bce3db"
      },
      "source": [
        "hRideFSetup_mm = study.scalar_as('car.chassis.hRideFSetup+', 'mm')\n",
        "hRideFSetup_mm"
      ],
      "execution_count": 14,
      "outputs": [
        {
          "output_type": "execute_result",
          "data": {
            "text/plain": [
              "0    2.993966\n",
              "1    9.079787\n",
              "2    9.838959\n",
              "Name: car.chassis.hRideFSetup+, dtype: float64"
            ]
          },
          "metadata": {
            "tags": []
          },
          "execution_count": 14
        }
      ]
    }
  ]
}