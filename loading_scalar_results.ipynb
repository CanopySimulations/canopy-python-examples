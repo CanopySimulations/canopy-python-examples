{
  "nbformat": 4,
  "nbformat_minor": 0,
  "metadata": {
    "colab": {
      "name": "loading_scalar_results.ipynb",
      "provenance": [],
      "include_colab_link": true
    },
    "kernelspec": {
      "name": "python3",
      "display_name": "Python 3"
    }
  },
  "cells": [
    {
      "cell_type": "markdown",
      "metadata": {
        "id": "view-in-github",
        "colab_type": "text"
      },
      "source": [
        "<a href=\"https://colab.research.google.com/github/CanopySimulations/canopy-python-examples/blob/master/loading_scalar_results.ipynb\" target=\"_parent\"><img src=\"https://colab.research.google.com/assets/colab-badge.svg\" alt=\"Open In Colab\"/></a>"
      ]
    },
    {
      "cell_type": "markdown",
      "metadata": {
        "id": "NtIv7oIVvn5i",
        "colab_type": "text"
      },
      "source": [
        "# Upgrade Runtime\n",
        "This cell ensures the runtime supports `asyncio` async/await, and is needed on Google Colab. If the runtime is upgraded, you will be prompted to restart it, which you should do before continuing execution."
      ]
    },
    {
      "cell_type": "code",
      "metadata": {
        "id": "E-AnefvPvmtR",
        "colab_type": "code",
        "colab": {}
      },
      "source": [
        "!pip install \"ipython>=7\""
      ],
      "execution_count": 0,
      "outputs": []
    },
    {
      "cell_type": "markdown",
      "metadata": {
        "id": "_61Bg2_KwIR2",
        "colab_type": "text"
      },
      "source": [
        "# Set Up Environment"
      ]
    },
    {
      "cell_type": "markdown",
      "metadata": {
        "id": "zX-xTWzWG1bt",
        "colab_type": "text"
      },
      "source": [
        "### Import required libraries"
      ]
    },
    {
      "cell_type": "code",
      "metadata": {
        "id": "gNnEvtkmwL0W",
        "colab_type": "code",
        "colab": {}
      },
      "source": [
        "!pip install -q 'canopy==8.13'"
      ],
      "execution_count": 0,
      "outputs": []
    },
    {
      "cell_type": "code",
      "metadata": {
        "id": "0bBsqDyhwN_8",
        "colab_type": "code",
        "colab": {}
      },
      "source": [
        "import canopy\n",
        "import logging\n",
        "\n",
        "logging.basicConfig(level=logging.INFO)"
      ],
      "execution_count": 0,
      "outputs": []
    },
    {
      "cell_type": "markdown",
      "metadata": {
        "id": "nH5-pXaZw5jg",
        "colab_type": "text"
      },
      "source": [
        "### Authenticate"
      ]
    },
    {
      "cell_type": "code",
      "metadata": {
        "id": "SAnwvDofwhw1",
        "colab_type": "code",
        "colab": {}
      },
      "source": [
        "authentication_data = canopy.prompt_for_authentication()\n",
        "session = canopy.Session(authentication_data)"
      ],
      "execution_count": 0,
      "outputs": []
    },
    {
      "cell_type": "markdown",
      "metadata": {
        "id": "VSDal4PawY8-",
        "colab_type": "text"
      },
      "source": [
        "# Set Up Example"
      ]
    },
    {
      "cell_type": "markdown",
      "metadata": {
        "id": "cc9N0PwfUKEa",
        "colab_type": "text"
      },
      "source": [
        "Run a quick ApexSim exploration."
      ]
    },
    {
      "cell_type": "code",
      "metadata": {
        "id": "5r6ZPt3bUQJ9",
        "colab_type": "code",
        "outputId": "cd79eef3-4337-474c-e9e8-ef68920d3832",
        "colab": {
          "base_uri": "https://localhost:8080/",
          "height": 104
        }
      },
      "source": [
        "logging.info('Loading configs...')\n",
        "\n",
        "default_car = await canopy.load_default_config(\n",
        "    session, 'car', 'Canopy F1 Car 2019')\n",
        "\n",
        "default_weather = await canopy.load_default_config(\n",
        "    session, 'weather', '25 deg, dry')\n",
        "\n",
        "default_exploration = await canopy.load_default_config(\n",
        "    session, 'exploration', 'Automated Test Monte Carlo')\n",
        "\n",
        "# We'll run a very small exploration for this example\n",
        "default_exploration.data.design.numberOfPoints = 3\n",
        "\n",
        "logging.info('Creating study...')\n",
        "\n",
        "study_id = await canopy.create_study(\n",
        "    session,\n",
        "    'apexSim',\n",
        "    'Loading Scalar Results Example',\n",
        "    [\n",
        "        default_car,\n",
        "        default_weather,\n",
        "        default_exploration,\n",
        "    ])\n",
        "\n",
        "logging.info('Waiting for study to complete...')\n",
        "\n",
        "wait_result = await canopy.wait_for_study(\n",
        "    session,\n",
        "    study_id,\n",
        "    timeout_seconds=300)\n",
        "    \n",
        "logging.info('Sim Version: {}'.format(wait_result.document.sim_version))    \n",
        "logging.info('Succeded Simulations: {}/{}'.format(\n",
        "    wait_result.succeeded_simulation_count, \n",
        "    wait_result.simulation_count))"
      ],
      "execution_count": 4,
      "outputs": [
        {
          "output_type": "stream",
          "text": [
            "INFO:root:Loading configs...\n",
            "INFO:root:Creating study...\n",
            "INFO:root:Waiting for study to complete...\n",
            "INFO:root:Sim Version: 1.3371\n",
            "INFO:root:Succeded Simulations: 3/3\n"
          ],
          "name": "stderr"
        }
      ]
    },
    {
      "cell_type": "markdown",
      "metadata": {
        "id": "FAFirfukWLfF",
        "colab_type": "text"
      },
      "source": [
        "# Example: Loading Scalar Results"
      ]
    },
    {
      "cell_type": "markdown",
      "metadata": {
        "id": "BOcIhzzUY32z",
        "colab_type": "text"
      },
      "source": [
        "## Loading for a single job\n",
        "We can load the scalar results for an individual job using the `load_study_job` helper function with the `include_scalar_results` parameter. Note we are specifically loading the `ApexSim` scalar results here. If we also wanted the `StraightSim` results we can fetch them in a second call."
      ]
    },
    {
      "cell_type": "code",
      "metadata": {
        "id": "vkHGACInWNkr",
        "colab_type": "code",
        "outputId": "b09a21ab-106c-43b3-e0e5-731f09f49fe1",
        "colab": {
          "base_uri": "https://localhost:8080/",
          "height": 468
        }
      },
      "source": [
        "job_0 = await canopy.load_study_job(\n",
        "    session,\n",
        "    study_id,\n",
        "    'ApexSim',\n",
        "    job_index=0,\n",
        "    include_scalar_results=True)\n",
        "    \n",
        "job_0.scalar_data"
      ],
      "execution_count": 5,
      "outputs": [
        {
          "output_type": "stream",
          "text": [
            "INFO:canopy.load_study_job:Loading job index 0\n"
          ],
          "name": "stderr"
        },
        {
          "output_type": "execute_result",
          "data": {
            "text/plain": [
              "{'rLatBalF100': 0.590086,\n",
              " 'rLatBalF200': 0.646785,\n",
              " 'rLatBalF300': 0.6828310000000001,\n",
              " 'kRollCar100': 375991.957232,\n",
              " 'kRollCar200': 389243.393577,\n",
              " 'kRollCar300': 393716.978148,\n",
              " 'rAeroBal100': 0.516458,\n",
              " 'rAeroBal200': 0.5008130000000001,\n",
              " 'rAeroBal300': 0.498558,\n",
              " 'rAeroBalvMax': 0.5163760000000001,\n",
              " 'rhoAir': 1.182251,\n",
              " 'hRideF100': 0.028212,\n",
              " 'hRideF200': 0.016653,\n",
              " 'hRideF300': 0.000452,\n",
              " 'hRideR100': 0.14039200000000002,\n",
              " 'hRideR200': 0.12306600000000001,\n",
              " 'hRideR300': 0.094262,\n",
              " 'zCarBrakingvMax': -0.300639,\n",
              " 'aPitchBrakingvMax': -0.03336,\n",
              " 'aPitchBrakingvMin': -0.029064,\n",
              " 'aRockerFLBrakingvMax': -0.05304299999999999,\n",
              " 'aRockerFLAcceleratingvMin': 0.0058909999999999995,\n",
              " 'aRockerRLBrakingvMax': -0.196984,\n",
              " 'aRockerRLBrakingMax': 0.020748,\n",
              " 'aRockerRLAcceleratingvMin': -0.027065}"
            ]
          },
          "metadata": {
            "tags": []
          },
          "execution_count": 5
        }
      ]
    },
    {
      "cell_type": "markdown",
      "metadata": {
        "id": "M6QjAzHFZhVe",
        "colab_type": "text"
      },
      "source": [
        "We can request individual scalar results in our desired units using the `scalar_as` function:"
      ]
    },
    {
      "cell_type": "code",
      "metadata": {
        "id": "7yQVhrU3ZmWG",
        "colab_type": "code",
        "outputId": "3de4ff96-3990-4222-fa15-420999dd03bb",
        "colab": {
          "base_uri": "https://localhost:8080/",
          "height": 35
        }
      },
      "source": [
        "job_0.scalar_as('hRideF200', 'mm')"
      ],
      "execution_count": 6,
      "outputs": [
        {
          "output_type": "execute_result",
          "data": {
            "text/plain": [
              "16.653000000000002"
            ]
          },
          "metadata": {
            "tags": []
          },
          "execution_count": 6
        }
      ]
    },
    {
      "cell_type": "markdown",
      "metadata": {
        "id": "0VPQ8IMuZuZX",
        "colab_type": "text"
      },
      "source": [
        "You can also use the `scalar_as` function and omit the units, which will then use the units from your preferences saved on the Canopy platform:"
      ]
    },
    {
      "cell_type": "code",
      "metadata": {
        "id": "f3lWWpWtZ0eJ",
        "colab_type": "code",
        "outputId": "06ab1618-efc6-4064-df6b-ac9a50a36dbf",
        "colab": {
          "base_uri": "https://localhost:8080/",
          "height": 35
        }
      },
      "source": [
        "job_0.scalar_as('hRideF200')"
      ],
      "execution_count": 7,
      "outputs": [
        {
          "output_type": "execute_result",
          "data": {
            "text/plain": [
              "0.016653"
            ]
          },
          "metadata": {
            "tags": []
          },
          "execution_count": 7
        }
      ]
    },
    {
      "cell_type": "markdown",
      "metadata": {
        "id": "mWWmbVeobKJG",
        "colab_type": "text"
      },
      "source": [
        "## Loading for an entire study\n",
        "\n",
        "We can load the scalar results for the entire study using the `load_study` helper function with the `include_study_scalar_results` parameter. \n",
        "\n",
        "This loads the aggregated scalar results produced by the post-processing job when the study was run, so it is more efficient than loading the scalar results for each study individually.\n",
        "\n",
        "Note that the aggregated scalar results contain the scalar results for every simulation run in the study (in this case both ApexSim and StraightSim), and so the variable names are of the form `<Name>:<SimType>` to avoid conflicts."
      ]
    },
    {
      "cell_type": "code",
      "metadata": {
        "id": "3MG8an6SbM2U",
        "colab_type": "code",
        "outputId": "c16c6152-0edb-4677-b57f-9e34a1091904",
        "colab": {
          "base_uri": "https://localhost:8080/",
          "height": 35
        }
      },
      "source": [
        "study = await canopy.load_study(\n",
        "    session,\n",
        "    study_id,\n",
        "    include_study_scalar_results=True)"
      ],
      "execution_count": 8,
      "outputs": [
        {
          "output_type": "stream",
          "text": [
            "INFO:numexpr.utils:NumExpr defaulting to 2 threads.\n"
          ],
          "name": "stderr"
        }
      ]
    },
    {
      "cell_type": "code",
      "metadata": {
        "id": "WxZg7YRrcda5",
        "colab_type": "code",
        "outputId": "cfb53049-c754-486f-cf16-e6e0e23ae347",
        "colab": {
          "base_uri": "https://localhost:8080/",
          "height": 446
        }
      },
      "source": [
        "study.scalar_results.results_metadata"
      ],
      "execution_count": 9,
      "outputs": [
        {
          "output_type": "execute_result",
          "data": {
            "text/html": [
              "<div>\n",
              "<style scoped>\n",
              "    .dataframe tbody tr th:only-of-type {\n",
              "        vertical-align: middle;\n",
              "    }\n",
              "\n",
              "    .dataframe tbody tr th {\n",
              "        vertical-align: top;\n",
              "    }\n",
              "\n",
              "    .dataframe thead th {\n",
              "        text-align: right;\n",
              "    }\n",
              "</style>\n",
              "<table border=\"1\" class=\"dataframe\">\n",
              "  <thead>\n",
              "    <tr style=\"text-align: right;\">\n",
              "      <th></th>\n",
              "      <th>name</th>\n",
              "      <th>units</th>\n",
              "      <th>description</th>\n",
              "      <th>simType</th>\n",
              "    </tr>\n",
              "    <tr>\n",
              "      <th>fullName</th>\n",
              "      <th></th>\n",
              "      <th></th>\n",
              "      <th></th>\n",
              "      <th></th>\n",
              "    </tr>\n",
              "  </thead>\n",
              "  <tbody>\n",
              "    <tr>\n",
              "      <th>aPitchBrakingvMax:ApexSim</th>\n",
              "      <td>aPitchBrakingvMax</td>\n",
              "      <td>rad</td>\n",
              "      <td>aPitch under straight line braking at vMax.</td>\n",
              "      <td>ApexSim</td>\n",
              "    </tr>\n",
              "    <tr>\n",
              "      <th>aPitchBrakingvMin:ApexSim</th>\n",
              "      <td>aPitchBrakingvMin</td>\n",
              "      <td>rad</td>\n",
              "      <td>aPitch under straight line acceleration at vMin.</td>\n",
              "      <td>ApexSim</td>\n",
              "    </tr>\n",
              "    <tr>\n",
              "      <th>aRockerFLAcceleratingvMin:ApexSim</th>\n",
              "      <td>aRockerFLAcceleratingvMin</td>\n",
              "      <td>rad</td>\n",
              "      <td>aRockerFL under straight line acceleration at ...</td>\n",
              "      <td>ApexSim</td>\n",
              "    </tr>\n",
              "    <tr>\n",
              "      <th>aRockerFLBrakingvMax:ApexSim</th>\n",
              "      <td>aRockerFLBrakingvMax</td>\n",
              "      <td>rad</td>\n",
              "      <td>aRockerFL under straight line braking at vMax.</td>\n",
              "      <td>ApexSim</td>\n",
              "    </tr>\n",
              "    <tr>\n",
              "      <th>aRockerRLAcceleratingvMin:ApexSim</th>\n",
              "      <td>aRockerRLAcceleratingvMin</td>\n",
              "      <td>rad</td>\n",
              "      <td>aRockerRL under straight line acceleration at ...</td>\n",
              "      <td>ApexSim</td>\n",
              "    </tr>\n",
              "    <tr>\n",
              "      <th>...</th>\n",
              "      <td>...</td>\n",
              "      <td>...</td>\n",
              "      <td>...</td>\n",
              "      <td>...</td>\n",
              "    </tr>\n",
              "    <tr>\n",
              "      <th>vCarMaxElectricDRS:StraightSim</th>\n",
              "      <td>vCarMaxElectricDRS</td>\n",
              "      <td>m/s</td>\n",
              "      <td>Maximum vCar achievable on a flat track at wid...</td>\n",
              "      <td>StraightSim</td>\n",
              "    </tr>\n",
              "    <tr>\n",
              "      <th>zCarMax:StraightSim</th>\n",
              "      <td>zCarMax</td>\n",
              "      <td>m</td>\n",
              "      <td>Maximum zCar achieved during this simulation.</td>\n",
              "      <td>StraightSim</td>\n",
              "    </tr>\n",
              "    <tr>\n",
              "      <th>zCarMin:StraightSim</th>\n",
              "      <td>zCarMin</td>\n",
              "      <td>m</td>\n",
              "      <td>Minimum zCar achieved during this simulation.</td>\n",
              "      <td>StraightSim</td>\n",
              "    </tr>\n",
              "    <tr>\n",
              "      <th>zHubOffsetF:StraightSim</th>\n",
              "      <td>zHubOffsetF</td>\n",
              "      <td>m</td>\n",
              "      <td>Amount of front hub height offset to achieve s...</td>\n",
              "      <td>StraightSim</td>\n",
              "    </tr>\n",
              "    <tr>\n",
              "      <th>zHubOffsetR:StraightSim</th>\n",
              "      <td>zHubOffsetR</td>\n",
              "      <td>m</td>\n",
              "      <td>Amount of rear hub height offset to achieve se...</td>\n",
              "      <td>StraightSim</td>\n",
              "    </tr>\n",
              "  </tbody>\n",
              "</table>\n",
              "<p>98 rows × 4 columns</p>\n",
              "</div>"
            ],
            "text/plain": [
              "                                                        name  ...      simType\n",
              "fullName                                                      ...             \n",
              "aPitchBrakingvMax:ApexSim                  aPitchBrakingvMax  ...      ApexSim\n",
              "aPitchBrakingvMin:ApexSim                  aPitchBrakingvMin  ...      ApexSim\n",
              "aRockerFLAcceleratingvMin:ApexSim  aRockerFLAcceleratingvMin  ...      ApexSim\n",
              "aRockerFLBrakingvMax:ApexSim            aRockerFLBrakingvMax  ...      ApexSim\n",
              "aRockerRLAcceleratingvMin:ApexSim  aRockerRLAcceleratingvMin  ...      ApexSim\n",
              "...                                                      ...  ...          ...\n",
              "vCarMaxElectricDRS:StraightSim            vCarMaxElectricDRS  ...  StraightSim\n",
              "zCarMax:StraightSim                                  zCarMax  ...  StraightSim\n",
              "zCarMin:StraightSim                                  zCarMin  ...  StraightSim\n",
              "zHubOffsetF:StraightSim                          zHubOffsetF  ...  StraightSim\n",
              "zHubOffsetR:StraightSim                          zHubOffsetR  ...  StraightSim\n",
              "\n",
              "[98 rows x 4 columns]"
            ]
          },
          "metadata": {
            "tags": []
          },
          "execution_count": 9
        }
      ]
    },
    {
      "cell_type": "code",
      "metadata": {
        "id": "pMtWKOwJckKm",
        "colab_type": "code",
        "outputId": "c43affa1-e8ab-426a-a096-4554b6f57caa",
        "colab": {
          "base_uri": "https://localhost:8080/",
          "height": 190
        }
      },
      "source": [
        "study.scalar_results.results"
      ],
      "execution_count": 10,
      "outputs": [
        {
          "output_type": "execute_result",
          "data": {
            "text/html": [
              "<div>\n",
              "<style scoped>\n",
              "    .dataframe tbody tr th:only-of-type {\n",
              "        vertical-align: middle;\n",
              "    }\n",
              "\n",
              "    .dataframe tbody tr th {\n",
              "        vertical-align: top;\n",
              "    }\n",
              "\n",
              "    .dataframe thead th {\n",
              "        text-align: right;\n",
              "    }\n",
              "</style>\n",
              "<table border=\"1\" class=\"dataframe\">\n",
              "  <thead>\n",
              "    <tr style=\"text-align: right;\">\n",
              "      <th></th>\n",
              "      <th>jobIndex</th>\n",
              "      <th>aPitchBrakingvMax:ApexSim</th>\n",
              "      <th>aPitchBrakingvMin:ApexSim</th>\n",
              "      <th>aRockerFLAcceleratingvMin:ApexSim</th>\n",
              "      <th>aRockerFLBrakingvMax:ApexSim</th>\n",
              "      <th>aRockerRLAcceleratingvMin:ApexSim</th>\n",
              "      <th>aRockerRLBrakingMax:ApexSim</th>\n",
              "      <th>aRockerRLBrakingvMax:ApexSim</th>\n",
              "      <th>hRideF100:ApexSim</th>\n",
              "      <th>hRideF200:ApexSim</th>\n",
              "      <th>hRideF300:ApexSim</th>\n",
              "      <th>hRideR100:ApexSim</th>\n",
              "      <th>hRideR200:ApexSim</th>\n",
              "      <th>hRideR300:ApexSim</th>\n",
              "      <th>kRollCar100:ApexSim</th>\n",
              "      <th>kRollCar200:ApexSim</th>\n",
              "      <th>kRollCar300:ApexSim</th>\n",
              "      <th>rAeroBal100:ApexSim</th>\n",
              "      <th>rAeroBal200:ApexSim</th>\n",
              "      <th>rAeroBal300:ApexSim</th>\n",
              "      <th>rAeroBalvMax:ApexSim</th>\n",
              "      <th>rLatBalF100:ApexSim</th>\n",
              "      <th>rLatBalF200:ApexSim</th>\n",
              "      <th>rLatBalF300:ApexSim</th>\n",
              "      <th>rhoAir:ApexSim</th>\n",
              "      <th>zCarBrakingvMax:ApexSim</th>\n",
              "      <th>tApexSim:Debug</th>\n",
              "      <th>tApexSimScalarResults:Debug</th>\n",
              "      <th>tApexSimVectorResults:Debug</th>\n",
              "      <th>tComponentSweepsVectorResults:Debug</th>\n",
              "      <th>tStraightSim:Debug</th>\n",
              "      <th>tStraightSimScalarResults:Debug</th>\n",
              "      <th>tStraightSimVectorResults:Debug</th>\n",
              "      <th>aCamberTyreF100:StraightSim</th>\n",
              "      <th>aCamberTyreF200:StraightSim</th>\n",
              "      <th>aCamberTyreF300:StraightSim</th>\n",
              "      <th>aCamberTyreFvMax:StraightSim</th>\n",
              "      <th>aCamberTyreR100:StraightSim</th>\n",
              "      <th>aCamberTyreR200:StraightSim</th>\n",
              "      <th>aCamberTyreR300:StraightSim</th>\n",
              "      <th>...</th>\n",
              "      <th>hRideUndertrayFrontvMax:StraightSim</th>\n",
              "      <th>hRideUndertrayMid100:StraightSim</th>\n",
              "      <th>hRideUndertrayMid200:StraightSim</th>\n",
              "      <th>hRideUndertrayMid300:StraightSim</th>\n",
              "      <th>hRideUndertrayMidvMax:StraightSim</th>\n",
              "      <th>hRideUndertrayRear100:StraightSim</th>\n",
              "      <th>hRideUndertrayRear200:StraightSim</th>\n",
              "      <th>hRideUndertrayRear300:StraightSim</th>\n",
              "      <th>hRideUndertrayRearvMax:StraightSim</th>\n",
              "      <th>kRollCar100:StraightSim</th>\n",
              "      <th>kRollCar200:StraightSim</th>\n",
              "      <th>kRollCar300:StraightSim</th>\n",
              "      <th>kRollCarvMax:StraightSim</th>\n",
              "      <th>lPushrodShimFL:StraightSim</th>\n",
              "      <th>lPushrodShimFR:StraightSim</th>\n",
              "      <th>lPushrodShimRL:StraightSim</th>\n",
              "      <th>lPushrodShimRR:StraightSim</th>\n",
              "      <th>lSpringShimFL:StraightSim</th>\n",
              "      <th>lSpringShimFR:StraightSim</th>\n",
              "      <th>lSpringShimRL:StraightSim</th>\n",
              "      <th>lSpringShimRR:StraightSim</th>\n",
              "      <th>rAeroBal100:StraightSim</th>\n",
              "      <th>rAeroBal200:StraightSim</th>\n",
              "      <th>rAeroBal300:StraightSim</th>\n",
              "      <th>rAeroBalvMax:StraightSim</th>\n",
              "      <th>rSlipGripMaxF_2kn:StraightSim</th>\n",
              "      <th>rSlipGripMaxR_2kn:StraightSim</th>\n",
              "      <th>rStiffnessBalF100:StraightSim</th>\n",
              "      <th>rStiffnessBalF200:StraightSim</th>\n",
              "      <th>rStiffnessBalF300:StraightSim</th>\n",
              "      <th>rStiffnessBalFvMax:StraightSim</th>\n",
              "      <th>rhoAir:StraightSim</th>\n",
              "      <th>vCarMax:StraightSim</th>\n",
              "      <th>vCarMaxDRS:StraightSim</th>\n",
              "      <th>vCarMaxElectric:StraightSim</th>\n",
              "      <th>vCarMaxElectricDRS:StraightSim</th>\n",
              "      <th>zCarMax:StraightSim</th>\n",
              "      <th>zCarMin:StraightSim</th>\n",
              "      <th>zHubOffsetF:StraightSim</th>\n",
              "      <th>zHubOffsetR:StraightSim</th>\n",
              "    </tr>\n",
              "  </thead>\n",
              "  <tbody>\n",
              "    <tr>\n",
              "      <th>0</th>\n",
              "      <td>0</td>\n",
              "      <td>-0.033360</td>\n",
              "      <td>-0.029064</td>\n",
              "      <td>0.005891</td>\n",
              "      <td>-0.053043</td>\n",
              "      <td>-0.027065</td>\n",
              "      <td>0.020748</td>\n",
              "      <td>-0.196984</td>\n",
              "      <td>0.028212</td>\n",
              "      <td>0.016653</td>\n",
              "      <td>0.000452</td>\n",
              "      <td>0.140392</td>\n",
              "      <td>0.123066</td>\n",
              "      <td>0.094262</td>\n",
              "      <td>375991.957232</td>\n",
              "      <td>389243.393577</td>\n",
              "      <td>393716.978148</td>\n",
              "      <td>0.516458</td>\n",
              "      <td>0.500813</td>\n",
              "      <td>0.498558</td>\n",
              "      <td>0.516376</td>\n",
              "      <td>0.590086</td>\n",
              "      <td>0.646785</td>\n",
              "      <td>0.682831</td>\n",
              "      <td>1.182251</td>\n",
              "      <td>-0.300639</td>\n",
              "      <td>6.423223</td>\n",
              "      <td>0.028059</td>\n",
              "      <td>0.506218</td>\n",
              "      <td>0.371007</td>\n",
              "      <td>1.181446</td>\n",
              "      <td>0.008720</td>\n",
              "      <td>0.572743</td>\n",
              "      <td>-0.051790</td>\n",
              "      <td>-0.050282</td>\n",
              "      <td>-0.049855</td>\n",
              "      <td>-0.049833</td>\n",
              "      <td>-0.010697</td>\n",
              "      <td>-0.011612</td>\n",
              "      <td>-0.013488</td>\n",
              "      <td>...</td>\n",
              "      <td>0.009781</td>\n",
              "      <td>0.089742</td>\n",
              "      <td>0.073678</td>\n",
              "      <td>0.050230</td>\n",
              "      <td>0.046750</td>\n",
              "      <td>0.138666</td>\n",
              "      <td>0.118949</td>\n",
              "      <td>0.088059</td>\n",
              "      <td>0.084426</td>\n",
              "      <td>380504.268671</td>\n",
              "      <td>387028.228605</td>\n",
              "      <td>395231.270911</td>\n",
              "      <td>396104.042001</td>\n",
              "      <td>0.002046</td>\n",
              "      <td>0.002046</td>\n",
              "      <td>-0.006331</td>\n",
              "      <td>-0.006331</td>\n",
              "      <td>0.0</td>\n",
              "      <td>0.0</td>\n",
              "      <td>0.0</td>\n",
              "      <td>0.0</td>\n",
              "      <td>0.509869</td>\n",
              "      <td>0.487926</td>\n",
              "      <td>0.479925</td>\n",
              "      <td>0.487125</td>\n",
              "      <td>0.118367</td>\n",
              "      <td>0.126531</td>\n",
              "      <td>0.678394</td>\n",
              "      <td>0.695050</td>\n",
              "      <td>0.724924</td>\n",
              "      <td>0.727743</td>\n",
              "      <td>1.182251</td>\n",
              "      <td>78.843417</td>\n",
              "      <td>83.860139</td>\n",
              "      <td>83.574117</td>\n",
              "      <td>88.459023</td>\n",
              "      <td>-0.289700</td>\n",
              "      <td>-0.343892</td>\n",
              "      <td>0.255246</td>\n",
              "      <td>0.268009</td>\n",
              "    </tr>\n",
              "    <tr>\n",
              "      <th>1</th>\n",
              "      <td>1</td>\n",
              "      <td>-0.036753</td>\n",
              "      <td>-0.031321</td>\n",
              "      <td>0.005784</td>\n",
              "      <td>-0.051651</td>\n",
              "      <td>-0.027351</td>\n",
              "      <td>0.020755</td>\n",
              "      <td>-0.156773</td>\n",
              "      <td>0.020235</td>\n",
              "      <td>0.008113</td>\n",
              "      <td>-0.009819</td>\n",
              "      <td>0.140801</td>\n",
              "      <td>0.124468</td>\n",
              "      <td>0.101296</td>\n",
              "      <td>378067.125208</td>\n",
              "      <td>391859.454765</td>\n",
              "      <td>398599.833648</td>\n",
              "      <td>0.530222</td>\n",
              "      <td>0.525412</td>\n",
              "      <td>0.549665</td>\n",
              "      <td>0.561474</td>\n",
              "      <td>0.591138</td>\n",
              "      <td>0.648547</td>\n",
              "      <td>0.681072</td>\n",
              "      <td>1.182251</td>\n",
              "      <td>-0.303727</td>\n",
              "      <td>6.273517</td>\n",
              "      <td>0.022900</td>\n",
              "      <td>0.761862</td>\n",
              "      <td>0.396806</td>\n",
              "      <td>1.183358</td>\n",
              "      <td>0.013052</td>\n",
              "      <td>0.881672</td>\n",
              "      <td>-0.051827</td>\n",
              "      <td>-0.050438</td>\n",
              "      <td>-0.050099</td>\n",
              "      <td>-0.050086</td>\n",
              "      <td>-0.010695</td>\n",
              "      <td>-0.011554</td>\n",
              "      <td>-0.013286</td>\n",
              "      <td>...</td>\n",
              "      <td>0.002203</td>\n",
              "      <td>0.086434</td>\n",
              "      <td>0.070616</td>\n",
              "      <td>0.048213</td>\n",
              "      <td>0.045524</td>\n",
              "      <td>0.139050</td>\n",
              "      <td>0.120254</td>\n",
              "      <td>0.092270</td>\n",
              "      <td>0.089672</td>\n",
              "      <td>382226.252540</td>\n",
              "      <td>390186.911566</td>\n",
              "      <td>398600.099278</td>\n",
              "      <td>399097.906726</td>\n",
              "      <td>-0.000959</td>\n",
              "      <td>-0.000959</td>\n",
              "      <td>-0.006474</td>\n",
              "      <td>-0.006474</td>\n",
              "      <td>0.0</td>\n",
              "      <td>0.0</td>\n",
              "      <td>0.0</td>\n",
              "      <td>0.0</td>\n",
              "      <td>0.522573</td>\n",
              "      <td>0.510927</td>\n",
              "      <td>0.521018</td>\n",
              "      <td>0.530031</td>\n",
              "      <td>0.118367</td>\n",
              "      <td>0.126531</td>\n",
              "      <td>0.679494</td>\n",
              "      <td>0.696601</td>\n",
              "      <td>0.724645</td>\n",
              "      <td>0.726727</td>\n",
              "      <td>1.182251</td>\n",
              "      <td>78.424705</td>\n",
              "      <td>83.172749</td>\n",
              "      <td>83.078489</td>\n",
              "      <td>87.384878</td>\n",
              "      <td>-0.289249</td>\n",
              "      <td>-0.340617</td>\n",
              "      <td>0.247549</td>\n",
              "      <td>0.268409</td>\n",
              "    </tr>\n",
              "    <tr>\n",
              "      <th>2</th>\n",
              "      <td>2</td>\n",
              "      <td>-0.036110</td>\n",
              "      <td>-0.030906</td>\n",
              "      <td>0.005688</td>\n",
              "      <td>-0.051832</td>\n",
              "      <td>-0.027009</td>\n",
              "      <td>0.020341</td>\n",
              "      <td>-0.162985</td>\n",
              "      <td>0.021555</td>\n",
              "      <td>0.009536</td>\n",
              "      <td>-0.008065</td>\n",
              "      <td>0.140456</td>\n",
              "      <td>0.123891</td>\n",
              "      <td>0.099601</td>\n",
              "      <td>377539.159452</td>\n",
              "      <td>391268.657273</td>\n",
              "      <td>397610.135680</td>\n",
              "      <td>0.526917</td>\n",
              "      <td>0.520229</td>\n",
              "      <td>0.539405</td>\n",
              "      <td>0.555556</td>\n",
              "      <td>0.590565</td>\n",
              "      <td>0.648278</td>\n",
              "      <td>0.681655</td>\n",
              "      <td>1.182251</td>\n",
              "      <td>-0.303187</td>\n",
              "      <td>6.180908</td>\n",
              "      <td>0.008618</td>\n",
              "      <td>0.579424</td>\n",
              "      <td>0.278443</td>\n",
              "      <td>1.210545</td>\n",
              "      <td>0.010896</td>\n",
              "      <td>0.605387</td>\n",
              "      <td>-0.051821</td>\n",
              "      <td>-0.050414</td>\n",
              "      <td>-0.050062</td>\n",
              "      <td>-0.050048</td>\n",
              "      <td>-0.010699</td>\n",
              "      <td>-0.011582</td>\n",
              "      <td>-0.013358</td>\n",
              "      <td>...</td>\n",
              "      <td>0.003428</td>\n",
              "      <td>0.086828</td>\n",
              "      <td>0.070935</td>\n",
              "      <td>0.048323</td>\n",
              "      <td>0.045479</td>\n",
              "      <td>0.138716</td>\n",
              "      <td>0.119696</td>\n",
              "      <td>0.091141</td>\n",
              "      <td>0.088333</td>\n",
              "      <td>381833.284808</td>\n",
              "      <td>389508.082958</td>\n",
              "      <td>397886.350541</td>\n",
              "      <td>398451.852876</td>\n",
              "      <td>-0.000505</td>\n",
              "      <td>-0.000505</td>\n",
              "      <td>-0.006317</td>\n",
              "      <td>-0.006317</td>\n",
              "      <td>0.0</td>\n",
              "      <td>0.0</td>\n",
              "      <td>0.0</td>\n",
              "      <td>0.0</td>\n",
              "      <td>0.519531</td>\n",
              "      <td>0.506109</td>\n",
              "      <td>0.512949</td>\n",
              "      <td>0.521674</td>\n",
              "      <td>0.118367</td>\n",
              "      <td>0.126531</td>\n",
              "      <td>0.679556</td>\n",
              "      <td>0.696599</td>\n",
              "      <td>0.725006</td>\n",
              "      <td>0.727261</td>\n",
              "      <td>1.182251</td>\n",
              "      <td>78.517026</td>\n",
              "      <td>83.313106</td>\n",
              "      <td>83.182374</td>\n",
              "      <td>87.559132</td>\n",
              "      <td>-0.289108</td>\n",
              "      <td>-0.341026</td>\n",
              "      <td>0.248709</td>\n",
              "      <td>0.267972</td>\n",
              "    </tr>\n",
              "  </tbody>\n",
              "</table>\n",
              "<p>3 rows × 99 columns</p>\n",
              "</div>"
            ],
            "text/plain": [
              "   jobIndex  ...  zHubOffsetR:StraightSim\n",
              "0         0  ...                 0.268009\n",
              "1         1  ...                 0.268409\n",
              "2         2  ...                 0.267972\n",
              "\n",
              "[3 rows x 99 columns]"
            ]
          },
          "metadata": {
            "tags": []
          },
          "execution_count": 10
        }
      ]
    },
    {
      "cell_type": "markdown",
      "metadata": {
        "id": "oShyBm8ncyC5",
        "colab_type": "text"
      },
      "source": [
        "You also have access to the study input data as defined by the exploration:"
      ]
    },
    {
      "cell_type": "code",
      "metadata": {
        "id": "BKM16-cScowz",
        "colab_type": "code",
        "outputId": "66cc488b-512b-43f7-a8e5-b8e7aaff1797",
        "colab": {
          "base_uri": "https://localhost:8080/",
          "height": 202
        }
      },
      "source": [
        "study.scalar_results.inputs_metadata"
      ],
      "execution_count": 11,
      "outputs": [
        {
          "output_type": "execute_result",
          "data": {
            "text/html": [
              "<div>\n",
              "<style scoped>\n",
              "    .dataframe tbody tr th:only-of-type {\n",
              "        vertical-align: middle;\n",
              "    }\n",
              "\n",
              "    .dataframe tbody tr th {\n",
              "        vertical-align: top;\n",
              "    }\n",
              "\n",
              "    .dataframe thead th {\n",
              "        text-align: right;\n",
              "    }\n",
              "</style>\n",
              "<table border=\"1\" class=\"dataframe\">\n",
              "  <thead>\n",
              "    <tr style=\"text-align: right;\">\n",
              "      <th></th>\n",
              "      <th>units</th>\n",
              "      <th>description</th>\n",
              "      <th>fullName</th>\n",
              "      <th>shortName</th>\n",
              "      <th>modifier</th>\n",
              "    </tr>\n",
              "    <tr>\n",
              "      <th>inputName</th>\n",
              "      <th></th>\n",
              "      <th></th>\n",
              "      <th></th>\n",
              "      <th></th>\n",
              "      <th></th>\n",
              "    </tr>\n",
              "  </thead>\n",
              "  <tbody>\n",
              "    <tr>\n",
              "      <th>car.chassis.carRunningMass.mCar+</th>\n",
              "      <td>kg</td>\n",
              "      <td></td>\n",
              "      <td>car.chassis.carRunningMass.mCar</td>\n",
              "      <td>mCar</td>\n",
              "      <td>+</td>\n",
              "    </tr>\n",
              "    <tr>\n",
              "      <th>car.chassis.ICar+</th>\n",
              "      <td>kgm2</td>\n",
              "      <td></td>\n",
              "      <td>car.chassis.ICar</td>\n",
              "      <td>ICar</td>\n",
              "      <td>+</td>\n",
              "    </tr>\n",
              "    <tr>\n",
              "      <th>car.chassis.hRideFSetup+</th>\n",
              "      <td>m</td>\n",
              "      <td></td>\n",
              "      <td>car.chassis.hRideFSetup</td>\n",
              "      <td>hRideFSetup</td>\n",
              "      <td>+</td>\n",
              "    </tr>\n",
              "    <tr>\n",
              "      <th>car.chassis.hRideRSetup+</th>\n",
              "      <td>m</td>\n",
              "      <td></td>\n",
              "      <td>car.chassis.hRideRSetup</td>\n",
              "      <td>hRideRSetup</td>\n",
              "      <td>+</td>\n",
              "    </tr>\n",
              "  </tbody>\n",
              "</table>\n",
              "</div>"
            ],
            "text/plain": [
              "                                 units description  ...    shortName modifier\n",
              "inputName                                           ...                      \n",
              "car.chassis.carRunningMass.mCar+    kg              ...         mCar        +\n",
              "car.chassis.ICar+                 kgm2              ...         ICar        +\n",
              "car.chassis.hRideFSetup+             m              ...  hRideFSetup        +\n",
              "car.chassis.hRideRSetup+             m              ...  hRideRSetup        +\n",
              "\n",
              "[4 rows x 5 columns]"
            ]
          },
          "metadata": {
            "tags": []
          },
          "execution_count": 11
        }
      ]
    },
    {
      "cell_type": "code",
      "metadata": {
        "id": "wtjPT9FgctSk",
        "colab_type": "code",
        "outputId": "140851ef-d6f7-4b0e-bf76-dcd9ffb00fa9",
        "colab": {
          "base_uri": "https://localhost:8080/",
          "height": 141
        }
      },
      "source": [
        "study.scalar_results.inputs"
      ],
      "execution_count": 12,
      "outputs": [
        {
          "output_type": "execute_result",
          "data": {
            "text/html": [
              "<div>\n",
              "<style scoped>\n",
              "    .dataframe tbody tr th:only-of-type {\n",
              "        vertical-align: middle;\n",
              "    }\n",
              "\n",
              "    .dataframe tbody tr th {\n",
              "        vertical-align: top;\n",
              "    }\n",
              "\n",
              "    .dataframe thead th {\n",
              "        text-align: right;\n",
              "    }\n",
              "</style>\n",
              "<table border=\"1\" class=\"dataframe\">\n",
              "  <thead>\n",
              "    <tr style=\"text-align: right;\">\n",
              "      <th></th>\n",
              "      <th>car.chassis.carRunningMass.mCar+</th>\n",
              "      <th>car.chassis.ICar+</th>\n",
              "      <th>car.chassis.hRideFSetup+</th>\n",
              "      <th>car.chassis.hRideRSetup+</th>\n",
              "    </tr>\n",
              "  </thead>\n",
              "  <tbody>\n",
              "    <tr>\n",
              "      <th>0</th>\n",
              "      <td>1.481126</td>\n",
              "      <td>[-2.77831060475,0.0,0.0,0.0,-5.5566212095,0.0,...</td>\n",
              "      <td>0.009710</td>\n",
              "      <td>0.019399</td>\n",
              "    </tr>\n",
              "    <tr>\n",
              "      <th>1</th>\n",
              "      <td>3.629929</td>\n",
              "      <td>[0.44489383717,0.0,0.0,0.0,0.88978767434,0.0,0...</td>\n",
              "      <td>0.002004</td>\n",
              "      <td>0.019786</td>\n",
              "    </tr>\n",
              "    <tr>\n",
              "      <th>2</th>\n",
              "      <td>-7.284814</td>\n",
              "      <td>[-15.92722056245,0.0,0.0,0.0,-31.8544411249,0....</td>\n",
              "      <td>0.003268</td>\n",
              "      <td>0.019474</td>\n",
              "    </tr>\n",
              "  </tbody>\n",
              "</table>\n",
              "</div>"
            ],
            "text/plain": [
              "   car.chassis.carRunningMass.mCar+  ... car.chassis.hRideRSetup+\n",
              "0                          1.481126  ...                 0.019399\n",
              "1                          3.629929  ...                 0.019786\n",
              "2                         -7.284814  ...                 0.019474\n",
              "\n",
              "[3 rows x 4 columns]"
            ]
          },
          "metadata": {
            "tags": []
          },
          "execution_count": 12
        }
      ]
    },
    {
      "cell_type": "markdown",
      "metadata": {
        "id": "UkFryFZZdFIl",
        "colab_type": "text"
      },
      "source": [
        "We can convert this data to our desired units using the `study.scalar_as` helper function. The `scalar_as` function will work for both scalar inputs and results, and if the units are omitted it will use the units from your preferences saved on the Canopy platform."
      ]
    },
    {
      "cell_type": "code",
      "metadata": {
        "id": "Btn4nQqfdJgL",
        "colab_type": "code",
        "outputId": "fbc66771-79d4-48be-9eb4-f405e695a4d3",
        "colab": {
          "base_uri": "https://localhost:8080/",
          "height": 87
        }
      },
      "source": [
        "hRideF200_mm = study.scalar_as('hRideF200:ApexSim', 'mm')\n",
        "hRideF200_mm"
      ],
      "execution_count": 13,
      "outputs": [
        {
          "output_type": "execute_result",
          "data": {
            "text/plain": [
              "0    16.653\n",
              "1     8.113\n",
              "2     9.536\n",
              "Name: hRideF200:ApexSim, dtype: float64"
            ]
          },
          "metadata": {
            "tags": []
          },
          "execution_count": 13
        }
      ]
    },
    {
      "cell_type": "code",
      "metadata": {
        "id": "2KqW0j5Crlgi",
        "colab_type": "code",
        "outputId": "360b0b6d-44db-4afa-b788-0b1b02d1e34f",
        "colab": {
          "base_uri": "https://localhost:8080/",
          "height": 87
        }
      },
      "source": [
        "hRideFSetup_mm = study.scalar_as('car.chassis.hRideFSetup+', 'mm')\n",
        "hRideFSetup_mm"
      ],
      "execution_count": 14,
      "outputs": [
        {
          "output_type": "execute_result",
          "data": {
            "text/plain": [
              "0    9.710043\n",
              "1    2.003714\n",
              "2    3.267616\n",
              "Name: car.chassis.hRideFSetup+, dtype: float64"
            ]
          },
          "metadata": {
            "tags": []
          },
          "execution_count": 14
        }
      ]
    },
    {
      "cell_type": "markdown",
      "metadata": {
        "id": "I6_nsF4ai4vT",
        "colab_type": "text"
      },
      "source": [
        "## Parallel Coordinates Plot\n",
        "\n",
        "The `study.scalar_results.merged` property returns a dataframe consisting of both the inputs and the scalar results we looked at above.\n",
        "\n",
        "This is particularly useful for quickly constructing an interactive parallel coordinates plot using Plotly Express. You will need to view this in a Notebook viewer which supports interactive visualisations, as it won't render on GitHub.\n",
        "\n",
        "Obviously the resulting parallel coordinates plot would look more interesting if we had done a larger exploration!"
      ]
    },
    {
      "cell_type": "code",
      "metadata": {
        "id": "I6sLLFY7iS2F",
        "colab_type": "code",
        "colab": {
          "base_uri": "https://localhost:8080/",
          "height": 542
        },
        "outputId": "88639d22-a48e-4534-e59f-b0207a6b4b1e"
      },
      "source": [
        "import plotly.express as px\n",
        "\n",
        "fig = px.parallel_coordinates(\n",
        "    study.scalar_results.merged, \n",
        "    color=\"vCarMax:StraightSim\",\n",
        "    dimensions=[\n",
        "        *study.scalar_results.inputs.columns,\n",
        "        'vCarMax:StraightSim',\n",
        "        'hRideF100:ApexSim',\n",
        "        'hRideF300:ApexSim'],\n",
        "    color_continuous_scale=px.colors.diverging.Tealrose)\n",
        "fig.show()"
      ],
      "execution_count": 19,
      "outputs": [
        {
          "output_type": "display_data",
          "data": {
            "text/html": [
              "<html>\n",
              "<head><meta charset=\"utf-8\" /></head>\n",
              "<body>\n",
              "    <div>\n",
              "            <script src=\"https://cdnjs.cloudflare.com/ajax/libs/mathjax/2.7.5/MathJax.js?config=TeX-AMS-MML_SVG\"></script><script type=\"text/javascript\">if (window.MathJax) {MathJax.Hub.Config({SVG: {font: \"STIX-Web\"}});}</script>\n",
              "                <script type=\"text/javascript\">window.PlotlyConfig = {MathJaxConfig: 'local'};</script>\n",
              "        <script src=\"https://cdn.plot.ly/plotly-latest.min.js\"></script>    \n",
              "            <div id=\"f5ee0582-4f06-461a-9cd4-622c16d99d61\" class=\"plotly-graph-div\" style=\"height:525px; width:100%;\"></div>\n",
              "            <script type=\"text/javascript\">\n",
              "                \n",
              "                    window.PLOTLYENV=window.PLOTLYENV || {};\n",
              "                    \n",
              "                if (document.getElementById(\"f5ee0582-4f06-461a-9cd4-622c16d99d61\")) {\n",
              "                    Plotly.newPlot(\n",
              "                        'f5ee0582-4f06-461a-9cd4-622c16d99d61',\n",
              "                        [{\"dimensions\": [{\"label\": \"car.chassis.carRunningMass.mCar+\", \"values\": [1.4811262635, 3.6299292247800006, -7.284813708300001]}, {\"label\": \"car.chassis.hRideFSetup+\", \"values\": [0.0097100425, 0.002003714164, 0.003267615607]}, {\"label\": \"car.chassis.hRideRSetup+\", \"values\": [0.019398564268, 0.019785511149, 0.019473715154]}, {\"label\": \"vCarMax:StraightSim\", \"values\": [78.843417, 78.424705, 78.517026]}, {\"label\": \"hRideF100:ApexSim\", \"values\": [0.028212, 0.020235, 0.021555]}, {\"label\": \"hRideF300:ApexSim\", \"values\": [0.000452, -0.009819, -0.008065000000000001]}], \"domain\": {\"x\": [0.0, 1.0], \"y\": [0.0, 1.0]}, \"line\": {\"color\": [78.843417, 78.424705, 78.517026], \"coloraxis\": \"coloraxis\"}, \"name\": \"\", \"type\": \"parcoords\"}],\n",
              "                        {\"coloraxis\": {\"colorbar\": {\"title\": {\"text\": \"vCarMax:StraightSim\"}}, \"colorscale\": [[0.0, \"rgb(0, 147, 146)\"], [0.16666666666666666, \"rgb(114, 170, 161)\"], [0.3333333333333333, \"rgb(177, 199, 179)\"], [0.5, \"rgb(241, 234, 200)\"], [0.6666666666666666, \"rgb(229, 185, 173)\"], [0.8333333333333334, \"rgb(217, 137, 148)\"], [1.0, \"rgb(208, 88, 126)\"]]}, \"legend\": {\"tracegroupgap\": 0}, \"margin\": {\"t\": 60}, \"template\": {\"data\": {\"bar\": [{\"error_x\": {\"color\": \"#2a3f5f\"}, \"error_y\": {\"color\": \"#2a3f5f\"}, \"marker\": {\"line\": {\"color\": \"#E5ECF6\", \"width\": 0.5}}, \"type\": \"bar\"}], \"barpolar\": [{\"marker\": {\"line\": {\"color\": \"#E5ECF6\", \"width\": 0.5}}, \"type\": \"barpolar\"}], \"carpet\": [{\"aaxis\": {\"endlinecolor\": \"#2a3f5f\", \"gridcolor\": \"white\", \"linecolor\": \"white\", \"minorgridcolor\": \"white\", \"startlinecolor\": \"#2a3f5f\"}, \"baxis\": {\"endlinecolor\": \"#2a3f5f\", \"gridcolor\": \"white\", \"linecolor\": \"white\", \"minorgridcolor\": \"white\", \"startlinecolor\": \"#2a3f5f\"}, \"type\": \"carpet\"}], \"choropleth\": [{\"colorbar\": {\"outlinewidth\": 0, \"ticks\": \"\"}, \"type\": \"choropleth\"}], \"contour\": [{\"colorbar\": {\"outlinewidth\": 0, \"ticks\": \"\"}, \"colorscale\": [[0.0, \"#0d0887\"], [0.1111111111111111, \"#46039f\"], [0.2222222222222222, \"#7201a8\"], [0.3333333333333333, \"#9c179e\"], [0.4444444444444444, \"#bd3786\"], [0.5555555555555556, \"#d8576b\"], [0.6666666666666666, \"#ed7953\"], [0.7777777777777778, \"#fb9f3a\"], [0.8888888888888888, \"#fdca26\"], [1.0, \"#f0f921\"]], \"type\": \"contour\"}], \"contourcarpet\": [{\"colorbar\": {\"outlinewidth\": 0, \"ticks\": \"\"}, \"type\": \"contourcarpet\"}], \"heatmap\": [{\"colorbar\": {\"outlinewidth\": 0, \"ticks\": \"\"}, \"colorscale\": [[0.0, \"#0d0887\"], [0.1111111111111111, \"#46039f\"], [0.2222222222222222, \"#7201a8\"], [0.3333333333333333, \"#9c179e\"], [0.4444444444444444, \"#bd3786\"], [0.5555555555555556, \"#d8576b\"], [0.6666666666666666, \"#ed7953\"], [0.7777777777777778, \"#fb9f3a\"], [0.8888888888888888, \"#fdca26\"], [1.0, \"#f0f921\"]], \"type\": \"heatmap\"}], \"heatmapgl\": [{\"colorbar\": {\"outlinewidth\": 0, \"ticks\": \"\"}, \"colorscale\": [[0.0, \"#0d0887\"], [0.1111111111111111, \"#46039f\"], [0.2222222222222222, \"#7201a8\"], [0.3333333333333333, \"#9c179e\"], [0.4444444444444444, \"#bd3786\"], [0.5555555555555556, \"#d8576b\"], [0.6666666666666666, \"#ed7953\"], [0.7777777777777778, \"#fb9f3a\"], [0.8888888888888888, \"#fdca26\"], [1.0, \"#f0f921\"]], \"type\": \"heatmapgl\"}], \"histogram\": [{\"marker\": {\"colorbar\": {\"outlinewidth\": 0, \"ticks\": \"\"}}, \"type\": \"histogram\"}], \"histogram2d\": [{\"colorbar\": {\"outlinewidth\": 0, \"ticks\": \"\"}, \"colorscale\": [[0.0, \"#0d0887\"], [0.1111111111111111, \"#46039f\"], [0.2222222222222222, \"#7201a8\"], [0.3333333333333333, \"#9c179e\"], [0.4444444444444444, \"#bd3786\"], [0.5555555555555556, \"#d8576b\"], [0.6666666666666666, \"#ed7953\"], [0.7777777777777778, \"#fb9f3a\"], [0.8888888888888888, \"#fdca26\"], [1.0, \"#f0f921\"]], \"type\": \"histogram2d\"}], \"histogram2dcontour\": [{\"colorbar\": {\"outlinewidth\": 0, \"ticks\": \"\"}, \"colorscale\": [[0.0, \"#0d0887\"], [0.1111111111111111, \"#46039f\"], [0.2222222222222222, \"#7201a8\"], [0.3333333333333333, \"#9c179e\"], [0.4444444444444444, \"#bd3786\"], [0.5555555555555556, \"#d8576b\"], [0.6666666666666666, \"#ed7953\"], [0.7777777777777778, \"#fb9f3a\"], [0.8888888888888888, \"#fdca26\"], [1.0, \"#f0f921\"]], \"type\": \"histogram2dcontour\"}], \"mesh3d\": [{\"colorbar\": {\"outlinewidth\": 0, \"ticks\": \"\"}, \"type\": \"mesh3d\"}], \"parcoords\": [{\"line\": {\"colorbar\": {\"outlinewidth\": 0, \"ticks\": \"\"}}, \"type\": \"parcoords\"}], \"pie\": [{\"automargin\": true, \"type\": \"pie\"}], \"scatter\": [{\"marker\": {\"colorbar\": {\"outlinewidth\": 0, \"ticks\": \"\"}}, \"type\": \"scatter\"}], \"scatter3d\": [{\"line\": {\"colorbar\": {\"outlinewidth\": 0, \"ticks\": \"\"}}, \"marker\": {\"colorbar\": {\"outlinewidth\": 0, \"ticks\": \"\"}}, \"type\": \"scatter3d\"}], \"scattercarpet\": [{\"marker\": {\"colorbar\": {\"outlinewidth\": 0, \"ticks\": \"\"}}, \"type\": \"scattercarpet\"}], \"scattergeo\": [{\"marker\": {\"colorbar\": {\"outlinewidth\": 0, \"ticks\": \"\"}}, \"type\": \"scattergeo\"}], \"scattergl\": [{\"marker\": {\"colorbar\": {\"outlinewidth\": 0, \"ticks\": \"\"}}, \"type\": \"scattergl\"}], \"scattermapbox\": [{\"marker\": {\"colorbar\": {\"outlinewidth\": 0, \"ticks\": \"\"}}, \"type\": \"scattermapbox\"}], \"scatterpolar\": [{\"marker\": {\"colorbar\": {\"outlinewidth\": 0, \"ticks\": \"\"}}, \"type\": \"scatterpolar\"}], \"scatterpolargl\": [{\"marker\": {\"colorbar\": {\"outlinewidth\": 0, \"ticks\": \"\"}}, \"type\": \"scatterpolargl\"}], \"scatterternary\": [{\"marker\": {\"colorbar\": {\"outlinewidth\": 0, \"ticks\": \"\"}}, \"type\": \"scatterternary\"}], \"surface\": [{\"colorbar\": {\"outlinewidth\": 0, \"ticks\": \"\"}, \"colorscale\": [[0.0, \"#0d0887\"], [0.1111111111111111, \"#46039f\"], [0.2222222222222222, \"#7201a8\"], [0.3333333333333333, \"#9c179e\"], [0.4444444444444444, \"#bd3786\"], [0.5555555555555556, \"#d8576b\"], [0.6666666666666666, \"#ed7953\"], [0.7777777777777778, \"#fb9f3a\"], [0.8888888888888888, \"#fdca26\"], [1.0, \"#f0f921\"]], \"type\": \"surface\"}], \"table\": [{\"cells\": {\"fill\": {\"color\": \"#EBF0F8\"}, \"line\": {\"color\": \"white\"}}, \"header\": {\"fill\": {\"color\": \"#C8D4E3\"}, \"line\": {\"color\": \"white\"}}, \"type\": \"table\"}]}, \"layout\": {\"annotationdefaults\": {\"arrowcolor\": \"#2a3f5f\", \"arrowhead\": 0, \"arrowwidth\": 1}, \"coloraxis\": {\"colorbar\": {\"outlinewidth\": 0, \"ticks\": \"\"}}, \"colorscale\": {\"diverging\": [[0, \"#8e0152\"], [0.1, \"#c51b7d\"], [0.2, \"#de77ae\"], [0.3, \"#f1b6da\"], [0.4, \"#fde0ef\"], [0.5, \"#f7f7f7\"], [0.6, \"#e6f5d0\"], [0.7, \"#b8e186\"], [0.8, \"#7fbc41\"], [0.9, \"#4d9221\"], [1, \"#276419\"]], \"sequential\": [[0.0, \"#0d0887\"], [0.1111111111111111, \"#46039f\"], [0.2222222222222222, \"#7201a8\"], [0.3333333333333333, \"#9c179e\"], [0.4444444444444444, \"#bd3786\"], [0.5555555555555556, \"#d8576b\"], [0.6666666666666666, \"#ed7953\"], [0.7777777777777778, \"#fb9f3a\"], [0.8888888888888888, \"#fdca26\"], [1.0, \"#f0f921\"]], \"sequentialminus\": [[0.0, \"#0d0887\"], [0.1111111111111111, \"#46039f\"], [0.2222222222222222, \"#7201a8\"], [0.3333333333333333, \"#9c179e\"], [0.4444444444444444, \"#bd3786\"], [0.5555555555555556, \"#d8576b\"], [0.6666666666666666, \"#ed7953\"], [0.7777777777777778, \"#fb9f3a\"], [0.8888888888888888, \"#fdca26\"], [1.0, \"#f0f921\"]]}, \"colorway\": [\"#636efa\", \"#EF553B\", \"#00cc96\", \"#ab63fa\", \"#FFA15A\", \"#19d3f3\", \"#FF6692\", \"#B6E880\", \"#FF97FF\", \"#FECB52\"], \"font\": {\"color\": \"#2a3f5f\"}, \"geo\": {\"bgcolor\": \"white\", \"lakecolor\": \"white\", \"landcolor\": \"#E5ECF6\", \"showlakes\": true, \"showland\": true, \"subunitcolor\": \"white\"}, \"hoverlabel\": {\"align\": \"left\"}, \"hovermode\": \"closest\", \"mapbox\": {\"style\": \"light\"}, \"paper_bgcolor\": \"white\", \"plot_bgcolor\": \"#E5ECF6\", \"polar\": {\"angularaxis\": {\"gridcolor\": \"white\", \"linecolor\": \"white\", \"ticks\": \"\"}, \"bgcolor\": \"#E5ECF6\", \"radialaxis\": {\"gridcolor\": \"white\", \"linecolor\": \"white\", \"ticks\": \"\"}}, \"scene\": {\"xaxis\": {\"backgroundcolor\": \"#E5ECF6\", \"gridcolor\": \"white\", \"gridwidth\": 2, \"linecolor\": \"white\", \"showbackground\": true, \"ticks\": \"\", \"zerolinecolor\": \"white\"}, \"yaxis\": {\"backgroundcolor\": \"#E5ECF6\", \"gridcolor\": \"white\", \"gridwidth\": 2, \"linecolor\": \"white\", \"showbackground\": true, \"ticks\": \"\", \"zerolinecolor\": \"white\"}, \"zaxis\": {\"backgroundcolor\": \"#E5ECF6\", \"gridcolor\": \"white\", \"gridwidth\": 2, \"linecolor\": \"white\", \"showbackground\": true, \"ticks\": \"\", \"zerolinecolor\": \"white\"}}, \"shapedefaults\": {\"line\": {\"color\": \"#2a3f5f\"}}, \"ternary\": {\"aaxis\": {\"gridcolor\": \"white\", \"linecolor\": \"white\", \"ticks\": \"\"}, \"baxis\": {\"gridcolor\": \"white\", \"linecolor\": \"white\", \"ticks\": \"\"}, \"bgcolor\": \"#E5ECF6\", \"caxis\": {\"gridcolor\": \"white\", \"linecolor\": \"white\", \"ticks\": \"\"}}, \"title\": {\"x\": 0.05}, \"xaxis\": {\"automargin\": true, \"gridcolor\": \"white\", \"linecolor\": \"white\", \"ticks\": \"\", \"title\": {\"standoff\": 15}, \"zerolinecolor\": \"white\", \"zerolinewidth\": 2}, \"yaxis\": {\"automargin\": true, \"gridcolor\": \"white\", \"linecolor\": \"white\", \"ticks\": \"\", \"title\": {\"standoff\": 15}, \"zerolinecolor\": \"white\", \"zerolinewidth\": 2}}}},\n",
              "                        {\"responsive\": true}\n",
              "                    ).then(function(){\n",
              "                            \n",
              "var gd = document.getElementById('f5ee0582-4f06-461a-9cd4-622c16d99d61');\n",
              "var x = new MutationObserver(function (mutations, observer) {{\n",
              "        var display = window.getComputedStyle(gd).display;\n",
              "        if (!display || display === 'none') {{\n",
              "            console.log([gd, 'removed!']);\n",
              "            Plotly.purge(gd);\n",
              "            observer.disconnect();\n",
              "        }}\n",
              "}});\n",
              "\n",
              "// Listen for the removal of the full notebook cells\n",
              "var notebookContainer = gd.closest('#notebook-container');\n",
              "if (notebookContainer) {{\n",
              "    x.observe(notebookContainer, {childList: true});\n",
              "}}\n",
              "\n",
              "// Listen for the clearing of the current output cell\n",
              "var outputEl = gd.closest('.output');\n",
              "if (outputEl) {{\n",
              "    x.observe(outputEl, {childList: true});\n",
              "}}\n",
              "\n",
              "                        })\n",
              "                };\n",
              "                \n",
              "            </script>\n",
              "        </div>\n",
              "</body>\n",
              "</html>"
            ]
          },
          "metadata": {
            "tags": []
          }
        }
      ]
    }
  ]
}