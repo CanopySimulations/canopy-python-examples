{
  "nbformat": 4,
  "nbformat_minor": 0,
  "metadata": {
    "colab": {
      "name": "finding_quickest_5_seconds_to_apply_power_increase",
      "provenance": [],
      "authorship_tag": "ABX9TyNDLOuGfBdpXRYTBK7fFrVR",
      "include_colab_link": true
    },
    "kernelspec": {
      "name": "python3",
      "display_name": "Python 3"
    }
  },
  "cells": [
    {
      "cell_type": "markdown",
      "metadata": {
        "id": "view-in-github",
        "colab_type": "text"
      },
      "source": [
        "<a href=\"https://colab.research.google.com/github/CanopySimulations/canopy-python-examples/blob/master/finding_quickest_5_seconds_to_apply_power_increase.ipynb\" target=\"_parent\"><img src=\"https://colab.research.google.com/assets/colab-badge.svg\" alt=\"Open In Colab\"/></a>"
      ]
    },
    {
      "cell_type": "markdown",
      "metadata": {
        "id": "NtIv7oIVvn5i",
        "colab_type": "text"
      },
      "source": [
        "# Upgrade Runtime\n",
        "This cell ensures the runtime supports `asyncio` async/await, and is needed on Google Colab. If the runtime is upgraded, you will be prompted to restart it, which you should do before continuing execution."
      ]
    },
    {
      "cell_type": "code",
      "metadata": {
        "id": "E-AnefvPvmtR",
        "colab_type": "code",
        "colab": {}
      },
      "source": [
        "!pip install \"ipython>=7\""
      ],
      "execution_count": 0,
      "outputs": []
    },
    {
      "cell_type": "markdown",
      "metadata": {
        "id": "_61Bg2_KwIR2",
        "colab_type": "text"
      },
      "source": [
        "# Set Up Environment"
      ]
    },
    {
      "cell_type": "markdown",
      "metadata": {
        "id": "zX-xTWzWG1bt",
        "colab_type": "text"
      },
      "source": [
        "### Import required libraries"
      ]
    },
    {
      "cell_type": "code",
      "metadata": {
        "id": "gNnEvtkmwL0W",
        "colab_type": "code",
        "colab": {}
      },
      "source": [
        "!pip install -q 'canopy==8.0'"
      ],
      "execution_count": 0,
      "outputs": []
    },
    {
      "cell_type": "code",
      "metadata": {
        "id": "0bBsqDyhwN_8",
        "colab_type": "code",
        "colab": {}
      },
      "source": [
        "import canopy\n",
        "import logging\n",
        "import numpy as np\n",
        "import pandas as pd\n",
        "import matplotlib.pyplot as plt\n",
        "import matplotlib.transforms as mtransforms\n",
        "\n",
        "from typing import List, Tuple, NamedTuple\n",
        "\n",
        "logging.basicConfig(level=logging.INFO)"
      ],
      "execution_count": 0,
      "outputs": []
    },
    {
      "cell_type": "markdown",
      "metadata": {
        "id": "nH5-pXaZw5jg",
        "colab_type": "text"
      },
      "source": [
        "### Authenticate"
      ]
    },
    {
      "cell_type": "code",
      "metadata": {
        "id": "SAnwvDofwhw1",
        "colab_type": "code",
        "colab": {}
      },
      "source": [
        "authentication_data = canopy.prompt_for_authentication()\n",
        "\n",
        "def create_session():\n",
        "    return canopy.Session(authentication_data)"
      ],
      "execution_count": 0,
      "outputs": []
    },
    {
      "cell_type": "markdown",
      "metadata": {
        "id": "VSDal4PawY8-",
        "colab_type": "text"
      },
      "source": [
        "# Set Up Example"
      ]
    },
    {
      "cell_type": "markdown",
      "metadata": {
        "id": "kS0Sep8eul_B",
        "colab_type": "text"
      },
      "source": [
        "**NOTE:**\n",
        " - If you would like to run a new SLS study, set `existing_study_id` to `None`. Running a new study will take several minutes.\n",
        "\n",
        " - If you would like to load an existing Dynamic Lap SLS study instead, set `existing_study_id` to the ID of the study in your account."
      ]
    },
    {
      "cell_type": "code",
      "metadata": {
        "id": "5sbIfMULuec5",
        "colab_type": "code",
        "colab": {}
      },
      "source": [
        "existing_study_id = None"
      ],
      "execution_count": 0,
      "outputs": []
    },
    {
      "cell_type": "code",
      "metadata": {
        "id": "PEVtj4qwn2g6",
        "colab_type": "code",
        "colab": {
          "base_uri": "https://localhost:8080/",
          "height": 87
        },
        "outputId": "210e0260-3473-400e-da0a-6711f0c257ef"
      },
      "source": [
        "async def create_new_study():\n",
        "    async with create_session() as session:\n",
        "        logging.info('Loading study inputs...')\n",
        "\n",
        "        car = await canopy.load_default_config(session, 'car', 'Canopy F1 Car 2019')\n",
        "        weather = await canopy.load_default_config(session, 'weather', '25 deg, dry')\n",
        "        track = await canopy.load_default_config(session, 'track', 'Barcelona-F1')\n",
        "\n",
        "        logging.info('Submitting study...')\n",
        "\n",
        "        study_id = await canopy.create_study(\n",
        "            session,\n",
        "            'dynamicLapWithSLS',\n",
        "            'Example SLS Study',\n",
        "            [ car, weather, track ])\n",
        "\n",
        "        logging.info('Waiting for study...')\n",
        "\n",
        "        await canopy.wait_for_study(\n",
        "            session,\n",
        "            study_id,\n",
        "            timeout_seconds=900)\n",
        "        \n",
        "        return study_id\n",
        "\n",
        "if existing_study_id is not None:\n",
        "    study_id = existing_study_id\n",
        "else:\n",
        "    study_id = await create_new_study()\n",
        "\n",
        "logging.info(f'Using study {study_id}')"
      ],
      "execution_count": 108,
      "outputs": [
        {
          "output_type": "stream",
          "text": [
            "INFO:root:Loading study inputs...\n",
            "INFO:root:Submitting study...\n",
            "INFO:root:Waiting for study...\n",
            "INFO:root:Using study c334db9118404e0f9751a65253ced3c6\n"
          ],
          "name": "stderr"
        }
      ]
    },
    {
      "cell_type": "markdown",
      "metadata": {
        "id": "tnJeZcc0vHif",
        "colab_type": "text"
      },
      "source": [
        "# Example: Finding the quickest 5 seconds to apply a power increase.\n",
        "\n",
        "Using the `dTLap_drEnginePowerFactor` channel we will find the sLap ranges representing the optimal places to deploy 5 seconds of power increase."
      ]
    },
    {
      "cell_type": "markdown",
      "metadata": {
        "id": "4IlUCvGRuqdW",
        "colab_type": "text"
      },
      "source": [
        "## Create Helper Functions\n",
        "\n",
        "This function will return the total time the target column is over a threshold, and the tLap and sLap ranges where that occurs:"
      ]
    },
    {
      "cell_type": "code",
      "metadata": {
        "id": "6mrQ7HTlzItA",
        "colab_type": "code",
        "colab": {}
      },
      "source": [
        "class SecondsOverThresholdResult(NamedTuple):\n",
        "    tLap_total: float\n",
        "    tLap_ranges: List[Tuple[float, float]]\n",
        "    sLap_ranges: List[Tuple[float, float]]\n",
        "\n",
        "def find_seconds_over_threshold(data: pd.DataFrame, column_name: str, threshold: float) -> SecondsOverThresholdResult:\n",
        "    # Make a copy\n",
        "    data = data[['tLap', 'sLap', column_name]].copy()\n",
        "\n",
        "    # Force the final value to zero, to include cases where the data finishes above the threshold.\n",
        "    data.loc[data.index[-1], column_name] = 0\n",
        "\n",
        "    # This column is True when the target column is greater than the threshold.\n",
        "    data['over_threshold'] = data[column_name] >= threshold\n",
        "\n",
        "    # Create a new DataFrame containing only the rows where \"over_threshold\" \n",
        "    # changes from False to True, or from True to False, relative to the previous row.\n",
        "    data = data.loc[(data['over_threshold'].shift() != data['over_threshold'])].copy()\n",
        "\n",
        "    # This column will be the difference between tLap on current and previous row.\n",
        "    data['tLap_diff'] = (data['tLap'] - data.shift()['tLap'])\n",
        "\n",
        "    # Create tuple columns representing the sLap and tLap ranges each row represents.\n",
        "    data['tLap_ranges'] = list(zip(data.shift()['tLap'], data['tLap']))\n",
        "    data['sLap_ranges'] = list(zip(data.shift()['sLap'], data['sLap']))\n",
        "    \n",
        "    # Drop the first row.\n",
        "    data.drop(data.index[0], inplace=True)\n",
        "\n",
        "    # We are interested in all rows where 'over_threshold' is False, which is\n",
        "    # where each tLap range above the threshold ends.\n",
        "    target_rows = data[data['over_threshold'] == False]\n",
        "\n",
        "    return SecondsOverThresholdResult(\n",
        "        sum(target_rows['tLap_diff']), \n",
        "        list(target_rows['tLap_ranges']), \n",
        "        list(target_rows['sLap_ranges']))\n"
      ],
      "execution_count": 0,
      "outputs": []
    },
    {
      "cell_type": "markdown",
      "metadata": {
        "id": "53py6b7euP9l",
        "colab_type": "text"
      },
      "source": [
        "Perform some tests to check the function is working as expected.\n",
        " - The first test is for a standard case where the channel is over the threshold in the middle of the data. \n",
        " \n",
        " - The second test is for the case where the channel is over the threshold at the beginning and end of the data."
      ]
    },
    {
      "cell_type": "code",
      "metadata": {
        "id": "hXuzcz5CcHK2",
        "colab_type": "code",
        "colab": {}
      },
      "source": [
        "# Test 1:\n",
        "result1 = find_seconds_over_threshold(\n",
        "    pd.DataFrame({\n",
        "        'sLap': np.arange(0, 20, 1),\n",
        "        'tLap': np.arange(0, 10, 0.5),\n",
        "        'sls': [0, 0, 0.1, 0.3, 0.5, 0.4, 0, 0, 0.2, 0.3, 0.3, 0.4, 0.5, 0.6, 0.5, 0.3, 0.1, 0, 0, 0]\n",
        "    }),\n",
        "    'sls',\n",
        "    0.35)\n",
        "assert result1 == SecondsOverThresholdResult(\n",
        "    3.0, \n",
        "    [(2.0, 3.0), (5.5, 7.5)],\n",
        "    [(4.0, 6.0), (11.0, 15.0)])\n",
        "\n",
        "# Test 2:\n",
        "result2 = find_seconds_over_threshold(\n",
        "    pd.DataFrame({\n",
        "        'sLap': np.arange(0, 20, 1),\n",
        "        'tLap': np.arange(0, 10, 0.5),\n",
        "        'sls': [0.5, 0.4, 0.1, 0, 0, 0, 0, 0, 0, 0, 0, 0, 0, 0, 0.1, 0.2, 0.3, 0.5, 0.6, 0.6]\n",
        "    }),\n",
        "    'sls',\n",
        "    0.35)\n",
        "assert result2 == SecondsOverThresholdResult(\n",
        "        2.0, \n",
        "        [(0.0, 1.0), (8.5, 9.5)], \n",
        "        [(0.0, 2.0), (17.0, 19.0)])"
      ],
      "execution_count": 0,
      "outputs": []
    },
    {
      "cell_type": "markdown",
      "metadata": {
        "id": "Yc1h2sHhTc52",
        "colab_type": "text"
      },
      "source": [
        "This function will search for a thresold such that the target channel is over the threshold for close to the desired time.\n"
      ]
    },
    {
      "cell_type": "code",
      "metadata": {
        "id": "fKN6jDHbaChZ",
        "colab_type": "code",
        "colab": {}
      },
      "source": [
        "class SolveResult(NamedTuple):\n",
        "    tLap_total: float\n",
        "    tLap_ranges: List[Tuple[float, float]]\n",
        "    sLap_ranges: List[Tuple[float, float]]\n",
        "    threshold: float\n",
        "\n",
        "def solve(data: pd.DataFrame, column_name: str, target_time: float) -> SolveResult:\n",
        "    max_data = max(data[column_name])\n",
        "    minimum_delta = max_data / 10000\n",
        "    logging.info(f'Minimum delta={minimum_delta}')\n",
        "\n",
        "    lower = 0\n",
        "    upper = max_data\n",
        "\n",
        "    while lower < upper: \n",
        "        delta = (upper - lower) / 2\n",
        "        mid = lower + delta; \n",
        "        \n",
        "        result = find_seconds_over_threshold(data, column_name, mid)\n",
        "\n",
        "        logging.info(f'Found tLap_total {result.tLap_total} at {mid}, delta={delta}')\n",
        "\n",
        "        if result.tLap_total == target_time or delta <= minimum_delta:\n",
        "            return SolveResult(result.tLap_total, result.tLap_ranges, result.sLap_ranges, mid)\n",
        "  \n",
        "        # If the distance is below the target distance, move lower.\n",
        "        elif result.tLap_total < target_time: \n",
        "            upper = mid\n",
        "  \n",
        "        # If the distance is above the target distance, move higher\n",
        "        else: \n",
        "            lower = mid\n",
        "      \n",
        "    raise Error('Failed to find threshold.')\n"
      ],
      "execution_count": 0,
      "outputs": []
    },
    {
      "cell_type": "markdown",
      "metadata": {
        "id": "XXqWOUkmul3a",
        "colab_type": "text"
      },
      "source": [
        "## Load data"
      ]
    },
    {
      "cell_type": "code",
      "metadata": {
        "id": "rrl81sPXyIgB",
        "colab_type": "code",
        "colab": {}
      },
      "source": [
        "sls_channel_name = 'dTLap_drEnginePowerFactor'"
      ],
      "execution_count": 0,
      "outputs": []
    },
    {
      "cell_type": "code",
      "metadata": {
        "id": "pCZ3edBRvjYv",
        "colab_type": "code",
        "colab": {
          "base_uri": "https://localhost:8080/",
          "height": 35
        },
        "outputId": "a81aa0d0-ff15-4274-bc36-1c2859871379"
      },
      "source": [
        "async with create_session() as session:\n",
        "\n",
        "    job = await canopy.load_study_job(\n",
        "        session,\n",
        "        study_id,\n",
        "        sim_type='DynamicLapWithSLS',\n",
        "        channel_names=[ 'sLap', 'tLap', sls_channel_name ])\n",
        "\n",
        "if sls_channel_name not in job.vector_data.columns:\n",
        "    logging.error(f'SLS channel {sls_channel_name} was not found in study {study_id}')\n",
        "\n",
        "data = job.vector_data"
      ],
      "execution_count": 111,
      "outputs": [
        {
          "output_type": "stream",
          "text": [
            "INFO:canopy.load_study_job:Loading job index 0\n"
          ],
          "name": "stderr"
        }
      ]
    },
    {
      "cell_type": "markdown",
      "metadata": {
        "id": "Z2q1DwKa2b9M",
        "colab_type": "text"
      },
      "source": [
        "## Solve"
      ]
    },
    {
      "cell_type": "code",
      "metadata": {
        "id": "P-DBZ0V00i5D",
        "colab_type": "code",
        "colab": {
          "base_uri": "https://localhost:8080/",
          "height": 367
        },
        "outputId": "30b0d7fe-4607-47c5-a785-59bed8cab9aa"
      },
      "source": [
        "result = solve(data, sls_channel_name, 5)\n",
        "logging.info(f'Found total time: {result.tLap_total}')\n",
        "logging.info(f'Found target threshold: {result.threshold}')\n",
        "logging.info(f'Found tLap ranges: {result.tLap_ranges}')\n",
        "logging.info(f'Found sLap ranges: {result.sLap_ranges}')"
      ],
      "execution_count": 176,
      "outputs": [
        {
          "output_type": "stream",
          "text": [
            "INFO:root:Minimum delta=6.320638116449118e-07\n",
            "INFO:root:Found tLap_total 9.813638687133789 at 0.003160319058224559, delta=0.003160319058224559\n",
            "INFO:root:Found tLap_total 1.0025596618652344 at 0.004740478587336838, delta=0.0015801595291122794\n",
            "INFO:root:Found tLap_total 3.2445220947265625 at 0.0039503988227806985, delta=0.0007900797645561397\n",
            "INFO:root:Found tLap_total 5.011344909667969 at 0.0035553589405026287, delta=0.00039503988227806985\n",
            "INFO:root:Found tLap_total 4.411457061767578 at 0.0037528788816416636, delta=0.00019751994113903493\n",
            "INFO:root:Found tLap_total 4.758979797363281 at 0.003654118911072146, delta=9.875997056951746e-05\n",
            "INFO:root:Found tLap_total 4.826759338378906 at 0.0036047389257873874, delta=4.937998528475873e-05\n",
            "INFO:root:Found tLap_total 4.826759338378906 at 0.003580048933145008, delta=2.4689992642379366e-05\n",
            "INFO:root:Found tLap_total 4.826759338378906 at 0.0035677039368238184, delta=1.2344996321189683e-05\n",
            "INFO:root:Found tLap_total 4.826759338378906 at 0.0035615314386632235, delta=6.1724981605948415e-06\n",
            "INFO:root:Found tLap_total 4.826759338378906 at 0.003558445189582926, delta=3.0862490802974207e-06\n",
            "INFO:root:Found tLap_total 4.876289367675781 at 0.0035569020650427774, delta=1.5431245401487104e-06\n",
            "INFO:root:Found tLap_total 4.876289367675781 at 0.003556130502772703, delta=7.715622700743552e-07\n",
            "INFO:root:Found tLap_total 5.011344909667969 at 0.003555744721637666, delta=3.857811350371776e-07\n",
            "INFO:root:Found total time: 5.011344909667969\n",
            "INFO:root:Found target threshold: 0.003555744721637666\n",
            "INFO:root:Found tLap ranges: [(34.437286376953125, 35.802799224853516), (41.596885681152344, 41.840396881103516), (42.19956588745117, 43.10158157348633), (77.29103088378906, 79.79133605957031)]\n",
            "INFO:root:Found sLap ranges: [(2074.08642578125, 2146.82177734375), (2463.25390625, 2474.473876953125), (2492.492919921875, 2544.0419921875), (4185.80859375, 4356.63525390625)]\n"
          ],
          "name": "stderr"
        }
      ]
    },
    {
      "cell_type": "markdown",
      "metadata": {
        "id": "RQGaaRJPUk01",
        "colab_type": "text"
      },
      "source": [
        "## Plot Results"
      ]
    },
    {
      "cell_type": "code",
      "metadata": {
        "id": "OrmfSyzB1wQe",
        "colab_type": "code",
        "colab": {
          "base_uri": "https://localhost:8080/",
          "height": 550
        },
        "outputId": "65e7ffdc-af32-4770-d7b3-73cb345b7acb"
      },
      "source": [
        "fig, axs = plt.subplots(2, 1, figsize=(16, 8), dpi=80)\n",
        "\n",
        "for ax, x_name in zip(axs, ['sLap', 'tLap']):\n",
        "    x = data[x_name]\n",
        "    ax.set_title(x_name)\n",
        "    ax.plot(x, data[sls_channel_name], 'b-', lw=1, label=sls_channel_name)\n",
        "\n",
        "for ax in axs:\n",
        "    ax.axhline(result.threshold, color='green', lw=1, alpha=0.5, label='threshold')\n",
        "\n",
        "for ax, ranges in zip(axs, [result.sLap_ranges, result.tLap_ranges]):\n",
        "    for i, range in enumerate(ranges):\n",
        "        ax.axvspan(range[0], range[1], alpha=0.25, color='red', label='optimal deployment' if i == 0 else None)\n",
        "    \n",
        "axs[0].legend()\n",
        "fig.show()"
      ],
      "execution_count": 177,
      "outputs": [
        {
          "output_type": "display_data",
          "data": {
            "image/png": "[encoded data removed]",
            "text/plain": [
              "<Figure size 1280x640 with 2 Axes>"
            ]
          },
          "metadata": {
            "tags": []
          }
        }
      ]
    }
  ]
}