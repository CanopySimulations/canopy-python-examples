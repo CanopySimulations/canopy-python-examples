{
  "nbformat": 4,
  "nbformat_minor": 0,
  "metadata": {
    "colab": {
      "name": "loading_vector_results.ipynb",
      "provenance": [],
      "include_colab_link": true
    },
    "kernelspec": {
      "name": "python3",
      "display_name": "Python 3"
    }
  },
  "cells": [
    {
      "cell_type": "markdown",
      "metadata": {
        "id": "view-in-github",
        "colab_type": "text"
      },
      "source": [
        "<a href=\"https://colab.research.google.com/github/CanopySimulations/canopy-python-examples/blob/master/loading_vector_results.ipynb\" target=\"_parent\"><img src=\"https://colab.research.google.com/assets/colab-badge.svg\" alt=\"Open In Colab\"/></a>"
      ]
    },
    {
      "cell_type": "markdown",
      "metadata": {
        "id": "NtIv7oIVvn5i",
        "colab_type": "text"
      },
      "source": [
        "# Upgrade Runtime\n",
        "This cell ensures the runtime supports `asyncio` async/await, and is needed on Google Colab. If the runtime is upgraded, you will be prompted to restart it, which you should do before continuing execution."
      ]
    },
    {
      "cell_type": "code",
      "metadata": {
        "id": "E-AnefvPvmtR",
        "colab_type": "code",
        "colab": {}
      },
      "source": [
        "!pip install \"ipython>=7\""
      ],
      "execution_count": 0,
      "outputs": []
    },
    {
      "cell_type": "markdown",
      "metadata": {
        "id": "_61Bg2_KwIR2",
        "colab_type": "text"
      },
      "source": [
        "# Set Up Environment"
      ]
    },
    {
      "cell_type": "markdown",
      "metadata": {
        "id": "zX-xTWzWG1bt",
        "colab_type": "text"
      },
      "source": [
        "### Import required libraries"
      ]
    },
    {
      "cell_type": "code",
      "metadata": {
        "id": "gNnEvtkmwL0W",
        "colab_type": "code",
        "colab": {}
      },
      "source": [
        "!pip install -q 'canopy==8.13'"
      ],
      "execution_count": 0,
      "outputs": []
    },
    {
      "cell_type": "code",
      "metadata": {
        "id": "0bBsqDyhwN_8",
        "colab_type": "code",
        "colab": {}
      },
      "source": [
        "import canopy\n",
        "import logging\n",
        "import matplotlib.pyplot as plt\n",
        "\n",
        "logging.basicConfig(level=logging.INFO)"
      ],
      "execution_count": 0,
      "outputs": []
    },
    {
      "cell_type": "markdown",
      "metadata": {
        "id": "nH5-pXaZw5jg",
        "colab_type": "text"
      },
      "source": [
        "### Authenticate"
      ]
    },
    {
      "cell_type": "code",
      "metadata": {
        "id": "SAnwvDofwhw1",
        "colab_type": "code",
        "colab": {}
      },
      "source": [
        "authentication_data = canopy.prompt_for_authentication()\n",
        "session = canopy.Session(authentication_data)"
      ],
      "execution_count": 0,
      "outputs": []
    },
    {
      "cell_type": "markdown",
      "metadata": {
        "id": "VSDal4PawY8-",
        "colab_type": "text"
      },
      "source": [
        "# Set Up Example"
      ]
    },
    {
      "cell_type": "markdown",
      "metadata": {
        "id": "cc9N0PwfUKEa",
        "colab_type": "text"
      },
      "source": [
        "Run a quick ApexSim exploration."
      ]
    },
    {
      "cell_type": "code",
      "metadata": {
        "id": "5r6ZPt3bUQJ9",
        "colab_type": "code",
        "outputId": "a98d878d-e1a4-457f-caa2-27267805ff43",
        "colab": {
          "base_uri": "https://localhost:8080/",
          "height": 104
        }
      },
      "source": [
        "logging.info('Loading configs...')\n",
        "\n",
        "default_car = await canopy.load_default_config(\n",
        "    session, 'car', 'Canopy F1 Car 2019')\n",
        "\n",
        "default_weather = await canopy.load_default_config(\n",
        "    session, 'weather', '25 deg, dry')\n",
        "\n",
        "default_exploration = await canopy.load_default_config(\n",
        "    session, 'exploration', 'Automated Test Monte Carlo')\n",
        "\n",
        "# We'll run a very small exploration for this example\n",
        "default_exploration.data.design.numberOfPoints = 3\n",
        "\n",
        "logging.info('Creating study...')\n",
        "\n",
        "study_id = await canopy.create_study(\n",
        "    session,\n",
        "    'apexSim',\n",
        "    'Loading Vector Results Example',\n",
        "    [\n",
        "        default_car,\n",
        "        default_weather,\n",
        "        default_exploration,\n",
        "    ])\n",
        "\n",
        "logging.info('Waiting for study to complete...')\n",
        "\n",
        "wait_result = await canopy.wait_for_study(\n",
        "    session,\n",
        "    study_id,\n",
        "    timeout_seconds=300)\n",
        "    \n",
        "logging.info('Sim Version: {}'.format(wait_result.document.sim_version))    \n",
        "logging.info('Succeded Simulations: {}/{}'.format(\n",
        "    wait_result.succeeded_simulation_count, \n",
        "    wait_result.simulation_count))"
      ],
      "execution_count": 4,
      "outputs": [
        {
          "output_type": "stream",
          "text": [
            "INFO:root:Loading configs...\n",
            "INFO:root:Creating study...\n",
            "INFO:root:Waiting for study to complete...\n",
            "INFO:root:Sim Version: 1.3371\n",
            "INFO:root:Succeded Simulations: 3/3\n"
          ],
          "name": "stderr"
        }
      ]
    },
    {
      "cell_type": "markdown",
      "metadata": {
        "id": "FAFirfukWLfF",
        "colab_type": "text"
      },
      "source": [
        "# Example: Loading Vector Results"
      ]
    },
    {
      "cell_type": "markdown",
      "metadata": {
        "id": "BOcIhzzUY32z",
        "colab_type": "text"
      },
      "source": [
        "## Loading for a single job\n",
        "We can load the vector results for an individual job by passing a list of channel names to the `load_study_job` function. Note we are specifically loading the `ApexSim` vector results here. If we also wanted the `StraightSim` results we can fetch them in a second call."
      ]
    },
    {
      "cell_type": "code",
      "metadata": {
        "id": "vkHGACInWNkr",
        "colab_type": "code",
        "outputId": "693badf4-3d18-4ef3-ff0f-674683b7ba90",
        "colab": {
          "base_uri": "https://localhost:8080/",
          "height": 1000
        }
      },
      "source": [
        "job_0 = await canopy.load_study_job(\n",
        "    session,\n",
        "    study_id,\n",
        "    'ApexSim',\n",
        "    job_index=0,\n",
        "    channel_names=[\n",
        "        'vCar',\n",
        "        'hRideF',\n",
        "        'hRideR'\n",
        "    ])\n",
        "    \n",
        "job_0.vector_data"
      ],
      "execution_count": 5,
      "outputs": [
        {
          "output_type": "stream",
          "text": [
            "INFO:canopy.load_study_job:Loading job index 0\n"
          ],
          "name": "stderr"
        },
        {
          "output_type": "execute_result",
          "data": {
            "text/html": [
              "<div>\n",
              "<style scoped>\n",
              "    .dataframe tbody tr th:only-of-type {\n",
              "        vertical-align: middle;\n",
              "    }\n",
              "\n",
              "    .dataframe tbody tr th {\n",
              "        vertical-align: top;\n",
              "    }\n",
              "\n",
              "    .dataframe thead th {\n",
              "        text-align: right;\n",
              "    }\n",
              "</style>\n",
              "<table border=\"1\" class=\"dataframe\">\n",
              "  <thead>\n",
              "    <tr style=\"text-align: right;\">\n",
              "      <th></th>\n",
              "      <th>vCar</th>\n",
              "      <th>hRideF</th>\n",
              "      <th>hRideR</th>\n",
              "    </tr>\n",
              "  </thead>\n",
              "  <tbody>\n",
              "    <tr>\n",
              "      <th>0</th>\n",
              "      <td>9.893382</td>\n",
              "      <td>0.027693</td>\n",
              "      <td>0.143110</td>\n",
              "    </tr>\n",
              "    <tr>\n",
              "      <th>1</th>\n",
              "      <td>11.928808</td>\n",
              "      <td>0.027240</td>\n",
              "      <td>0.143004</td>\n",
              "    </tr>\n",
              "    <tr>\n",
              "      <th>2</th>\n",
              "      <td>13.963180</td>\n",
              "      <td>0.026509</td>\n",
              "      <td>0.142673</td>\n",
              "    </tr>\n",
              "    <tr>\n",
              "      <th>3</th>\n",
              "      <td>15.980705</td>\n",
              "      <td>0.025901</td>\n",
              "      <td>0.142306</td>\n",
              "    </tr>\n",
              "    <tr>\n",
              "      <th>4</th>\n",
              "      <td>17.988016</td>\n",
              "      <td>0.025314</td>\n",
              "      <td>0.141898</td>\n",
              "    </tr>\n",
              "    <tr>\n",
              "      <th>5</th>\n",
              "      <td>19.989450</td>\n",
              "      <td>0.024715</td>\n",
              "      <td>0.141450</td>\n",
              "    </tr>\n",
              "    <tr>\n",
              "      <th>6</th>\n",
              "      <td>21.987408</td>\n",
              "      <td>0.024109</td>\n",
              "      <td>0.140945</td>\n",
              "    </tr>\n",
              "    <tr>\n",
              "      <th>7</th>\n",
              "      <td>23.983580</td>\n",
              "      <td>0.023514</td>\n",
              "      <td>0.140329</td>\n",
              "    </tr>\n",
              "    <tr>\n",
              "      <th>8</th>\n",
              "      <td>25.978909</td>\n",
              "      <td>0.022895</td>\n",
              "      <td>0.139640</td>\n",
              "    </tr>\n",
              "    <tr>\n",
              "      <th>9</th>\n",
              "      <td>27.975653</td>\n",
              "      <td>0.022405</td>\n",
              "      <td>0.138623</td>\n",
              "    </tr>\n",
              "    <tr>\n",
              "      <th>10</th>\n",
              "      <td>29.970448</td>\n",
              "      <td>0.021682</td>\n",
              "      <td>0.137865</td>\n",
              "    </tr>\n",
              "    <tr>\n",
              "      <th>11</th>\n",
              "      <td>31.965170</td>\n",
              "      <td>0.020926</td>\n",
              "      <td>0.137049</td>\n",
              "    </tr>\n",
              "    <tr>\n",
              "      <th>12</th>\n",
              "      <td>33.959953</td>\n",
              "      <td>0.020142</td>\n",
              "      <td>0.136179</td>\n",
              "    </tr>\n",
              "    <tr>\n",
              "      <th>13</th>\n",
              "      <td>35.955013</td>\n",
              "      <td>0.019341</td>\n",
              "      <td>0.135242</td>\n",
              "    </tr>\n",
              "    <tr>\n",
              "      <th>14</th>\n",
              "      <td>37.950569</td>\n",
              "      <td>0.018537</td>\n",
              "      <td>0.134226</td>\n",
              "    </tr>\n",
              "    <tr>\n",
              "      <th>15</th>\n",
              "      <td>39.946686</td>\n",
              "      <td>0.017729</td>\n",
              "      <td>0.133129</td>\n",
              "    </tr>\n",
              "    <tr>\n",
              "      <th>16</th>\n",
              "      <td>41.944988</td>\n",
              "      <td>0.017009</td>\n",
              "      <td>0.131774</td>\n",
              "    </tr>\n",
              "    <tr>\n",
              "      <th>17</th>\n",
              "      <td>43.941723</td>\n",
              "      <td>0.016164</td>\n",
              "      <td>0.130570</td>\n",
              "    </tr>\n",
              "    <tr>\n",
              "      <th>18</th>\n",
              "      <td>45.941841</td>\n",
              "      <td>0.015264</td>\n",
              "      <td>0.129229</td>\n",
              "    </tr>\n",
              "    <tr>\n",
              "      <th>19</th>\n",
              "      <td>47.942772</td>\n",
              "      <td>0.014333</td>\n",
              "      <td>0.127830</td>\n",
              "    </tr>\n",
              "    <tr>\n",
              "      <th>20</th>\n",
              "      <td>49.943840</td>\n",
              "      <td>0.013373</td>\n",
              "      <td>0.126368</td>\n",
              "    </tr>\n",
              "    <tr>\n",
              "      <th>21</th>\n",
              "      <td>51.944893</td>\n",
              "      <td>0.012386</td>\n",
              "      <td>0.124841</td>\n",
              "    </tr>\n",
              "    <tr>\n",
              "      <th>22</th>\n",
              "      <td>53.946285</td>\n",
              "      <td>0.011436</td>\n",
              "      <td>0.123123</td>\n",
              "    </tr>\n",
              "    <tr>\n",
              "      <th>23</th>\n",
              "      <td>55.947105</td>\n",
              "      <td>0.010394</td>\n",
              "      <td>0.121478</td>\n",
              "    </tr>\n",
              "    <tr>\n",
              "      <th>24</th>\n",
              "      <td>57.947807</td>\n",
              "      <td>0.009321</td>\n",
              "      <td>0.119785</td>\n",
              "    </tr>\n",
              "    <tr>\n",
              "      <th>25</th>\n",
              "      <td>59.948410</td>\n",
              "      <td>0.008222</td>\n",
              "      <td>0.118045</td>\n",
              "    </tr>\n",
              "    <tr>\n",
              "      <th>26</th>\n",
              "      <td>61.948921</td>\n",
              "      <td>0.007096</td>\n",
              "      <td>0.116262</td>\n",
              "    </tr>\n",
              "    <tr>\n",
              "      <th>27</th>\n",
              "      <td>63.949356</td>\n",
              "      <td>0.005946</td>\n",
              "      <td>0.114440</td>\n",
              "    </tr>\n",
              "    <tr>\n",
              "      <th>28</th>\n",
              "      <td>65.949905</td>\n",
              "      <td>0.004819</td>\n",
              "      <td>0.112488</td>\n",
              "    </tr>\n",
              "    <tr>\n",
              "      <th>29</th>\n",
              "      <td>67.950172</td>\n",
              "      <td>0.003619</td>\n",
              "      <td>0.110612</td>\n",
              "    </tr>\n",
              "    <tr>\n",
              "      <th>30</th>\n",
              "      <td>69.950356</td>\n",
              "      <td>0.002390</td>\n",
              "      <td>0.108725</td>\n",
              "    </tr>\n",
              "    <tr>\n",
              "      <th>31</th>\n",
              "      <td>71.950470</td>\n",
              "      <td>0.001132</td>\n",
              "      <td>0.106835</td>\n",
              "    </tr>\n",
              "    <tr>\n",
              "      <th>32</th>\n",
              "      <td>73.950516</td>\n",
              "      <td>-0.000150</td>\n",
              "      <td>0.104944</td>\n",
              "    </tr>\n",
              "    <tr>\n",
              "      <th>33</th>\n",
              "      <td>75.950554</td>\n",
              "      <td>-0.001443</td>\n",
              "      <td>0.103031</td>\n",
              "    </tr>\n",
              "    <tr>\n",
              "      <th>34</th>\n",
              "      <td>77.950424</td>\n",
              "      <td>-0.002792</td>\n",
              "      <td>0.101202</td>\n",
              "    </tr>\n",
              "    <tr>\n",
              "      <th>35</th>\n",
              "      <td>79.950203</td>\n",
              "      <td>-0.004177</td>\n",
              "      <td>0.099423</td>\n",
              "    </tr>\n",
              "    <tr>\n",
              "      <th>36</th>\n",
              "      <td>81.949898</td>\n",
              "      <td>-0.005594</td>\n",
              "      <td>0.097698</td>\n",
              "    </tr>\n",
              "    <tr>\n",
              "      <th>37</th>\n",
              "      <td>83.949509</td>\n",
              "      <td>-0.007046</td>\n",
              "      <td>0.096042</td>\n",
              "    </tr>\n",
              "    <tr>\n",
              "      <th>38</th>\n",
              "      <td>85.948921</td>\n",
              "      <td>-0.008562</td>\n",
              "      <td>0.094535</td>\n",
              "    </tr>\n",
              "    <tr>\n",
              "      <th>39</th>\n",
              "      <td>87.948181</td>\n",
              "      <td>-0.010122</td>\n",
              "      <td>0.093164</td>\n",
              "    </tr>\n",
              "    <tr>\n",
              "      <th>40</th>\n",
              "      <td>89.947403</td>\n",
              "      <td>-0.011636</td>\n",
              "      <td>0.091884</td>\n",
              "    </tr>\n",
              "  </tbody>\n",
              "</table>\n",
              "</div>"
            ],
            "text/plain": [
              "         vCar    hRideF    hRideR\n",
              "0    9.893382  0.027693  0.143110\n",
              "1   11.928808  0.027240  0.143004\n",
              "2   13.963180  0.026509  0.142673\n",
              "3   15.980705  0.025901  0.142306\n",
              "4   17.988016  0.025314  0.141898\n",
              "5   19.989450  0.024715  0.141450\n",
              "6   21.987408  0.024109  0.140945\n",
              "7   23.983580  0.023514  0.140329\n",
              "8   25.978909  0.022895  0.139640\n",
              "9   27.975653  0.022405  0.138623\n",
              "10  29.970448  0.021682  0.137865\n",
              "11  31.965170  0.020926  0.137049\n",
              "12  33.959953  0.020142  0.136179\n",
              "13  35.955013  0.019341  0.135242\n",
              "14  37.950569  0.018537  0.134226\n",
              "15  39.946686  0.017729  0.133129\n",
              "16  41.944988  0.017009  0.131774\n",
              "17  43.941723  0.016164  0.130570\n",
              "18  45.941841  0.015264  0.129229\n",
              "19  47.942772  0.014333  0.127830\n",
              "20  49.943840  0.013373  0.126368\n",
              "21  51.944893  0.012386  0.124841\n",
              "22  53.946285  0.011436  0.123123\n",
              "23  55.947105  0.010394  0.121478\n",
              "24  57.947807  0.009321  0.119785\n",
              "25  59.948410  0.008222  0.118045\n",
              "26  61.948921  0.007096  0.116262\n",
              "27  63.949356  0.005946  0.114440\n",
              "28  65.949905  0.004819  0.112488\n",
              "29  67.950172  0.003619  0.110612\n",
              "30  69.950356  0.002390  0.108725\n",
              "31  71.950470  0.001132  0.106835\n",
              "32  73.950516 -0.000150  0.104944\n",
              "33  75.950554 -0.001443  0.103031\n",
              "34  77.950424 -0.002792  0.101202\n",
              "35  79.950203 -0.004177  0.099423\n",
              "36  81.949898 -0.005594  0.097698\n",
              "37  83.949509 -0.007046  0.096042\n",
              "38  85.948921 -0.008562  0.094535\n",
              "39  87.948181 -0.010122  0.093164\n",
              "40  89.947403 -0.011636  0.091884"
            ]
          },
          "metadata": {
            "tags": []
          },
          "execution_count": 5
        }
      ]
    },
    {
      "cell_type": "markdown",
      "metadata": {
        "id": "M6QjAzHFZhVe",
        "colab_type": "text"
      },
      "source": [
        "We can request individual vector results in our desired units:"
      ]
    },
    {
      "cell_type": "code",
      "metadata": {
        "id": "7yQVhrU3ZmWG",
        "colab_type": "code",
        "outputId": "7a86d07d-d225-4402-ec96-8b50f3003a38",
        "colab": {
          "base_uri": "https://localhost:8080/",
          "height": 763
        }
      },
      "source": [
        "job_0.vector_as('hRideF', 'mm')"
      ],
      "execution_count": 6,
      "outputs": [
        {
          "output_type": "stream",
          "text": [
            "INFO:numexpr.utils:NumExpr defaulting to 2 threads.\n"
          ],
          "name": "stderr"
        },
        {
          "output_type": "execute_result",
          "data": {
            "text/plain": [
              "0     27.693409\n",
              "1     27.240007\n",
              "2     26.509382\n",
              "3     25.901253\n",
              "4     25.313660\n",
              "5     24.714855\n",
              "6     24.109306\n",
              "7     23.514183\n",
              "8     22.894676\n",
              "9     22.404600\n",
              "10    21.681618\n",
              "11    20.925753\n",
              "12    20.141588\n",
              "13    19.341364\n",
              "14    18.536528\n",
              "15    17.729074\n",
              "16    17.009451\n",
              "17    16.164230\n",
              "18    15.263780\n",
              "19    14.333287\n",
              "20    13.373140\n",
              "21    12.385751\n",
              "22    11.436469\n",
              "23    10.393733\n",
              "24     9.321388\n",
              "25     8.221671\n",
              "26     7.096004\n",
              "27     5.946103\n",
              "28     4.819232\n",
              "29     3.618631\n",
              "30     2.389540\n",
              "31     1.132143\n",
              "32    -0.150155\n",
              "33    -1.443413\n",
              "34    -2.792138\n",
              "35    -4.176954\n",
              "36    -5.594275\n",
              "37    -7.046223\n",
              "38    -8.562011\n",
              "39   -10.121965\n",
              "40   -11.635673\n",
              "Name: hRideF, dtype: float32"
            ]
          },
          "metadata": {
            "tags": []
          },
          "execution_count": 6
        }
      ]
    },
    {
      "cell_type": "markdown",
      "metadata": {
        "id": "0VPQ8IMuZuZX",
        "colab_type": "text"
      },
      "source": [
        "You can also use the `vector_as` function and omit the units, which will then use the preferred units saved in your Canopy account:"
      ]
    },
    {
      "cell_type": "code",
      "metadata": {
        "id": "f3lWWpWtZ0eJ",
        "colab_type": "code",
        "outputId": "4d84f6da-6e9b-4c8e-d744-19f159e54932",
        "colab": {
          "base_uri": "https://localhost:8080/",
          "height": 745
        }
      },
      "source": [
        "job_0.vector_as('hRideF')"
      ],
      "execution_count": 7,
      "outputs": [
        {
          "output_type": "execute_result",
          "data": {
            "text/plain": [
              "0     0.027693\n",
              "1     0.027240\n",
              "2     0.026509\n",
              "3     0.025901\n",
              "4     0.025314\n",
              "5     0.024715\n",
              "6     0.024109\n",
              "7     0.023514\n",
              "8     0.022895\n",
              "9     0.022405\n",
              "10    0.021682\n",
              "11    0.020926\n",
              "12    0.020142\n",
              "13    0.019341\n",
              "14    0.018537\n",
              "15    0.017729\n",
              "16    0.017009\n",
              "17    0.016164\n",
              "18    0.015264\n",
              "19    0.014333\n",
              "20    0.013373\n",
              "21    0.012386\n",
              "22    0.011436\n",
              "23    0.010394\n",
              "24    0.009321\n",
              "25    0.008222\n",
              "26    0.007096\n",
              "27    0.005946\n",
              "28    0.004819\n",
              "29    0.003619\n",
              "30    0.002390\n",
              "31    0.001132\n",
              "32   -0.000150\n",
              "33   -0.001443\n",
              "34   -0.002792\n",
              "35   -0.004177\n",
              "36   -0.005594\n",
              "37   -0.007046\n",
              "38   -0.008562\n",
              "39   -0.010122\n",
              "40   -0.011636\n",
              "Name: hRideF, dtype: float32"
            ]
          },
          "metadata": {
            "tags": []
          },
          "execution_count": 7
        }
      ]
    },
    {
      "cell_type": "markdown",
      "metadata": {
        "id": "nu7uwKuXoRqG",
        "colab_type": "text"
      },
      "source": [
        "We can then easily plot the results:"
      ]
    },
    {
      "cell_type": "code",
      "metadata": {
        "id": "tlPhLurTnsbK",
        "colab_type": "code",
        "outputId": "ae2c6e4b-f98b-4fd1-8c4a-9868f45d2659",
        "colab": {
          "base_uri": "https://localhost:8080/",
          "height": 279
        }
      },
      "source": [
        "x = job_0.vector_as('vCar', 'kph')\n",
        "\n",
        "plt.figure()\n",
        "plt.xlabel('vCar (kph)')\n",
        "plt.plot(x, job_0.vector_as('hRideR', 'mm'), 'r-', label='hRideR (mm)')\n",
        "plt.plot(x, job_0.vector_as('hRideF', 'mm'), 'b-', label='hRideF (mm)')\n",
        "plt.legend()\n",
        "plt.show()"
      ],
      "execution_count": 8,
      "outputs": [
        {
          "output_type": "display_data",
          "data": {
            "image/png": "[encoded data removed]",
            "text/plain": [
              "<Figure size 432x288 with 1 Axes>"
            ]
          },
          "metadata": {
            "tags": [],
            "needs_background": "light"
          }
        }
      ]
    },
    {
      "cell_type": "markdown",
      "metadata": {
        "id": "mWWmbVeobKJG",
        "colab_type": "text"
      },
      "source": [
        "## Loading for an entire study\n",
        "\n",
        "We can load the vector results for the entire study by passing a list of channels to the `load_study` function.\n",
        "\n",
        "We'll also load the study scalar results for context."
      ]
    },
    {
      "cell_type": "code",
      "metadata": {
        "id": "iYD2SiZZpL1K",
        "colab_type": "code",
        "outputId": "2aca7ae8-0d0d-496c-9f47-71f9ba605e06",
        "colab": {
          "base_uri": "https://localhost:8080/",
          "height": 69
        }
      },
      "source": [
        "study = await canopy.load_study(\n",
        "    session,\n",
        "    study_id,\n",
        "    'ApexSim',\n",
        "    channel_names=[\n",
        "        'vCar',\n",
        "        'hRideF',\n",
        "        'hRideR'\n",
        "    ],\n",
        "    include_study_scalar_results=True)"
      ],
      "execution_count": 9,
      "outputs": [
        {
          "output_type": "stream",
          "text": [
            "INFO:canopy.load_study_job:Loading job index 0\n",
            "INFO:canopy.load_study_job:Loading job index 1\n",
            "INFO:canopy.load_study_job:Loading job index 2\n"
          ],
          "name": "stderr"
        }
      ]
    },
    {
      "cell_type": "code",
      "metadata": {
        "id": "oaNkLFOoqOjU",
        "colab_type": "code",
        "outputId": "6f0dbb2f-c424-4fee-c83a-db98ab5f5138",
        "colab": {
          "base_uri": "https://localhost:8080/",
          "height": 331
        }
      },
      "source": [
        "plt.figure()\n",
        "plt.xlabel('vCar (kph)')\n",
        "plt.ylabel('hRideR (mm)')\n",
        "\n",
        "colors = plt.cm.Set1.colors\n",
        "\n",
        "for index, job in enumerate(study.jobs):\n",
        "    print(index)\n",
        "    plt.plot(\n",
        "        job.vector_as('vCar', 'kph'),\n",
        "        job.vector_as('hRideR', 'mm'),\n",
        "        label=job.document.name,\n",
        "        color=colors[index % len(colors)])\n",
        "plt.legend()\n",
        "plt.show()"
      ],
      "execution_count": 10,
      "outputs": [
        {
          "output_type": "stream",
          "text": [
            "0\n",
            "1\n",
            "2\n"
          ],
          "name": "stdout"
        },
        {
          "output_type": "display_data",
          "data": {
            "image/png": "[encoded data removed]",
            "text/plain": [
              "<Figure size 432x288 with 1 Axes>"
            ]
          },
          "metadata": {
            "tags": [],
            "needs_background": "light"
          }
        }
      ]
    },
    {
      "cell_type": "markdown",
      "metadata": {
        "id": "pMK3AHoCsHqi",
        "colab_type": "text"
      },
      "source": [
        "If we want to understand exactly what changed for these three jobs to produce these results, we can look at the inputs in the scalar results:"
      ]
    },
    {
      "cell_type": "code",
      "metadata": {
        "id": "f0lc_sp9r3wX",
        "colab_type": "code",
        "outputId": "8832c493-78c6-45f7-d9aa-a5ac25271f8f",
        "colab": {
          "base_uri": "https://localhost:8080/",
          "height": 141
        }
      },
      "source": [
        "study.scalar_results.inputs"
      ],
      "execution_count": 11,
      "outputs": [
        {
          "output_type": "execute_result",
          "data": {
            "text/html": [
              "<div>\n",
              "<style scoped>\n",
              "    .dataframe tbody tr th:only-of-type {\n",
              "        vertical-align: middle;\n",
              "    }\n",
              "\n",
              "    .dataframe tbody tr th {\n",
              "        vertical-align: top;\n",
              "    }\n",
              "\n",
              "    .dataframe thead th {\n",
              "        text-align: right;\n",
              "    }\n",
              "</style>\n",
              "<table border=\"1\" class=\"dataframe\">\n",
              "  <thead>\n",
              "    <tr style=\"text-align: right;\">\n",
              "      <th></th>\n",
              "      <th>car.chassis.carRunningMass.mCar+</th>\n",
              "      <th>car.chassis.ICar+</th>\n",
              "      <th>car.chassis.hRideFSetup+</th>\n",
              "      <th>car.chassis.hRideRSetup+</th>\n",
              "    </tr>\n",
              "  </thead>\n",
              "  <tbody>\n",
              "    <tr>\n",
              "      <th>0</th>\n",
              "      <td>6.319281</td>\n",
              "      <td>[4.47892127767,0.0,0.0,0.0,8.95784255534,0.0,0...</td>\n",
              "      <td>0.004119</td>\n",
              "      <td>0.017813</td>\n",
              "    </tr>\n",
              "    <tr>\n",
              "      <th>1</th>\n",
              "      <td>-0.325107</td>\n",
              "      <td>[-5.48765997191,0.0,0.0,0.0,-10.97531994382,0....</td>\n",
              "      <td>0.000353</td>\n",
              "      <td>0.014984</td>\n",
              "    </tr>\n",
              "    <tr>\n",
              "      <th>2</th>\n",
              "      <td>9.916108</td>\n",
              "      <td>[9.87416220823,0.0,0.0,0.0,19.74832441646,0.0,...</td>\n",
              "      <td>0.005481</td>\n",
              "      <td>0.012640</td>\n",
              "    </tr>\n",
              "  </tbody>\n",
              "</table>\n",
              "</div>"
            ],
            "text/plain": [
              "   car.chassis.carRunningMass.mCar+  ... car.chassis.hRideRSetup+\n",
              "0                          6.319281  ...                 0.017813\n",
              "1                         -0.325107  ...                 0.014984\n",
              "2                          9.916108  ...                 0.012640\n",
              "\n",
              "[3 rows x 4 columns]"
            ]
          },
          "metadata": {
            "tags": []
          },
          "execution_count": 11
        }
      ]
    },
    {
      "cell_type": "markdown",
      "metadata": {
        "id": "0Nf_2yNunGCL",
        "colab_type": "text"
      },
      "source": [
        "## Interactive Plots\n",
        "\n",
        "We can create an interactive plot with a library like Bokeh. You will need to view this in a notebook viewer which supports interactive plots, as it won't render on GitHub.\n",
        "\n",
        "The following code creates two stacked plots with linked X axes, so that as you pan and zoom the charts stay in sync."
      ]
    },
    {
      "cell_type": "code",
      "metadata": {
        "id": "gh56xVu0nQFk",
        "colab_type": "code",
        "colab": {
          "base_uri": "https://localhost:8080/",
          "height": 647
        },
        "outputId": "4e668243-470e-4d93-c139-28048e6284f0"
      },
      "source": [
        "from bokeh.plotting import figure, show, output_notebook\n",
        "from bokeh.layouts import gridplot\n",
        "from bokeh.palettes import Category10\n",
        "output_notebook()\n",
        "\n",
        "p1 = figure(\n",
        "    plot_width=800,\n",
        "    plot_height=300,\n",
        "    y_axis_label='hRideF (mm)')\n",
        "\n",
        "p2 = figure(\n",
        "    plot_width=800,\n",
        "    plot_height=300,\n",
        "    x_axis_label='vCar (kph)', \n",
        "    y_axis_label='hRideR (mm)',\n",
        "    x_range=p1.x_range)\n",
        "\n",
        "for index, job in enumerate(study.jobs):\n",
        "    p1.line(\n",
        "        job.vector_as('vCar', 'kph'), \n",
        "        job.vector_as('hRideF', 'mm'), \n",
        "        color=Category10[10][index % 10], alpha=0.5)\n",
        "\n",
        "    p2.line(\n",
        "        job.vector_as('vCar', 'kph'), \n",
        "        job.vector_as('hRideR', 'mm'), \n",
        "        color=Category10[10][index % 10], alpha=0.5)\n",
        "\n",
        "grid = gridplot([[p1], [p2]])\n",
        "show(grid)"
      ],
      "execution_count": 26,
      "outputs": [
        {
          "output_type": "display_data",
          "data": {
            "application/javascript": [
              "\n",
              "(function(root) {\n",
              "  function now() {\n",
              "    return new Date();\n",
              "  }\n",
              "\n",
              "  var force = true;\n",
              "\n",
              "  if (typeof root._bokeh_onload_callbacks === \"undefined\" || force === true) {\n",
              "    root._bokeh_onload_callbacks = [];\n",
              "    root._bokeh_is_loading = undefined;\n",
              "  }\n",
              "\n",
              "  var JS_MIME_TYPE = 'application/javascript';\n",
              "  var HTML_MIME_TYPE = 'text/html';\n",
              "  var EXEC_MIME_TYPE = 'application/vnd.bokehjs_exec.v0+json';\n",
              "  var CLASS_NAME = 'output_bokeh rendered_html';\n",
              "\n",
              "  /**\n",
              "   * Render data to the DOM node\n",
              "   */\n",
              "  function render(props, node) {\n",
              "    var script = document.createElement(\"script\");\n",
              "    node.appendChild(script);\n",
              "  }\n",
              "\n",
              "  /**\n",
              "   * Handle when an output is cleared or removed\n",
              "   */\n",
              "  function handleClearOutput(event, handle) {\n",
              "    var cell = handle.cell;\n",
              "\n",
              "    var id = cell.output_area._bokeh_element_id;\n",
              "    var server_id = cell.output_area._bokeh_server_id;\n",
              "    // Clean up Bokeh references\n",
              "    if (id != null && id in Bokeh.index) {\n",
              "      Bokeh.index[id].model.document.clear();\n",
              "      delete Bokeh.index[id];\n",
              "    }\n",
              "\n",
              "    if (server_id !== undefined) {\n",
              "      // Clean up Bokeh references\n",
              "      var cmd = \"from bokeh.io.state import curstate; print(curstate().uuid_to_server['\" + server_id + \"'].get_sessions()[0].document.roots[0]._id)\";\n",
              "      cell.notebook.kernel.execute(cmd, {\n",
              "        iopub: {\n",
              "          output: function(msg) {\n",
              "            var id = msg.content.text.trim();\n",
              "            if (id in Bokeh.index) {\n",
              "              Bokeh.index[id].model.document.clear();\n",
              "              delete Bokeh.index[id];\n",
              "            }\n",
              "          }\n",
              "        }\n",
              "      });\n",
              "      // Destroy server and session\n",
              "      var cmd = \"import bokeh.io.notebook as ion; ion.destroy_server('\" + server_id + \"')\";\n",
              "      cell.notebook.kernel.execute(cmd);\n",
              "    }\n",
              "  }\n",
              "\n",
              "  /**\n",
              "   * Handle when a new output is added\n",
              "   */\n",
              "  function handleAddOutput(event, handle) {\n",
              "    var output_area = handle.output_area;\n",
              "    var output = handle.output;\n",
              "\n",
              "    // limit handleAddOutput to display_data with EXEC_MIME_TYPE content only\n",
              "    if ((output.output_type != \"display_data\") || (!output.data.hasOwnProperty(EXEC_MIME_TYPE))) {\n",
              "      return\n",
              "    }\n",
              "\n",
              "    var toinsert = output_area.element.find(\".\" + CLASS_NAME.split(' ')[0]);\n",
              "\n",
              "    if (output.metadata[EXEC_MIME_TYPE][\"id\"] !== undefined) {\n",
              "      toinsert[toinsert.length - 1].firstChild.textContent = output.data[JS_MIME_TYPE];\n",
              "      // store reference to embed id on output_area\n",
              "      output_area._bokeh_element_id = output.metadata[EXEC_MIME_TYPE][\"id\"];\n",
              "    }\n",
              "    if (output.metadata[EXEC_MIME_TYPE][\"server_id\"] !== undefined) {\n",
              "      var bk_div = document.createElement(\"div\");\n",
              "      bk_div.innerHTML = output.data[HTML_MIME_TYPE];\n",
              "      var script_attrs = bk_div.children[0].attributes;\n",
              "      for (var i = 0; i < script_attrs.length; i++) {\n",
              "        toinsert[toinsert.length - 1].firstChild.setAttribute(script_attrs[i].name, script_attrs[i].value);\n",
              "      }\n",
              "      // store reference to server id on output_area\n",
              "      output_area._bokeh_server_id = output.metadata[EXEC_MIME_TYPE][\"server_id\"];\n",
              "    }\n",
              "  }\n",
              "\n",
              "  function register_renderer(events, OutputArea) {\n",
              "\n",
              "    function append_mime(data, metadata, element) {\n",
              "      // create a DOM node to render to\n",
              "      var toinsert = this.create_output_subarea(\n",
              "        metadata,\n",
              "        CLASS_NAME,\n",
              "        EXEC_MIME_TYPE\n",
              "      );\n",
              "      this.keyboard_manager.register_events(toinsert);\n",
              "      // Render to node\n",
              "      var props = {data: data, metadata: metadata[EXEC_MIME_TYPE]};\n",
              "      render(props, toinsert[toinsert.length - 1]);\n",
              "      element.append(toinsert);\n",
              "      return toinsert\n",
              "    }\n",
              "\n",
              "    /* Handle when an output is cleared or removed */\n",
              "    events.on('clear_output.CodeCell', handleClearOutput);\n",
              "    events.on('delete.Cell', handleClearOutput);\n",
              "\n",
              "    /* Handle when a new output is added */\n",
              "    events.on('output_added.OutputArea', handleAddOutput);\n",
              "\n",
              "    /**\n",
              "     * Register the mime type and append_mime function with output_area\n",
              "     */\n",
              "    OutputArea.prototype.register_mime_type(EXEC_MIME_TYPE, append_mime, {\n",
              "      /* Is output safe? */\n",
              "      safe: true,\n",
              "      /* Index of renderer in `output_area.display_order` */\n",
              "      index: 0\n",
              "    });\n",
              "  }\n",
              "\n",
              "  // register the mime type if in Jupyter Notebook environment and previously unregistered\n",
              "  if (root.Jupyter !== undefined) {\n",
              "    var events = require('base/js/events');\n",
              "    var OutputArea = require('notebook/js/outputarea').OutputArea;\n",
              "\n",
              "    if (OutputArea.prototype.mime_types().indexOf(EXEC_MIME_TYPE) == -1) {\n",
              "      register_renderer(events, OutputArea);\n",
              "    }\n",
              "  }\n",
              "\n",
              "  \n",
              "  if (typeof (root._bokeh_timeout) === \"undefined\" || force === true) {\n",
              "    root._bokeh_timeout = Date.now() + 5000;\n",
              "    root._bokeh_failed_load = false;\n",
              "  }\n",
              "\n",
              "  var NB_LOAD_WARNING = {'data': {'text/html':\n",
              "     \"<div style='background-color: #fdd'>\\n\"+\n",
              "     \"<p>\\n\"+\n",
              "     \"BokehJS does not appear to have successfully loaded. If loading BokehJS from CDN, this \\n\"+\n",
              "     \"may be due to a slow or bad network connection. Possible fixes:\\n\"+\n",
              "     \"</p>\\n\"+\n",
              "     \"<ul>\\n\"+\n",
              "     \"<li>re-rerun `output_notebook()` to attempt to load from CDN again, or</li>\\n\"+\n",
              "     \"<li>use INLINE resources instead, as so:</li>\\n\"+\n",
              "     \"</ul>\\n\"+\n",
              "     \"<code>\\n\"+\n",
              "     \"from bokeh.resources import INLINE\\n\"+\n",
              "     \"output_notebook(resources=INLINE)\\n\"+\n",
              "     \"</code>\\n\"+\n",
              "     \"</div>\"}};\n",
              "\n",
              "  function display_loaded() {\n",
              "    var el = document.getElementById(null);\n",
              "    if (el != null) {\n",
              "      el.textContent = \"BokehJS is loading...\";\n",
              "    }\n",
              "    if (root.Bokeh !== undefined) {\n",
              "      if (el != null) {\n",
              "        el.textContent = \"BokehJS \" + root.Bokeh.version + \" successfully loaded.\";\n",
              "      }\n",
              "    } else if (Date.now() < root._bokeh_timeout) {\n",
              "      setTimeout(display_loaded, 100)\n",
              "    }\n",
              "  }\n",
              "\n",
              "\n",
              "  function run_callbacks() {\n",
              "    try {\n",
              "      root._bokeh_onload_callbacks.forEach(function(callback) {\n",
              "        if (callback != null)\n",
              "          callback();\n",
              "      });\n",
              "    } finally {\n",
              "      delete root._bokeh_onload_callbacks\n",
              "    }\n",
              "    console.debug(\"Bokeh: all callbacks have finished\");\n",
              "  }\n",
              "\n",
              "  function load_libs(css_urls, js_urls, callback) {\n",
              "    if (css_urls == null) css_urls = [];\n",
              "    if (js_urls == null) js_urls = [];\n",
              "\n",
              "    root._bokeh_onload_callbacks.push(callback);\n",
              "    if (root._bokeh_is_loading > 0) {\n",
              "      console.debug(\"Bokeh: BokehJS is being loaded, scheduling callback at\", now());\n",
              "      return null;\n",
              "    }\n",
              "    if (js_urls == null || js_urls.length === 0) {\n",
              "      run_callbacks();\n",
              "      return null;\n",
              "    }\n",
              "    console.debug(\"Bokeh: BokehJS not loaded, scheduling load and callback at\", now());\n",
              "    root._bokeh_is_loading = css_urls.length + js_urls.length;\n",
              "\n",
              "    function on_load() {\n",
              "      root._bokeh_is_loading--;\n",
              "      if (root._bokeh_is_loading === 0) {\n",
              "        console.debug(\"Bokeh: all BokehJS libraries/stylesheets loaded\");\n",
              "        run_callbacks()\n",
              "      }\n",
              "    }\n",
              "\n",
              "    function on_error() {\n",
              "      console.error(\"failed to load \" + url);\n",
              "    }\n",
              "\n",
              "    for (var i = 0; i < css_urls.length; i++) {\n",
              "      var url = css_urls[i];\n",
              "      const element = document.createElement(\"link\");\n",
              "      element.onload = on_load;\n",
              "      element.onerror = on_error;\n",
              "      element.rel = \"stylesheet\";\n",
              "      element.type = \"text/css\";\n",
              "      element.href = url;\n",
              "      console.debug(\"Bokeh: injecting link tag for BokehJS stylesheet: \", url);\n",
              "      document.body.appendChild(element);\n",
              "    }\n",
              "\n",
              "    for (var i = 0; i < js_urls.length; i++) {\n",
              "      var url = js_urls[i];\n",
              "      var element = document.createElement('script');\n",
              "      element.onload = on_load;\n",
              "      element.onerror = on_error;\n",
              "      element.async = false;\n",
              "      element.src = url;\n",
              "      console.debug(\"Bokeh: injecting script tag for BokehJS library: \", url);\n",
              "      document.head.appendChild(element);\n",
              "    }\n",
              "  };\n",
              "\n",
              "  function inject_raw_css(css) {\n",
              "    const element = document.createElement(\"style\");\n",
              "    element.appendChild(document.createTextNode(css));\n",
              "    document.body.appendChild(element);\n",
              "  }\n",
              "\n",
              "  \n",
              "  var js_urls = [\"https://cdn.pydata.org/bokeh/release/bokeh-1.4.0.min.js\", \"https://cdn.pydata.org/bokeh/release/bokeh-widgets-1.4.0.min.js\", \"https://cdn.pydata.org/bokeh/release/bokeh-tables-1.4.0.min.js\", \"https://cdn.pydata.org/bokeh/release/bokeh-gl-1.4.0.min.js\"];\n",
              "  var css_urls = [];\n",
              "  \n",
              "\n",
              "  var inline_js = [\n",
              "    function(Bokeh) {\n",
              "      Bokeh.set_log_level(\"info\");\n",
              "    },\n",
              "    function(Bokeh) {\n",
              "    \n",
              "    \n",
              "    }\n",
              "  ];\n",
              "\n",
              "  function run_inline_js() {\n",
              "    \n",
              "    if (root.Bokeh !== undefined || force === true) {\n",
              "      \n",
              "    for (var i = 0; i < inline_js.length; i++) {\n",
              "      inline_js[i].call(root, root.Bokeh);\n",
              "    }\n",
              "    } else if (Date.now() < root._bokeh_timeout) {\n",
              "      setTimeout(run_inline_js, 100);\n",
              "    } else if (!root._bokeh_failed_load) {\n",
              "      console.log(\"Bokeh: BokehJS failed to load within specified timeout.\");\n",
              "      root._bokeh_failed_load = true;\n",
              "    } else if (force !== true) {\n",
              "      var cell = $(document.getElementById(null)).parents('.cell').data().cell;\n",
              "      cell.output_area.append_execute_result(NB_LOAD_WARNING)\n",
              "    }\n",
              "\n",
              "  }\n",
              "\n",
              "  if (root._bokeh_is_loading === 0) {\n",
              "    console.debug(\"Bokeh: BokehJS loaded, going straight to plotting\");\n",
              "    run_inline_js();\n",
              "  } else {\n",
              "    load_libs(css_urls, js_urls, function() {\n",
              "      console.debug(\"Bokeh: BokehJS plotting callback run at\", now());\n",
              "      run_inline_js();\n",
              "    });\n",
              "  }\n",
              "}(window));"
            ],
            "application/vnd.bokehjs_load.v0+json": "\n(function(root) {\n  function now() {\n    return new Date();\n  }\n\n  var force = true;\n\n  if (typeof root._bokeh_onload_callbacks === \"undefined\" || force === true) {\n    root._bokeh_onload_callbacks = [];\n    root._bokeh_is_loading = undefined;\n  }\n\n  \n\n  \n  if (typeof (root._bokeh_timeout) === \"undefined\" || force === true) {\n    root._bokeh_timeout = Date.now() + 5000;\n    root._bokeh_failed_load = false;\n  }\n\n  var NB_LOAD_WARNING = {'data': {'text/html':\n     \"<div style='background-color: #fdd'>\\n\"+\n     \"<p>\\n\"+\n     \"BokehJS does not appear to have successfully loaded. If loading BokehJS from CDN, this \\n\"+\n     \"may be due to a slow or bad network connection. Possible fixes:\\n\"+\n     \"</p>\\n\"+\n     \"<ul>\\n\"+\n     \"<li>re-rerun `output_notebook()` to attempt to load from CDN again, or</li>\\n\"+\n     \"<li>use INLINE resources instead, as so:</li>\\n\"+\n     \"</ul>\\n\"+\n     \"<code>\\n\"+\n     \"from bokeh.resources import INLINE\\n\"+\n     \"output_notebook(resources=INLINE)\\n\"+\n     \"</code>\\n\"+\n     \"</div>\"}};\n\n  function display_loaded() {\n    var el = document.getElementById(null);\n    if (el != null) {\n      el.textContent = \"BokehJS is loading...\";\n    }\n    if (root.Bokeh !== undefined) {\n      if (el != null) {\n        el.textContent = \"BokehJS \" + root.Bokeh.version + \" successfully loaded.\";\n      }\n    } else if (Date.now() < root._bokeh_timeout) {\n      setTimeout(display_loaded, 100)\n    }\n  }\n\n\n  function run_callbacks() {\n    try {\n      root._bokeh_onload_callbacks.forEach(function(callback) {\n        if (callback != null)\n          callback();\n      });\n    } finally {\n      delete root._bokeh_onload_callbacks\n    }\n    console.debug(\"Bokeh: all callbacks have finished\");\n  }\n\n  function load_libs(css_urls, js_urls, callback) {\n    if (css_urls == null) css_urls = [];\n    if (js_urls == null) js_urls = [];\n\n    root._bokeh_onload_callbacks.push(callback);\n    if (root._bokeh_is_loading > 0) {\n      console.debug(\"Bokeh: BokehJS is being loaded, scheduling callback at\", now());\n      return null;\n    }\n    if (js_urls == null || js_urls.length === 0) {\n      run_callbacks();\n      return null;\n    }\n    console.debug(\"Bokeh: BokehJS not loaded, scheduling load and callback at\", now());\n    root._bokeh_is_loading = css_urls.length + js_urls.length;\n\n    function on_load() {\n      root._bokeh_is_loading--;\n      if (root._bokeh_is_loading === 0) {\n        console.debug(\"Bokeh: all BokehJS libraries/stylesheets loaded\");\n        run_callbacks()\n      }\n    }\n\n    function on_error() {\n      console.error(\"failed to load \" + url);\n    }\n\n    for (var i = 0; i < css_urls.length; i++) {\n      var url = css_urls[i];\n      const element = document.createElement(\"link\");\n      element.onload = on_load;\n      element.onerror = on_error;\n      element.rel = \"stylesheet\";\n      element.type = \"text/css\";\n      element.href = url;\n      console.debug(\"Bokeh: injecting link tag for BokehJS stylesheet: \", url);\n      document.body.appendChild(element);\n    }\n\n    for (var i = 0; i < js_urls.length; i++) {\n      var url = js_urls[i];\n      var element = document.createElement('script');\n      element.onload = on_load;\n      element.onerror = on_error;\n      element.async = false;\n      element.src = url;\n      console.debug(\"Bokeh: injecting script tag for BokehJS library: \", url);\n      document.head.appendChild(element);\n    }\n  };\n\n  function inject_raw_css(css) {\n    const element = document.createElement(\"style\");\n    element.appendChild(document.createTextNode(css));\n    document.body.appendChild(element);\n  }\n\n  \n  var js_urls = [\"https://cdn.pydata.org/bokeh/release/bokeh-1.4.0.min.js\", \"https://cdn.pydata.org/bokeh/release/bokeh-widgets-1.4.0.min.js\", \"https://cdn.pydata.org/bokeh/release/bokeh-tables-1.4.0.min.js\", \"https://cdn.pydata.org/bokeh/release/bokeh-gl-1.4.0.min.js\"];\n  var css_urls = [];\n  \n\n  var inline_js = [\n    function(Bokeh) {\n      Bokeh.set_log_level(\"info\");\n    },\n    function(Bokeh) {\n    \n    \n    }\n  ];\n\n  function run_inline_js() {\n    \n    if (root.Bokeh !== undefined || force === true) {\n      \n    for (var i = 0; i < inline_js.length; i++) {\n      inline_js[i].call(root, root.Bokeh);\n    }\n    } else if (Date.now() < root._bokeh_timeout) {\n      setTimeout(run_inline_js, 100);\n    } else if (!root._bokeh_failed_load) {\n      console.log(\"Bokeh: BokehJS failed to load within specified timeout.\");\n      root._bokeh_failed_load = true;\n    } else if (force !== true) {\n      var cell = $(document.getElementById(null)).parents('.cell').data().cell;\n      cell.output_area.append_execute_result(NB_LOAD_WARNING)\n    }\n\n  }\n\n  if (root._bokeh_is_loading === 0) {\n    console.debug(\"Bokeh: BokehJS loaded, going straight to plotting\");\n    run_inline_js();\n  } else {\n    load_libs(css_urls, js_urls, function() {\n      console.debug(\"Bokeh: BokehJS plotting callback run at\", now());\n      run_inline_js();\n    });\n  }\n}(window));"
          },
          "metadata": {
            "tags": []
          }
        },
        {
          "output_type": "display_data",
          "data": {
            "text/html": [
              "\n",
              "\n",
              "\n",
              "\n",
              "\n",
              "\n",
              "  <div class=\"bk-root\" id=\"c3e786df-f069-4de3-a9dc-c927e17688e0\" data-root-id=\"4298\"></div>\n"
            ]
          },
          "metadata": {
            "tags": []
          }
        },
        {
          "output_type": "display_data",
          "data": {
            "application/javascript": [
              "(function(root) {\n",
              "  function embed_document(root) {\n",
              "    \n",
              "  var docs_json = {\"5dd26df6-cce2-446f-9143-807a65ff81dc\":{\"roots\":{\"references\":[{\"attributes\":{\"children\":[{\"id\":\"4297\",\"type\":\"ToolbarBox\"},{\"id\":\"4295\",\"type\":\"GridBox\"}]},\"id\":\"4298\",\"type\":\"Column\"},{\"attributes\":{},\"id\":\"4212\",\"type\":\"LinearScale\"},{\"attributes\":{},\"id\":\"4210\",\"type\":\"LinearScale\"},{\"attributes\":{},\"id\":\"4193\",\"type\":\"PanTool\"},{\"attributes\":{},\"id\":\"4197\",\"type\":\"ResetTool\"},{\"attributes\":{},\"id\":\"4196\",\"type\":\"SaveTool\"},{\"attributes\":{},\"id\":\"4194\",\"type\":\"WheelZoomTool\"},{\"attributes\":{\"callback\":null},\"id\":\"4177\",\"type\":\"DataRange1d\"},{\"attributes\":{\"line_alpha\":0.5,\"line_color\":\"#1f77b4\",\"x\":{\"field\":\"x\"},\"y\":{\"field\":\"y\"}},\"id\":\"4238\",\"type\":\"Line\"},{\"attributes\":{},\"id\":\"4179\",\"type\":\"LinearScale\"},{\"attributes\":{\"line_alpha\":0.5,\"line_color\":\"#ff7f0e\",\"x\":{\"field\":\"x\"},\"y\":{\"field\":\"y\"}},\"id\":\"4253\",\"type\":\"Line\"},{\"attributes\":{\"active_drag\":\"auto\",\"active_inspect\":\"auto\",\"active_multi\":null,\"active_scroll\":\"auto\",\"active_tap\":\"auto\",\"tools\":[{\"id\":\"4193\",\"type\":\"PanTool\"},{\"id\":\"4194\",\"type\":\"WheelZoomTool\"},{\"id\":\"4195\",\"type\":\"BoxZoomTool\"},{\"id\":\"4196\",\"type\":\"SaveTool\"},{\"id\":\"4197\",\"type\":\"ResetTool\"},{\"id\":\"4198\",\"type\":\"HelpTool\"}]},\"id\":\"4199\",\"type\":\"Toolbar\"},{\"attributes\":{\"line_alpha\":0.1,\"line_color\":\"#1f77b4\",\"x\":{\"field\":\"x\"},\"y\":{\"field\":\"y\"}},\"id\":\"4254\",\"type\":\"Line\"},{\"attributes\":{\"below\":[{\"id\":\"4183\",\"type\":\"LinearAxis\"}],\"center\":[{\"id\":\"4187\",\"type\":\"Grid\"},{\"id\":\"4192\",\"type\":\"Grid\"}],\"left\":[{\"id\":\"4188\",\"type\":\"LinearAxis\"}],\"plot_height\":300,\"plot_width\":800,\"renderers\":[{\"id\":\"4240\",\"type\":\"GlyphRenderer\"},{\"id\":\"4250\",\"type\":\"GlyphRenderer\"},{\"id\":\"4260\",\"type\":\"GlyphRenderer\"}],\"title\":{\"id\":\"4268\",\"type\":\"Title\"},\"toolbar\":{\"id\":\"4199\",\"type\":\"Toolbar\"},\"toolbar_location\":null,\"x_range\":{\"id\":\"4175\",\"type\":\"DataRange1d\"},\"x_scale\":{\"id\":\"4179\",\"type\":\"LinearScale\"},\"y_range\":{\"id\":\"4177\",\"type\":\"DataRange1d\"},\"y_scale\":{\"id\":\"4181\",\"type\":\"LinearScale\"}},\"id\":\"4174\",\"subtype\":\"Figure\",\"type\":\"Plot\"},{\"attributes\":{\"below\":[{\"id\":\"4214\",\"type\":\"LinearAxis\"}],\"center\":[{\"id\":\"4218\",\"type\":\"Grid\"},{\"id\":\"4223\",\"type\":\"Grid\"}],\"left\":[{\"id\":\"4219\",\"type\":\"LinearAxis\"}],\"plot_height\":300,\"plot_width\":800,\"renderers\":[{\"id\":\"4245\",\"type\":\"GlyphRenderer\"},{\"id\":\"4255\",\"type\":\"GlyphRenderer\"},{\"id\":\"4265\",\"type\":\"GlyphRenderer\"}],\"title\":{\"id\":\"4282\",\"type\":\"Title\"},\"toolbar\":{\"id\":\"4230\",\"type\":\"Toolbar\"},\"toolbar_location\":null,\"x_range\":{\"id\":\"4175\",\"type\":\"DataRange1d\"},\"x_scale\":{\"id\":\"4210\",\"type\":\"LinearScale\"},\"y_range\":{\"id\":\"4208\",\"type\":\"DataRange1d\"},\"y_scale\":{\"id\":\"4212\",\"type\":\"LinearScale\"}},\"id\":\"4206\",\"subtype\":\"Figure\",\"type\":\"Plot\"},{\"attributes\":{\"active_drag\":\"auto\",\"active_inspect\":\"auto\",\"active_multi\":null,\"active_scroll\":\"auto\",\"active_tap\":\"auto\",\"tools\":[{\"id\":\"4224\",\"type\":\"PanTool\"},{\"id\":\"4225\",\"type\":\"WheelZoomTool\"},{\"id\":\"4226\",\"type\":\"BoxZoomTool\"},{\"id\":\"4227\",\"type\":\"SaveTool\"},{\"id\":\"4228\",\"type\":\"ResetTool\"},{\"id\":\"4229\",\"type\":\"HelpTool\"}]},\"id\":\"4230\",\"type\":\"Toolbar\"},{\"attributes\":{},\"id\":\"4224\",\"type\":\"PanTool\"},{\"attributes\":{\"axis_label\":\"vCar (kph)\",\"formatter\":{\"id\":\"4283\",\"type\":\"BasicTickFormatter\"},\"ticker\":{\"id\":\"4215\",\"type\":\"BasicTicker\"}},\"id\":\"4214\",\"type\":\"LinearAxis\"},{\"attributes\":{\"formatter\":{\"id\":\"4269\",\"type\":\"BasicTickFormatter\"},\"ticker\":{\"id\":\"4184\",\"type\":\"BasicTicker\"}},\"id\":\"4183\",\"type\":\"LinearAxis\"},{\"attributes\":{\"callback\":null,\"data\":{\"x\":{\"__ndarray__\":\"9nYOQlvGK0LdEUlCRR9mQoKDgUKO7I9CME+eQoiurEJSDLtCuGzJQofJ10IzJuZC/IL0QiNwAUM+nwhD3c4PQ4AAF0OxMB5DAGQlQw6YLEM+zDNDaQA7Q+U0QkPaaElDspxQQ3TQV0MgBF9DuTdmQ25rbUPgnnRDP9J7Q8aCgUNlHIVDA7aIQ45PjEMN6Y9Dg4KTQ+8bl0NDtZpDhU6eQ8PnoUM=\",\"dtype\":\"float32\",\"shape\":[41]},\"y\":{\"__ndarray__\":\"GozdQYnr2UE3E9RBxDXPQWCCykEGuMVB3N/AQQwdvEFMKLdBnzyzQfRzrUHxZ6dB+SGhQR27mkHPSpRBJdWNQVsTiEFYUIFBcTh0QSVVZUFi+FVBCSxGQcf7NkG7TCZBaCQVQfeLA0F3EuNAeUa+QCY3mkCml2dAO+4YQA3qkD8jwhm+wMG4v2OyMsCcqYXATASzwKl64cD//QjBkvMhwbcrOsE=\",\"dtype\":\"float32\",\"shape\":[41]}},\"selected\":{\"id\":\"4275\",\"type\":\"Selection\"},\"selection_policy\":{\"id\":\"4274\",\"type\":\"UnionRenderers\"}},\"id\":\"4237\",\"type\":\"ColumnDataSource\"},{\"attributes\":{},\"id\":\"4225\",\"type\":\"WheelZoomTool\"},{\"attributes\":{\"data_source\":{\"id\":\"4252\",\"type\":\"ColumnDataSource\"},\"glyph\":{\"id\":\"4253\",\"type\":\"Line\"},\"hover_glyph\":null,\"muted_glyph\":null,\"nonselection_glyph\":{\"id\":\"4254\",\"type\":\"Line\"},\"selection_glyph\":null,\"view\":{\"id\":\"4256\",\"type\":\"CDSView\"}},\"id\":\"4255\",\"type\":\"GlyphRenderer\"},{\"attributes\":{\"axis_label\":\"hRideF (mm)\",\"formatter\":{\"id\":\"4271\",\"type\":\"BasicTickFormatter\"},\"ticker\":{\"id\":\"4189\",\"type\":\"BasicTicker\"}},\"id\":\"4188\",\"type\":\"LinearAxis\"},{\"attributes\":{\"overlay\":{\"id\":\"4273\",\"type\":\"BoxAnnotation\"}},\"id\":\"4195\",\"type\":\"BoxZoomTool\"},{\"attributes\":{\"overlay\":{\"id\":\"4287\",\"type\":\"BoxAnnotation\"}},\"id\":\"4226\",\"type\":\"BoxZoomTool\"},{\"attributes\":{\"ticker\":{\"id\":\"4184\",\"type\":\"BasicTicker\"}},\"id\":\"4187\",\"type\":\"Grid\"},{\"attributes\":{\"ticker\":{\"id\":\"4215\",\"type\":\"BasicTicker\"}},\"id\":\"4218\",\"type\":\"Grid\"},{\"attributes\":{\"dimension\":1,\"ticker\":{\"id\":\"4189\",\"type\":\"BasicTicker\"}},\"id\":\"4192\",\"type\":\"Grid\"},{\"attributes\":{},\"id\":\"4215\",\"type\":\"BasicTicker\"},{\"attributes\":{\"callback\":null},\"id\":\"4175\",\"type\":\"DataRange1d\"},{\"attributes\":{\"source\":{\"id\":\"4252\",\"type\":\"ColumnDataSource\"}},\"id\":\"4256\",\"type\":\"CDSView\"},{\"attributes\":{\"children\":[[{\"id\":\"4174\",\"subtype\":\"Figure\",\"type\":\"Plot\"},0,0],[{\"id\":\"4206\",\"subtype\":\"Figure\",\"type\":\"Plot\"},1,0]]},\"id\":\"4295\",\"type\":\"GridBox\"},{\"attributes\":{},\"id\":\"4227\",\"type\":\"SaveTool\"},{\"attributes\":{},\"id\":\"4220\",\"type\":\"BasicTicker\"},{\"attributes\":{\"dimension\":1,\"ticker\":{\"id\":\"4220\",\"type\":\"BasicTicker\"}},\"id\":\"4223\",\"type\":\"Grid\"},{\"attributes\":{},\"id\":\"4184\",\"type\":\"BasicTicker\"},{\"attributes\":{},\"id\":\"4198\",\"type\":\"HelpTool\"},{\"attributes\":{},\"id\":\"4228\",\"type\":\"ResetTool\"},{\"attributes\":{\"axis_label\":\"hRideR (mm)\",\"formatter\":{\"id\":\"4285\",\"type\":\"BasicTickFormatter\"},\"ticker\":{\"id\":\"4220\",\"type\":\"BasicTicker\"}},\"id\":\"4219\",\"type\":\"LinearAxis\"},{\"attributes\":{\"callback\":null,\"data\":{\"x\":{\"__ndarray__\":\"jXcOQurEK0LAEElCYx5mQieDgUI+7I9C5k6eQjmurEL3C7tCSGzJQvXI10JyJeZC/oH0Qn9vAUNtnghD3c0PQ1r/FkNRLx5DbWIlQ3SWLEOcyjNDvf46QzIzQkMUZ0lD15pQQ3/OV0MNAl9DhjVmQxppbUNhnHRDk897Q1WBgUPYGoVDVrSIQ7xNjEMT549DXoCTQ50Zl0P4sppD0EyeQ8fmoUM=\",\"dtype\":\"float32\",\"shape\":[41]},\"y\":{\"__ndarray__\":\"ZD8MQzciDENWywtD+moLQ0QAC0MfiwpDKwcKQ8lmCUPKswhDGq0HQwrpBkPCFgZD3jYFQ7BGBEPyQgNDaysCQzLSAEPeQv9Ck5/8QjTg+UKGBPdCswv0Qp+08EKxiO1C2UnqQj355kJEmeNCYizgQumD3EICDNlCepfVQq8r0kJ5ys5Cb2nLQmlAyEJtP8VCZWfCQuO4v0Iw/bxCSme5QjmKtUI=\",\"dtype\":\"float32\",\"shape\":[41]}},\"selected\":{\"id\":\"4291\",\"type\":\"Selection\"},\"selection_policy\":{\"id\":\"4290\",\"type\":\"UnionRenderers\"}},\"id\":\"4252\",\"type\":\"ColumnDataSource\"},{\"attributes\":{},\"id\":\"4229\",\"type\":\"HelpTool\"},{\"attributes\":{},\"id\":\"4181\",\"type\":\"LinearScale\"},{\"attributes\":{\"line_alpha\":0.1,\"line_color\":\"#1f77b4\",\"x\":{\"field\":\"x\"},\"y\":{\"field\":\"y\"}},\"id\":\"4239\",\"type\":\"Line\"},{\"attributes\":{},\"id\":\"4189\",\"type\":\"BasicTicker\"},{\"attributes\":{\"callback\":null},\"id\":\"4208\",\"type\":\"DataRange1d\"},{\"attributes\":{\"data_source\":{\"id\":\"4237\",\"type\":\"ColumnDataSource\"},\"glyph\":{\"id\":\"4238\",\"type\":\"Line\"},\"hover_glyph\":null,\"muted_glyph\":null,\"nonselection_glyph\":{\"id\":\"4239\",\"type\":\"Line\"},\"selection_glyph\":null,\"view\":{\"id\":\"4241\",\"type\":\"CDSView\"}},\"id\":\"4240\",\"type\":\"GlyphRenderer\"},{\"attributes\":{},\"id\":\"4275\",\"type\":\"Selection\"},{\"attributes\":{\"bottom_units\":\"screen\",\"fill_alpha\":{\"value\":0.5},\"fill_color\":{\"value\":\"lightgrey\"},\"left_units\":\"screen\",\"level\":\"overlay\",\"line_alpha\":{\"value\":1.0},\"line_color\":{\"value\":\"black\"},\"line_dash\":[4,4],\"line_width\":{\"value\":2},\"render_mode\":\"css\",\"right_units\":\"screen\",\"top_units\":\"screen\"},\"id\":\"4287\",\"type\":\"BoxAnnotation\"},{\"attributes\":{\"line_alpha\":0.5,\"line_color\":\"#2ca02c\",\"x\":{\"field\":\"x\"},\"y\":{\"field\":\"y\"}},\"id\":\"4258\",\"type\":\"Line\"},{\"attributes\":{},\"id\":\"4283\",\"type\":\"BasicTickFormatter\"},{\"attributes\":{},\"id\":\"4293\",\"type\":\"Selection\"},{\"attributes\":{},\"id\":\"4279\",\"type\":\"Selection\"},{\"attributes\":{},\"id\":\"4285\",\"type\":\"BasicTickFormatter\"},{\"attributes\":{\"line_alpha\":0.1,\"line_color\":\"#1f77b4\",\"x\":{\"field\":\"x\"},\"y\":{\"field\":\"y\"}},\"id\":\"4259\",\"type\":\"Line\"},{\"attributes\":{\"data_source\":{\"id\":\"4257\",\"type\":\"ColumnDataSource\"},\"glyph\":{\"id\":\"4258\",\"type\":\"Line\"},\"hover_glyph\":null,\"muted_glyph\":null,\"nonselection_glyph\":{\"id\":\"4259\",\"type\":\"Line\"},\"selection_glyph\":null,\"view\":{\"id\":\"4261\",\"type\":\"CDSView\"}},\"id\":\"4260\",\"type\":\"GlyphRenderer\"},{\"attributes\":{},\"id\":\"4289\",\"type\":\"Selection\"},{\"attributes\":{\"text\":\"\"},\"id\":\"4282\",\"type\":\"Title\"},{\"attributes\":{\"source\":{\"id\":\"4257\",\"type\":\"ColumnDataSource\"}},\"id\":\"4261\",\"type\":\"CDSView\"},{\"attributes\":{\"callback\":null,\"data\":{\"x\":{\"__ndarray__\":\"G3gOQtTIK0IhFElCvSFmQg6FgUKl7o9CEVKeQlqyrEIzEbtCO3LJQkDQ10I5LuZCX4z0QoJ1AUM9pQhDbdUPQ0cHF0P4Nx5DXmolQyaeLEMq0jNDOgY7Q5s6QkOMbklDaaJQQzTWV0PwCV9Dnj1mQ2ZxbUP1pHRDdth7Q/WFgUOpH4VDXbmIQwJTjEOf7I9DNYaTQ8Qfl0M/uZpDi1KeQ8DroUPthKVD\",\"dtype\":\"float32\",\"shape\":[42]},\"y\":{\"__ndarray__\":\"wuYJQ2PGCUPBbQlDBQsJQ1WdCEOOJAhDMZwHQ4b2BkNaPQZD6y4FQ3piBEN/hgNDdpsCQ5qeAUOWjABDP8r+Qij1+0IgbPlCIqj2Qoy580JuqfBCVnbtQhLg6UKzbOZCtt7iQqo230JGdttCO5/XQu+D00JRi89CyojLQpWAx0Itc8NCyVW/Qmxbu0KQc7dChp6zQuDjr0LodqxCsQOqQnLzp0KSFqZC\",\"dtype\":\"float32\",\"shape\":[42]}},\"selected\":{\"id\":\"4293\",\"type\":\"Selection\"},\"selection_policy\":{\"id\":\"4292\",\"type\":\"UnionRenderers\"}},\"id\":\"4262\",\"type\":\"ColumnDataSource\"},{\"attributes\":{},\"id\":\"4274\",\"type\":\"UnionRenderers\"},{\"attributes\":{\"callback\":null,\"data\":{\"x\":{\"__ndarray__\":\"9nYOQlvGK0LdEUlCRR9mQoKDgUKO7I9CME+eQoiurEJSDLtCuGzJQofJ10IzJuZC/IL0QiNwAUM+nwhD3c4PQ4AAF0OxMB5DAGQlQw6YLEM+zDNDaQA7Q+U0QkPaaElDspxQQ3TQV0MgBF9DuTdmQ25rbUPgnnRDP9J7Q8aCgUNlHIVDA7aIQ45PjEMN6Y9Dg4KTQ+8bl0NDtZpDhU6eQ8PnoUM=\",\"dtype\":\"float32\",\"shape\":[41]},\"y\":{\"__ndarray__\":\"IhwPQxQBD0NRrA5DN04OQ+7lDUNMcw1D8/EMQzxUDEPPowtDbZ8KQ1bdCUOZDAlDsi0IQ+Q9B0PQOQZDICEFQxTGA0P1kQJDpzoBQ+mo/0J/vPxC0K75QjM/9kLL9PJC15HvQgAX7EInhuhCMuHkQtv54EJ1Od1CF3PZQlmr1UI+49FCEhDOQkVnykKr2MZCcmXDQrYVwEIkEr1CHFS6QoXEt0I=\",\"dtype\":\"float32\",\"shape\":[41]}},\"selected\":{\"id\":\"4289\",\"type\":\"Selection\"},\"selection_policy\":{\"id\":\"4288\",\"type\":\"UnionRenderers\"}},\"id\":\"4242\",\"type\":\"ColumnDataSource\"},{\"attributes\":{\"data_source\":{\"id\":\"4242\",\"type\":\"ColumnDataSource\"},\"glyph\":{\"id\":\"4243\",\"type\":\"Line\"},\"hover_glyph\":null,\"muted_glyph\":null,\"nonselection_glyph\":{\"id\":\"4244\",\"type\":\"Line\"},\"selection_glyph\":null,\"view\":{\"id\":\"4246\",\"type\":\"CDSView\"}},\"id\":\"4245\",\"type\":\"GlyphRenderer\"},{\"attributes\":{\"source\":{\"id\":\"4242\",\"type\":\"ColumnDataSource\"}},\"id\":\"4246\",\"type\":\"CDSView\"},{\"attributes\":{},\"id\":\"4288\",\"type\":\"UnionRenderers\"},{\"attributes\":{},\"id\":\"4290\",\"type\":\"UnionRenderers\"},{\"attributes\":{},\"id\":\"4291\",\"type\":\"Selection\"},{\"attributes\":{},\"id\":\"4271\",\"type\":\"BasicTickFormatter\"},{\"attributes\":{},\"id\":\"4292\",\"type\":\"UnionRenderers\"},{\"attributes\":{\"tools\":[{\"id\":\"4193\",\"type\":\"PanTool\"},{\"id\":\"4194\",\"type\":\"WheelZoomTool\"},{\"id\":\"4195\",\"type\":\"BoxZoomTool\"},{\"id\":\"4196\",\"type\":\"SaveTool\"},{\"id\":\"4197\",\"type\":\"ResetTool\"},{\"id\":\"4198\",\"type\":\"HelpTool\"},{\"id\":\"4224\",\"type\":\"PanTool\"},{\"id\":\"4225\",\"type\":\"WheelZoomTool\"},{\"id\":\"4226\",\"type\":\"BoxZoomTool\"},{\"id\":\"4227\",\"type\":\"SaveTool\"},{\"id\":\"4228\",\"type\":\"ResetTool\"},{\"id\":\"4229\",\"type\":\"HelpTool\"}]},\"id\":\"4296\",\"type\":\"ProxyToolbar\"},{\"attributes\":{},\"id\":\"4269\",\"type\":\"BasicTickFormatter\"},{\"attributes\":{\"line_alpha\":0.5,\"line_color\":\"#1f77b4\",\"x\":{\"field\":\"x\"},\"y\":{\"field\":\"y\"}},\"id\":\"4243\",\"type\":\"Line\"},{\"attributes\":{\"source\":{\"id\":\"4237\",\"type\":\"ColumnDataSource\"}},\"id\":\"4241\",\"type\":\"CDSView\"},{\"attributes\":{\"line_alpha\":0.5,\"line_color\":\"#2ca02c\",\"x\":{\"field\":\"x\"},\"y\":{\"field\":\"y\"}},\"id\":\"4263\",\"type\":\"Line\"},{\"attributes\":{\"callback\":null,\"data\":{\"x\":{\"__ndarray__\":\"G3gOQtTIK0IhFElCvSFmQg6FgUKl7o9CEVKeQlqyrEIzEbtCO3LJQkDQ10I5LuZCX4z0QoJ1AUM9pQhDbdUPQ0cHF0P4Nx5DXmolQyaeLEMq0jNDOgY7Q5s6QkOMbklDaaJQQzTWV0PwCV9Dnj1mQ2ZxbUP1pHRDdth7Q/WFgUOpH4VDXbmIQwJTjEOf7I9DNYaTQ8Qfl0M/uZpDi1KeQ8DroUPthKVD\",\"dtype\":\"float32\",\"shape\":[42]},\"y\":{\"__ndarray__\":\"Bo7oQUjx5EGxOt9BB3zaQVPn1UFnPdFBq4fMQeTpx0HiHMNBbVq/Qfq9uUFZ3rNB0MOtQSuHp0GpQKFBzfWaQXZilUES0I5BM+uHQYi7gEFZqXJBx3VjQV3pVEFf50RB7nY0QW+hI0EabRJBhuEAQdWE30CKDrtA79WVQMGtX0CSZBJAs32JP0E/Qb6mkr2/pxszwDqWhMAZmbHA9y7iwAZHCsFeWyPB\",\"dtype\":\"float32\",\"shape\":[42]}},\"selected\":{\"id\":\"4279\",\"type\":\"Selection\"},\"selection_policy\":{\"id\":\"4278\",\"type\":\"UnionRenderers\"}},\"id\":\"4257\",\"type\":\"ColumnDataSource\"},{\"attributes\":{\"toolbar\":{\"id\":\"4296\",\"type\":\"ProxyToolbar\"},\"toolbar_location\":\"above\"},\"id\":\"4297\",\"type\":\"ToolbarBox\"},{\"attributes\":{},\"id\":\"4277\",\"type\":\"Selection\"},{\"attributes\":{\"bottom_units\":\"screen\",\"fill_alpha\":{\"value\":0.5},\"fill_color\":{\"value\":\"lightgrey\"},\"left_units\":\"screen\",\"level\":\"overlay\",\"line_alpha\":{\"value\":1.0},\"line_color\":{\"value\":\"black\"},\"line_dash\":[4,4],\"line_width\":{\"value\":2},\"render_mode\":\"css\",\"right_units\":\"screen\",\"top_units\":\"screen\"},\"id\":\"4273\",\"type\":\"BoxAnnotation\"},{\"attributes\":{\"callback\":null,\"data\":{\"x\":{\"__ndarray__\":\"jXcOQurEK0LAEElCYx5mQieDgUI+7I9C5k6eQjmurEL3C7tCSGzJQvXI10JyJeZC/oH0Qn9vAUNtnghD3c0PQ1r/FkNRLx5DbWIlQ3SWLEOcyjNDvf46QzIzQkMUZ0lD15pQQ3/OV0MNAl9DhjVmQxppbUNhnHRDk897Q1WBgUPYGoVDVrSIQ7xNjEMT549DXoCTQ50Zl0P4sppD0EyeQ8fmoUM=\",\"dtype\":\"float32\",\"shape\":[41]},\"y\":{\"__ndarray__\":\"IU+/QafFu0EM2bVBuOuwQVAsrEFzVadBuG+iQZCenUEbm5hBUJqUQWzDjkGwqYhB1FaCQZTHd0H+zmpB9cpdQcQmUkFDhURBzgM2QZr/JkGQfhdB5okHQcxS8EDFkM5AfdCrQH0iiECzIEdAdpb4P57zSj/r8t2+tYfYv9jYPsDjp4nA+GW0wG8T4cCfhgfBrwkfwdCsNsElTErB4UhSwdSmV8E=\",\"dtype\":\"float32\",\"shape\":[41]}},\"selected\":{\"id\":\"4277\",\"type\":\"Selection\"},\"selection_policy\":{\"id\":\"4276\",\"type\":\"UnionRenderers\"}},\"id\":\"4247\",\"type\":\"ColumnDataSource\"},{\"attributes\":{\"line_alpha\":0.1,\"line_color\":\"#1f77b4\",\"x\":{\"field\":\"x\"},\"y\":{\"field\":\"y\"}},\"id\":\"4264\",\"type\":\"Line\"},{\"attributes\":{\"source\":{\"id\":\"4262\",\"type\":\"ColumnDataSource\"}},\"id\":\"4266\",\"type\":\"CDSView\"},{\"attributes\":{},\"id\":\"4278\",\"type\":\"UnionRenderers\"},{\"attributes\":{\"line_alpha\":0.1,\"line_color\":\"#1f77b4\",\"x\":{\"field\":\"x\"},\"y\":{\"field\":\"y\"}},\"id\":\"4244\",\"type\":\"Line\"},{\"attributes\":{\"text\":\"\"},\"id\":\"4268\",\"type\":\"Title\"},{\"attributes\":{\"line_alpha\":0.5,\"line_color\":\"#ff7f0e\",\"x\":{\"field\":\"x\"},\"y\":{\"field\":\"y\"}},\"id\":\"4248\",\"type\":\"Line\"},{\"attributes\":{\"data_source\":{\"id\":\"4262\",\"type\":\"ColumnDataSource\"},\"glyph\":{\"id\":\"4263\",\"type\":\"Line\"},\"hover_glyph\":null,\"muted_glyph\":null,\"nonselection_glyph\":{\"id\":\"4264\",\"type\":\"Line\"},\"selection_glyph\":null,\"view\":{\"id\":\"4266\",\"type\":\"CDSView\"}},\"id\":\"4265\",\"type\":\"GlyphRenderer\"},{\"attributes\":{\"line_alpha\":0.1,\"line_color\":\"#1f77b4\",\"x\":{\"field\":\"x\"},\"y\":{\"field\":\"y\"}},\"id\":\"4249\",\"type\":\"Line\"},{\"attributes\":{\"data_source\":{\"id\":\"4247\",\"type\":\"ColumnDataSource\"},\"glyph\":{\"id\":\"4248\",\"type\":\"Line\"},\"hover_glyph\":null,\"muted_glyph\":null,\"nonselection_glyph\":{\"id\":\"4249\",\"type\":\"Line\"},\"selection_glyph\":null,\"view\":{\"id\":\"4251\",\"type\":\"CDSView\"}},\"id\":\"4250\",\"type\":\"GlyphRenderer\"},{\"attributes\":{},\"id\":\"4276\",\"type\":\"UnionRenderers\"},{\"attributes\":{\"source\":{\"id\":\"4247\",\"type\":\"ColumnDataSource\"}},\"id\":\"4251\",\"type\":\"CDSView\"}],\"root_ids\":[\"4298\"]},\"title\":\"Bokeh Application\",\"version\":\"1.4.0\"}};\n",
              "  var render_items = [{\"docid\":\"5dd26df6-cce2-446f-9143-807a65ff81dc\",\"roots\":{\"4298\":\"c3e786df-f069-4de3-a9dc-c927e17688e0\"}}];\n",
              "  root.Bokeh.embed.embed_items_notebook(docs_json, render_items);\n",
              "\n",
              "  }\n",
              "  if (root.Bokeh !== undefined) {\n",
              "    embed_document(root);\n",
              "  } else {\n",
              "    var attempts = 0;\n",
              "    var timer = setInterval(function(root) {\n",
              "      if (root.Bokeh !== undefined) {\n",
              "        clearInterval(timer);\n",
              "        embed_document(root);\n",
              "      } else {\n",
              "        attempts++;\n",
              "        if (attempts > 100) {\n",
              "          clearInterval(timer);\n",
              "          console.log(\"Bokeh: ERROR: Unable to run BokehJS code because BokehJS library is missing\");\n",
              "        }\n",
              "      }\n",
              "    }, 10, root)\n",
              "  }\n",
              "})(window);"
            ],
            "application/vnd.bokehjs_exec.v0+json": ""
          },
          "metadata": {
            "tags": [],
            "application/vnd.bokehjs_exec.v0+json": {
              "id": "4298"
            }
          }
        }
      ]
    }
  ]
}