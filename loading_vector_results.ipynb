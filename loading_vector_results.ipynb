{
  "nbformat": 4,
  "nbformat_minor": 0,
  "metadata": {
    "colab": {
      "name": "loading_vector_results.ipynb",
      "provenance": [],
      "authorship_tag": "ABX9TyPLgUdiqQpRm61xc6URhWxc",
      "include_colab_link": true
    },
    "kernelspec": {
      "name": "python3",
      "display_name": "Python 3"
    }
  },
  "cells": [
    {
      "cell_type": "markdown",
      "metadata": {
        "id": "view-in-github",
        "colab_type": "text"
      },
      "source": [
        "<a href=\"https://colab.research.google.com/github/CanopySimulations/canopy-python-examples/blob/master/loading_vector_results.ipynb\" target=\"_parent\"><img src=\"https://colab.research.google.com/assets/colab-badge.svg\" alt=\"Open In Colab\"/></a>"
      ]
    },
    {
      "cell_type": "markdown",
      "metadata": {
        "id": "NtIv7oIVvn5i",
        "colab_type": "text"
      },
      "source": [
        "# Upgrade Runtime\n",
        "This cell ensures the runtime supports `asyncio` async/await, and is needed on Google Colab. If the runtime is upgraded, you will be prompted to restart it, which you should do before continuing execution."
      ]
    },
    {
      "cell_type": "code",
      "metadata": {
        "id": "E-AnefvPvmtR",
        "colab_type": "code",
        "colab": {}
      },
      "source": [
        "!pip install \"ipython>=7\""
      ],
      "execution_count": 0,
      "outputs": []
    },
    {
      "cell_type": "markdown",
      "metadata": {
        "id": "_61Bg2_KwIR2",
        "colab_type": "text"
      },
      "source": [
        "# Set Up Environment"
      ]
    },
    {
      "cell_type": "markdown",
      "metadata": {
        "id": "zX-xTWzWG1bt",
        "colab_type": "text"
      },
      "source": [
        "### Import required libraries"
      ]
    },
    {
      "cell_type": "code",
      "metadata": {
        "id": "gNnEvtkmwL0W",
        "colab_type": "code",
        "colab": {}
      },
      "source": [
        "!pip install -q 'canopy==6.1'"
      ],
      "execution_count": 0,
      "outputs": []
    },
    {
      "cell_type": "code",
      "metadata": {
        "id": "0bBsqDyhwN_8",
        "colab_type": "code",
        "colab": {}
      },
      "source": [
        "import canopy\n",
        "import logging\n",
        "import matplotlib.pyplot as plt\n",
        "\n",
        "logging.basicConfig(level=logging.INFO)"
      ],
      "execution_count": 0,
      "outputs": []
    },
    {
      "cell_type": "markdown",
      "metadata": {
        "id": "nH5-pXaZw5jg",
        "colab_type": "text"
      },
      "source": [
        "### Authenticate"
      ]
    },
    {
      "cell_type": "code",
      "metadata": {
        "id": "SAnwvDofwhw1",
        "colab_type": "code",
        "colab": {}
      },
      "source": [
        "authentication_data = canopy.prompt_for_authentication()\n",
        "\n",
        "def create_session():\n",
        "    return canopy.Session(authentication_data)"
      ],
      "execution_count": 0,
      "outputs": []
    },
    {
      "cell_type": "markdown",
      "metadata": {
        "id": "VSDal4PawY8-",
        "colab_type": "text"
      },
      "source": [
        "# Set Up Example"
      ]
    },
    {
      "cell_type": "markdown",
      "metadata": {
        "id": "cc9N0PwfUKEa",
        "colab_type": "text"
      },
      "source": [
        "Run a quick ApexSim exploration."
      ]
    },
    {
      "cell_type": "code",
      "metadata": {
        "id": "5r6ZPt3bUQJ9",
        "colab_type": "code",
        "outputId": "3d54d514-18dc-4946-edc3-926094cfbf28",
        "colab": {
          "base_uri": "https://localhost:8080/",
          "height": 104
        }
      },
      "source": [
        "async with create_session() as session:\n",
        "    logging.info('Loading configs...')\n",
        "\n",
        "    default_car = await canopy.load_default_config(\n",
        "        session, 'car', 'Canopy F1 Car 2019')\n",
        "    \n",
        "    default_weather = await canopy.load_default_config(\n",
        "        session, 'weather', '25 deg, dry')\n",
        "    \n",
        "    default_exploration = await canopy.load_default_config(\n",
        "        session, 'exploration', 'Automated Test Monte Carlo')\n",
        "\n",
        "    # We'll run a very small exploration for this example\n",
        "    default_exploration.data.design.numberOfPoints = 3\n",
        "\n",
        "    logging.info('Creating study...')\n",
        "\n",
        "    study_id = await canopy.create_study(\n",
        "        session,\n",
        "        'apexSim',\n",
        "        'Loading Vector Results Example',\n",
        "        [\n",
        "            default_car,\n",
        "            default_weather,\n",
        "            default_exploration,\n",
        "        ])\n",
        "    \n",
        "    logging.info('Waiting for study to complete...')\n",
        "\n",
        "    wait_result = await canopy.wait_for_study(\n",
        "        session,\n",
        "        study_id,\n",
        "        timeout_seconds=300)\n",
        "    \n",
        "logging.info('Sim Version: {}'.format(wait_result.document.sim_version))    \n",
        "logging.info('Succeded Job Count: {}/{}'.format(\n",
        "    wait_result.data.succeeded_job_count, \n",
        "    wait_result.data.job_count))"
      ],
      "execution_count": 4,
      "outputs": [
        {
          "output_type": "stream",
          "text": [
            "INFO:root:Loading configs...\n",
            "INFO:root:Creating study...\n",
            "INFO:root:Waiting for study to complete...\n",
            "INFO:root:Sim Version: 1.3037\n",
            "INFO:root:Succeded Job Count: 4/4\n"
          ],
          "name": "stderr"
        }
      ]
    },
    {
      "cell_type": "markdown",
      "metadata": {
        "id": "FAFirfukWLfF",
        "colab_type": "text"
      },
      "source": [
        "# Example: Loading Vector Results"
      ]
    },
    {
      "cell_type": "markdown",
      "metadata": {
        "id": "BOcIhzzUY32z",
        "colab_type": "text"
      },
      "source": [
        "## Loading for a single job\n",
        "We can load the vector results for an individual job by passing a list of channel names to the `load_study_job` function. Note we are specifically loading the `ApexSim` vector results here. If we also wanted the `StraightSim` results we can fetch them in a second call."
      ]
    },
    {
      "cell_type": "code",
      "metadata": {
        "id": "vkHGACInWNkr",
        "colab_type": "code",
        "outputId": "2ca9db29-cb77-4ff0-aaf2-554b79641a77",
        "colab": {
          "base_uri": "https://localhost:8080/",
          "height": 1000
        }
      },
      "source": [
        "async with create_session() as session:\n",
        "    job_0 = await canopy.load_study_job(\n",
        "        session,\n",
        "        study_id,\n",
        "        'ApexSim',\n",
        "        job_index=0,\n",
        "        channel_names=[\n",
        "            'vCar',\n",
        "            'hRideF',\n",
        "            'hRideR'\n",
        "        ])\n",
        "    \n",
        "job_0.vector_data"
      ],
      "execution_count": 7,
      "outputs": [
        {
          "output_type": "stream",
          "text": [
            "INFO:canopy.load_study_job:Loading job index 0\n"
          ],
          "name": "stderr"
        },
        {
          "output_type": "execute_result",
          "data": {
            "text/html": [
              "<div>\n",
              "<style scoped>\n",
              "    .dataframe tbody tr th:only-of-type {\n",
              "        vertical-align: middle;\n",
              "    }\n",
              "\n",
              "    .dataframe tbody tr th {\n",
              "        vertical-align: top;\n",
              "    }\n",
              "\n",
              "    .dataframe thead th {\n",
              "        text-align: right;\n",
              "    }\n",
              "</style>\n",
              "<table border=\"1\" class=\"dataframe\">\n",
              "  <thead>\n",
              "    <tr style=\"text-align: right;\">\n",
              "      <th></th>\n",
              "      <th>vCar</th>\n",
              "      <th>hRideF</th>\n",
              "      <th>hRideR</th>\n",
              "    </tr>\n",
              "  </thead>\n",
              "  <tbody>\n",
              "    <tr>\n",
              "      <th>0</th>\n",
              "      <td>9.893272</td>\n",
              "      <td>0.025789</td>\n",
              "      <td>0.144188</td>\n",
              "    </tr>\n",
              "    <tr>\n",
              "      <th>1</th>\n",
              "      <td>11.928443</td>\n",
              "      <td>0.025335</td>\n",
              "      <td>0.144089</td>\n",
              "    </tr>\n",
              "    <tr>\n",
              "      <th>2</th>\n",
              "      <td>13.962837</td>\n",
              "      <td>0.024596</td>\n",
              "      <td>0.143761</td>\n",
              "    </tr>\n",
              "    <tr>\n",
              "      <th>3</th>\n",
              "      <td>15.980338</td>\n",
              "      <td>0.023980</td>\n",
              "      <td>0.143397</td>\n",
              "    </tr>\n",
              "    <tr>\n",
              "      <th>4</th>\n",
              "      <td>17.987581</td>\n",
              "      <td>0.023384</td>\n",
              "      <td>0.142995</td>\n",
              "    </tr>\n",
              "    <tr>\n",
              "      <th>5</th>\n",
              "      <td>19.988905</td>\n",
              "      <td>0.022777</td>\n",
              "      <td>0.142553</td>\n",
              "    </tr>\n",
              "    <tr>\n",
              "      <th>6</th>\n",
              "      <td>21.986698</td>\n",
              "      <td>0.022162</td>\n",
              "      <td>0.142056</td>\n",
              "    </tr>\n",
              "    <tr>\n",
              "      <th>7</th>\n",
              "      <td>23.982662</td>\n",
              "      <td>0.021558</td>\n",
              "      <td>0.141449</td>\n",
              "    </tr>\n",
              "    <tr>\n",
              "      <th>8</th>\n",
              "      <td>25.979435</td>\n",
              "      <td>0.021114</td>\n",
              "      <td>0.140468</td>\n",
              "    </tr>\n",
              "    <tr>\n",
              "      <th>9</th>\n",
              "      <td>27.974327</td>\n",
              "      <td>0.020427</td>\n",
              "      <td>0.139764</td>\n",
              "    </tr>\n",
              "    <tr>\n",
              "      <th>10</th>\n",
              "      <td>29.968815</td>\n",
              "      <td>0.019693</td>\n",
              "      <td>0.139020</td>\n",
              "    </tr>\n",
              "    <tr>\n",
              "      <th>11</th>\n",
              "      <td>31.963196</td>\n",
              "      <td>0.018927</td>\n",
              "      <td>0.138220</td>\n",
              "    </tr>\n",
              "    <tr>\n",
              "      <th>12</th>\n",
              "      <td>33.957607</td>\n",
              "      <td>0.018133</td>\n",
              "      <td>0.137368</td>\n",
              "    </tr>\n",
              "    <tr>\n",
              "      <th>13</th>\n",
              "      <td>35.952274</td>\n",
              "      <td>0.017323</td>\n",
              "      <td>0.136451</td>\n",
              "    </tr>\n",
              "    <tr>\n",
              "      <th>14</th>\n",
              "      <td>37.947441</td>\n",
              "      <td>0.016509</td>\n",
              "      <td>0.135458</td>\n",
              "    </tr>\n",
              "    <tr>\n",
              "      <th>15</th>\n",
              "      <td>39.944519</td>\n",
              "      <td>0.015760</td>\n",
              "      <td>0.134256</td>\n",
              "    </tr>\n",
              "    <tr>\n",
              "      <th>16</th>\n",
              "      <td>41.941322</td>\n",
              "      <td>0.014962</td>\n",
              "      <td>0.133055</td>\n",
              "    </tr>\n",
              "    <tr>\n",
              "      <th>17</th>\n",
              "      <td>43.938160</td>\n",
              "      <td>0.014099</td>\n",
              "      <td>0.131868</td>\n",
              "    </tr>\n",
              "    <tr>\n",
              "      <th>18</th>\n",
              "      <td>45.938545</td>\n",
              "      <td>0.013185</td>\n",
              "      <td>0.130559</td>\n",
              "    </tr>\n",
              "    <tr>\n",
              "      <th>19</th>\n",
              "      <td>47.939552</td>\n",
              "      <td>0.012238</td>\n",
              "      <td>0.129195</td>\n",
              "    </tr>\n",
              "    <tr>\n",
              "      <th>20</th>\n",
              "      <td>49.940643</td>\n",
              "      <td>0.011261</td>\n",
              "      <td>0.127772</td>\n",
              "    </tr>\n",
              "    <tr>\n",
              "      <th>21</th>\n",
              "      <td>51.941738</td>\n",
              "      <td>0.010262</td>\n",
              "      <td>0.126274</td>\n",
              "    </tr>\n",
              "    <tr>\n",
              "      <th>22</th>\n",
              "      <td>53.943092</td>\n",
              "      <td>0.009288</td>\n",
              "      <td>0.124612</td>\n",
              "    </tr>\n",
              "    <tr>\n",
              "      <th>23</th>\n",
              "      <td>55.943848</td>\n",
              "      <td>0.008223</td>\n",
              "      <td>0.123021</td>\n",
              "    </tr>\n",
              "    <tr>\n",
              "      <th>24</th>\n",
              "      <td>57.944489</td>\n",
              "      <td>0.007128</td>\n",
              "      <td>0.121385</td>\n",
              "    </tr>\n",
              "    <tr>\n",
              "      <th>25</th>\n",
              "      <td>59.945011</td>\n",
              "      <td>0.006004</td>\n",
              "      <td>0.119708</td>\n",
              "    </tr>\n",
              "    <tr>\n",
              "      <th>26</th>\n",
              "      <td>61.945435</td>\n",
              "      <td>0.004852</td>\n",
              "      <td>0.117995</td>\n",
              "    </tr>\n",
              "    <tr>\n",
              "      <th>27</th>\n",
              "      <td>63.945927</td>\n",
              "      <td>0.003709</td>\n",
              "      <td>0.116177</td>\n",
              "    </tr>\n",
              "    <tr>\n",
              "      <th>28</th>\n",
              "      <td>65.946220</td>\n",
              "      <td>0.002518</td>\n",
              "      <td>0.114380</td>\n",
              "    </tr>\n",
              "    <tr>\n",
              "      <th>29</th>\n",
              "      <td>67.946350</td>\n",
              "      <td>0.001284</td>\n",
              "      <td>0.112598</td>\n",
              "    </tr>\n",
              "    <tr>\n",
              "      <th>30</th>\n",
              "      <td>69.946396</td>\n",
              "      <td>0.000018</td>\n",
              "      <td>0.110813</td>\n",
              "    </tr>\n",
              "    <tr>\n",
              "      <th>31</th>\n",
              "      <td>71.946342</td>\n",
              "      <td>-0.001278</td>\n",
              "      <td>0.109037</td>\n",
              "    </tr>\n",
              "    <tr>\n",
              "      <th>32</th>\n",
              "      <td>73.946304</td>\n",
              "      <td>-0.002582</td>\n",
              "      <td>0.107224</td>\n",
              "    </tr>\n",
              "    <tr>\n",
              "      <th>33</th>\n",
              "      <td>75.946068</td>\n",
              "      <td>-0.003943</td>\n",
              "      <td>0.105495</td>\n",
              "    </tr>\n",
              "    <tr>\n",
              "      <th>34</th>\n",
              "      <td>77.945724</td>\n",
              "      <td>-0.005342</td>\n",
              "      <td>0.103817</td>\n",
              "    </tr>\n",
              "    <tr>\n",
              "      <th>35</th>\n",
              "      <td>79.945267</td>\n",
              "      <td>-0.006782</td>\n",
              "      <td>0.102208</td>\n",
              "    </tr>\n",
              "    <tr>\n",
              "      <th>36</th>\n",
              "      <td>81.944748</td>\n",
              "      <td>-0.008243</td>\n",
              "      <td>0.100634</td>\n",
              "    </tr>\n",
              "    <tr>\n",
              "      <th>37</th>\n",
              "      <td>83.944008</td>\n",
              "      <td>-0.009772</td>\n",
              "      <td>0.099220</td>\n",
              "    </tr>\n",
              "    <tr>\n",
              "      <th>38</th>\n",
              "      <td>85.943108</td>\n",
              "      <td>-0.011335</td>\n",
              "      <td>0.097933</td>\n",
              "    </tr>\n",
              "    <tr>\n",
              "      <th>39</th>\n",
              "      <td>87.942329</td>\n",
              "      <td>-0.012737</td>\n",
              "      <td>0.096658</td>\n",
              "    </tr>\n",
              "    <tr>\n",
              "      <th>40</th>\n",
              "      <td>89.942780</td>\n",
              "      <td>-0.013332</td>\n",
              "      <td>0.094847</td>\n",
              "    </tr>\n",
              "  </tbody>\n",
              "</table>\n",
              "</div>"
            ],
            "text/plain": [
              "         vCar    hRideF    hRideR\n",
              "0    9.893272  0.025789  0.144188\n",
              "1   11.928443  0.025335  0.144089\n",
              "2   13.962837  0.024596  0.143761\n",
              "3   15.980338  0.023980  0.143397\n",
              "4   17.987581  0.023384  0.142995\n",
              "5   19.988905  0.022777  0.142553\n",
              "6   21.986698  0.022162  0.142056\n",
              "7   23.982662  0.021558  0.141449\n",
              "8   25.979435  0.021114  0.140468\n",
              "9   27.974327  0.020427  0.139764\n",
              "10  29.968815  0.019693  0.139020\n",
              "11  31.963196  0.018927  0.138220\n",
              "12  33.957607  0.018133  0.137368\n",
              "13  35.952274  0.017323  0.136451\n",
              "14  37.947441  0.016509  0.135458\n",
              "15  39.944519  0.015760  0.134256\n",
              "16  41.941322  0.014962  0.133055\n",
              "17  43.938160  0.014099  0.131868\n",
              "18  45.938545  0.013185  0.130559\n",
              "19  47.939552  0.012238  0.129195\n",
              "20  49.940643  0.011261  0.127772\n",
              "21  51.941738  0.010262  0.126274\n",
              "22  53.943092  0.009288  0.124612\n",
              "23  55.943848  0.008223  0.123021\n",
              "24  57.944489  0.007128  0.121385\n",
              "25  59.945011  0.006004  0.119708\n",
              "26  61.945435  0.004852  0.117995\n",
              "27  63.945927  0.003709  0.116177\n",
              "28  65.946220  0.002518  0.114380\n",
              "29  67.946350  0.001284  0.112598\n",
              "30  69.946396  0.000018  0.110813\n",
              "31  71.946342 -0.001278  0.109037\n",
              "32  73.946304 -0.002582  0.107224\n",
              "33  75.946068 -0.003943  0.105495\n",
              "34  77.945724 -0.005342  0.103817\n",
              "35  79.945267 -0.006782  0.102208\n",
              "36  81.944748 -0.008243  0.100634\n",
              "37  83.944008 -0.009772  0.099220\n",
              "38  85.943108 -0.011335  0.097933\n",
              "39  87.942329 -0.012737  0.096658\n",
              "40  89.942780 -0.013332  0.094847"
            ]
          },
          "metadata": {
            "tags": []
          },
          "execution_count": 7
        }
      ]
    },
    {
      "cell_type": "markdown",
      "metadata": {
        "id": "M6QjAzHFZhVe",
        "colab_type": "text"
      },
      "source": [
        "We can request individual vector results in our desired units:"
      ]
    },
    {
      "cell_type": "code",
      "metadata": {
        "id": "7yQVhrU3ZmWG",
        "colab_type": "code",
        "outputId": "5496a070-6faf-47a7-d4bf-c335518c2fa1",
        "colab": {
          "base_uri": "https://localhost:8080/",
          "height": 763
        }
      },
      "source": [
        "job_0.vector_as('hRideF', 'mm')"
      ],
      "execution_count": 8,
      "outputs": [
        {
          "output_type": "stream",
          "text": [
            "INFO:numexpr.utils:NumExpr defaulting to 2 threads.\n"
          ],
          "name": "stderr"
        },
        {
          "output_type": "execute_result",
          "data": {
            "text/plain": [
              "0     25.788593\n",
              "1     25.335253\n",
              "2     24.595997\n",
              "3     23.979742\n",
              "4     23.384085\n",
              "5     22.776691\n",
              "6     22.162256\n",
              "7     21.557619\n",
              "8     21.114399\n",
              "9     20.427200\n",
              "10    19.693329\n",
              "11    18.926970\n",
              "12    18.132900\n",
              "13    17.323288\n",
              "14    16.509192\n",
              "15    15.759773\n",
              "16    14.961820\n",
              "17    14.098916\n",
              "18    13.184711\n",
              "19    12.238319\n",
              "20    11.261050\n",
              "21    10.262146\n",
              "22     9.287554\n",
              "23     8.222528\n",
              "24     7.127662\n",
              "25     6.003813\n",
              "26     4.852275\n",
              "27     3.709162\n",
              "28     2.517660\n",
              "29     1.283526\n",
              "30     0.018313\n",
              "31    -1.278172\n",
              "32    -2.581558\n",
              "33    -3.942634\n",
              "34    -5.342009\n",
              "35    -6.782011\n",
              "36    -8.243492\n",
              "37    -9.772438\n",
              "38   -11.335172\n",
              "39   -12.736754\n",
              "40   -13.332184\n",
              "Name: hRideF, dtype: float32"
            ]
          },
          "metadata": {
            "tags": []
          },
          "execution_count": 8
        }
      ]
    },
    {
      "cell_type": "markdown",
      "metadata": {
        "id": "0VPQ8IMuZuZX",
        "colab_type": "text"
      },
      "source": [
        "You can also use the `vector_as` function and omit the units, which will then use the preferred units saved in your Canopy account:"
      ]
    },
    {
      "cell_type": "code",
      "metadata": {
        "id": "f3lWWpWtZ0eJ",
        "colab_type": "code",
        "outputId": "6987db27-a99b-4b07-ccce-02f4f36914c5",
        "colab": {
          "base_uri": "https://localhost:8080/",
          "height": 745
        }
      },
      "source": [
        "job_0.vector_as('hRideF')"
      ],
      "execution_count": 9,
      "outputs": [
        {
          "output_type": "execute_result",
          "data": {
            "text/plain": [
              "0     0.025789\n",
              "1     0.025335\n",
              "2     0.024596\n",
              "3     0.023980\n",
              "4     0.023384\n",
              "5     0.022777\n",
              "6     0.022162\n",
              "7     0.021558\n",
              "8     0.021114\n",
              "9     0.020427\n",
              "10    0.019693\n",
              "11    0.018927\n",
              "12    0.018133\n",
              "13    0.017323\n",
              "14    0.016509\n",
              "15    0.015760\n",
              "16    0.014962\n",
              "17    0.014099\n",
              "18    0.013185\n",
              "19    0.012238\n",
              "20    0.011261\n",
              "21    0.010262\n",
              "22    0.009288\n",
              "23    0.008223\n",
              "24    0.007128\n",
              "25    0.006004\n",
              "26    0.004852\n",
              "27    0.003709\n",
              "28    0.002518\n",
              "29    0.001284\n",
              "30    0.000018\n",
              "31   -0.001278\n",
              "32   -0.002582\n",
              "33   -0.003943\n",
              "34   -0.005342\n",
              "35   -0.006782\n",
              "36   -0.008243\n",
              "37   -0.009772\n",
              "38   -0.011335\n",
              "39   -0.012737\n",
              "40   -0.013332\n",
              "Name: hRideF, dtype: float32"
            ]
          },
          "metadata": {
            "tags": []
          },
          "execution_count": 9
        }
      ]
    },
    {
      "cell_type": "markdown",
      "metadata": {
        "id": "nu7uwKuXoRqG",
        "colab_type": "text"
      },
      "source": [
        "We can then easily plot the results:"
      ]
    },
    {
      "cell_type": "code",
      "metadata": {
        "id": "tlPhLurTnsbK",
        "colab_type": "code",
        "colab": {
          "base_uri": "https://localhost:8080/",
          "height": 279
        },
        "outputId": "0c9d2454-f37b-4966-f0ee-63c0b529e9bc"
      },
      "source": [
        "x = job_0.vector_as('vCar', 'kph')\n",
        "\n",
        "plt.figure()\n",
        "plt.xlabel('vCar (kph)')\n",
        "plt.plot(x, job_0.vector_as('hRideR', 'mm'), 'r-', label='hRideR (mm)')\n",
        "plt.plot(x, job_0.vector_as('hRideF', 'mm'), 'b-', label='hRideF (mm)')\n",
        "plt.legend()\n",
        "plt.show()"
      ],
      "execution_count": 13,
      "outputs": [
        {
          "output_type": "display_data",
          "data": {
            "image/png": "[encoded data removed]",
            "text/plain": [
              "<Figure size 432x288 with 1 Axes>"
            ]
          },
          "metadata": {
            "tags": []
          }
        }
      ]
    },
    {
      "cell_type": "markdown",
      "metadata": {
        "id": "mWWmbVeobKJG",
        "colab_type": "text"
      },
      "source": [
        "## Loading for an entire study\n",
        "\n",
        "We can load the scalar results for the entire study by passing a list of channels to the `load_study` function.\n",
        "\n",
        "We'll also load the study scalar results for context."
      ]
    },
    {
      "cell_type": "code",
      "metadata": {
        "id": "iYD2SiZZpL1K",
        "colab_type": "code",
        "colab": {
          "base_uri": "https://localhost:8080/",
          "height": 69
        },
        "outputId": "accceb78-12e8-488e-96c4-e015faafe116"
      },
      "source": [
        "async with create_session() as session:\n",
        "    study = await canopy.load_study(\n",
        "        session,\n",
        "        study_id,\n",
        "        'ApexSim',\n",
        "        channel_names=[\n",
        "            'vCar',\n",
        "            'hRideF',\n",
        "            'hRideR'\n",
        "        ],\n",
        "        include_study_scalar_results=True)"
      ],
      "execution_count": 22,
      "outputs": [
        {
          "output_type": "stream",
          "text": [
            "INFO:canopy.load_study_job:Loading job index 0\n",
            "INFO:canopy.load_study_job:Loading job index 1\n",
            "INFO:canopy.load_study_job:Loading job index 2\n"
          ],
          "name": "stderr"
        }
      ]
    },
    {
      "cell_type": "code",
      "metadata": {
        "id": "oaNkLFOoqOjU",
        "colab_type": "code",
        "colab": {
          "base_uri": "https://localhost:8080/",
          "height": 331
        },
        "outputId": "278b3f6b-de43-4d10-8d52-ad561cc1a2e0"
      },
      "source": [
        "plt.figure()\n",
        "plt.xlabel('vCar (kph)')\n",
        "plt.ylabel('hRideR (mm)')\n",
        "\n",
        "for index, job in enumerate(study.jobs):\n",
        "    print(index)\n",
        "    plt.plot(\n",
        "        job.vector_as('vCar', 'kph'),\n",
        "        job.vector_as('hRideR', 'mm'),\n",
        "        label=job.document.name,\n",
        "        color=plt.cm.RdYlBu(index / (study.data.job_count - 1)))\n",
        "plt.legend()\n",
        "plt.show()"
      ],
      "execution_count": 27,
      "outputs": [
        {
          "output_type": "stream",
          "text": [
            "0\n",
            "1\n",
            "2\n"
          ],
          "name": "stdout"
        },
        {
          "output_type": "display_data",
          "data": {
            "image/png": "[encoded data removed]",
            "text/plain": [
              "<Figure size 432x288 with 1 Axes>"
            ]
          },
          "metadata": {
            "tags": []
          }
        }
      ]
    },
    {
      "cell_type": "markdown",
      "metadata": {
        "id": "pMK3AHoCsHqi",
        "colab_type": "text"
      },
      "source": [
        "If we want to understand exactly what changed for these three jobs to produce these results, we can look at the scalar results:"
      ]
    },
    {
      "cell_type": "code",
      "metadata": {
        "id": "f0lc_sp9r3wX",
        "colab_type": "code",
        "colab": {
          "base_uri": "https://localhost:8080/",
          "height": 141
        },
        "outputId": "d8227a88-87ff-43ee-cf65-3fbb38d897b2"
      },
      "source": [
        "study.scalar_results.inputs"
      ],
      "execution_count": 23,
      "outputs": [
        {
          "output_type": "execute_result",
          "data": {
            "text/html": [
              "<div>\n",
              "<style scoped>\n",
              "    .dataframe tbody tr th:only-of-type {\n",
              "        vertical-align: middle;\n",
              "    }\n",
              "\n",
              "    .dataframe tbody tr th {\n",
              "        vertical-align: top;\n",
              "    }\n",
              "\n",
              "    .dataframe thead th {\n",
              "        text-align: right;\n",
              "    }\n",
              "</style>\n",
              "<table border=\"1\" class=\"dataframe\">\n",
              "  <thead>\n",
              "    <tr style=\"text-align: right;\">\n",
              "      <th></th>\n",
              "      <th>car.chassis.carRunningMass.mCar+</th>\n",
              "      <th>car.chassis.ICar+</th>\n",
              "      <th>car.chassis.hRideFSetup+</th>\n",
              "      <th>car.chassis.hRideRSetup+</th>\n",
              "    </tr>\n",
              "  </thead>\n",
              "  <tbody>\n",
              "    <tr>\n",
              "      <th>0</th>\n",
              "      <td>8.339320</td>\n",
              "      <td>[7.50897989026,0.0,0.0,0.0,15.01795978052,0.0,...</td>\n",
              "      <td>0.002229</td>\n",
              "      <td>0.018876</td>\n",
              "    </tr>\n",
              "    <tr>\n",
              "      <th>1</th>\n",
              "      <td>6.534816</td>\n",
              "      <td>[4.80222360454,0.0,0.0,0.0,9.60444720908,0.0,0...</td>\n",
              "      <td>0.008744</td>\n",
              "      <td>0.017424</td>\n",
              "    </tr>\n",
              "    <tr>\n",
              "      <th>2</th>\n",
              "      <td>-9.913098</td>\n",
              "      <td>[-19.86964737989,0.0,0.0,0.0,-39.73929475978,0...</td>\n",
              "      <td>0.002847</td>\n",
              "      <td>0.011191</td>\n",
              "    </tr>\n",
              "  </tbody>\n",
              "</table>\n",
              "</div>"
            ],
            "text/plain": [
              "   car.chassis.carRunningMass.mCar+  ... car.chassis.hRideRSetup+\n",
              "0                          8.339320  ...                 0.018876\n",
              "1                          6.534816  ...                 0.017424\n",
              "2                         -9.913098  ...                 0.011191\n",
              "\n",
              "[3 rows x 4 columns]"
            ]
          },
          "metadata": {
            "tags": []
          },
          "execution_count": 23
        }
      ]
    }
  ]
}