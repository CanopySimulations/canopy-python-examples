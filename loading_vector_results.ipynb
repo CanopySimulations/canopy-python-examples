{
  "nbformat": 4,
  "nbformat_minor": 0,
  "metadata": {
    "colab": {
      "name": "loading_vector_results.ipynb",
      "provenance": [],
      "authorship_tag": "ABX9TyOMFBQ+nkMkJcYNbFZKe3wK",
      "include_colab_link": true
    },
    "kernelspec": {
      "name": "python3",
      "display_name": "Python 3"
    }
  },
  "cells": [
    {
      "cell_type": "markdown",
      "metadata": {
        "id": "view-in-github",
        "colab_type": "text"
      },
      "source": [
        "<a href=\"https://colab.research.google.com/github/CanopySimulations/canopy-python-examples/blob/master/loading_vector_results.ipynb\" target=\"_parent\"><img src=\"https://colab.research.google.com/assets/colab-badge.svg\" alt=\"Open In Colab\"/></a>"
      ]
    },
    {
      "cell_type": "markdown",
      "metadata": {
        "id": "NtIv7oIVvn5i",
        "colab_type": "text"
      },
      "source": [
        "# Upgrade Runtime\n",
        "This cell ensures the runtime supports `asyncio` async/await, and is needed on Google Colab. If the runtime is upgraded, you will be prompted to restart it, which you should do before continuing execution."
      ]
    },
    {
      "cell_type": "code",
      "metadata": {
        "id": "E-AnefvPvmtR",
        "colab_type": "code",
        "colab": {}
      },
      "source": [
        "!pip install \"ipython>=7\""
      ],
      "execution_count": 0,
      "outputs": []
    },
    {
      "cell_type": "markdown",
      "metadata": {
        "id": "_61Bg2_KwIR2",
        "colab_type": "text"
      },
      "source": [
        "# Set Up Environment"
      ]
    },
    {
      "cell_type": "markdown",
      "metadata": {
        "id": "zX-xTWzWG1bt",
        "colab_type": "text"
      },
      "source": [
        "### Import required libraries"
      ]
    },
    {
      "cell_type": "code",
      "metadata": {
        "id": "gNnEvtkmwL0W",
        "colab_type": "code",
        "colab": {}
      },
      "source": [
        "!pip install -q 'canopy==7.2'"
      ],
      "execution_count": 0,
      "outputs": []
    },
    {
      "cell_type": "code",
      "metadata": {
        "id": "0bBsqDyhwN_8",
        "colab_type": "code",
        "colab": {}
      },
      "source": [
        "import canopy\n",
        "import logging\n",
        "import matplotlib.pyplot as plt\n",
        "\n",
        "logging.basicConfig(level=logging.INFO)"
      ],
      "execution_count": 0,
      "outputs": []
    },
    {
      "cell_type": "markdown",
      "metadata": {
        "id": "nH5-pXaZw5jg",
        "colab_type": "text"
      },
      "source": [
        "### Authenticate"
      ]
    },
    {
      "cell_type": "code",
      "metadata": {
        "id": "SAnwvDofwhw1",
        "colab_type": "code",
        "colab": {}
      },
      "source": [
        "authentication_data = canopy.prompt_for_authentication()\n",
        "\n",
        "def create_session():\n",
        "    return canopy.Session(authentication_data)"
      ],
      "execution_count": 0,
      "outputs": []
    },
    {
      "cell_type": "markdown",
      "metadata": {
        "id": "VSDal4PawY8-",
        "colab_type": "text"
      },
      "source": [
        "# Set Up Example"
      ]
    },
    {
      "cell_type": "markdown",
      "metadata": {
        "id": "cc9N0PwfUKEa",
        "colab_type": "text"
      },
      "source": [
        "Run a quick ApexSim exploration."
      ]
    },
    {
      "cell_type": "code",
      "metadata": {
        "id": "5r6ZPt3bUQJ9",
        "colab_type": "code",
        "outputId": "8a04942a-e049-447e-f5e0-5b0958ab1914",
        "colab": {
          "base_uri": "https://localhost:8080/",
          "height": 104
        }
      },
      "source": [
        "async with create_session() as session:\n",
        "    logging.info('Loading configs...')\n",
        "\n",
        "    default_car = await canopy.load_default_config(\n",
        "        session, 'car', 'Canopy F1 Car 2019')\n",
        "    \n",
        "    default_weather = await canopy.load_default_config(\n",
        "        session, 'weather', '25 deg, dry')\n",
        "    \n",
        "    default_exploration = await canopy.load_default_config(\n",
        "        session, 'exploration', 'Automated Test Monte Carlo')\n",
        "\n",
        "    # We'll run a very small exploration for this example\n",
        "    default_exploration.data.design.numberOfPoints = 3\n",
        "\n",
        "    logging.info('Creating study...')\n",
        "\n",
        "    study_id = await canopy.create_study(\n",
        "        session,\n",
        "        'apexSim',\n",
        "        'Loading Vector Results Example',\n",
        "        [\n",
        "            default_car,\n",
        "            default_weather,\n",
        "            default_exploration,\n",
        "        ])\n",
        "    \n",
        "    logging.info('Waiting for study to complete...')\n",
        "\n",
        "    wait_result = await canopy.wait_for_study(\n",
        "        session,\n",
        "        study_id,\n",
        "        timeout_seconds=300)\n",
        "    \n",
        "logging.info('Sim Version: {}'.format(wait_result.document.sim_version))    \n",
        "logging.info('Succeded Simulations: {}/{}'.format(\n",
        "    wait_result.succeeded_simulation_count, \n",
        "    wait_result.simulation_count))"
      ],
      "execution_count": 0,
      "outputs": [
        {
          "output_type": "stream",
          "text": [
            "INFO:root:Loading configs...\n",
            "INFO:root:Creating study...\n",
            "INFO:root:Waiting for study to complete...\n",
            "INFO:root:Sim Version: 1.3043\n",
            "INFO:root:Succeded Simulations: 3/3\n"
          ],
          "name": "stderr"
        }
      ]
    },
    {
      "cell_type": "markdown",
      "metadata": {
        "id": "FAFirfukWLfF",
        "colab_type": "text"
      },
      "source": [
        "# Example: Loading Vector Results"
      ]
    },
    {
      "cell_type": "markdown",
      "metadata": {
        "id": "BOcIhzzUY32z",
        "colab_type": "text"
      },
      "source": [
        "## Loading for a single job\n",
        "We can load the vector results for an individual job by passing a list of channel names to the `load_study_job` function. Note we are specifically loading the `ApexSim` vector results here. If we also wanted the `StraightSim` results we can fetch them in a second call."
      ]
    },
    {
      "cell_type": "code",
      "metadata": {
        "id": "vkHGACInWNkr",
        "colab_type": "code",
        "outputId": "b2de5f8a-c1d5-48fa-f5ac-7304a1ecab2b",
        "colab": {
          "base_uri": "https://localhost:8080/",
          "height": 1000
        }
      },
      "source": [
        "async with create_session() as session:\n",
        "    job_0 = await canopy.load_study_job(\n",
        "        session,\n",
        "        study_id,\n",
        "        'ApexSim',\n",
        "        job_index=0,\n",
        "        channel_names=[\n",
        "            'vCar',\n",
        "            'hRideF',\n",
        "            'hRideR'\n",
        "        ])\n",
        "    \n",
        "job_0.vector_data"
      ],
      "execution_count": 0,
      "outputs": [
        {
          "output_type": "stream",
          "text": [
            "INFO:canopy.load_study_job:Loading job index 0\n"
          ],
          "name": "stderr"
        },
        {
          "output_type": "execute_result",
          "data": {
            "text/html": [
              "<div>\n",
              "<style scoped>\n",
              "    .dataframe tbody tr th:only-of-type {\n",
              "        vertical-align: middle;\n",
              "    }\n",
              "\n",
              "    .dataframe tbody tr th {\n",
              "        vertical-align: top;\n",
              "    }\n",
              "\n",
              "    .dataframe thead th {\n",
              "        text-align: right;\n",
              "    }\n",
              "</style>\n",
              "<table border=\"1\" class=\"dataframe\">\n",
              "  <thead>\n",
              "    <tr style=\"text-align: right;\">\n",
              "      <th></th>\n",
              "      <th>vCar</th>\n",
              "      <th>hRideF</th>\n",
              "      <th>hRideR</th>\n",
              "    </tr>\n",
              "  </thead>\n",
              "  <tbody>\n",
              "    <tr>\n",
              "      <th>0</th>\n",
              "      <td>9.893635</td>\n",
              "      <td>0.031235</td>\n",
              "      <td>0.140367</td>\n",
              "    </tr>\n",
              "    <tr>\n",
              "      <th>1</th>\n",
              "      <td>11.929506</td>\n",
              "      <td>0.030785</td>\n",
              "      <td>0.140250</td>\n",
              "    </tr>\n",
              "    <tr>\n",
              "      <th>2</th>\n",
              "      <td>13.963860</td>\n",
              "      <td>0.030070</td>\n",
              "      <td>0.139910</td>\n",
              "    </tr>\n",
              "    <tr>\n",
              "      <th>3</th>\n",
              "      <td>15.981461</td>\n",
              "      <td>0.029477</td>\n",
              "      <td>0.139533</td>\n",
              "    </tr>\n",
              "    <tr>\n",
              "      <th>4</th>\n",
              "      <td>17.988907</td>\n",
              "      <td>0.028906</td>\n",
              "      <td>0.139114</td>\n",
              "    </tr>\n",
              "    <tr>\n",
              "      <th>5</th>\n",
              "      <td>19.990549</td>\n",
              "      <td>0.028325</td>\n",
              "      <td>0.138653</td>\n",
              "    </tr>\n",
              "    <tr>\n",
              "      <th>6</th>\n",
              "      <td>21.988804</td>\n",
              "      <td>0.027737</td>\n",
              "      <td>0.138133</td>\n",
              "    </tr>\n",
              "    <tr>\n",
              "      <th>7</th>\n",
              "      <td>23.985342</td>\n",
              "      <td>0.027161</td>\n",
              "      <td>0.137498</td>\n",
              "    </tr>\n",
              "    <tr>\n",
              "      <th>8</th>\n",
              "      <td>25.982544</td>\n",
              "      <td>0.026748</td>\n",
              "      <td>0.136490</td>\n",
              "    </tr>\n",
              "    <tr>\n",
              "      <th>9</th>\n",
              "      <td>27.978153</td>\n",
              "      <td>0.026093</td>\n",
              "      <td>0.135750</td>\n",
              "    </tr>\n",
              "    <tr>\n",
              "      <th>10</th>\n",
              "      <td>29.973475</td>\n",
              "      <td>0.025393</td>\n",
              "      <td>0.134965</td>\n",
              "    </tr>\n",
              "    <tr>\n",
              "      <th>11</th>\n",
              "      <td>31.968784</td>\n",
              "      <td>0.024659</td>\n",
              "      <td>0.134119</td>\n",
              "    </tr>\n",
              "    <tr>\n",
              "      <th>12</th>\n",
              "      <td>33.964203</td>\n",
              "      <td>0.023895</td>\n",
              "      <td>0.133212</td>\n",
              "    </tr>\n",
              "    <tr>\n",
              "      <th>13</th>\n",
              "      <td>35.959919</td>\n",
              "      <td>0.023114</td>\n",
              "      <td>0.132236</td>\n",
              "    </tr>\n",
              "    <tr>\n",
              "      <th>14</th>\n",
              "      <td>37.956120</td>\n",
              "      <td>0.022328</td>\n",
              "      <td>0.131175</td>\n",
              "    </tr>\n",
              "    <tr>\n",
              "      <th>15</th>\n",
              "      <td>39.953922</td>\n",
              "      <td>0.021612</td>\n",
              "      <td>0.129896</td>\n",
              "    </tr>\n",
              "    <tr>\n",
              "      <th>16</th>\n",
              "      <td>41.951473</td>\n",
              "      <td>0.020842</td>\n",
              "      <td>0.128621</td>\n",
              "    </tr>\n",
              "    <tr>\n",
              "      <th>17</th>\n",
              "      <td>43.948788</td>\n",
              "      <td>0.020020</td>\n",
              "      <td>0.127357</td>\n",
              "    </tr>\n",
              "    <tr>\n",
              "      <th>18</th>\n",
              "      <td>45.947617</td>\n",
              "      <td>0.019164</td>\n",
              "      <td>0.125985</td>\n",
              "    </tr>\n",
              "    <tr>\n",
              "      <th>19</th>\n",
              "      <td>47.948395</td>\n",
              "      <td>0.018267</td>\n",
              "      <td>0.124513</td>\n",
              "    </tr>\n",
              "    <tr>\n",
              "      <th>20</th>\n",
              "      <td>49.949467</td>\n",
              "      <td>0.017343</td>\n",
              "      <td>0.122972</td>\n",
              "    </tr>\n",
              "    <tr>\n",
              "      <th>21</th>\n",
              "      <td>51.950626</td>\n",
              "      <td>0.016402</td>\n",
              "      <td>0.121344</td>\n",
              "    </tr>\n",
              "    <tr>\n",
              "      <th>22</th>\n",
              "      <td>53.952030</td>\n",
              "      <td>0.015489</td>\n",
              "      <td>0.119544</td>\n",
              "    </tr>\n",
              "    <tr>\n",
              "      <th>23</th>\n",
              "      <td>55.952965</td>\n",
              "      <td>0.014490</td>\n",
              "      <td>0.117797</td>\n",
              "    </tr>\n",
              "    <tr>\n",
              "      <th>24</th>\n",
              "      <td>57.953812</td>\n",
              "      <td>0.013465</td>\n",
              "      <td>0.115989</td>\n",
              "    </tr>\n",
              "    <tr>\n",
              "      <th>25</th>\n",
              "      <td>59.954575</td>\n",
              "      <td>0.012416</td>\n",
              "      <td>0.114123</td>\n",
              "    </tr>\n",
              "    <tr>\n",
              "      <th>26</th>\n",
              "      <td>61.955265</td>\n",
              "      <td>0.011346</td>\n",
              "      <td>0.112202</td>\n",
              "    </tr>\n",
              "    <tr>\n",
              "      <th>27</th>\n",
              "      <td>63.956024</td>\n",
              "      <td>0.010289</td>\n",
              "      <td>0.110160</td>\n",
              "    </tr>\n",
              "    <tr>\n",
              "      <th>28</th>\n",
              "      <td>65.956619</td>\n",
              "      <td>0.009191</td>\n",
              "      <td>0.108117</td>\n",
              "    </tr>\n",
              "    <tr>\n",
              "      <th>29</th>\n",
              "      <td>67.957115</td>\n",
              "      <td>0.008059</td>\n",
              "      <td>0.106061</td>\n",
              "    </tr>\n",
              "    <tr>\n",
              "      <th>30</th>\n",
              "      <td>69.957550</td>\n",
              "      <td>0.006906</td>\n",
              "      <td>0.103975</td>\n",
              "    </tr>\n",
              "    <tr>\n",
              "      <th>31</th>\n",
              "      <td>71.957932</td>\n",
              "      <td>0.005730</td>\n",
              "      <td>0.101867</td>\n",
              "    </tr>\n",
              "    <tr>\n",
              "      <th>32</th>\n",
              "      <td>73.958336</td>\n",
              "      <td>0.004559</td>\n",
              "      <td>0.099692</td>\n",
              "    </tr>\n",
              "    <tr>\n",
              "      <th>33</th>\n",
              "      <td>75.958618</td>\n",
              "      <td>0.003341</td>\n",
              "      <td>0.097561</td>\n",
              "    </tr>\n",
              "    <tr>\n",
              "      <th>34</th>\n",
              "      <td>77.958847</td>\n",
              "      <td>0.002099</td>\n",
              "      <td>0.095439</td>\n",
              "    </tr>\n",
              "    <tr>\n",
              "      <th>35</th>\n",
              "      <td>79.959023</td>\n",
              "      <td>0.000831</td>\n",
              "      <td>0.093338</td>\n",
              "    </tr>\n",
              "    <tr>\n",
              "      <th>36</th>\n",
              "      <td>81.959190</td>\n",
              "      <td>-0.000442</td>\n",
              "      <td>0.091228</td>\n",
              "    </tr>\n",
              "    <tr>\n",
              "      <th>37</th>\n",
              "      <td>83.959221</td>\n",
              "      <td>-0.001771</td>\n",
              "      <td>0.089226</td>\n",
              "    </tr>\n",
              "    <tr>\n",
              "      <th>38</th>\n",
              "      <td>85.958893</td>\n",
              "      <td>-0.003198</td>\n",
              "      <td>0.087661</td>\n",
              "    </tr>\n",
              "    <tr>\n",
              "      <th>39</th>\n",
              "      <td>87.958282</td>\n",
              "      <td>-0.004711</td>\n",
              "      <td>0.086407</td>\n",
              "    </tr>\n",
              "    <tr>\n",
              "      <th>40</th>\n",
              "      <td>89.957588</td>\n",
              "      <td>-0.006265</td>\n",
              "      <td>0.085236</td>\n",
              "    </tr>\n",
              "    <tr>\n",
              "      <th>41</th>\n",
              "      <td>91.956703</td>\n",
              "      <td>-0.007896</td>\n",
              "      <td>0.084226</td>\n",
              "    </tr>\n",
              "  </tbody>\n",
              "</table>\n",
              "</div>"
            ],
            "text/plain": [
              "         vCar    hRideF    hRideR\n",
              "0    9.893635  0.031235  0.140367\n",
              "1   11.929506  0.030785  0.140250\n",
              "2   13.963860  0.030070  0.139910\n",
              "3   15.981461  0.029477  0.139533\n",
              "4   17.988907  0.028906  0.139114\n",
              "5   19.990549  0.028325  0.138653\n",
              "6   21.988804  0.027737  0.138133\n",
              "7   23.985342  0.027161  0.137498\n",
              "8   25.982544  0.026748  0.136490\n",
              "9   27.978153  0.026093  0.135750\n",
              "10  29.973475  0.025393  0.134965\n",
              "11  31.968784  0.024659  0.134119\n",
              "12  33.964203  0.023895  0.133212\n",
              "13  35.959919  0.023114  0.132236\n",
              "14  37.956120  0.022328  0.131175\n",
              "15  39.953922  0.021612  0.129896\n",
              "16  41.951473  0.020842  0.128621\n",
              "17  43.948788  0.020020  0.127357\n",
              "18  45.947617  0.019164  0.125985\n",
              "19  47.948395  0.018267  0.124513\n",
              "20  49.949467  0.017343  0.122972\n",
              "21  51.950626  0.016402  0.121344\n",
              "22  53.952030  0.015489  0.119544\n",
              "23  55.952965  0.014490  0.117797\n",
              "24  57.953812  0.013465  0.115989\n",
              "25  59.954575  0.012416  0.114123\n",
              "26  61.955265  0.011346  0.112202\n",
              "27  63.956024  0.010289  0.110160\n",
              "28  65.956619  0.009191  0.108117\n",
              "29  67.957115  0.008059  0.106061\n",
              "30  69.957550  0.006906  0.103975\n",
              "31  71.957932  0.005730  0.101867\n",
              "32  73.958336  0.004559  0.099692\n",
              "33  75.958618  0.003341  0.097561\n",
              "34  77.958847  0.002099  0.095439\n",
              "35  79.959023  0.000831  0.093338\n",
              "36  81.959190 -0.000442  0.091228\n",
              "37  83.959221 -0.001771  0.089226\n",
              "38  85.958893 -0.003198  0.087661\n",
              "39  87.958282 -0.004711  0.086407\n",
              "40  89.957588 -0.006265  0.085236\n",
              "41  91.956703 -0.007896  0.084226"
            ]
          },
          "metadata": {
            "tags": []
          },
          "execution_count": 5
        }
      ]
    },
    {
      "cell_type": "markdown",
      "metadata": {
        "id": "M6QjAzHFZhVe",
        "colab_type": "text"
      },
      "source": [
        "We can request individual vector results in our desired units:"
      ]
    },
    {
      "cell_type": "code",
      "metadata": {
        "id": "7yQVhrU3ZmWG",
        "colab_type": "code",
        "outputId": "226dbc0c-e71a-4fd3-c3c9-01a483076f45",
        "colab": {
          "base_uri": "https://localhost:8080/",
          "height": 780
        }
      },
      "source": [
        "job_0.vector_as('hRideF', 'mm')"
      ],
      "execution_count": 0,
      "outputs": [
        {
          "output_type": "stream",
          "text": [
            "INFO:numexpr.utils:NumExpr defaulting to 2 threads.\n"
          ],
          "name": "stderr"
        },
        {
          "output_type": "execute_result",
          "data": {
            "text/plain": [
              "0     31.234840\n",
              "1     30.784773\n",
              "2     30.069689\n",
              "3     29.477224\n",
              "4     28.905968\n",
              "5     28.324656\n",
              "6     27.737003\n",
              "7     27.161366\n",
              "8     26.747913\n",
              "9     26.093294\n",
              "10    25.392572\n",
              "11    24.658520\n",
              "12    23.894985\n",
              "13    23.114182\n",
              "14    22.328281\n",
              "15    21.611589\n",
              "16    20.842154\n",
              "17    20.019625\n",
              "18    19.164249\n",
              "19    18.267176\n",
              "20    17.343460\n",
              "21    16.402256\n",
              "22    15.488873\n",
              "23    14.489564\n",
              "24    13.465039\n",
              "25    12.416490\n",
              "26    11.345590\n",
              "27    10.289450\n",
              "28     9.190586\n",
              "29     8.059070\n",
              "30     6.905836\n",
              "31     5.730466\n",
              "32     4.558745\n",
              "33     3.341289\n",
              "34     2.099145\n",
              "35     0.831403\n",
              "36    -0.442209\n",
              "37    -1.771005\n",
              "38    -3.197823\n",
              "39    -4.711307\n",
              "40    -6.264752\n",
              "41    -7.896158\n",
              "Name: hRideF, dtype: float32"
            ]
          },
          "metadata": {
            "tags": []
          },
          "execution_count": 6
        }
      ]
    },
    {
      "cell_type": "markdown",
      "metadata": {
        "id": "0VPQ8IMuZuZX",
        "colab_type": "text"
      },
      "source": [
        "You can also use the `vector_as` function and omit the units, which will then use the preferred units saved in your Canopy account:"
      ]
    },
    {
      "cell_type": "code",
      "metadata": {
        "id": "f3lWWpWtZ0eJ",
        "colab_type": "code",
        "outputId": "cec778c0-ac0e-4095-8d29-7562fd170464",
        "colab": {
          "base_uri": "https://localhost:8080/",
          "height": 763
        }
      },
      "source": [
        "job_0.vector_as('hRideF')"
      ],
      "execution_count": 0,
      "outputs": [
        {
          "output_type": "execute_result",
          "data": {
            "text/plain": [
              "0     0.031235\n",
              "1     0.030785\n",
              "2     0.030070\n",
              "3     0.029477\n",
              "4     0.028906\n",
              "5     0.028325\n",
              "6     0.027737\n",
              "7     0.027161\n",
              "8     0.026748\n",
              "9     0.026093\n",
              "10    0.025393\n",
              "11    0.024659\n",
              "12    0.023895\n",
              "13    0.023114\n",
              "14    0.022328\n",
              "15    0.021612\n",
              "16    0.020842\n",
              "17    0.020020\n",
              "18    0.019164\n",
              "19    0.018267\n",
              "20    0.017343\n",
              "21    0.016402\n",
              "22    0.015489\n",
              "23    0.014490\n",
              "24    0.013465\n",
              "25    0.012416\n",
              "26    0.011346\n",
              "27    0.010289\n",
              "28    0.009191\n",
              "29    0.008059\n",
              "30    0.006906\n",
              "31    0.005730\n",
              "32    0.004559\n",
              "33    0.003341\n",
              "34    0.002099\n",
              "35    0.000831\n",
              "36   -0.000442\n",
              "37   -0.001771\n",
              "38   -0.003198\n",
              "39   -0.004711\n",
              "40   -0.006265\n",
              "41   -0.007896\n",
              "Name: hRideF, dtype: float32"
            ]
          },
          "metadata": {
            "tags": []
          },
          "execution_count": 7
        }
      ]
    },
    {
      "cell_type": "markdown",
      "metadata": {
        "id": "nu7uwKuXoRqG",
        "colab_type": "text"
      },
      "source": [
        "We can then easily plot the results:"
      ]
    },
    {
      "cell_type": "code",
      "metadata": {
        "id": "tlPhLurTnsbK",
        "colab_type": "code",
        "outputId": "cd04c2b6-fbef-4c82-9a0b-9d19c9c9d3e1",
        "colab": {
          "base_uri": "https://localhost:8080/",
          "height": 279
        }
      },
      "source": [
        "x = job_0.vector_as('vCar', 'kph')\n",
        "\n",
        "plt.figure()\n",
        "plt.xlabel('vCar (kph)')\n",
        "plt.plot(x, job_0.vector_as('hRideR', 'mm'), 'r-', label='hRideR (mm)')\n",
        "plt.plot(x, job_0.vector_as('hRideF', 'mm'), 'b-', label='hRideF (mm)')\n",
        "plt.legend()\n",
        "plt.show()"
      ],
      "execution_count": 0,
      "outputs": [
        {
          "output_type": "display_data",
          "data": {
            "image/png": "[encoded data removed]",
            "text/plain": [
              "<Figure size 432x288 with 1 Axes>"
            ]
          },
          "metadata": {
            "tags": []
          }
        }
      ]
    },
    {
      "cell_type": "markdown",
      "metadata": {
        "id": "mWWmbVeobKJG",
        "colab_type": "text"
      },
      "source": [
        "## Loading for an entire study\n",
        "\n",
        "We can load the vector results for the entire study by passing a list of channels to the `load_study` function.\n",
        "\n",
        "We'll also load the study scalar results for context."
      ]
    },
    {
      "cell_type": "code",
      "metadata": {
        "id": "iYD2SiZZpL1K",
        "colab_type": "code",
        "outputId": "f15faf78-4e21-4bac-b1b0-829f4f7f50d0",
        "colab": {
          "base_uri": "https://localhost:8080/",
          "height": 69
        }
      },
      "source": [
        "async with create_session() as session:\n",
        "    study = await canopy.load_study(\n",
        "        session,\n",
        "        study_id,\n",
        "        'ApexSim',\n",
        "        channel_names=[\n",
        "            'vCar',\n",
        "            'hRideF',\n",
        "            'hRideR'\n",
        "        ],\n",
        "        include_study_scalar_results=True)"
      ],
      "execution_count": 0,
      "outputs": [
        {
          "output_type": "stream",
          "text": [
            "INFO:canopy.load_study_job:Loading job index 0\n",
            "INFO:canopy.load_study_job:Loading job index 1\n",
            "INFO:canopy.load_study_job:Loading job index 2\n"
          ],
          "name": "stderr"
        }
      ]
    },
    {
      "cell_type": "code",
      "metadata": {
        "id": "oaNkLFOoqOjU",
        "colab_type": "code",
        "outputId": "4f903aaf-8527-4f8e-844b-82099d1db051",
        "colab": {
          "base_uri": "https://localhost:8080/",
          "height": 331
        }
      },
      "source": [
        "plt.figure()\n",
        "plt.xlabel('vCar (kph)')\n",
        "plt.ylabel('hRideR (mm)')\n",
        "\n",
        "colors = plt.cm.Set1.colors\n",
        "\n",
        "for index, job in enumerate(study.jobs):\n",
        "    print(index)\n",
        "    plt.plot(\n",
        "        job.vector_as('vCar', 'kph'),\n",
        "        job.vector_as('hRideR', 'mm'),\n",
        "        label=job.document.name,\n",
        "        color=colors[index % len(colors)])\n",
        "plt.legend()\n",
        "plt.show()"
      ],
      "execution_count": 0,
      "outputs": [
        {
          "output_type": "stream",
          "text": [
            "0\n",
            "1\n",
            "2\n"
          ],
          "name": "stdout"
        },
        {
          "output_type": "display_data",
          "data": {
            "image/png": "[encoded data removed]",
            "text/plain": [
              "<Figure size 432x288 with 1 Axes>"
            ]
          },
          "metadata": {
            "tags": []
          }
        }
      ]
    },
    {
      "cell_type": "markdown",
      "metadata": {
        "id": "pMK3AHoCsHqi",
        "colab_type": "text"
      },
      "source": [
        "If we want to understand exactly what changed for these three jobs to produce these results, we can look at the inputs in the scalar results:"
      ]
    },
    {
      "cell_type": "code",
      "metadata": {
        "id": "f0lc_sp9r3wX",
        "colab_type": "code",
        "outputId": "16d25810-5abd-4d5a-832e-c5b176580ca1",
        "colab": {
          "base_uri": "https://localhost:8080/",
          "height": 141
        }
      },
      "source": [
        "study.scalar_results.inputs"
      ],
      "execution_count": 0,
      "outputs": [
        {
          "output_type": "execute_result",
          "data": {
            "text/html": [
              "<div>\n",
              "<style scoped>\n",
              "    .dataframe tbody tr th:only-of-type {\n",
              "        vertical-align: middle;\n",
              "    }\n",
              "\n",
              "    .dataframe tbody tr th {\n",
              "        vertical-align: top;\n",
              "    }\n",
              "\n",
              "    .dataframe thead th {\n",
              "        text-align: right;\n",
              "    }\n",
              "</style>\n",
              "<table border=\"1\" class=\"dataframe\">\n",
              "  <thead>\n",
              "    <tr style=\"text-align: right;\">\n",
              "      <th></th>\n",
              "      <th>car.chassis.carRunningMass.mCar+</th>\n",
              "      <th>car.chassis.ICar+</th>\n",
              "      <th>car.chassis.hRideFSetup+</th>\n",
              "      <th>car.chassis.hRideRSetup+</th>\n",
              "    </tr>\n",
              "  </thead>\n",
              "  <tbody>\n",
              "    <tr>\n",
              "      <th>0</th>\n",
              "      <td>-3.715169</td>\n",
              "      <td>[-10.57275296681,0.0,0.0,0.0,-21.14550593362,0...</td>\n",
              "      <td>0.007624</td>\n",
              "      <td>0.015081</td>\n",
              "    </tr>\n",
              "    <tr>\n",
              "      <th>1</th>\n",
              "      <td>5.493551</td>\n",
              "      <td>[3.24032684473,0.0,0.0,0.0,6.48065368946,0.0,0...</td>\n",
              "      <td>0.001032</td>\n",
              "      <td>0.018988</td>\n",
              "    </tr>\n",
              "    <tr>\n",
              "      <th>2</th>\n",
              "      <td>-0.085865</td>\n",
              "      <td>[-5.12879797961,0.0,0.0,0.0,-10.25759595922,0....</td>\n",
              "      <td>0.006958</td>\n",
              "      <td>0.010842</td>\n",
              "    </tr>\n",
              "  </tbody>\n",
              "</table>\n",
              "</div>"
            ],
            "text/plain": [
              "   car.chassis.carRunningMass.mCar+  ... car.chassis.hRideRSetup+\n",
              "0                         -3.715169  ...                 0.015081\n",
              "1                          5.493551  ...                 0.018988\n",
              "2                         -0.085865  ...                 0.010842\n",
              "\n",
              "[3 rows x 4 columns]"
            ]
          },
          "metadata": {
            "tags": []
          },
          "execution_count": 18
        }
      ]
    }
  ]
}